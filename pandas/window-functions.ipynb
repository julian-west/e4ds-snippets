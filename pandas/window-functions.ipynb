{
 "cells": [
  {
   "cell_type": "markdown",
   "id": "3350a7bd",
   "metadata": {},
   "source": [
    "# SQL-Like Window functions in Pandas\n",
    "\n",
    "**1st January 2022**"
   ]
  },
  {
   "cell_type": "markdown",
   "id": "86282da1",
   "metadata": {},
   "source": [
    "> tl;dr\n",
    ">\n",
    "> Use .groupby and .transform to achieve SQL-like window functionality in Pandas\n",
    "\n",
    "Slicing and dicing data using Pandas and SQL is a key skillset for any Data Scientist.\n",
    "\n",
    "Data Scientists will typically work with both SQL and Pandas for transforming data depending on the specific use case and where the data is stored. SQL is typically used when working directly with data in a database i.e. creating new tables or views of the data. Pandas is used more often for a more exploratory analysis and visualisation workflows.\n",
    "\n",
    "It is important to be fluent with both SQL and Pandas syntax to be able to seamlessly transform your data for the business question you are trying to answer.\n",
    "\n",
    "However, there are cases where carrying out certain transformations are easier to express in one language than the other.\n",
    "\n",
    "For me, this seems to always happen when trying to carry out transformations involving [Window Functions](https://www.sqlite.org/windowfunctions.html#:~:text=A%20window%20function%20is%20an,it%20is%20a%20window%20function.) using Pandas. I don't know what it is, but I find the SQL syntax for window functions to be much cleaner and easier to remember.\n",
    "\n",
    "In this post, I will describe the differences between SQL and Pandas syntax for applying window function calculations to different partitions of your data."
   ]
  },
  {
   "cell_type": "markdown",
   "id": "cf75f826",
   "metadata": {},
   "source": [
    "## What is a Window Function?\n",
    "\n",
    "\"A window function performs a calculation across a set of table rows that are somehow related to the current row.\" [Postgres documentation](https://www.postgresql.org/docs/9.1/tutorial-window.html)\n",
    "\n",
    "Window functions allow users to perform aggregations and calculations against different cross-sections (partitions) of the data. In contrast to standard aggregation functions (e.g. sum, mean, count etc.) which return a single value for each partition defined in the query, window functions return a value for each row in the original table."
   ]
  },
  {
   "cell_type": "markdown",
   "id": "0fb39061",
   "metadata": {},
   "source": [
    "## When would you use a Window Function?\n",
    "\n",
    "I find there are two main scenarios in the Data Science workflow that involve window functions:\n",
    "- interpolating or imputing missing values based on statistical properties of other values in the same group\n",
    "- creating new features for models\n",
    "\n",
    "When you have [panel data](https://en.wikipedia.org/wiki/Panel_data), window functions are useful for augmenting your dataset with new features that represent aggregate properties of specific partitions within your data.\n",
    "\n",
    "For example, imagine you are creating a model to predict the price of houses in your neighbourhood given various information about each house such as the house type (e.g. detached, apartment etc.), floor area (square foot), number of bedrooms, number of bathrooms etc.\n",
    "\n",
    "One feature you might want to create for your model is to compare the floor area of the current house to the *median* area for a house of that specific type. The hypothesis being: if the house has a larger floor area than the median area for a comparable house type, then it is more likely to be priced at the top end of the market.\n",
    "\n",
    "In order to calculate this feature we would need to create a new column that, for each row, contains the median house price for the current row's house type. We could then calculate the difference between the house's area and its group median to use as a feature in our model.\n",
    "\n",
    "This new feature would require a window function that would calculate and return a value for each row in the dataset with the median house price of that group."
   ]
  },
  {
   "cell_type": "markdown",
   "id": "7cc31836",
   "metadata": {},
   "source": [
    "## Window functions in SQL\n",
    "\n",
    "The [Postgres database documentation](https://www.postgresql.org/docs/9.1/tutorial-window.html) has a great tutorial on window functions.\n",
    "\n",
    "As a quick recap, to form a window function in SQL you need three parts:\n",
    "- an aggregation function or calculation to apply to the target column (e.g. `SUM()`, `RANK()`)\n",
    "- the `OVER()` keyword to initiate the partition function\n",
    "- the `PARTITION BY` keyword which defines which data partition(s) to apply the aggregation function\n",
    "- (optional) the `ORDER BY` keyword to define the required sorting within each data partition. For example, if the order of the rows affects the value of the calculation"
   ]
  },
  {
   "cell_type": "markdown",
   "id": "9819d5a6",
   "metadata": {},
   "source": [
    "## Window Functions in Pandas\n",
    "\n",
    "### .groupby is the basis of  window functions in Pandas\n",
    "\n",
    "I think my confusion when trying to translate SQL window functions to Pandas stems from the fact that you don't explicitly use the `GROUP BY` keyword for window functions in SQL. Whereas, in Pandas, the basis of window functions is the [.groupby](https://pandas.pydata.org/docs/reference/api/pandas.DataFrame.groupby.html) function.\n",
    "\n",
    ".groupby in Pandas is analogous to the `PARTITION BY` keyword in SQL. The groupby clause in Pandas defines which partitions (groups) in the data the aggregation function should be applied to."
   ]
  },
  {
   "cell_type": "markdown",
   "id": "595b5d52",
   "metadata": {},
   "source": [
    "###  .transform allows you to apply complex transformations\n",
    "\n",
    "In addition to specifying the data partitions using `groupby`, we need to define which aggregation or calculation to apply to the data partitions. This can be achieved using the [.transform](https://pandas.pydata.org/docs/reference/api/pandas.DataFrame.transform.html) function.\n",
    "\n",
    "The `.transform` function takes a function (i.e. the function which calculates the desired quantity) as an argument and returns a dataframe with the same length as the original.\n",
    "\n",
    "The function supplied to `.transform` can either be a string (for simple aggregation functions like 'sum', 'mean', 'count') or a callable function (i.e. [lambda function](https://realpython.com/python-lambda/)) for more complex operations."
   ]
  },
  {
   "cell_type": "markdown",
   "id": "d48b3cb6",
   "metadata": {},
   "source": [
    "### You don't always have to use .transform\n",
    "\n",
    "If the function you are applying to your data is not an aggregation function, i.e. it naturally returns a value (row) for every row in the dataframe, rather than a single row, you don't need to use the transform keyword.\n",
    "\n",
    "For example, if you want to create a new column with the values within each group shifted by one (i.e. in a timeseries, the previous day's value) you can omit the `transform` keyword and simply use the builtin Pandas function instead (in this case the `.shift()` function). This is because shifting the data naturally returns a value for each row, rather than a single aggregated value for the group."
   ]
  },
  {
   "cell_type": "markdown",
   "id": "e8f444aa",
   "metadata": {},
   "source": [
    "## Examples\n",
    "\n",
    "The best way to explain the differences is by demonstrating with some examples."
   ]
  },
  {
   "cell_type": "markdown",
   "id": "706aa5ab",
   "metadata": {},
   "source": [
    "## Setup\n",
    "\n",
    "**Install requirements if necessary**"
   ]
  },
  {
   "cell_type": "code",
   "execution_count": 1,
   "id": "59b210ab",
   "metadata": {},
   "outputs": [],
   "source": [
    "# install requirements if necessary\n",
    "# ! pip install matplotlib pandas ffn"
   ]
  },
  {
   "cell_type": "code",
   "execution_count": 2,
   "id": "14a639fc",
   "metadata": {},
   "outputs": [],
   "source": [
    "import datetime\n",
    "import random\n",
    "\n",
    "import ffn\n",
    "import matplotlib.pyplot as plt\n",
    "\n",
    "import pandas as pd"
   ]
  },
  {
   "cell_type": "code",
   "execution_count": 3,
   "id": "a0d70dae",
   "metadata": {},
   "outputs": [
    {
     "data": {
      "application/javascript": [
       "\n",
       "            setTimeout(function() {\n",
       "                var nbb_cell_id = 3;\n",
       "                var nbb_unformatted_code = \"%load_ext nb_black\\n%matplotlib inline\";\n",
       "                var nbb_formatted_code = \"%load_ext nb_black\\n%matplotlib inline\";\n",
       "                var nbb_cells = Jupyter.notebook.get_cells();\n",
       "                for (var i = 0; i < nbb_cells.length; ++i) {\n",
       "                    if (nbb_cells[i].input_prompt_number == nbb_cell_id) {\n",
       "                        if (nbb_cells[i].get_text() == nbb_unformatted_code) {\n",
       "                             nbb_cells[i].set_text(nbb_formatted_code);\n",
       "                        }\n",
       "                        break;\n",
       "                    }\n",
       "                }\n",
       "            }, 500);\n",
       "            "
      ],
      "text/plain": [
       "<IPython.core.display.Javascript object>"
      ]
     },
     "metadata": {},
     "output_type": "display_data"
    }
   ],
   "source": [
    "%load_ext nb_black\n",
    "%matplotlib inline"
   ]
  },
  {
   "cell_type": "markdown",
   "id": "8dff486a",
   "metadata": {},
   "source": [
    "**Collect Data**\n",
    "\n",
    "To demonstrate window function transformations we will use a timeseries dataset of the daily stock prices for some popular companies.\n",
    "\n",
    "We will use one of my favourite libraries for financial analysis -- the [ffn](https://pmorissette.github.io/ffn/) library -- to collect the data in one line of code."
   ]
  },
  {
   "cell_type": "code",
   "execution_count": 4,
   "id": "d26e2d0e",
   "metadata": {},
   "outputs": [
    {
     "data": {
      "text/html": [
       "<div>\n",
       "<style scoped>\n",
       "    .dataframe tbody tr th:only-of-type {\n",
       "        vertical-align: middle;\n",
       "    }\n",
       "\n",
       "    .dataframe tbody tr th {\n",
       "        vertical-align: top;\n",
       "    }\n",
       "\n",
       "    .dataframe thead th {\n",
       "        text-align: right;\n",
       "    }\n",
       "</style>\n",
       "<table border=\"1\" class=\"dataframe\">\n",
       "  <thead>\n",
       "    <tr style=\"text-align: right;\">\n",
       "      <th></th>\n",
       "      <th>Date</th>\n",
       "      <th>ticker</th>\n",
       "      <th>closing_price</th>\n",
       "    </tr>\n",
       "  </thead>\n",
       "  <tbody>\n",
       "    <tr>\n",
       "      <th>88</th>\n",
       "      <td>2018-05-09</td>\n",
       "      <td>aapl</td>\n",
       "      <td>44.981297</td>\n",
       "    </tr>\n",
       "    <tr>\n",
       "      <th>200</th>\n",
       "      <td>2018-10-17</td>\n",
       "      <td>aapl</td>\n",
       "      <td>53.494915</td>\n",
       "    </tr>\n",
       "    <tr>\n",
       "      <th>261</th>\n",
       "      <td>2019-01-16</td>\n",
       "      <td>aapl</td>\n",
       "      <td>37.603058</td>\n",
       "    </tr>\n",
       "    <tr>\n",
       "      <th>1019</th>\n",
       "      <td>2018-01-18</td>\n",
       "      <td>dis</td>\n",
       "      <td>107.384003</td>\n",
       "    </tr>\n",
       "    <tr>\n",
       "      <th>2199</th>\n",
       "      <td>2018-09-24</td>\n",
       "      <td>nke</td>\n",
       "      <td>81.740608</td>\n",
       "    </tr>\n",
       "  </tbody>\n",
       "</table>\n",
       "</div>"
      ],
      "text/plain": [
       "           Date ticker  closing_price\n",
       "88   2018-05-09   aapl      44.981297\n",
       "200  2018-10-17   aapl      53.494915\n",
       "261  2019-01-16   aapl      37.603058\n",
       "1019 2018-01-18    dis     107.384003\n",
       "2199 2018-09-24    nke      81.740608"
      ]
     },
     "execution_count": 4,
     "metadata": {},
     "output_type": "execute_result"
    },
    {
     "data": {
      "application/javascript": [
       "\n",
       "            setTimeout(function() {\n",
       "                var nbb_cell_id = 4;\n",
       "                var nbb_unformatted_code = \"tickers = [\\n    \\\"AAPL\\\",  # apple\\n    \\\"DIS\\\",  # disney\\n    \\\"NKE\\\",  # nike\\n    \\\"TSLA\\\",  # tesla\\n]\\nprices = ffn.get(tickers, start=\\\"2018-01-01\\\")\\n\\n# convert data into 'long' table format for purposes of this exercise\\nprices = prices.melt(ignore_index=False, var_name=\\\"ticker\\\", value_name=\\\"closing_price\\\")\\n\\n# reset index to make 'Date' a column\\nprices = prices.reset_index()\\n\\n# display 5 example rows in the dataset\\nprices.sample(5).sort_index()\";\n",
       "                var nbb_formatted_code = \"tickers = [\\n    \\\"AAPL\\\",  # apple\\n    \\\"DIS\\\",  # disney\\n    \\\"NKE\\\",  # nike\\n    \\\"TSLA\\\",  # tesla\\n]\\nprices = ffn.get(tickers, start=\\\"2018-01-01\\\")\\n\\n# convert data into 'long' table format for purposes of this exercise\\nprices = prices.melt(ignore_index=False, var_name=\\\"ticker\\\", value_name=\\\"closing_price\\\")\\n\\n# reset index to make 'Date' a column\\nprices = prices.reset_index()\\n\\n# display 5 example rows in the dataset\\nprices.sample(5).sort_index()\";\n",
       "                var nbb_cells = Jupyter.notebook.get_cells();\n",
       "                for (var i = 0; i < nbb_cells.length; ++i) {\n",
       "                    if (nbb_cells[i].input_prompt_number == nbb_cell_id) {\n",
       "                        if (nbb_cells[i].get_text() == nbb_unformatted_code) {\n",
       "                             nbb_cells[i].set_text(nbb_formatted_code);\n",
       "                        }\n",
       "                        break;\n",
       "                    }\n",
       "                }\n",
       "            }, 500);\n",
       "            "
      ],
      "text/plain": [
       "<IPython.core.display.Javascript object>"
      ]
     },
     "metadata": {},
     "output_type": "display_data"
    }
   ],
   "source": [
    "tickers = [\n",
    "    \"AAPL\",  # apple\n",
    "    \"DIS\",  # disney\n",
    "    \"NKE\",  # nike\n",
    "    \"TSLA\",  # tesla\n",
    "]\n",
    "prices = ffn.get(tickers, start=\"2018-01-01\")\n",
    "\n",
    "# convert data into 'long' table format for purposes of this exercise\n",
    "prices = prices.melt(ignore_index=False, var_name=\"ticker\", value_name=\"closing_price\")\n",
    "\n",
    "# reset index to make 'Date' a column\n",
    "prices = prices.reset_index()\n",
    "\n",
    "# display 5 example rows in the dataset\n",
    "prices.sample(5).sort_index()"
   ]
  },
  {
   "cell_type": "markdown",
   "id": "8d026018",
   "metadata": {},
   "source": [
    "**Save to SQLite Database**\n",
    "\n",
    "In order to demonstrate and compare the SQL syntax to Pandas we will save this data in a simple in-memory SQLite database. This allows us to use directly SQL syntax to read and transform the data."
   ]
  },
  {
   "cell_type": "code",
   "execution_count": 5,
   "id": "904b1c7b",
   "metadata": {},
   "outputs": [
    {
     "data": {
      "application/javascript": [
       "\n",
       "            setTimeout(function() {\n",
       "                var nbb_cell_id = 5;\n",
       "                var nbb_unformatted_code = \"import sqlite3\\n\\n# create connection to in memory sqlite db\\nwith sqlite3.connect(\\\":memory:\\\") as conn:\\n\\n    # save prices dataframe to sqlite db\\n    prices.to_sql(name=\\\"prices\\\", con=conn, index=False)\";\n",
       "                var nbb_formatted_code = \"import sqlite3\\n\\n# create connection to in memory sqlite db\\nwith sqlite3.connect(\\\":memory:\\\") as conn:\\n\\n    # save prices dataframe to sqlite db\\n    prices.to_sql(name=\\\"prices\\\", con=conn, index=False)\";\n",
       "                var nbb_cells = Jupyter.notebook.get_cells();\n",
       "                for (var i = 0; i < nbb_cells.length; ++i) {\n",
       "                    if (nbb_cells[i].input_prompt_number == nbb_cell_id) {\n",
       "                        if (nbb_cells[i].get_text() == nbb_unformatted_code) {\n",
       "                             nbb_cells[i].set_text(nbb_formatted_code);\n",
       "                        }\n",
       "                        break;\n",
       "                    }\n",
       "                }\n",
       "            }, 500);\n",
       "            "
      ],
      "text/plain": [
       "<IPython.core.display.Javascript object>"
      ]
     },
     "metadata": {},
     "output_type": "display_data"
    }
   ],
   "source": [
    "import sqlite3\n",
    "\n",
    "# create connection to in memory sqlite db\n",
    "with sqlite3.connect(\":memory:\") as conn:\n",
    "\n",
    "    # save prices dataframe to sqlite db\n",
    "    prices.to_sql(name=\"prices\", con=conn, index=False)"
   ]
  },
  {
   "cell_type": "markdown",
   "id": "a3623218",
   "metadata": {},
   "source": [
    "> Note: SQLite does not have a 'DATE' datatype so we will have to treat the dates as strings when using SQL to demonstrate the transformations"
   ]
  },
  {
   "cell_type": "markdown",
   "id": "f7f307ef",
   "metadata": {},
   "source": [
    "Let's take some examples using the stock prices dataset to compare the differences between window functions in SQL and the equivalent in Pandas."
   ]
  },
  {
   "cell_type": "markdown",
   "id": "2688b2d9",
   "metadata": {},
   "source": [
    "### Example 1:  Calculating the maximum stock price for each company in the time period"
   ]
  },
  {
   "cell_type": "markdown",
   "id": "a536cac8",
   "metadata": {},
   "source": [
    "**SQL**\n",
    "\n",
    "We calculate the maximum stock price for each ticker by using the `MAX` function in conjunction with a window function:\n",
    "- the window function is initiated with the `OVER` keyword\n",
    "- we specify that the `ticker` column should be used to partition the data\n",
    "\n",
    "This will return a table of the same length as the original, but with a new column called `max_price` that contains the maximum stock price the relevant company during time period the data covers."
   ]
  },
  {
   "cell_type": "code",
   "execution_count": 6,
   "id": "0f5ff9ba",
   "metadata": {},
   "outputs": [
    {
     "data": {
      "application/javascript": [
       "\n",
       "            setTimeout(function() {\n",
       "                var nbb_cell_id = 6;\n",
       "                var nbb_unformatted_code = \"ex1_sql_query = \\\"\\\"\\\"\\nSELECT\\n    date(Date) as Date\\n    , ticker\\n    , closing_price\\n    , MAX(closing_price) OVER(PARTITION BY ticker) as max_price\\nFROM\\n    prices\\n\\\"\\\"\\\"\";\n",
       "                var nbb_formatted_code = \"ex1_sql_query = \\\"\\\"\\\"\\nSELECT\\n    date(Date) as Date\\n    , ticker\\n    , closing_price\\n    , MAX(closing_price) OVER(PARTITION BY ticker) as max_price\\nFROM\\n    prices\\n\\\"\\\"\\\"\";\n",
       "                var nbb_cells = Jupyter.notebook.get_cells();\n",
       "                for (var i = 0; i < nbb_cells.length; ++i) {\n",
       "                    if (nbb_cells[i].input_prompt_number == nbb_cell_id) {\n",
       "                        if (nbb_cells[i].get_text() == nbb_unformatted_code) {\n",
       "                             nbb_cells[i].set_text(nbb_formatted_code);\n",
       "                        }\n",
       "                        break;\n",
       "                    }\n",
       "                }\n",
       "            }, 500);\n",
       "            "
      ],
      "text/plain": [
       "<IPython.core.display.Javascript object>"
      ]
     },
     "metadata": {},
     "output_type": "display_data"
    }
   ],
   "source": [
    "ex1_sql_query = \"\"\"\n",
    "SELECT\n",
    "    date(Date) as Date\n",
    "    , ticker\n",
    "    , closing_price\n",
    "    , MAX(closing_price) OVER(PARTITION BY ticker) as max_price\n",
    "FROM\n",
    "    prices\n",
    "\"\"\""
   ]
  },
  {
   "cell_type": "code",
   "execution_count": 7,
   "id": "1a4859ca",
   "metadata": {},
   "outputs": [
    {
     "data": {
      "text/html": [
       "<div>\n",
       "<style scoped>\n",
       "    .dataframe tbody tr th:only-of-type {\n",
       "        vertical-align: middle;\n",
       "    }\n",
       "\n",
       "    .dataframe tbody tr th {\n",
       "        vertical-align: top;\n",
       "    }\n",
       "\n",
       "    .dataframe thead th {\n",
       "        text-align: right;\n",
       "    }\n",
       "</style>\n",
       "<table border=\"1\" class=\"dataframe\">\n",
       "  <thead>\n",
       "    <tr style=\"text-align: right;\">\n",
       "      <th></th>\n",
       "      <th>Date</th>\n",
       "      <th>ticker</th>\n",
       "      <th>closing_price</th>\n",
       "      <th>max_price</th>\n",
       "    </tr>\n",
       "  </thead>\n",
       "  <tbody>\n",
       "    <tr>\n",
       "      <th>0</th>\n",
       "      <td>2018-01-02</td>\n",
       "      <td>aapl</td>\n",
       "      <td>41.188160</td>\n",
       "      <td>180.330002</td>\n",
       "    </tr>\n",
       "    <tr>\n",
       "      <th>1</th>\n",
       "      <td>2018-01-03</td>\n",
       "      <td>aapl</td>\n",
       "      <td>41.181000</td>\n",
       "      <td>180.330002</td>\n",
       "    </tr>\n",
       "    <tr>\n",
       "      <th>2</th>\n",
       "      <td>2018-01-04</td>\n",
       "      <td>aapl</td>\n",
       "      <td>41.372276</td>\n",
       "      <td>180.330002</td>\n",
       "    </tr>\n",
       "    <tr>\n",
       "      <th>3</th>\n",
       "      <td>2018-01-05</td>\n",
       "      <td>aapl</td>\n",
       "      <td>41.843311</td>\n",
       "      <td>180.330002</td>\n",
       "    </tr>\n",
       "    <tr>\n",
       "      <th>4</th>\n",
       "      <td>2018-01-08</td>\n",
       "      <td>aapl</td>\n",
       "      <td>41.687897</td>\n",
       "      <td>180.330002</td>\n",
       "    </tr>\n",
       "    <tr>\n",
       "      <th>...</th>\n",
       "      <td>...</td>\n",
       "      <td>...</td>\n",
       "      <td>...</td>\n",
       "      <td>...</td>\n",
       "    </tr>\n",
       "    <tr>\n",
       "      <th>4027</th>\n",
       "      <td>2021-12-27</td>\n",
       "      <td>tsla</td>\n",
       "      <td>1093.939941</td>\n",
       "      <td>1229.910034</td>\n",
       "    </tr>\n",
       "    <tr>\n",
       "      <th>4028</th>\n",
       "      <td>2021-12-28</td>\n",
       "      <td>tsla</td>\n",
       "      <td>1088.469971</td>\n",
       "      <td>1229.910034</td>\n",
       "    </tr>\n",
       "    <tr>\n",
       "      <th>4029</th>\n",
       "      <td>2021-12-29</td>\n",
       "      <td>tsla</td>\n",
       "      <td>1086.189941</td>\n",
       "      <td>1229.910034</td>\n",
       "    </tr>\n",
       "    <tr>\n",
       "      <th>4030</th>\n",
       "      <td>2021-12-30</td>\n",
       "      <td>tsla</td>\n",
       "      <td>1070.339966</td>\n",
       "      <td>1229.910034</td>\n",
       "    </tr>\n",
       "    <tr>\n",
       "      <th>4031</th>\n",
       "      <td>2021-12-31</td>\n",
       "      <td>tsla</td>\n",
       "      <td>1068.619995</td>\n",
       "      <td>1229.910034</td>\n",
       "    </tr>\n",
       "  </tbody>\n",
       "</table>\n",
       "<p>4032 rows × 4 columns</p>\n",
       "</div>"
      ],
      "text/plain": [
       "            Date ticker  closing_price    max_price\n",
       "0     2018-01-02   aapl      41.188160   180.330002\n",
       "1     2018-01-03   aapl      41.181000   180.330002\n",
       "2     2018-01-04   aapl      41.372276   180.330002\n",
       "3     2018-01-05   aapl      41.843311   180.330002\n",
       "4     2018-01-08   aapl      41.687897   180.330002\n",
       "...          ...    ...            ...          ...\n",
       "4027  2021-12-27   tsla    1093.939941  1229.910034\n",
       "4028  2021-12-28   tsla    1088.469971  1229.910034\n",
       "4029  2021-12-29   tsla    1086.189941  1229.910034\n",
       "4030  2021-12-30   tsla    1070.339966  1229.910034\n",
       "4031  2021-12-31   tsla    1068.619995  1229.910034\n",
       "\n",
       "[4032 rows x 4 columns]"
      ]
     },
     "execution_count": 7,
     "metadata": {},
     "output_type": "execute_result"
    },
    {
     "data": {
      "application/javascript": [
       "\n",
       "            setTimeout(function() {\n",
       "                var nbb_cell_id = 7;\n",
       "                var nbb_unformatted_code = \"# use pandas read_sql to execute the query and return a dataframe\\nex1_sql = pd.read_sql(ex1_sql_query, con=conn)\\nex1_sql\";\n",
       "                var nbb_formatted_code = \"# use pandas read_sql to execute the query and return a dataframe\\nex1_sql = pd.read_sql(ex1_sql_query, con=conn)\\nex1_sql\";\n",
       "                var nbb_cells = Jupyter.notebook.get_cells();\n",
       "                for (var i = 0; i < nbb_cells.length; ++i) {\n",
       "                    if (nbb_cells[i].input_prompt_number == nbb_cell_id) {\n",
       "                        if (nbb_cells[i].get_text() == nbb_unformatted_code) {\n",
       "                             nbb_cells[i].set_text(nbb_formatted_code);\n",
       "                        }\n",
       "                        break;\n",
       "                    }\n",
       "                }\n",
       "            }, 500);\n",
       "            "
      ],
      "text/plain": [
       "<IPython.core.display.Javascript object>"
      ]
     },
     "metadata": {},
     "output_type": "display_data"
    }
   ],
   "source": [
    "# use pandas read_sql to execute the query and return a dataframe\n",
    "ex1_sql = pd.read_sql(ex1_sql_query, con=conn)\n",
    "ex1_sql"
   ]
  },
  {
   "cell_type": "markdown",
   "id": "9086a010",
   "metadata": {},
   "source": [
    "**Pandas**\n",
    "\n",
    "We use the groupby function to partition the data by ticker and provide `max` to the `transform` function to get a new column which shows the maximum share price for that ticker.\n",
    "\n",
    "Note that as `max` is a simple aggregation function, we can simply pass it as a string to the `transform` function instead of providing a new function (e.g. lambda function)."
   ]
  },
  {
   "cell_type": "code",
   "execution_count": 8,
   "id": "4efbe378",
   "metadata": {},
   "outputs": [
    {
     "data": {
      "text/html": [
       "<div>\n",
       "<style scoped>\n",
       "    .dataframe tbody tr th:only-of-type {\n",
       "        vertical-align: middle;\n",
       "    }\n",
       "\n",
       "    .dataframe tbody tr th {\n",
       "        vertical-align: top;\n",
       "    }\n",
       "\n",
       "    .dataframe thead th {\n",
       "        text-align: right;\n",
       "    }\n",
       "</style>\n",
       "<table border=\"1\" class=\"dataframe\">\n",
       "  <thead>\n",
       "    <tr style=\"text-align: right;\">\n",
       "      <th></th>\n",
       "      <th>Date</th>\n",
       "      <th>ticker</th>\n",
       "      <th>closing_price</th>\n",
       "      <th>max_price</th>\n",
       "    </tr>\n",
       "  </thead>\n",
       "  <tbody>\n",
       "    <tr>\n",
       "      <th>0</th>\n",
       "      <td>2018-01-02</td>\n",
       "      <td>aapl</td>\n",
       "      <td>41.188160</td>\n",
       "      <td>180.330002</td>\n",
       "    </tr>\n",
       "    <tr>\n",
       "      <th>1</th>\n",
       "      <td>2018-01-03</td>\n",
       "      <td>aapl</td>\n",
       "      <td>41.181000</td>\n",
       "      <td>180.330002</td>\n",
       "    </tr>\n",
       "    <tr>\n",
       "      <th>2</th>\n",
       "      <td>2018-01-04</td>\n",
       "      <td>aapl</td>\n",
       "      <td>41.372276</td>\n",
       "      <td>180.330002</td>\n",
       "    </tr>\n",
       "    <tr>\n",
       "      <th>3</th>\n",
       "      <td>2018-01-05</td>\n",
       "      <td>aapl</td>\n",
       "      <td>41.843311</td>\n",
       "      <td>180.330002</td>\n",
       "    </tr>\n",
       "    <tr>\n",
       "      <th>4</th>\n",
       "      <td>2018-01-08</td>\n",
       "      <td>aapl</td>\n",
       "      <td>41.687897</td>\n",
       "      <td>180.330002</td>\n",
       "    </tr>\n",
       "    <tr>\n",
       "      <th>...</th>\n",
       "      <td>...</td>\n",
       "      <td>...</td>\n",
       "      <td>...</td>\n",
       "      <td>...</td>\n",
       "    </tr>\n",
       "    <tr>\n",
       "      <th>4027</th>\n",
       "      <td>2021-12-27</td>\n",
       "      <td>tsla</td>\n",
       "      <td>1093.939941</td>\n",
       "      <td>1229.910034</td>\n",
       "    </tr>\n",
       "    <tr>\n",
       "      <th>4028</th>\n",
       "      <td>2021-12-28</td>\n",
       "      <td>tsla</td>\n",
       "      <td>1088.469971</td>\n",
       "      <td>1229.910034</td>\n",
       "    </tr>\n",
       "    <tr>\n",
       "      <th>4029</th>\n",
       "      <td>2021-12-29</td>\n",
       "      <td>tsla</td>\n",
       "      <td>1086.189941</td>\n",
       "      <td>1229.910034</td>\n",
       "    </tr>\n",
       "    <tr>\n",
       "      <th>4030</th>\n",
       "      <td>2021-12-30</td>\n",
       "      <td>tsla</td>\n",
       "      <td>1070.339966</td>\n",
       "      <td>1229.910034</td>\n",
       "    </tr>\n",
       "    <tr>\n",
       "      <th>4031</th>\n",
       "      <td>2021-12-31</td>\n",
       "      <td>tsla</td>\n",
       "      <td>1068.619995</td>\n",
       "      <td>1229.910034</td>\n",
       "    </tr>\n",
       "  </tbody>\n",
       "</table>\n",
       "<p>4032 rows × 4 columns</p>\n",
       "</div>"
      ],
      "text/plain": [
       "           Date ticker  closing_price    max_price\n",
       "0    2018-01-02   aapl      41.188160   180.330002\n",
       "1    2018-01-03   aapl      41.181000   180.330002\n",
       "2    2018-01-04   aapl      41.372276   180.330002\n",
       "3    2018-01-05   aapl      41.843311   180.330002\n",
       "4    2018-01-08   aapl      41.687897   180.330002\n",
       "...         ...    ...            ...          ...\n",
       "4027 2021-12-27   tsla    1093.939941  1229.910034\n",
       "4028 2021-12-28   tsla    1088.469971  1229.910034\n",
       "4029 2021-12-29   tsla    1086.189941  1229.910034\n",
       "4030 2021-12-30   tsla    1070.339966  1229.910034\n",
       "4031 2021-12-31   tsla    1068.619995  1229.910034\n",
       "\n",
       "[4032 rows x 4 columns]"
      ]
     },
     "execution_count": 8,
     "metadata": {},
     "output_type": "execute_result"
    },
    {
     "data": {
      "application/javascript": [
       "\n",
       "            setTimeout(function() {\n",
       "                var nbb_cell_id = 8;\n",
       "                var nbb_unformatted_code = \"# copy dataframe to avoid overwritting original (optional)\\nex1_pandas = prices.copy()\\n\\n# add new column\\nex1_pandas[\\\"max_price\\\"] = ex1_pandas.groupby(\\\"ticker\\\")[\\\"closing_price\\\"].transform(\\\"max\\\")\\n\\nex1_pandas\";\n",
       "                var nbb_formatted_code = \"# copy dataframe to avoid overwritting original (optional)\\nex1_pandas = prices.copy()\\n\\n# add new column\\nex1_pandas[\\\"max_price\\\"] = ex1_pandas.groupby(\\\"ticker\\\")[\\\"closing_price\\\"].transform(\\\"max\\\")\\n\\nex1_pandas\";\n",
       "                var nbb_cells = Jupyter.notebook.get_cells();\n",
       "                for (var i = 0; i < nbb_cells.length; ++i) {\n",
       "                    if (nbb_cells[i].input_prompt_number == nbb_cell_id) {\n",
       "                        if (nbb_cells[i].get_text() == nbb_unformatted_code) {\n",
       "                             nbb_cells[i].set_text(nbb_formatted_code);\n",
       "                        }\n",
       "                        break;\n",
       "                    }\n",
       "                }\n",
       "            }, 500);\n",
       "            "
      ],
      "text/plain": [
       "<IPython.core.display.Javascript object>"
      ]
     },
     "metadata": {},
     "output_type": "display_data"
    }
   ],
   "source": [
    "# copy dataframe to avoid overwritting original (optional)\n",
    "ex1_pandas = prices.copy()\n",
    "\n",
    "# add new column\n",
    "ex1_pandas[\"max_price\"] = ex1_pandas.groupby(\"ticker\")[\"closing_price\"].transform(\"max\")\n",
    "\n",
    "ex1_pandas"
   ]
  },
  {
   "cell_type": "code",
   "execution_count": 9,
   "id": "e91a1a29",
   "metadata": {},
   "outputs": [
    {
     "data": {
      "application/javascript": [
       "\n",
       "            setTimeout(function() {\n",
       "                var nbb_cell_id = 9;\n",
       "                var nbb_unformatted_code = \"# verify the two results are the same\\nassert all(ex1_sql.max_price == ex1_pandas.max_price)\";\n",
       "                var nbb_formatted_code = \"# verify the two results are the same\\nassert all(ex1_sql.max_price == ex1_pandas.max_price)\";\n",
       "                var nbb_cells = Jupyter.notebook.get_cells();\n",
       "                for (var i = 0; i < nbb_cells.length; ++i) {\n",
       "                    if (nbb_cells[i].input_prompt_number == nbb_cell_id) {\n",
       "                        if (nbb_cells[i].get_text() == nbb_unformatted_code) {\n",
       "                             nbb_cells[i].set_text(nbb_formatted_code);\n",
       "                        }\n",
       "                        break;\n",
       "                    }\n",
       "                }\n",
       "            }, 500);\n",
       "            "
      ],
      "text/plain": [
       "<IPython.core.display.Javascript object>"
      ]
     },
     "metadata": {},
     "output_type": "display_data"
    }
   ],
   "source": [
    "# verify the two results are the same\n",
    "assert all(ex1_sql.max_price == ex1_pandas.max_price)"
   ]
  },
  {
   "cell_type": "markdown",
   "id": "2b84a231",
   "metadata": {},
   "source": [
    "### Example 2:  28 day closing price moving average for each company\n",
    "\n",
    "**SQL**\n",
    "\n",
    "When calculating a moving average, the order of values within the group are important (they should be in chronological order), therefore we need to order the values within the group by the date.\n",
    "\n",
    "Additionally, in SQL, to define the rolling window we specify that the average should be calculated using the preceding 27 rows and the current row (28 in total). "
   ]
  },
  {
   "cell_type": "code",
   "execution_count": 10,
   "id": "9515e0e1",
   "metadata": {},
   "outputs": [
    {
     "data": {
      "application/javascript": [
       "\n",
       "            setTimeout(function() {\n",
       "                var nbb_cell_id = 10;\n",
       "                var nbb_unformatted_code = \"ex2_sql_query = \\\"\\\"\\\"\\nSELECT\\n    date(Date) AS Date\\n    , ticker\\n    , closing_price\\n    , AVG(closing_price) OVER(\\n        PARTITION BY ticker\\n        ORDER BY date(Date)\\n        ROWS BETWEEN 27 PRECEDING AND CURRENT ROW\\n    )\\n     AS ma_28_day\\nFROM\\n    prices\\n\\\"\\\"\\\"\";\n",
       "                var nbb_formatted_code = \"ex2_sql_query = \\\"\\\"\\\"\\nSELECT\\n    date(Date) AS Date\\n    , ticker\\n    , closing_price\\n    , AVG(closing_price) OVER(\\n        PARTITION BY ticker\\n        ORDER BY date(Date)\\n        ROWS BETWEEN 27 PRECEDING AND CURRENT ROW\\n    )\\n     AS ma_28_day\\nFROM\\n    prices\\n\\\"\\\"\\\"\";\n",
       "                var nbb_cells = Jupyter.notebook.get_cells();\n",
       "                for (var i = 0; i < nbb_cells.length; ++i) {\n",
       "                    if (nbb_cells[i].input_prompt_number == nbb_cell_id) {\n",
       "                        if (nbb_cells[i].get_text() == nbb_unformatted_code) {\n",
       "                             nbb_cells[i].set_text(nbb_formatted_code);\n",
       "                        }\n",
       "                        break;\n",
       "                    }\n",
       "                }\n",
       "            }, 500);\n",
       "            "
      ],
      "text/plain": [
       "<IPython.core.display.Javascript object>"
      ]
     },
     "metadata": {},
     "output_type": "display_data"
    }
   ],
   "source": [
    "ex2_sql_query = \"\"\"\n",
    "SELECT\n",
    "    date(Date) AS Date\n",
    "    , ticker\n",
    "    , closing_price\n",
    "    , AVG(closing_price) OVER(\n",
    "        PARTITION BY ticker\n",
    "        ORDER BY date(Date)\n",
    "        ROWS BETWEEN 27 PRECEDING AND CURRENT ROW\n",
    "    )\n",
    "     AS ma_28_day\n",
    "FROM\n",
    "    prices\n",
    "\"\"\""
   ]
  },
  {
   "cell_type": "code",
   "execution_count": 11,
   "id": "a4d281d0",
   "metadata": {},
   "outputs": [
    {
     "data": {
      "text/html": [
       "<div>\n",
       "<style scoped>\n",
       "    .dataframe tbody tr th:only-of-type {\n",
       "        vertical-align: middle;\n",
       "    }\n",
       "\n",
       "    .dataframe tbody tr th {\n",
       "        vertical-align: top;\n",
       "    }\n",
       "\n",
       "    .dataframe thead th {\n",
       "        text-align: right;\n",
       "    }\n",
       "</style>\n",
       "<table border=\"1\" class=\"dataframe\">\n",
       "  <thead>\n",
       "    <tr style=\"text-align: right;\">\n",
       "      <th></th>\n",
       "      <th>Date</th>\n",
       "      <th>ticker</th>\n",
       "      <th>closing_price</th>\n",
       "      <th>ma_28_day</th>\n",
       "    </tr>\n",
       "  </thead>\n",
       "  <tbody>\n",
       "    <tr>\n",
       "      <th>0</th>\n",
       "      <td>2018-01-02</td>\n",
       "      <td>aapl</td>\n",
       "      <td>41.188160</td>\n",
       "      <td>41.188160</td>\n",
       "    </tr>\n",
       "    <tr>\n",
       "      <th>1</th>\n",
       "      <td>2018-01-03</td>\n",
       "      <td>aapl</td>\n",
       "      <td>41.181000</td>\n",
       "      <td>41.184580</td>\n",
       "    </tr>\n",
       "    <tr>\n",
       "      <th>2</th>\n",
       "      <td>2018-01-04</td>\n",
       "      <td>aapl</td>\n",
       "      <td>41.372276</td>\n",
       "      <td>41.247145</td>\n",
       "    </tr>\n",
       "    <tr>\n",
       "      <th>3</th>\n",
       "      <td>2018-01-05</td>\n",
       "      <td>aapl</td>\n",
       "      <td>41.843311</td>\n",
       "      <td>41.396187</td>\n",
       "    </tr>\n",
       "    <tr>\n",
       "      <th>4</th>\n",
       "      <td>2018-01-08</td>\n",
       "      <td>aapl</td>\n",
       "      <td>41.687897</td>\n",
       "      <td>41.454529</td>\n",
       "    </tr>\n",
       "    <tr>\n",
       "      <th>...</th>\n",
       "      <td>...</td>\n",
       "      <td>...</td>\n",
       "      <td>...</td>\n",
       "      <td>...</td>\n",
       "    </tr>\n",
       "    <tr>\n",
       "      <th>4027</th>\n",
       "      <td>2021-12-27</td>\n",
       "      <td>tsla</td>\n",
       "      <td>1093.939941</td>\n",
       "      <td>1044.162500</td>\n",
       "    </tr>\n",
       "    <tr>\n",
       "      <th>4028</th>\n",
       "      <td>2021-12-28</td>\n",
       "      <td>tsla</td>\n",
       "      <td>1088.469971</td>\n",
       "      <td>1045.367499</td>\n",
       "    </tr>\n",
       "    <tr>\n",
       "      <th>4029</th>\n",
       "      <td>2021-12-29</td>\n",
       "      <td>tsla</td>\n",
       "      <td>1086.189941</td>\n",
       "      <td>1045.266782</td>\n",
       "    </tr>\n",
       "    <tr>\n",
       "      <th>4030</th>\n",
       "      <td>2021-12-30</td>\n",
       "      <td>tsla</td>\n",
       "      <td>1070.339966</td>\n",
       "      <td>1044.336781</td>\n",
       "    </tr>\n",
       "    <tr>\n",
       "      <th>4031</th>\n",
       "      <td>2021-12-31</td>\n",
       "      <td>tsla</td>\n",
       "      <td>1068.619995</td>\n",
       "      <td>1041.892493</td>\n",
       "    </tr>\n",
       "  </tbody>\n",
       "</table>\n",
       "<p>4032 rows × 4 columns</p>\n",
       "</div>"
      ],
      "text/plain": [
       "            Date ticker  closing_price    ma_28_day\n",
       "0     2018-01-02   aapl      41.188160    41.188160\n",
       "1     2018-01-03   aapl      41.181000    41.184580\n",
       "2     2018-01-04   aapl      41.372276    41.247145\n",
       "3     2018-01-05   aapl      41.843311    41.396187\n",
       "4     2018-01-08   aapl      41.687897    41.454529\n",
       "...          ...    ...            ...          ...\n",
       "4027  2021-12-27   tsla    1093.939941  1044.162500\n",
       "4028  2021-12-28   tsla    1088.469971  1045.367499\n",
       "4029  2021-12-29   tsla    1086.189941  1045.266782\n",
       "4030  2021-12-30   tsla    1070.339966  1044.336781\n",
       "4031  2021-12-31   tsla    1068.619995  1041.892493\n",
       "\n",
       "[4032 rows x 4 columns]"
      ]
     },
     "execution_count": 11,
     "metadata": {},
     "output_type": "execute_result"
    },
    {
     "data": {
      "application/javascript": [
       "\n",
       "            setTimeout(function() {\n",
       "                var nbb_cell_id = 11;\n",
       "                var nbb_unformatted_code = \"ex2_sql = pd.read_sql(ex2_sql_query, con=conn)\\nex2_sql\";\n",
       "                var nbb_formatted_code = \"ex2_sql = pd.read_sql(ex2_sql_query, con=conn)\\nex2_sql\";\n",
       "                var nbb_cells = Jupyter.notebook.get_cells();\n",
       "                for (var i = 0; i < nbb_cells.length; ++i) {\n",
       "                    if (nbb_cells[i].input_prompt_number == nbb_cell_id) {\n",
       "                        if (nbb_cells[i].get_text() == nbb_unformatted_code) {\n",
       "                             nbb_cells[i].set_text(nbb_formatted_code);\n",
       "                        }\n",
       "                        break;\n",
       "                    }\n",
       "                }\n",
       "            }, 500);\n",
       "            "
      ],
      "text/plain": [
       "<IPython.core.display.Javascript object>"
      ]
     },
     "metadata": {},
     "output_type": "display_data"
    }
   ],
   "source": [
    "ex2_sql = pd.read_sql(ex2_sql_query, con=conn)\n",
    "ex2_sql"
   ]
  },
  {
   "cell_type": "markdown",
   "id": "b06bdf5b",
   "metadata": {},
   "source": [
    "**Pandas**\n",
    "\n",
    "To achieve the same in Pandas we can create a new column in the dataframe ('ma_28_day') using `groupby` and `transform`. We utilise Python's [lambda syntax](https://realpython.com/python-lambda/) to define what function should be applied to each group. In this case we want to use calculate the average (mean) over a 28 row rolling window.\n",
    "\n",
    "> Remember to sort the Pandas dataframe before applying the window function when using calculations which are sensitive to the ordering of rows"
   ]
  },
  {
   "cell_type": "code",
   "execution_count": 12,
   "id": "88c1dea1",
   "metadata": {},
   "outputs": [
    {
     "data": {
      "text/html": [
       "<div>\n",
       "<style scoped>\n",
       "    .dataframe tbody tr th:only-of-type {\n",
       "        vertical-align: middle;\n",
       "    }\n",
       "\n",
       "    .dataframe tbody tr th {\n",
       "        vertical-align: top;\n",
       "    }\n",
       "\n",
       "    .dataframe thead th {\n",
       "        text-align: right;\n",
       "    }\n",
       "</style>\n",
       "<table border=\"1\" class=\"dataframe\">\n",
       "  <thead>\n",
       "    <tr style=\"text-align: right;\">\n",
       "      <th></th>\n",
       "      <th>Date</th>\n",
       "      <th>ticker</th>\n",
       "      <th>closing_price</th>\n",
       "      <th>ma_28_day</th>\n",
       "    </tr>\n",
       "  </thead>\n",
       "  <tbody>\n",
       "    <tr>\n",
       "      <th>0</th>\n",
       "      <td>2018-01-02</td>\n",
       "      <td>aapl</td>\n",
       "      <td>41.188160</td>\n",
       "      <td>41.188160</td>\n",
       "    </tr>\n",
       "    <tr>\n",
       "      <th>1</th>\n",
       "      <td>2018-01-03</td>\n",
       "      <td>aapl</td>\n",
       "      <td>41.181000</td>\n",
       "      <td>41.184580</td>\n",
       "    </tr>\n",
       "    <tr>\n",
       "      <th>2</th>\n",
       "      <td>2018-01-04</td>\n",
       "      <td>aapl</td>\n",
       "      <td>41.372276</td>\n",
       "      <td>41.247145</td>\n",
       "    </tr>\n",
       "    <tr>\n",
       "      <th>3</th>\n",
       "      <td>2018-01-05</td>\n",
       "      <td>aapl</td>\n",
       "      <td>41.843311</td>\n",
       "      <td>41.396187</td>\n",
       "    </tr>\n",
       "    <tr>\n",
       "      <th>4</th>\n",
       "      <td>2018-01-08</td>\n",
       "      <td>aapl</td>\n",
       "      <td>41.687897</td>\n",
       "      <td>41.454529</td>\n",
       "    </tr>\n",
       "    <tr>\n",
       "      <th>...</th>\n",
       "      <td>...</td>\n",
       "      <td>...</td>\n",
       "      <td>...</td>\n",
       "      <td>...</td>\n",
       "    </tr>\n",
       "    <tr>\n",
       "      <th>4027</th>\n",
       "      <td>2021-12-27</td>\n",
       "      <td>tsla</td>\n",
       "      <td>1093.939941</td>\n",
       "      <td>1044.162500</td>\n",
       "    </tr>\n",
       "    <tr>\n",
       "      <th>4028</th>\n",
       "      <td>2021-12-28</td>\n",
       "      <td>tsla</td>\n",
       "      <td>1088.469971</td>\n",
       "      <td>1045.367499</td>\n",
       "    </tr>\n",
       "    <tr>\n",
       "      <th>4029</th>\n",
       "      <td>2021-12-29</td>\n",
       "      <td>tsla</td>\n",
       "      <td>1086.189941</td>\n",
       "      <td>1045.266782</td>\n",
       "    </tr>\n",
       "    <tr>\n",
       "      <th>4030</th>\n",
       "      <td>2021-12-30</td>\n",
       "      <td>tsla</td>\n",
       "      <td>1070.339966</td>\n",
       "      <td>1044.336781</td>\n",
       "    </tr>\n",
       "    <tr>\n",
       "      <th>4031</th>\n",
       "      <td>2021-12-31</td>\n",
       "      <td>tsla</td>\n",
       "      <td>1068.619995</td>\n",
       "      <td>1041.892493</td>\n",
       "    </tr>\n",
       "  </tbody>\n",
       "</table>\n",
       "<p>4032 rows × 4 columns</p>\n",
       "</div>"
      ],
      "text/plain": [
       "           Date ticker  closing_price    ma_28_day\n",
       "0    2018-01-02   aapl      41.188160    41.188160\n",
       "1    2018-01-03   aapl      41.181000    41.184580\n",
       "2    2018-01-04   aapl      41.372276    41.247145\n",
       "3    2018-01-05   aapl      41.843311    41.396187\n",
       "4    2018-01-08   aapl      41.687897    41.454529\n",
       "...         ...    ...            ...          ...\n",
       "4027 2021-12-27   tsla    1093.939941  1044.162500\n",
       "4028 2021-12-28   tsla    1088.469971  1045.367499\n",
       "4029 2021-12-29   tsla    1086.189941  1045.266782\n",
       "4030 2021-12-30   tsla    1070.339966  1044.336781\n",
       "4031 2021-12-31   tsla    1068.619995  1041.892493\n",
       "\n",
       "[4032 rows x 4 columns]"
      ]
     },
     "execution_count": 12,
     "metadata": {},
     "output_type": "execute_result"
    },
    {
     "data": {
      "application/javascript": [
       "\n",
       "            setTimeout(function() {\n",
       "                var nbb_cell_id = 12;\n",
       "                var nbb_unformatted_code = \"# copy original dataframe (optional)\\nex2_pandas = prices.copy()\\n\\n# add new column\\nex2_pandas[\\\"ma_28_day\\\"] = (\\n    ex2_pandas.sort_values(\\\"Date\\\")\\n    .groupby(\\\"ticker\\\")[\\\"closing_price\\\"]\\n    .transform(lambda x: x.rolling(28, min_periods=1).mean())\\n)\\n\\nex2_pandas\";\n",
       "                var nbb_formatted_code = \"# copy original dataframe (optional)\\nex2_pandas = prices.copy()\\n\\n# add new column\\nex2_pandas[\\\"ma_28_day\\\"] = (\\n    ex2_pandas.sort_values(\\\"Date\\\")\\n    .groupby(\\\"ticker\\\")[\\\"closing_price\\\"]\\n    .transform(lambda x: x.rolling(28, min_periods=1).mean())\\n)\\n\\nex2_pandas\";\n",
       "                var nbb_cells = Jupyter.notebook.get_cells();\n",
       "                for (var i = 0; i < nbb_cells.length; ++i) {\n",
       "                    if (nbb_cells[i].input_prompt_number == nbb_cell_id) {\n",
       "                        if (nbb_cells[i].get_text() == nbb_unformatted_code) {\n",
       "                             nbb_cells[i].set_text(nbb_formatted_code);\n",
       "                        }\n",
       "                        break;\n",
       "                    }\n",
       "                }\n",
       "            }, 500);\n",
       "            "
      ],
      "text/plain": [
       "<IPython.core.display.Javascript object>"
      ]
     },
     "metadata": {},
     "output_type": "display_data"
    }
   ],
   "source": [
    "# copy original dataframe (optional)\n",
    "ex2_pandas = prices.copy()\n",
    "\n",
    "# add new column\n",
    "ex2_pandas[\"ma_28_day\"] = (\n",
    "    ex2_pandas.sort_values(\"Date\")\n",
    "    .groupby(\"ticker\")[\"closing_price\"]\n",
    "    .transform(lambda x: x.rolling(28, min_periods=1).mean())\n",
    ")\n",
    "\n",
    "ex2_pandas"
   ]
  },
  {
   "cell_type": "code",
   "execution_count": 13,
   "id": "2a628db3",
   "metadata": {},
   "outputs": [
    {
     "data": {
      "image/png": "[encoded data removed]",
      "text/plain": [
       "<Figure size 864x360 with 1 Axes>"
      ]
     },
     "metadata": {
      "needs_background": "light"
     },
     "output_type": "display_data"
    },
    {
     "data": {
      "application/javascript": [
       "\n",
       "            setTimeout(function() {\n",
       "                var nbb_cell_id = 13;\n",
       "                var nbb_unformatted_code = \"# plot the result for tesla to demonstrate output of window function\\ntsla = ex2_pandas[ex2_pandas[\\\"ticker\\\"] == \\\"tsla\\\"]\\n\\nplt.figure(figsize=(12, 5))\\nplt.plot(pd.to_datetime(tsla[\\\"Date\\\"]), tsla[\\\"closing_price\\\"], label=\\\"closing price\\\")\\nplt.plot(pd.to_datetime(tsla[\\\"Date\\\"]), tsla[\\\"ma_28_day\\\"], label=\\\"28 day moving average\\\")\\nplt.xlim(\\n    datetime.date(2021, 1, 1),\\n    datetime.date(2021, 12, 31),\\n)\\nplt.legend()\\nplt.title(\\n    \\\"Tesla closing price and 28 day moving average in 2021\\\",\\n    fontsize=14,\\n    fontweight=\\\"bold\\\",\\n    pad=10,\\n)\\nplt.show()\";\n",
       "                var nbb_formatted_code = \"# plot the result for tesla to demonstrate output of window function\\ntsla = ex2_pandas[ex2_pandas[\\\"ticker\\\"] == \\\"tsla\\\"]\\n\\nplt.figure(figsize=(12, 5))\\nplt.plot(pd.to_datetime(tsla[\\\"Date\\\"]), tsla[\\\"closing_price\\\"], label=\\\"closing price\\\")\\nplt.plot(pd.to_datetime(tsla[\\\"Date\\\"]), tsla[\\\"ma_28_day\\\"], label=\\\"28 day moving average\\\")\\nplt.xlim(\\n    datetime.date(2021, 1, 1),\\n    datetime.date(2021, 12, 31),\\n)\\nplt.legend()\\nplt.title(\\n    \\\"Tesla closing price and 28 day moving average in 2021\\\",\\n    fontsize=14,\\n    fontweight=\\\"bold\\\",\\n    pad=10,\\n)\\nplt.show()\";\n",
       "                var nbb_cells = Jupyter.notebook.get_cells();\n",
       "                for (var i = 0; i < nbb_cells.length; ++i) {\n",
       "                    if (nbb_cells[i].input_prompt_number == nbb_cell_id) {\n",
       "                        if (nbb_cells[i].get_text() == nbb_unformatted_code) {\n",
       "                             nbb_cells[i].set_text(nbb_formatted_code);\n",
       "                        }\n",
       "                        break;\n",
       "                    }\n",
       "                }\n",
       "            }, 500);\n",
       "            "
      ],
      "text/plain": [
       "<IPython.core.display.Javascript object>"
      ]
     },
     "metadata": {},
     "output_type": "display_data"
    }
   ],
   "source": [
    "# plot the result for tesla to demonstrate output of window function\n",
    "tsla = ex2_pandas[ex2_pandas[\"ticker\"] == \"tsla\"]\n",
    "\n",
    "plt.figure(figsize=(12, 5))\n",
    "plt.plot(pd.to_datetime(tsla[\"Date\"]), tsla[\"closing_price\"], label=\"closing price\")\n",
    "plt.plot(pd.to_datetime(tsla[\"Date\"]), tsla[\"ma_28_day\"], label=\"28 day moving average\")\n",
    "plt.xlim(\n",
    "    datetime.date(2021, 1, 1),\n",
    "    datetime.date(2021, 12, 31),\n",
    ")\n",
    "plt.legend()\n",
    "plt.title(\n",
    "    \"Tesla closing price and 28 day moving average in 2021\",\n",
    "    fontsize=14,\n",
    "    fontweight=\"bold\",\n",
    "    pad=10,\n",
    ")\n",
    "plt.show()"
   ]
  },
  {
   "cell_type": "code",
   "execution_count": 14,
   "id": "247a4dac",
   "metadata": {},
   "outputs": [
    {
     "data": {
      "application/javascript": [
       "\n",
       "            setTimeout(function() {\n",
       "                var nbb_cell_id = 14;\n",
       "                var nbb_unformatted_code = \"# verify that the output of sql and pandas functions were the same\\nassert all(ex2_sql.ma_28_day == ex2_pandas.ma_28_day)\";\n",
       "                var nbb_formatted_code = \"# verify that the output of sql and pandas functions were the same\\nassert all(ex2_sql.ma_28_day == ex2_pandas.ma_28_day)\";\n",
       "                var nbb_cells = Jupyter.notebook.get_cells();\n",
       "                for (var i = 0; i < nbb_cells.length; ++i) {\n",
       "                    if (nbb_cells[i].input_prompt_number == nbb_cell_id) {\n",
       "                        if (nbb_cells[i].get_text() == nbb_unformatted_code) {\n",
       "                             nbb_cells[i].set_text(nbb_formatted_code);\n",
       "                        }\n",
       "                        break;\n",
       "                    }\n",
       "                }\n",
       "            }, 500);\n",
       "            "
      ],
      "text/plain": [
       "<IPython.core.display.Javascript object>"
      ]
     },
     "metadata": {},
     "output_type": "display_data"
    }
   ],
   "source": [
    "# verify that the output of sql and pandas functions were the same\n",
    "assert all(ex2_sql.ma_28_day == ex2_pandas.ma_28_day)"
   ]
  },
  {
   "cell_type": "markdown",
   "id": "c46ccd6d",
   "metadata": {},
   "source": [
    "### Example 3: Get previous day's closing share price for each ticker"
   ]
  },
  {
   "cell_type": "markdown",
   "id": "28e9f984",
   "metadata": {},
   "source": [
    "**SQL**"
   ]
  },
  {
   "cell_type": "code",
   "execution_count": 15,
   "id": "ef563231",
   "metadata": {},
   "outputs": [
    {
     "data": {
      "application/javascript": [
       "\n",
       "            setTimeout(function() {\n",
       "                var nbb_cell_id = 15;\n",
       "                var nbb_unformatted_code = \"ex3_sql_query = \\\"\\\"\\\"\\nSELECT\\n    date(Date) AS Date\\n    , ticker\\n    , closing_price\\n    , LAG(closing_price, 1) OVER(\\n        PARTITION BY ticker \\n        ORDER BY date(Date)\\n    ) AS previous_close\\nFROM\\n    prices\\n\\\"\\\"\\\"\";\n",
       "                var nbb_formatted_code = \"ex3_sql_query = \\\"\\\"\\\"\\nSELECT\\n    date(Date) AS Date\\n    , ticker\\n    , closing_price\\n    , LAG(closing_price, 1) OVER(\\n        PARTITION BY ticker \\n        ORDER BY date(Date)\\n    ) AS previous_close\\nFROM\\n    prices\\n\\\"\\\"\\\"\";\n",
       "                var nbb_cells = Jupyter.notebook.get_cells();\n",
       "                for (var i = 0; i < nbb_cells.length; ++i) {\n",
       "                    if (nbb_cells[i].input_prompt_number == nbb_cell_id) {\n",
       "                        if (nbb_cells[i].get_text() == nbb_unformatted_code) {\n",
       "                             nbb_cells[i].set_text(nbb_formatted_code);\n",
       "                        }\n",
       "                        break;\n",
       "                    }\n",
       "                }\n",
       "            }, 500);\n",
       "            "
      ],
      "text/plain": [
       "<IPython.core.display.Javascript object>"
      ]
     },
     "metadata": {},
     "output_type": "display_data"
    }
   ],
   "source": [
    "ex3_sql_query = \"\"\"\n",
    "SELECT\n",
    "    date(Date) AS Date\n",
    "    , ticker\n",
    "    , closing_price\n",
    "    , LAG(closing_price, 1) OVER(\n",
    "        PARTITION BY ticker\n",
    "        ORDER BY date(Date)\n",
    "    ) AS previous_close\n",
    "FROM\n",
    "    prices\n",
    "\"\"\""
   ]
  },
  {
   "cell_type": "code",
   "execution_count": 16,
   "id": "7ded1130",
   "metadata": {},
   "outputs": [
    {
     "data": {
      "text/html": [
       "<div>\n",
       "<style scoped>\n",
       "    .dataframe tbody tr th:only-of-type {\n",
       "        vertical-align: middle;\n",
       "    }\n",
       "\n",
       "    .dataframe tbody tr th {\n",
       "        vertical-align: top;\n",
       "    }\n",
       "\n",
       "    .dataframe thead th {\n",
       "        text-align: right;\n",
       "    }\n",
       "</style>\n",
       "<table border=\"1\" class=\"dataframe\">\n",
       "  <thead>\n",
       "    <tr style=\"text-align: right;\">\n",
       "      <th></th>\n",
       "      <th>Date</th>\n",
       "      <th>ticker</th>\n",
       "      <th>closing_price</th>\n",
       "      <th>previous_close</th>\n",
       "    </tr>\n",
       "  </thead>\n",
       "  <tbody>\n",
       "    <tr>\n",
       "      <th>0</th>\n",
       "      <td>2018-01-02</td>\n",
       "      <td>aapl</td>\n",
       "      <td>41.188160</td>\n",
       "      <td>NaN</td>\n",
       "    </tr>\n",
       "    <tr>\n",
       "      <th>1</th>\n",
       "      <td>2018-01-03</td>\n",
       "      <td>aapl</td>\n",
       "      <td>41.181000</td>\n",
       "      <td>41.188160</td>\n",
       "    </tr>\n",
       "    <tr>\n",
       "      <th>2</th>\n",
       "      <td>2018-01-04</td>\n",
       "      <td>aapl</td>\n",
       "      <td>41.372276</td>\n",
       "      <td>41.181000</td>\n",
       "    </tr>\n",
       "    <tr>\n",
       "      <th>3</th>\n",
       "      <td>2018-01-05</td>\n",
       "      <td>aapl</td>\n",
       "      <td>41.843311</td>\n",
       "      <td>41.372276</td>\n",
       "    </tr>\n",
       "    <tr>\n",
       "      <th>4</th>\n",
       "      <td>2018-01-08</td>\n",
       "      <td>aapl</td>\n",
       "      <td>41.687897</td>\n",
       "      <td>41.843311</td>\n",
       "    </tr>\n",
       "    <tr>\n",
       "      <th>...</th>\n",
       "      <td>...</td>\n",
       "      <td>...</td>\n",
       "      <td>...</td>\n",
       "      <td>...</td>\n",
       "    </tr>\n",
       "    <tr>\n",
       "      <th>4027</th>\n",
       "      <td>2021-12-27</td>\n",
       "      <td>tsla</td>\n",
       "      <td>1093.939941</td>\n",
       "      <td>1067.000000</td>\n",
       "    </tr>\n",
       "    <tr>\n",
       "      <th>4028</th>\n",
       "      <td>2021-12-28</td>\n",
       "      <td>tsla</td>\n",
       "      <td>1088.469971</td>\n",
       "      <td>1093.939941</td>\n",
       "    </tr>\n",
       "    <tr>\n",
       "      <th>4029</th>\n",
       "      <td>2021-12-29</td>\n",
       "      <td>tsla</td>\n",
       "      <td>1086.189941</td>\n",
       "      <td>1088.469971</td>\n",
       "    </tr>\n",
       "    <tr>\n",
       "      <th>4030</th>\n",
       "      <td>2021-12-30</td>\n",
       "      <td>tsla</td>\n",
       "      <td>1070.339966</td>\n",
       "      <td>1086.189941</td>\n",
       "    </tr>\n",
       "    <tr>\n",
       "      <th>4031</th>\n",
       "      <td>2021-12-31</td>\n",
       "      <td>tsla</td>\n",
       "      <td>1068.619995</td>\n",
       "      <td>1070.339966</td>\n",
       "    </tr>\n",
       "  </tbody>\n",
       "</table>\n",
       "<p>4032 rows × 4 columns</p>\n",
       "</div>"
      ],
      "text/plain": [
       "            Date ticker  closing_price  previous_close\n",
       "0     2018-01-02   aapl      41.188160             NaN\n",
       "1     2018-01-03   aapl      41.181000       41.188160\n",
       "2     2018-01-04   aapl      41.372276       41.181000\n",
       "3     2018-01-05   aapl      41.843311       41.372276\n",
       "4     2018-01-08   aapl      41.687897       41.843311\n",
       "...          ...    ...            ...             ...\n",
       "4027  2021-12-27   tsla    1093.939941     1067.000000\n",
       "4028  2021-12-28   tsla    1088.469971     1093.939941\n",
       "4029  2021-12-29   tsla    1086.189941     1088.469971\n",
       "4030  2021-12-30   tsla    1070.339966     1086.189941\n",
       "4031  2021-12-31   tsla    1068.619995     1070.339966\n",
       "\n",
       "[4032 rows x 4 columns]"
      ]
     },
     "execution_count": 16,
     "metadata": {},
     "output_type": "execute_result"
    },
    {
     "data": {
      "application/javascript": [
       "\n",
       "            setTimeout(function() {\n",
       "                var nbb_cell_id = 16;\n",
       "                var nbb_unformatted_code = \"ex3_sql = pd.read_sql(ex3_sql_query, con=conn)\\nex3_sql\";\n",
       "                var nbb_formatted_code = \"ex3_sql = pd.read_sql(ex3_sql_query, con=conn)\\nex3_sql\";\n",
       "                var nbb_cells = Jupyter.notebook.get_cells();\n",
       "                for (var i = 0; i < nbb_cells.length; ++i) {\n",
       "                    if (nbb_cells[i].input_prompt_number == nbb_cell_id) {\n",
       "                        if (nbb_cells[i].get_text() == nbb_unformatted_code) {\n",
       "                             nbb_cells[i].set_text(nbb_formatted_code);\n",
       "                        }\n",
       "                        break;\n",
       "                    }\n",
       "                }\n",
       "            }, 500);\n",
       "            "
      ],
      "text/plain": [
       "<IPython.core.display.Javascript object>"
      ]
     },
     "metadata": {},
     "output_type": "display_data"
    }
   ],
   "source": [
    "ex3_sql = pd.read_sql(ex3_sql_query, con=conn)\n",
    "ex3_sql"
   ]
  },
  {
   "cell_type": "markdown",
   "id": "7c7aefa6",
   "metadata": {},
   "source": [
    "**Pandas**\n",
    "\n",
    "In this example, we don't need to use the `transform` function because `shift` naturally returns a value for each row in the data, rather than an aggregation."
   ]
  },
  {
   "cell_type": "code",
   "execution_count": 17,
   "id": "9d2b2659",
   "metadata": {},
   "outputs": [
    {
     "data": {
      "text/html": [
       "<div>\n",
       "<style scoped>\n",
       "    .dataframe tbody tr th:only-of-type {\n",
       "        vertical-align: middle;\n",
       "    }\n",
       "\n",
       "    .dataframe tbody tr th {\n",
       "        vertical-align: top;\n",
       "    }\n",
       "\n",
       "    .dataframe thead th {\n",
       "        text-align: right;\n",
       "    }\n",
       "</style>\n",
       "<table border=\"1\" class=\"dataframe\">\n",
       "  <thead>\n",
       "    <tr style=\"text-align: right;\">\n",
       "      <th></th>\n",
       "      <th>Date</th>\n",
       "      <th>ticker</th>\n",
       "      <th>closing_price</th>\n",
       "      <th>previous_close</th>\n",
       "    </tr>\n",
       "  </thead>\n",
       "  <tbody>\n",
       "    <tr>\n",
       "      <th>0</th>\n",
       "      <td>2018-01-02</td>\n",
       "      <td>aapl</td>\n",
       "      <td>41.188160</td>\n",
       "      <td>NaN</td>\n",
       "    </tr>\n",
       "    <tr>\n",
       "      <th>1</th>\n",
       "      <td>2018-01-03</td>\n",
       "      <td>aapl</td>\n",
       "      <td>41.181000</td>\n",
       "      <td>41.188160</td>\n",
       "    </tr>\n",
       "    <tr>\n",
       "      <th>2</th>\n",
       "      <td>2018-01-04</td>\n",
       "      <td>aapl</td>\n",
       "      <td>41.372276</td>\n",
       "      <td>41.181000</td>\n",
       "    </tr>\n",
       "    <tr>\n",
       "      <th>3</th>\n",
       "      <td>2018-01-05</td>\n",
       "      <td>aapl</td>\n",
       "      <td>41.843311</td>\n",
       "      <td>41.372276</td>\n",
       "    </tr>\n",
       "    <tr>\n",
       "      <th>4</th>\n",
       "      <td>2018-01-08</td>\n",
       "      <td>aapl</td>\n",
       "      <td>41.687897</td>\n",
       "      <td>41.843311</td>\n",
       "    </tr>\n",
       "    <tr>\n",
       "      <th>...</th>\n",
       "      <td>...</td>\n",
       "      <td>...</td>\n",
       "      <td>...</td>\n",
       "      <td>...</td>\n",
       "    </tr>\n",
       "    <tr>\n",
       "      <th>4027</th>\n",
       "      <td>2021-12-27</td>\n",
       "      <td>tsla</td>\n",
       "      <td>1093.939941</td>\n",
       "      <td>1067.000000</td>\n",
       "    </tr>\n",
       "    <tr>\n",
       "      <th>4028</th>\n",
       "      <td>2021-12-28</td>\n",
       "      <td>tsla</td>\n",
       "      <td>1088.469971</td>\n",
       "      <td>1093.939941</td>\n",
       "    </tr>\n",
       "    <tr>\n",
       "      <th>4029</th>\n",
       "      <td>2021-12-29</td>\n",
       "      <td>tsla</td>\n",
       "      <td>1086.189941</td>\n",
       "      <td>1088.469971</td>\n",
       "    </tr>\n",
       "    <tr>\n",
       "      <th>4030</th>\n",
       "      <td>2021-12-30</td>\n",
       "      <td>tsla</td>\n",
       "      <td>1070.339966</td>\n",
       "      <td>1086.189941</td>\n",
       "    </tr>\n",
       "    <tr>\n",
       "      <th>4031</th>\n",
       "      <td>2021-12-31</td>\n",
       "      <td>tsla</td>\n",
       "      <td>1068.619995</td>\n",
       "      <td>1070.339966</td>\n",
       "    </tr>\n",
       "  </tbody>\n",
       "</table>\n",
       "<p>4032 rows × 4 columns</p>\n",
       "</div>"
      ],
      "text/plain": [
       "           Date ticker  closing_price  previous_close\n",
       "0    2018-01-02   aapl      41.188160             NaN\n",
       "1    2018-01-03   aapl      41.181000       41.188160\n",
       "2    2018-01-04   aapl      41.372276       41.181000\n",
       "3    2018-01-05   aapl      41.843311       41.372276\n",
       "4    2018-01-08   aapl      41.687897       41.843311\n",
       "...         ...    ...            ...             ...\n",
       "4027 2021-12-27   tsla    1093.939941     1067.000000\n",
       "4028 2021-12-28   tsla    1088.469971     1093.939941\n",
       "4029 2021-12-29   tsla    1086.189941     1088.469971\n",
       "4030 2021-12-30   tsla    1070.339966     1086.189941\n",
       "4031 2021-12-31   tsla    1068.619995     1070.339966\n",
       "\n",
       "[4032 rows x 4 columns]"
      ]
     },
     "execution_count": 17,
     "metadata": {},
     "output_type": "execute_result"
    },
    {
     "data": {
      "application/javascript": [
       "\n",
       "            setTimeout(function() {\n",
       "                var nbb_cell_id = 17;\n",
       "                var nbb_unformatted_code = \"ex3_pandas = prices.copy()\\n\\nex3_pandas[\\\"previous_close\\\"] = (\\n    ex3_pandas.sort_values(\\\"Date\\\").groupby(\\\"ticker\\\")[\\\"closing_price\\\"].shift(1)\\n)\\n\\nex3_pandas\";\n",
       "                var nbb_formatted_code = \"ex3_pandas = prices.copy()\\n\\nex3_pandas[\\\"previous_close\\\"] = (\\n    ex3_pandas.sort_values(\\\"Date\\\").groupby(\\\"ticker\\\")[\\\"closing_price\\\"].shift(1)\\n)\\n\\nex3_pandas\";\n",
       "                var nbb_cells = Jupyter.notebook.get_cells();\n",
       "                for (var i = 0; i < nbb_cells.length; ++i) {\n",
       "                    if (nbb_cells[i].input_prompt_number == nbb_cell_id) {\n",
       "                        if (nbb_cells[i].get_text() == nbb_unformatted_code) {\n",
       "                             nbb_cells[i].set_text(nbb_formatted_code);\n",
       "                        }\n",
       "                        break;\n",
       "                    }\n",
       "                }\n",
       "            }, 500);\n",
       "            "
      ],
      "text/plain": [
       "<IPython.core.display.Javascript object>"
      ]
     },
     "metadata": {},
     "output_type": "display_data"
    }
   ],
   "source": [
    "ex3_pandas = prices.copy()\n",
    "\n",
    "ex3_pandas[\"previous_close\"] = (\n",
    "    ex3_pandas.sort_values(\"Date\").groupby(\"ticker\")[\"closing_price\"].shift(1)\n",
    ")\n",
    "\n",
    "ex3_pandas"
   ]
  },
  {
   "cell_type": "markdown",
   "id": "91bd8a21",
   "metadata": {},
   "source": [
    "### Example 4: Daily Percentage Return"
   ]
  },
  {
   "cell_type": "markdown",
   "id": "58614cc5",
   "metadata": {},
   "source": [
    "**SQL**\n",
    "\n",
    "In order to calculate the daily return we need to calculate the previous close in a subquery (or CTE) and then use that value to calculate the percentage change increase or daily return."
   ]
  },
  {
   "cell_type": "code",
   "execution_count": 18,
   "id": "c3e2589b",
   "metadata": {},
   "outputs": [
    {
     "data": {
      "application/javascript": [
       "\n",
       "            setTimeout(function() {\n",
       "                var nbb_cell_id = 18;\n",
       "                var nbb_unformatted_code = \"ex4_sql_query = \\\"\\\"\\\"\\nSELECT\\n    Date\\n    , ticker\\n    , closing_price\\n    , closing_price/previous_close - 1 AS daily_return\\nFROM\\n    (\\n    SELECT \\n         date(Date) AS Date\\n        , ticker\\n        , closing_price\\n        , LAG(closing_price,1) OVER(\\n            PARTITION BY ticker ORDER BY date(Date)\\n        ) AS previous_close\\n    FROM\\n        prices\\n)\\n\\\"\\\"\\\"\";\n",
       "                var nbb_formatted_code = \"ex4_sql_query = \\\"\\\"\\\"\\nSELECT\\n    Date\\n    , ticker\\n    , closing_price\\n    , closing_price/previous_close - 1 AS daily_return\\nFROM\\n    (\\n    SELECT \\n         date(Date) AS Date\\n        , ticker\\n        , closing_price\\n        , LAG(closing_price,1) OVER(\\n            PARTITION BY ticker ORDER BY date(Date)\\n        ) AS previous_close\\n    FROM\\n        prices\\n)\\n\\\"\\\"\\\"\";\n",
       "                var nbb_cells = Jupyter.notebook.get_cells();\n",
       "                for (var i = 0; i < nbb_cells.length; ++i) {\n",
       "                    if (nbb_cells[i].input_prompt_number == nbb_cell_id) {\n",
       "                        if (nbb_cells[i].get_text() == nbb_unformatted_code) {\n",
       "                             nbb_cells[i].set_text(nbb_formatted_code);\n",
       "                        }\n",
       "                        break;\n",
       "                    }\n",
       "                }\n",
       "            }, 500);\n",
       "            "
      ],
      "text/plain": [
       "<IPython.core.display.Javascript object>"
      ]
     },
     "metadata": {},
     "output_type": "display_data"
    }
   ],
   "source": [
    "ex4_sql_query = \"\"\"\n",
    "SELECT\n",
    "    Date\n",
    "    , ticker\n",
    "    , closing_price\n",
    "    , closing_price/previous_close - 1 AS daily_return\n",
    "FROM\n",
    "    (\n",
    "    SELECT\n",
    "         date(Date) AS Date\n",
    "        , ticker\n",
    "        , closing_price\n",
    "        , LAG(closing_price,1) OVER(\n",
    "            PARTITION BY ticker ORDER BY date(Date)\n",
    "        ) AS previous_close\n",
    "    FROM\n",
    "        prices\n",
    ")\n",
    "\"\"\""
   ]
  },
  {
   "cell_type": "code",
   "execution_count": 19,
   "id": "f14c16fa",
   "metadata": {},
   "outputs": [
    {
     "data": {
      "text/html": [
       "<div>\n",
       "<style scoped>\n",
       "    .dataframe tbody tr th:only-of-type {\n",
       "        vertical-align: middle;\n",
       "    }\n",
       "\n",
       "    .dataframe tbody tr th {\n",
       "        vertical-align: top;\n",
       "    }\n",
       "\n",
       "    .dataframe thead th {\n",
       "        text-align: right;\n",
       "    }\n",
       "</style>\n",
       "<table border=\"1\" class=\"dataframe\">\n",
       "  <thead>\n",
       "    <tr style=\"text-align: right;\">\n",
       "      <th></th>\n",
       "      <th>Date</th>\n",
       "      <th>ticker</th>\n",
       "      <th>closing_price</th>\n",
       "      <th>daily_return</th>\n",
       "    </tr>\n",
       "  </thead>\n",
       "  <tbody>\n",
       "    <tr>\n",
       "      <th>0</th>\n",
       "      <td>2018-01-02</td>\n",
       "      <td>aapl</td>\n",
       "      <td>41.188160</td>\n",
       "      <td>NaN</td>\n",
       "    </tr>\n",
       "    <tr>\n",
       "      <th>1</th>\n",
       "      <td>2018-01-03</td>\n",
       "      <td>aapl</td>\n",
       "      <td>41.181000</td>\n",
       "      <td>-0.000174</td>\n",
       "    </tr>\n",
       "    <tr>\n",
       "      <th>2</th>\n",
       "      <td>2018-01-04</td>\n",
       "      <td>aapl</td>\n",
       "      <td>41.372276</td>\n",
       "      <td>0.004645</td>\n",
       "    </tr>\n",
       "    <tr>\n",
       "      <th>3</th>\n",
       "      <td>2018-01-05</td>\n",
       "      <td>aapl</td>\n",
       "      <td>41.843311</td>\n",
       "      <td>0.011385</td>\n",
       "    </tr>\n",
       "    <tr>\n",
       "      <th>4</th>\n",
       "      <td>2018-01-08</td>\n",
       "      <td>aapl</td>\n",
       "      <td>41.687897</td>\n",
       "      <td>-0.003714</td>\n",
       "    </tr>\n",
       "    <tr>\n",
       "      <th>...</th>\n",
       "      <td>...</td>\n",
       "      <td>...</td>\n",
       "      <td>...</td>\n",
       "      <td>...</td>\n",
       "    </tr>\n",
       "    <tr>\n",
       "      <th>4027</th>\n",
       "      <td>2021-12-27</td>\n",
       "      <td>tsla</td>\n",
       "      <td>1093.939941</td>\n",
       "      <td>0.025248</td>\n",
       "    </tr>\n",
       "    <tr>\n",
       "      <th>4028</th>\n",
       "      <td>2021-12-28</td>\n",
       "      <td>tsla</td>\n",
       "      <td>1088.469971</td>\n",
       "      <td>-0.005000</td>\n",
       "    </tr>\n",
       "    <tr>\n",
       "      <th>4029</th>\n",
       "      <td>2021-12-29</td>\n",
       "      <td>tsla</td>\n",
       "      <td>1086.189941</td>\n",
       "      <td>-0.002095</td>\n",
       "    </tr>\n",
       "    <tr>\n",
       "      <th>4030</th>\n",
       "      <td>2021-12-30</td>\n",
       "      <td>tsla</td>\n",
       "      <td>1070.339966</td>\n",
       "      <td>-0.014592</td>\n",
       "    </tr>\n",
       "    <tr>\n",
       "      <th>4031</th>\n",
       "      <td>2021-12-31</td>\n",
       "      <td>tsla</td>\n",
       "      <td>1068.619995</td>\n",
       "      <td>-0.001607</td>\n",
       "    </tr>\n",
       "  </tbody>\n",
       "</table>\n",
       "<p>4032 rows × 4 columns</p>\n",
       "</div>"
      ],
      "text/plain": [
       "            Date ticker  closing_price  daily_return\n",
       "0     2018-01-02   aapl      41.188160           NaN\n",
       "1     2018-01-03   aapl      41.181000     -0.000174\n",
       "2     2018-01-04   aapl      41.372276      0.004645\n",
       "3     2018-01-05   aapl      41.843311      0.011385\n",
       "4     2018-01-08   aapl      41.687897     -0.003714\n",
       "...          ...    ...            ...           ...\n",
       "4027  2021-12-27   tsla    1093.939941      0.025248\n",
       "4028  2021-12-28   tsla    1088.469971     -0.005000\n",
       "4029  2021-12-29   tsla    1086.189941     -0.002095\n",
       "4030  2021-12-30   tsla    1070.339966     -0.014592\n",
       "4031  2021-12-31   tsla    1068.619995     -0.001607\n",
       "\n",
       "[4032 rows x 4 columns]"
      ]
     },
     "execution_count": 19,
     "metadata": {},
     "output_type": "execute_result"
    },
    {
     "data": {
      "application/javascript": [
       "\n",
       "            setTimeout(function() {\n",
       "                var nbb_cell_id = 19;\n",
       "                var nbb_unformatted_code = \"ex4_sql = pd.read_sql(ex4_sql_query, con=conn)\\nex4_sql\";\n",
       "                var nbb_formatted_code = \"ex4_sql = pd.read_sql(ex4_sql_query, con=conn)\\nex4_sql\";\n",
       "                var nbb_cells = Jupyter.notebook.get_cells();\n",
       "                for (var i = 0; i < nbb_cells.length; ++i) {\n",
       "                    if (nbb_cells[i].input_prompt_number == nbb_cell_id) {\n",
       "                        if (nbb_cells[i].get_text() == nbb_unformatted_code) {\n",
       "                             nbb_cells[i].set_text(nbb_formatted_code);\n",
       "                        }\n",
       "                        break;\n",
       "                    }\n",
       "                }\n",
       "            }, 500);\n",
       "            "
      ],
      "text/plain": [
       "<IPython.core.display.Javascript object>"
      ]
     },
     "metadata": {},
     "output_type": "display_data"
    }
   ],
   "source": [
    "ex4_sql = pd.read_sql(ex4_sql_query, con=conn)\n",
    "ex4_sql"
   ]
  },
  {
   "cell_type": "markdown",
   "id": "8723469b",
   "metadata": {},
   "source": [
    "**Pandas**\n",
    "\n",
    "Here we can use the lambda function syntax to apply a more complex calculation to each group."
   ]
  },
  {
   "cell_type": "code",
   "execution_count": 20,
   "id": "e3170b98",
   "metadata": {},
   "outputs": [
    {
     "data": {
      "text/html": [
       "<div>\n",
       "<style scoped>\n",
       "    .dataframe tbody tr th:only-of-type {\n",
       "        vertical-align: middle;\n",
       "    }\n",
       "\n",
       "    .dataframe tbody tr th {\n",
       "        vertical-align: top;\n",
       "    }\n",
       "\n",
       "    .dataframe thead th {\n",
       "        text-align: right;\n",
       "    }\n",
       "</style>\n",
       "<table border=\"1\" class=\"dataframe\">\n",
       "  <thead>\n",
       "    <tr style=\"text-align: right;\">\n",
       "      <th></th>\n",
       "      <th>Date</th>\n",
       "      <th>ticker</th>\n",
       "      <th>closing_price</th>\n",
       "      <th>daily_return</th>\n",
       "    </tr>\n",
       "  </thead>\n",
       "  <tbody>\n",
       "    <tr>\n",
       "      <th>0</th>\n",
       "      <td>2018-01-02</td>\n",
       "      <td>aapl</td>\n",
       "      <td>41.188160</td>\n",
       "      <td>NaN</td>\n",
       "    </tr>\n",
       "    <tr>\n",
       "      <th>1</th>\n",
       "      <td>2018-01-03</td>\n",
       "      <td>aapl</td>\n",
       "      <td>41.181000</td>\n",
       "      <td>-0.000174</td>\n",
       "    </tr>\n",
       "    <tr>\n",
       "      <th>2</th>\n",
       "      <td>2018-01-04</td>\n",
       "      <td>aapl</td>\n",
       "      <td>41.372276</td>\n",
       "      <td>0.004645</td>\n",
       "    </tr>\n",
       "    <tr>\n",
       "      <th>3</th>\n",
       "      <td>2018-01-05</td>\n",
       "      <td>aapl</td>\n",
       "      <td>41.843311</td>\n",
       "      <td>0.011385</td>\n",
       "    </tr>\n",
       "    <tr>\n",
       "      <th>4</th>\n",
       "      <td>2018-01-08</td>\n",
       "      <td>aapl</td>\n",
       "      <td>41.687897</td>\n",
       "      <td>-0.003714</td>\n",
       "    </tr>\n",
       "    <tr>\n",
       "      <th>...</th>\n",
       "      <td>...</td>\n",
       "      <td>...</td>\n",
       "      <td>...</td>\n",
       "      <td>...</td>\n",
       "    </tr>\n",
       "    <tr>\n",
       "      <th>4027</th>\n",
       "      <td>2021-12-27</td>\n",
       "      <td>tsla</td>\n",
       "      <td>1093.939941</td>\n",
       "      <td>0.025248</td>\n",
       "    </tr>\n",
       "    <tr>\n",
       "      <th>4028</th>\n",
       "      <td>2021-12-28</td>\n",
       "      <td>tsla</td>\n",
       "      <td>1088.469971</td>\n",
       "      <td>-0.005000</td>\n",
       "    </tr>\n",
       "    <tr>\n",
       "      <th>4029</th>\n",
       "      <td>2021-12-29</td>\n",
       "      <td>tsla</td>\n",
       "      <td>1086.189941</td>\n",
       "      <td>-0.002095</td>\n",
       "    </tr>\n",
       "    <tr>\n",
       "      <th>4030</th>\n",
       "      <td>2021-12-30</td>\n",
       "      <td>tsla</td>\n",
       "      <td>1070.339966</td>\n",
       "      <td>-0.014592</td>\n",
       "    </tr>\n",
       "    <tr>\n",
       "      <th>4031</th>\n",
       "      <td>2021-12-31</td>\n",
       "      <td>tsla</td>\n",
       "      <td>1068.619995</td>\n",
       "      <td>-0.001607</td>\n",
       "    </tr>\n",
       "  </tbody>\n",
       "</table>\n",
       "<p>4032 rows × 4 columns</p>\n",
       "</div>"
      ],
      "text/plain": [
       "           Date ticker  closing_price  daily_return\n",
       "0    2018-01-02   aapl      41.188160           NaN\n",
       "1    2018-01-03   aapl      41.181000     -0.000174\n",
       "2    2018-01-04   aapl      41.372276      0.004645\n",
       "3    2018-01-05   aapl      41.843311      0.011385\n",
       "4    2018-01-08   aapl      41.687897     -0.003714\n",
       "...         ...    ...            ...           ...\n",
       "4027 2021-12-27   tsla    1093.939941      0.025248\n",
       "4028 2021-12-28   tsla    1088.469971     -0.005000\n",
       "4029 2021-12-29   tsla    1086.189941     -0.002095\n",
       "4030 2021-12-30   tsla    1070.339966     -0.014592\n",
       "4031 2021-12-31   tsla    1068.619995     -0.001607\n",
       "\n",
       "[4032 rows x 4 columns]"
      ]
     },
     "execution_count": 20,
     "metadata": {},
     "output_type": "execute_result"
    },
    {
     "data": {
      "application/javascript": [
       "\n",
       "            setTimeout(function() {\n",
       "                var nbb_cell_id = 20;\n",
       "                var nbb_unformatted_code = \"ex4_pandas = prices.copy()\\n\\nex4_pandas[\\\"daily_return\\\"] = (\\n    ex4_pandas.sort_values(\\\"Date\\\")\\n    .groupby(\\\"ticker\\\")[\\\"closing_price\\\"]\\n    .transform(lambda x: x / x.shift(1) - 1)\\n)\\n\\nex4_pandas\";\n",
       "                var nbb_formatted_code = \"ex4_pandas = prices.copy()\\n\\nex4_pandas[\\\"daily_return\\\"] = (\\n    ex4_pandas.sort_values(\\\"Date\\\")\\n    .groupby(\\\"ticker\\\")[\\\"closing_price\\\"]\\n    .transform(lambda x: x / x.shift(1) - 1)\\n)\\n\\nex4_pandas\";\n",
       "                var nbb_cells = Jupyter.notebook.get_cells();\n",
       "                for (var i = 0; i < nbb_cells.length; ++i) {\n",
       "                    if (nbb_cells[i].input_prompt_number == nbb_cell_id) {\n",
       "                        if (nbb_cells[i].get_text() == nbb_unformatted_code) {\n",
       "                             nbb_cells[i].set_text(nbb_formatted_code);\n",
       "                        }\n",
       "                        break;\n",
       "                    }\n",
       "                }\n",
       "            }, 500);\n",
       "            "
      ],
      "text/plain": [
       "<IPython.core.display.Javascript object>"
      ]
     },
     "metadata": {},
     "output_type": "display_data"
    }
   ],
   "source": [
    "ex4_pandas = prices.copy()\n",
    "\n",
    "ex4_pandas[\"daily_return\"] = (\n",
    "    ex4_pandas.sort_values(\"Date\")\n",
    "    .groupby(\"ticker\")[\"closing_price\"]\n",
    "    .transform(lambda x: x / x.shift(1) - 1)\n",
    ")\n",
    "\n",
    "ex4_pandas"
   ]
  },
  {
   "cell_type": "code",
   "execution_count": 21,
   "id": "dd540dd5",
   "metadata": {},
   "outputs": [
    {
     "data": {
      "application/javascript": [
       "\n",
       "            setTimeout(function() {\n",
       "                var nbb_cell_id = 21;\n",
       "                var nbb_unformatted_code = \"# verify that the output of sql and pandas functions were the same\\nassert all(\\n    ex4_sql.daily_return.fillna(0).values == ex4_pandas.daily_return.fillna(0).values\\n)\";\n",
       "                var nbb_formatted_code = \"# verify that the output of sql and pandas functions were the same\\nassert all(\\n    ex4_sql.daily_return.fillna(0).values == ex4_pandas.daily_return.fillna(0).values\\n)\";\n",
       "                var nbb_cells = Jupyter.notebook.get_cells();\n",
       "                for (var i = 0; i < nbb_cells.length; ++i) {\n",
       "                    if (nbb_cells[i].input_prompt_number == nbb_cell_id) {\n",
       "                        if (nbb_cells[i].get_text() == nbb_unformatted_code) {\n",
       "                             nbb_cells[i].set_text(nbb_formatted_code);\n",
       "                        }\n",
       "                        break;\n",
       "                    }\n",
       "                }\n",
       "            }, 500);\n",
       "            "
      ],
      "text/plain": [
       "<IPython.core.display.Javascript object>"
      ]
     },
     "metadata": {},
     "output_type": "display_data"
    }
   ],
   "source": [
    "# verify that the output of sql and pandas functions were the same\n",
    "assert all(\n",
    "    ex4_sql.daily_return.fillna(0).values == ex4_pandas.daily_return.fillna(0).values\n",
    ")"
   ]
  },
  {
   "cell_type": "markdown",
   "id": "445ed211",
   "metadata": {},
   "source": [
    "### Example 5: Missing Data Interpolation"
   ]
  },
  {
   "cell_type": "markdown",
   "id": "c34b1ff6",
   "metadata": {},
   "source": [
    "**Pandas**\n",
    "\n",
    "For last this example we will just use Pandas to demonstrate how to use window type functions to interpolate missing data. \n",
    "\n",
    "First we randomly remove some data to simulate missing data in a real world dataset.\n",
    "\n",
    "We can then use interpolation or imputation functions to fill in the gaps within each group with a quantity that makes the most sense for the situation. For our use case we will use the 'forward fill' method to impute the value of the previous closing price if the data is missing. "
   ]
  },
  {
   "cell_type": "code",
   "execution_count": 22,
   "id": "37596b1d",
   "metadata": {},
   "outputs": [
    {
     "data": {
      "application/javascript": [
       "\n",
       "            setTimeout(function() {\n",
       "                var nbb_cell_id = 22;\n",
       "                var nbb_unformatted_code = \"# copy orginal dataframe\\nex5_pandas = prices.copy()\\n\\n# remove 30% of data randomly\\npct_missing = 0.3\\nnum_missing = int(pct_missing * len(ex5_pandas))\\nindexes = random.sample(range(len(ex5_pandas)), k=num_missing)\\nmask = [i in indexes for i in range(len(ex5_pandas))]\";\n",
       "                var nbb_formatted_code = \"# copy orginal dataframe\\nex5_pandas = prices.copy()\\n\\n# remove 30% of data randomly\\npct_missing = 0.3\\nnum_missing = int(pct_missing * len(ex5_pandas))\\nindexes = random.sample(range(len(ex5_pandas)), k=num_missing)\\nmask = [i in indexes for i in range(len(ex5_pandas))]\";\n",
       "                var nbb_cells = Jupyter.notebook.get_cells();\n",
       "                for (var i = 0; i < nbb_cells.length; ++i) {\n",
       "                    if (nbb_cells[i].input_prompt_number == nbb_cell_id) {\n",
       "                        if (nbb_cells[i].get_text() == nbb_unformatted_code) {\n",
       "                             nbb_cells[i].set_text(nbb_formatted_code);\n",
       "                        }\n",
       "                        break;\n",
       "                    }\n",
       "                }\n",
       "            }, 500);\n",
       "            "
      ],
      "text/plain": [
       "<IPython.core.display.Javascript object>"
      ]
     },
     "metadata": {},
     "output_type": "display_data"
    }
   ],
   "source": [
    "# copy orginal dataframe\n",
    "ex5_pandas = prices.copy()\n",
    "\n",
    "# remove 30% of data randomly\n",
    "pct_missing = 0.3\n",
    "num_missing = int(pct_missing * len(ex5_pandas))\n",
    "indexes = random.sample(range(len(ex5_pandas)), k=num_missing)\n",
    "mask = [i in indexes for i in range(len(ex5_pandas))]"
   ]
  },
  {
   "cell_type": "code",
   "execution_count": 23,
   "id": "65030ae9",
   "metadata": {},
   "outputs": [
    {
     "data": {
      "application/javascript": [
       "\n",
       "            setTimeout(function() {\n",
       "                var nbb_cell_id = 23;\n",
       "                var nbb_unformatted_code = \"# mask the dataframe with some random NaNs\\nex5_pandas[\\\"closing_price\\\"] = ex5_pandas[\\\"closing_price\\\"].mask(mask)\";\n",
       "                var nbb_formatted_code = \"# mask the dataframe with some random NaNs\\nex5_pandas[\\\"closing_price\\\"] = ex5_pandas[\\\"closing_price\\\"].mask(mask)\";\n",
       "                var nbb_cells = Jupyter.notebook.get_cells();\n",
       "                for (var i = 0; i < nbb_cells.length; ++i) {\n",
       "                    if (nbb_cells[i].input_prompt_number == nbb_cell_id) {\n",
       "                        if (nbb_cells[i].get_text() == nbb_unformatted_code) {\n",
       "                             nbb_cells[i].set_text(nbb_formatted_code);\n",
       "                        }\n",
       "                        break;\n",
       "                    }\n",
       "                }\n",
       "            }, 500);\n",
       "            "
      ],
      "text/plain": [
       "<IPython.core.display.Javascript object>"
      ]
     },
     "metadata": {},
     "output_type": "display_data"
    }
   ],
   "source": [
    "# mask the dataframe with some random NaNs\n",
    "ex5_pandas[\"closing_price\"] = ex5_pandas[\"closing_price\"].mask(mask)"
   ]
  },
  {
   "cell_type": "code",
   "execution_count": 24,
   "id": "78316e53",
   "metadata": {},
   "outputs": [
    {
     "data": {
      "text/html": [
       "<div>\n",
       "<style scoped>\n",
       "    .dataframe tbody tr th:only-of-type {\n",
       "        vertical-align: middle;\n",
       "    }\n",
       "\n",
       "    .dataframe tbody tr th {\n",
       "        vertical-align: top;\n",
       "    }\n",
       "\n",
       "    .dataframe thead th {\n",
       "        text-align: right;\n",
       "    }\n",
       "</style>\n",
       "<table border=\"1\" class=\"dataframe\">\n",
       "  <thead>\n",
       "    <tr style=\"text-align: right;\">\n",
       "      <th></th>\n",
       "      <th>Date</th>\n",
       "      <th>ticker</th>\n",
       "      <th>closing_price</th>\n",
       "      <th>closing_price_interpolated</th>\n",
       "    </tr>\n",
       "  </thead>\n",
       "  <tbody>\n",
       "    <tr>\n",
       "      <th>0</th>\n",
       "      <td>2018-01-02</td>\n",
       "      <td>aapl</td>\n",
       "      <td>41.188160</td>\n",
       "      <td>41.188160</td>\n",
       "    </tr>\n",
       "    <tr>\n",
       "      <th>1</th>\n",
       "      <td>2018-01-03</td>\n",
       "      <td>aapl</td>\n",
       "      <td>41.181000</td>\n",
       "      <td>41.181000</td>\n",
       "    </tr>\n",
       "    <tr>\n",
       "      <th>2</th>\n",
       "      <td>2018-01-04</td>\n",
       "      <td>aapl</td>\n",
       "      <td>41.372276</td>\n",
       "      <td>41.372276</td>\n",
       "    </tr>\n",
       "    <tr>\n",
       "      <th>3</th>\n",
       "      <td>2018-01-05</td>\n",
       "      <td>aapl</td>\n",
       "      <td>NaN</td>\n",
       "      <td>41.372276</td>\n",
       "    </tr>\n",
       "    <tr>\n",
       "      <th>4</th>\n",
       "      <td>2018-01-08</td>\n",
       "      <td>aapl</td>\n",
       "      <td>41.687897</td>\n",
       "      <td>41.687897</td>\n",
       "    </tr>\n",
       "    <tr>\n",
       "      <th>...</th>\n",
       "      <td>...</td>\n",
       "      <td>...</td>\n",
       "      <td>...</td>\n",
       "      <td>...</td>\n",
       "    </tr>\n",
       "    <tr>\n",
       "      <th>4027</th>\n",
       "      <td>2021-12-27</td>\n",
       "      <td>tsla</td>\n",
       "      <td>NaN</td>\n",
       "      <td>1067.000000</td>\n",
       "    </tr>\n",
       "    <tr>\n",
       "      <th>4028</th>\n",
       "      <td>2021-12-28</td>\n",
       "      <td>tsla</td>\n",
       "      <td>1088.469971</td>\n",
       "      <td>1088.469971</td>\n",
       "    </tr>\n",
       "    <tr>\n",
       "      <th>4029</th>\n",
       "      <td>2021-12-29</td>\n",
       "      <td>tsla</td>\n",
       "      <td>1086.189941</td>\n",
       "      <td>1086.189941</td>\n",
       "    </tr>\n",
       "    <tr>\n",
       "      <th>4030</th>\n",
       "      <td>2021-12-30</td>\n",
       "      <td>tsla</td>\n",
       "      <td>NaN</td>\n",
       "      <td>1086.189941</td>\n",
       "    </tr>\n",
       "    <tr>\n",
       "      <th>4031</th>\n",
       "      <td>2021-12-31</td>\n",
       "      <td>tsla</td>\n",
       "      <td>NaN</td>\n",
       "      <td>1086.189941</td>\n",
       "    </tr>\n",
       "  </tbody>\n",
       "</table>\n",
       "<p>4032 rows × 4 columns</p>\n",
       "</div>"
      ],
      "text/plain": [
       "           Date ticker  closing_price  closing_price_interpolated\n",
       "0    2018-01-02   aapl      41.188160                   41.188160\n",
       "1    2018-01-03   aapl      41.181000                   41.181000\n",
       "2    2018-01-04   aapl      41.372276                   41.372276\n",
       "3    2018-01-05   aapl            NaN                   41.372276\n",
       "4    2018-01-08   aapl      41.687897                   41.687897\n",
       "...         ...    ...            ...                         ...\n",
       "4027 2021-12-27   tsla            NaN                 1067.000000\n",
       "4028 2021-12-28   tsla    1088.469971                 1088.469971\n",
       "4029 2021-12-29   tsla    1086.189941                 1086.189941\n",
       "4030 2021-12-30   tsla            NaN                 1086.189941\n",
       "4031 2021-12-31   tsla            NaN                 1086.189941\n",
       "\n",
       "[4032 rows x 4 columns]"
      ]
     },
     "execution_count": 24,
     "metadata": {},
     "output_type": "execute_result"
    },
    {
     "data": {
      "application/javascript": [
       "\n",
       "            setTimeout(function() {\n",
       "                var nbb_cell_id = 24;\n",
       "                var nbb_unformatted_code = \"# interpolate missing data paritioned by ticker\\nex5_pandas[\\\"closing_price_interpolated\\\"] = (\\n    ex5_pandas.sort_values(\\\"Date\\\")\\n    .groupby(\\\"ticker\\\")[\\\"closing_price\\\"]\\n    .transform(lambda x: x.interpolate(method=\\\"ffill\\\"))\\n)\\n\\nex5_pandas\";\n",
       "                var nbb_formatted_code = \"# interpolate missing data paritioned by ticker\\nex5_pandas[\\\"closing_price_interpolated\\\"] = (\\n    ex5_pandas.sort_values(\\\"Date\\\")\\n    .groupby(\\\"ticker\\\")[\\\"closing_price\\\"]\\n    .transform(lambda x: x.interpolate(method=\\\"ffill\\\"))\\n)\\n\\nex5_pandas\";\n",
       "                var nbb_cells = Jupyter.notebook.get_cells();\n",
       "                for (var i = 0; i < nbb_cells.length; ++i) {\n",
       "                    if (nbb_cells[i].input_prompt_number == nbb_cell_id) {\n",
       "                        if (nbb_cells[i].get_text() == nbb_unformatted_code) {\n",
       "                             nbb_cells[i].set_text(nbb_formatted_code);\n",
       "                        }\n",
       "                        break;\n",
       "                    }\n",
       "                }\n",
       "            }, 500);\n",
       "            "
      ],
      "text/plain": [
       "<IPython.core.display.Javascript object>"
      ]
     },
     "metadata": {},
     "output_type": "display_data"
    }
   ],
   "source": [
    "# interpolate missing data paritioned by ticker\n",
    "ex5_pandas[\"closing_price_interpolated\"] = (\n",
    "    ex5_pandas.sort_values(\"Date\")\n",
    "    .groupby(\"ticker\")[\"closing_price\"]\n",
    "    .transform(lambda x: x.interpolate(method=\"ffill\"))\n",
    ")\n",
    "\n",
    "ex5_pandas"
   ]
  },
  {
   "cell_type": "code",
   "execution_count": 25,
   "id": "7ae36d7b",
   "metadata": {},
   "outputs": [
    {
     "data": {
      "text/plain": [
       "Date                             0\n",
       "ticker                           0\n",
       "closing_price                 1209\n",
       "closing_price_interpolated       0\n",
       "dtype: int64"
      ]
     },
     "execution_count": 25,
     "metadata": {},
     "output_type": "execute_result"
    },
    {
     "data": {
      "application/javascript": [
       "\n",
       "            setTimeout(function() {\n",
       "                var nbb_cell_id = 25;\n",
       "                var nbb_unformatted_code = \"# verify there is no missing data in the new column\\nex5_pandas.isnull().sum()\";\n",
       "                var nbb_formatted_code = \"# verify there is no missing data in the new column\\nex5_pandas.isnull().sum()\";\n",
       "                var nbb_cells = Jupyter.notebook.get_cells();\n",
       "                for (var i = 0; i < nbb_cells.length; ++i) {\n",
       "                    if (nbb_cells[i].input_prompt_number == nbb_cell_id) {\n",
       "                        if (nbb_cells[i].get_text() == nbb_unformatted_code) {\n",
       "                             nbb_cells[i].set_text(nbb_formatted_code);\n",
       "                        }\n",
       "                        break;\n",
       "                    }\n",
       "                }\n",
       "            }, 500);\n",
       "            "
      ],
      "text/plain": [
       "<IPython.core.display.Javascript object>"
      ]
     },
     "metadata": {},
     "output_type": "display_data"
    }
   ],
   "source": [
    "# verify there is no missing data in the new column\n",
    "ex5_pandas.isnull().sum()"
   ]
  },
  {
   "cell_type": "markdown",
   "id": "abb91d77",
   "metadata": {},
   "source": [
    "## Conclusion\n",
    "\n",
    "It is an important skill as a data scientist to be flexible enough to be able to carry out data transformation in either SQL or Pandas when completing data analysis.\n",
    "\n",
    "Sometimes it is easier in one language than another to express the data transformation you want, but it is important to understand how common data transformations, such as window functions, can be achieved in either language.\n",
    "\n",
    "The `transform` function in Pandas can be used to achieve SQL window function like transformations on Pandas dataframes and is a great addition to your tool box.\n",
    "\n",
    "Happy coding!"
   ]
  },
  {
   "cell_type": "code",
   "execution_count": null,
   "id": "c56a615d",
   "metadata": {},
   "outputs": [],
   "source": []
  }
 ],
 "metadata": {
  "kernelspec": {
   "display_name": "Python 3 (ipykernel)",
   "language": "python",
   "name": "python3"
  },
  "language_info": {
   "codemirror_mode": {
    "name": "ipython",
    "version": 3
   },
   "file_extension": ".py",
   "mimetype": "text/x-python",
   "name": "python",
   "nbconvert_exporter": "python",
   "pygments_lexer": "ipython3",
   "version": "3.10.0"
  }
 },
 "nbformat": 4,
 "nbformat_minor": 5
}
