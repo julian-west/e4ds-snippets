{
 "cells": [
  {
   "cell_type": "markdown",
   "id": "3350a7bd",
   "metadata": {},
   "source": [
    "# Pandas .transform: SQL-Like Window functions in Pandas\n",
    "\n",
    "**1st January 2022**"
   ]
  },
  {
   "cell_type": "markdown",
   "id": "86282da1",
   "metadata": {},
   "source": [
    "Being able to slice and dice data using Pandas is a key skillset of any Data Scientist.\n",
    "\n",
    "Data Scientists will typically work with both SQL and Pandas for transforming data, depending on the specific use case. For example, using SQL when working with a data warehouse to create new tables or views of the data and using Pandas perhaps for a more exploratory data analysis/visualisation workflow.\n",
    "\n",
    "It is important to be fluent with both SQL and Pandas syntax to be able to seemlessly transform your data for the business question you are trying to answer.\n",
    "\n",
    "However, there are cases where carrying out certain transformation are easier to remember in one language than the other. This can be frustrating and a productivity killer.\n",
    "\n",
    "For me, this seems to always happen when trying to carry out transformations involving [Window Functions](https://www.sqlite.org/windowfunctions.html#:~:text=A%20window%20function%20is%20an,it%20is%20a%20window%20function.) using Pandas. I don't know what it is, but I find the SQL syntax for window functions to be much cleaner and easier to remember.\n",
    "\n",
    "In this post, I will describe the differences between SQL and Pandas syntax for applying window functions to different partitions of your data.\n"
   ]
  },
  {
   "cell_type": "markdown",
   "id": "cf75f826",
   "metadata": {},
   "source": [
    "## What is a Window Function?\n",
    "\n",
    "\"A window function performs a calculation across a set of table rows that are somehow related to the current row.\" [Postgres documentation](https://www.postgresql.org/docs/9.1/tutorial-window.html)\n",
    "\n",
    "This is similar to a general 'aggregation' function (such as sum, mean, rolling sum etc.), however, the window function result returns a table/dataframe of the same length as the original, rather than a single row.\n",
    "\n",
    "You can think of it as running multiple aggregations or calculations on different cross sections of the data, but then joining them back up together."
   ]
  },
  {
   "cell_type": "markdown",
   "id": "0fb39061",
   "metadata": {},
   "source": [
    "## When would you use a Window Function?\n",
    "\n",
    "Window functions are useful for calculating quantities that rely on other values within the same group.\n",
    "\n",
    "For example, image you have a table containing the salaries of employees in different departments. One question you might want to answer is: what is the difference between each person's salary compared to the average of *their* department. To answer the question we would need to calculate the average salary for each department and then substract this number from the salary of each employee depending on the department they belong to. A window function would be perfect for this as it can calculate aggregations against partitions in the data (in this case the different departments)...\n",
    "\n",
    "\n",
    "\n",
    "For example, calculating the cumulative sales over the month for each product a company sells. Here, we need to calculate the running sum for each product, the value of which only relies on the sales of that product. This is a perfect usecase for window functions. "
   ]
  },
  {
   "cell_type": "markdown",
   "id": "514a4501",
   "metadata": {},
   "source": [
    "---\n",
    "\n",
    "# Code"
   ]
  },
  {
   "cell_type": "markdown",
   "id": "706aa5ab",
   "metadata": {},
   "source": [
    "## Setup\n",
    "\n",
    "**Install requirements if necessary**"
   ]
  },
  {
   "cell_type": "code",
   "execution_count": 1,
   "id": "59b210ab",
   "metadata": {},
   "outputs": [],
   "source": [
    "# install requirements if necessary\n",
    "# ! pip install matplotlib pandas ffn nb_black"
   ]
  },
  {
   "cell_type": "code",
   "execution_count": 2,
   "id": "14a639fc",
   "metadata": {},
   "outputs": [],
   "source": [
    "import datetime\n",
    "\n",
    "import ffn\n",
    "import matplotlib.pyplot as plt\n",
    "\n",
    "import pandas as pd"
   ]
  },
  {
   "cell_type": "code",
   "execution_count": 3,
   "id": "a0d70dae",
   "metadata": {},
   "outputs": [
    {
     "data": {
      "application/javascript": [
       "\n",
       "            setTimeout(function() {\n",
       "                var nbb_cell_id = 3;\n",
       "                var nbb_unformatted_code = \"%load_ext nb_black\\n%matplotlib inline\";\n",
       "                var nbb_formatted_code = \"%load_ext nb_black\\n%matplotlib inline\";\n",
       "                var nbb_cells = Jupyter.notebook.get_cells();\n",
       "                for (var i = 0; i < nbb_cells.length; ++i) {\n",
       "                    if (nbb_cells[i].input_prompt_number == nbb_cell_id) {\n",
       "                        if (nbb_cells[i].get_text() == nbb_unformatted_code) {\n",
       "                             nbb_cells[i].set_text(nbb_formatted_code);\n",
       "                        }\n",
       "                        break;\n",
       "                    }\n",
       "                }\n",
       "            }, 500);\n",
       "            "
      ],
      "text/plain": [
       "<IPython.core.display.Javascript object>"
      ]
     },
     "metadata": {},
     "output_type": "display_data"
    }
   ],
   "source": [
    "%load_ext nb_black\n",
    "%matplotlib inline"
   ]
  },
  {
   "cell_type": "markdown",
   "id": "8dff486a",
   "metadata": {},
   "source": [
    "**Collect Data**\n",
    "\n",
    "To demonstrate window function transformations we will use a dataset of daily stock prices of some popular companies.\n",
    "\n",
    "We will use on of my favourite libraries for financial analysis -- the [ffn](https://pmorissette.github.io/ffn/) library -- to collect the data."
   ]
  },
  {
   "cell_type": "code",
   "execution_count": 4,
   "id": "d26e2d0e",
   "metadata": {},
   "outputs": [
    {
     "data": {
      "text/html": [
       "<div>\n",
       "<style scoped>\n",
       "    .dataframe tbody tr th:only-of-type {\n",
       "        vertical-align: middle;\n",
       "    }\n",
       "\n",
       "    .dataframe tbody tr th {\n",
       "        vertical-align: top;\n",
       "    }\n",
       "\n",
       "    .dataframe thead th {\n",
       "        text-align: right;\n",
       "    }\n",
       "</style>\n",
       "<table border=\"1\" class=\"dataframe\">\n",
       "  <thead>\n",
       "    <tr style=\"text-align: right;\">\n",
       "      <th></th>\n",
       "      <th>Date</th>\n",
       "      <th>ticker</th>\n",
       "      <th>closing_price</th>\n",
       "    </tr>\n",
       "  </thead>\n",
       "  <tbody>\n",
       "    <tr>\n",
       "      <th>1783</th>\n",
       "      <td>2021-02-02</td>\n",
       "      <td>dis</td>\n",
       "      <td>176.960007</td>\n",
       "    </tr>\n",
       "    <tr>\n",
       "      <th>2722</th>\n",
       "      <td>2020-10-23</td>\n",
       "      <td>nke</td>\n",
       "      <td>128.760788</td>\n",
       "    </tr>\n",
       "    <tr>\n",
       "      <th>3180</th>\n",
       "      <td>2018-08-20</td>\n",
       "      <td>tsla</td>\n",
       "      <td>61.688000</td>\n",
       "    </tr>\n",
       "    <tr>\n",
       "      <th>3698</th>\n",
       "      <td>2020-09-10</td>\n",
       "      <td>tsla</td>\n",
       "      <td>371.339996</td>\n",
       "    </tr>\n",
       "    <tr>\n",
       "      <th>3983</th>\n",
       "      <td>2021-10-27</td>\n",
       "      <td>tsla</td>\n",
       "      <td>1037.859985</td>\n",
       "    </tr>\n",
       "  </tbody>\n",
       "</table>\n",
       "</div>"
      ],
      "text/plain": [
       "           Date ticker  closing_price\n",
       "1783 2021-02-02    dis     176.960007\n",
       "2722 2020-10-23    nke     128.760788\n",
       "3180 2018-08-20   tsla      61.688000\n",
       "3698 2020-09-10   tsla     371.339996\n",
       "3983 2021-10-27   tsla    1037.859985"
      ]
     },
     "execution_count": 4,
     "metadata": {},
     "output_type": "execute_result"
    },
    {
     "data": {
      "application/javascript": [
       "\n",
       "            setTimeout(function() {\n",
       "                var nbb_cell_id = 4;\n",
       "                var nbb_unformatted_code = \"tickers = [\\n    \\\"AAPL\\\",  # apple\\n    \\\"DIS\\\",  # disney\\n    \\\"NKE\\\",  # nike\\n    \\\"TSLA\\\",  # tesla\\n]\\nprices = ffn.get(tickers, start=\\\"2018-01-01\\\")\\n\\n# convert data into 'long' table format for purposes of this exercise\\nprices = prices.melt(ignore_index=False, var_name=\\\"ticker\\\", value_name=\\\"closing_price\\\")\\n\\n# reset index to make 'Date' a column\\nprices = prices.reset_index()\\n\\n# example rows in the dataset\\nprices.sample(5).sort_index()\";\n",
       "                var nbb_formatted_code = \"tickers = [\\n    \\\"AAPL\\\",  # apple\\n    \\\"DIS\\\",  # disney\\n    \\\"NKE\\\",  # nike\\n    \\\"TSLA\\\",  # tesla\\n]\\nprices = ffn.get(tickers, start=\\\"2018-01-01\\\")\\n\\n# convert data into 'long' table format for purposes of this exercise\\nprices = prices.melt(ignore_index=False, var_name=\\\"ticker\\\", value_name=\\\"closing_price\\\")\\n\\n# reset index to make 'Date' a column\\nprices = prices.reset_index()\\n\\n# example rows in the dataset\\nprices.sample(5).sort_index()\";\n",
       "                var nbb_cells = Jupyter.notebook.get_cells();\n",
       "                for (var i = 0; i < nbb_cells.length; ++i) {\n",
       "                    if (nbb_cells[i].input_prompt_number == nbb_cell_id) {\n",
       "                        if (nbb_cells[i].get_text() == nbb_unformatted_code) {\n",
       "                             nbb_cells[i].set_text(nbb_formatted_code);\n",
       "                        }\n",
       "                        break;\n",
       "                    }\n",
       "                }\n",
       "            }, 500);\n",
       "            "
      ],
      "text/plain": [
       "<IPython.core.display.Javascript object>"
      ]
     },
     "metadata": {},
     "output_type": "display_data"
    }
   ],
   "source": [
    "tickers = [\n",
    "    \"AAPL\",  # apple\n",
    "    \"DIS\",  # disney\n",
    "    \"NKE\",  # nike\n",
    "    \"TSLA\",  # tesla\n",
    "]\n",
    "prices = ffn.get(tickers, start=\"2018-01-01\")\n",
    "\n",
    "# convert data into 'long' table format for purposes of this exercise\n",
    "prices = prices.melt(ignore_index=False, var_name=\"ticker\", value_name=\"closing_price\")\n",
    "\n",
    "# reset index to make 'Date' a column\n",
    "prices = prices.reset_index()\n",
    "\n",
    "# example rows in the dataset\n",
    "prices.sample(5).sort_index()"
   ]
  },
  {
   "cell_type": "markdown",
   "id": "8d026018",
   "metadata": {},
   "source": [
    "**Save to SQLite Database**\n",
    "\n",
    "In order to demonstrate and compare the SQL syntax to Pandas we will save this data in a simple in memory SQLite database. This allows us to use directly SQL syntax to read and transform the data."
   ]
  },
  {
   "cell_type": "code",
   "execution_count": 5,
   "id": "904b1c7b",
   "metadata": {},
   "outputs": [
    {
     "data": {
      "application/javascript": [
       "\n",
       "            setTimeout(function() {\n",
       "                var nbb_cell_id = 5;\n",
       "                var nbb_unformatted_code = \"import sqlite3\\n\\n# create connection\\nwith sqlite3.connect(\\\":memory:\\\") as conn:\\n\\n    # save prices to sqlite db\\n    prices.to_sql(name=\\\"prices\\\", con=conn, index=False)\";\n",
       "                var nbb_formatted_code = \"import sqlite3\\n\\n# create connection\\nwith sqlite3.connect(\\\":memory:\\\") as conn:\\n\\n    # save prices to sqlite db\\n    prices.to_sql(name=\\\"prices\\\", con=conn, index=False)\";\n",
       "                var nbb_cells = Jupyter.notebook.get_cells();\n",
       "                for (var i = 0; i < nbb_cells.length; ++i) {\n",
       "                    if (nbb_cells[i].input_prompt_number == nbb_cell_id) {\n",
       "                        if (nbb_cells[i].get_text() == nbb_unformatted_code) {\n",
       "                             nbb_cells[i].set_text(nbb_formatted_code);\n",
       "                        }\n",
       "                        break;\n",
       "                    }\n",
       "                }\n",
       "            }, 500);\n",
       "            "
      ],
      "text/plain": [
       "<IPython.core.display.Javascript object>"
      ]
     },
     "metadata": {},
     "output_type": "display_data"
    }
   ],
   "source": [
    "import sqlite3\n",
    "\n",
    "# create connection\n",
    "with sqlite3.connect(\":memory:\") as conn:\n",
    "\n",
    "    # save prices to sqlite db\n",
    "    prices.to_sql(name=\"prices\", con=conn, index=False)"
   ]
  },
  {
   "cell_type": "markdown",
   "id": "a3623218",
   "metadata": {},
   "source": [
    "> Note: SQLite does not have a 'DATE' datatype so we will have to treat the dates as strings when use SQL to demonstrate the transformations"
   ]
  },
  {
   "cell_type": "markdown",
   "id": "7cc31836",
   "metadata": {},
   "source": [
    "## Window functions in SQL\n",
    "\n",
    "Let's start by demonstrating the SQL syntax for window functions.\n",
    "\n",
    "The [Postgres database documentation](https://www.postgresql.org/docs/9.1/tutorial-window.html) has a great tutorial on window functions.\n",
    "\n",
    "To form a window function in SQL you need three parts:\n",
    "- an aggregation function or calculation to apply to the target column (e.g. `SUM()`, `RANK()`)\n",
    "- the `OVER()` keyword\n",
    "- the `PARTITION BY` and/or the `ORDER BY` keyword which defines the groups of the data to apply the aggregation function"
   ]
  },
  {
   "cell_type": "code",
   "execution_count": null,
   "id": "5df302cc",
   "metadata": {},
   "outputs": [],
   "source": []
  },
  {
   "cell_type": "markdown",
   "id": "9819d5a6",
   "metadata": {},
   "source": [
    "## Window Functions in Pandas\n",
    "\n",
    "### .groupby is the basis of  window functions in Pandas\n",
    "\n",
    "I think my confusion when trying to translate SQL window functions to Pandas stems from the fact that you don't use the `GROUP BY` keyword for window functions in SQL. Whereas, in Pandas, the basis of window functions is the [.groupby](https://pandas.pydata.org/docs/reference/api/pandas.DataFrame.groupby.html) function.\n",
    "\n",
    ".groupby in Pandas is analagous to the function of `PARTITION BY` in SQL. The groupby clause in Pandas defines which partitions (groups) in the data the aggregation function should be applied to."
   ]
  },
  {
   "cell_type": "markdown",
   "id": "595b5d52",
   "metadata": {},
   "source": [
    "###  .transform allows you to apply complex transformations"
   ]
  },
  {
   "cell_type": "markdown",
   "id": "e8f444aa",
   "metadata": {},
   "source": [
    "## Examples"
   ]
  },
  {
   "cell_type": "code",
   "execution_count": 6,
   "id": "721dc5a2",
   "metadata": {},
   "outputs": [
    {
     "data": {
      "application/javascript": [
       "\n",
       "            setTimeout(function() {\n",
       "                var nbb_cell_id = 6;\n",
       "                var nbb_unformatted_code = \"# simple window functions (sum, mean, rolling etc.)\";\n",
       "                var nbb_formatted_code = \"# simple window functions (sum, mean, rolling etc.)\";\n",
       "                var nbb_cells = Jupyter.notebook.get_cells();\n",
       "                for (var i = 0; i < nbb_cells.length; ++i) {\n",
       "                    if (nbb_cells[i].input_prompt_number == nbb_cell_id) {\n",
       "                        if (nbb_cells[i].get_text() == nbb_unformatted_code) {\n",
       "                             nbb_cells[i].set_text(nbb_formatted_code);\n",
       "                        }\n",
       "                        break;\n",
       "                    }\n",
       "                }\n",
       "            }, 500);\n",
       "            "
      ],
      "text/plain": [
       "<IPython.core.display.Javascript object>"
      ]
     },
     "metadata": {},
     "output_type": "display_data"
    }
   ],
   "source": [
    "# simple window functions (sum, mean, rolling etc.)"
   ]
  },
  {
   "cell_type": "markdown",
   "id": "f7f307ef",
   "metadata": {},
   "source": [
    "Let's take some examples using the stock prices dataset to compare the differences between window functions in SQL and the equivalent in Pandas.\n",
    "\n",
    "#### Rolling 28 day average for each company\n",
    "\n",
    "**SQL**"
   ]
  },
  {
   "cell_type": "code",
   "execution_count": 7,
   "id": "9515e0e1",
   "metadata": {},
   "outputs": [
    {
     "data": {
      "text/html": [
       "<div>\n",
       "<style scoped>\n",
       "    .dataframe tbody tr th:only-of-type {\n",
       "        vertical-align: middle;\n",
       "    }\n",
       "\n",
       "    .dataframe tbody tr th {\n",
       "        vertical-align: top;\n",
       "    }\n",
       "\n",
       "    .dataframe thead th {\n",
       "        text-align: right;\n",
       "    }\n",
       "</style>\n",
       "<table border=\"1\" class=\"dataframe\">\n",
       "  <thead>\n",
       "    <tr style=\"text-align: right;\">\n",
       "      <th></th>\n",
       "      <th>Date</th>\n",
       "      <th>ticker</th>\n",
       "      <th>closing_price</th>\n",
       "      <th>ma_28_day</th>\n",
       "    </tr>\n",
       "  </thead>\n",
       "  <tbody>\n",
       "    <tr>\n",
       "      <th>0</th>\n",
       "      <td>2018-01-02</td>\n",
       "      <td>aapl</td>\n",
       "      <td>41.188160</td>\n",
       "      <td>41.188160</td>\n",
       "    </tr>\n",
       "    <tr>\n",
       "      <th>1</th>\n",
       "      <td>2018-01-03</td>\n",
       "      <td>aapl</td>\n",
       "      <td>41.180988</td>\n",
       "      <td>41.184574</td>\n",
       "    </tr>\n",
       "    <tr>\n",
       "      <th>2</th>\n",
       "      <td>2018-01-04</td>\n",
       "      <td>aapl</td>\n",
       "      <td>41.372276</td>\n",
       "      <td>41.247142</td>\n",
       "    </tr>\n",
       "    <tr>\n",
       "      <th>3</th>\n",
       "      <td>2018-01-05</td>\n",
       "      <td>aapl</td>\n",
       "      <td>41.843311</td>\n",
       "      <td>41.396184</td>\n",
       "    </tr>\n",
       "    <tr>\n",
       "      <th>4</th>\n",
       "      <td>2018-01-08</td>\n",
       "      <td>aapl</td>\n",
       "      <td>41.687889</td>\n",
       "      <td>41.454525</td>\n",
       "    </tr>\n",
       "    <tr>\n",
       "      <th>...</th>\n",
       "      <td>...</td>\n",
       "      <td>...</td>\n",
       "      <td>...</td>\n",
       "      <td>...</td>\n",
       "    </tr>\n",
       "    <tr>\n",
       "      <th>4023</th>\n",
       "      <td>2021-12-23</td>\n",
       "      <td>tsla</td>\n",
       "      <td>1067.000000</td>\n",
       "      <td>1041.285716</td>\n",
       "    </tr>\n",
       "    <tr>\n",
       "      <th>4024</th>\n",
       "      <td>2021-12-27</td>\n",
       "      <td>tsla</td>\n",
       "      <td>1093.939941</td>\n",
       "      <td>1044.162500</td>\n",
       "    </tr>\n",
       "    <tr>\n",
       "      <th>4025</th>\n",
       "      <td>2021-12-28</td>\n",
       "      <td>tsla</td>\n",
       "      <td>1088.469971</td>\n",
       "      <td>1045.367499</td>\n",
       "    </tr>\n",
       "    <tr>\n",
       "      <th>4026</th>\n",
       "      <td>2021-12-29</td>\n",
       "      <td>tsla</td>\n",
       "      <td>1086.189941</td>\n",
       "      <td>1045.266782</td>\n",
       "    </tr>\n",
       "    <tr>\n",
       "      <th>4027</th>\n",
       "      <td>2021-12-30</td>\n",
       "      <td>tsla</td>\n",
       "      <td>1091.045044</td>\n",
       "      <td>1045.076248</td>\n",
       "    </tr>\n",
       "  </tbody>\n",
       "</table>\n",
       "<p>4028 rows × 4 columns</p>\n",
       "</div>"
      ],
      "text/plain": [
       "            Date ticker  closing_price    ma_28_day\n",
       "0     2018-01-02   aapl      41.188160    41.188160\n",
       "1     2018-01-03   aapl      41.180988    41.184574\n",
       "2     2018-01-04   aapl      41.372276    41.247142\n",
       "3     2018-01-05   aapl      41.843311    41.396184\n",
       "4     2018-01-08   aapl      41.687889    41.454525\n",
       "...          ...    ...            ...          ...\n",
       "4023  2021-12-23   tsla    1067.000000  1041.285716\n",
       "4024  2021-12-27   tsla    1093.939941  1044.162500\n",
       "4025  2021-12-28   tsla    1088.469971  1045.367499\n",
       "4026  2021-12-29   tsla    1086.189941  1045.266782\n",
       "4027  2021-12-30   tsla    1091.045044  1045.076248\n",
       "\n",
       "[4028 rows x 4 columns]"
      ]
     },
     "execution_count": 7,
     "metadata": {},
     "output_type": "execute_result"
    },
    {
     "data": {
      "application/javascript": [
       "\n",
       "            setTimeout(function() {\n",
       "                var nbb_cell_id = 7;\n",
       "                var nbb_unformatted_code = \"seven_day_ma_sql = \\\"\\\"\\\"\\nSELECT\\n    date(Date) as Date\\n    , ticker\\n    , closing_price\\n    , avg(closing_price) OVER(\\n        PARTITION BY ticker\\n        ORDER BY date(Date), ticker\\n        ROWS BETWEEN 27 PRECEDING AND CURRENT ROW\\n    )\\n     as ma_28_day\\nfrom prices\\n\\\"\\\"\\\"\\n\\nsql_ma_result = pd.read_sql(seven_day_ma_sql, con=conn)\\nsql_ma_result\";\n",
       "                var nbb_formatted_code = \"seven_day_ma_sql = \\\"\\\"\\\"\\nSELECT\\n    date(Date) as Date\\n    , ticker\\n    , closing_price\\n    , avg(closing_price) OVER(\\n        PARTITION BY ticker\\n        ORDER BY date(Date), ticker\\n        ROWS BETWEEN 27 PRECEDING AND CURRENT ROW\\n    )\\n     as ma_28_day\\nfrom prices\\n\\\"\\\"\\\"\\n\\nsql_ma_result = pd.read_sql(seven_day_ma_sql, con=conn)\\nsql_ma_result\";\n",
       "                var nbb_cells = Jupyter.notebook.get_cells();\n",
       "                for (var i = 0; i < nbb_cells.length; ++i) {\n",
       "                    if (nbb_cells[i].input_prompt_number == nbb_cell_id) {\n",
       "                        if (nbb_cells[i].get_text() == nbb_unformatted_code) {\n",
       "                             nbb_cells[i].set_text(nbb_formatted_code);\n",
       "                        }\n",
       "                        break;\n",
       "                    }\n",
       "                }\n",
       "            }, 500);\n",
       "            "
      ],
      "text/plain": [
       "<IPython.core.display.Javascript object>"
      ]
     },
     "metadata": {},
     "output_type": "display_data"
    }
   ],
   "source": [
    "seven_day_ma_sql = \"\"\"\n",
    "SELECT\n",
    "    date(Date) as Date\n",
    "    , ticker\n",
    "    , closing_price\n",
    "    , avg(closing_price) OVER(\n",
    "        PARTITION BY ticker\n",
    "        ORDER BY date(Date), ticker\n",
    "        ROWS BETWEEN 27 PRECEDING AND CURRENT ROW\n",
    "    )\n",
    "     as ma_28_day\n",
    "from prices\n",
    "\"\"\"\n",
    "\n",
    "sql_ma_result = pd.read_sql(seven_day_ma_sql, con=conn)\n",
    "sql_ma_result"
   ]
  },
  {
   "cell_type": "code",
   "execution_count": 8,
   "id": "2a628db3",
   "metadata": {},
   "outputs": [
    {
     "data": {
      "image/png": "[encoded data removed]",
      "text/plain": [
       "<Figure size 864x360 with 1 Axes>"
      ]
     },
     "metadata": {
      "needs_background": "light"
     },
     "output_type": "display_data"
    },
    {
     "data": {
      "application/javascript": [
       "\n",
       "            setTimeout(function() {\n",
       "                var nbb_cell_id = 8;\n",
       "                var nbb_unformatted_code = \"# plot the result for tesla to demonstrate output of window function\\ntsla = sql_ma_result[sql_ma_result[\\\"ticker\\\"] == \\\"tsla\\\"]\\n\\nplt.figure(figsize=(12, 5))\\nplt.plot(pd.to_datetime(tsla[\\\"Date\\\"]), tsla[\\\"closing_price\\\"], label=\\\"closing price\\\")\\nplt.plot(pd.to_datetime(tsla[\\\"Date\\\"]), tsla[\\\"ma_28_day\\\"], label=\\\"28 day moving average\\\")\\nplt.xlim(\\n    datetime.date(2021, 1, 1),\\n    datetime.date(2021, 12, 31),\\n)\\nplt.legend()\\nplt.title(\\n    \\\"Tesla closing price and 28 day moving average in 2021\\\",\\n    fontsize=14,\\n    fontweight=\\\"bold\\\",\\n    pad=10,\\n)\\nplt.show()\";\n",
       "                var nbb_formatted_code = \"# plot the result for tesla to demonstrate output of window function\\ntsla = sql_ma_result[sql_ma_result[\\\"ticker\\\"] == \\\"tsla\\\"]\\n\\nplt.figure(figsize=(12, 5))\\nplt.plot(pd.to_datetime(tsla[\\\"Date\\\"]), tsla[\\\"closing_price\\\"], label=\\\"closing price\\\")\\nplt.plot(pd.to_datetime(tsla[\\\"Date\\\"]), tsla[\\\"ma_28_day\\\"], label=\\\"28 day moving average\\\")\\nplt.xlim(\\n    datetime.date(2021, 1, 1),\\n    datetime.date(2021, 12, 31),\\n)\\nplt.legend()\\nplt.title(\\n    \\\"Tesla closing price and 28 day moving average in 2021\\\",\\n    fontsize=14,\\n    fontweight=\\\"bold\\\",\\n    pad=10,\\n)\\nplt.show()\";\n",
       "                var nbb_cells = Jupyter.notebook.get_cells();\n",
       "                for (var i = 0; i < nbb_cells.length; ++i) {\n",
       "                    if (nbb_cells[i].input_prompt_number == nbb_cell_id) {\n",
       "                        if (nbb_cells[i].get_text() == nbb_unformatted_code) {\n",
       "                             nbb_cells[i].set_text(nbb_formatted_code);\n",
       "                        }\n",
       "                        break;\n",
       "                    }\n",
       "                }\n",
       "            }, 500);\n",
       "            "
      ],
      "text/plain": [
       "<IPython.core.display.Javascript object>"
      ]
     },
     "metadata": {},
     "output_type": "display_data"
    }
   ],
   "source": [
    "# plot the result for tesla to demonstrate output of window function\n",
    "tsla = sql_ma_result[sql_ma_result[\"ticker\"] == \"tsla\"]\n",
    "\n",
    "plt.figure(figsize=(12, 5))\n",
    "plt.plot(pd.to_datetime(tsla[\"Date\"]), tsla[\"closing_price\"], label=\"closing price\")\n",
    "plt.plot(pd.to_datetime(tsla[\"Date\"]), tsla[\"ma_28_day\"], label=\"28 day moving average\")\n",
    "plt.xlim(\n",
    "    datetime.date(2021, 1, 1),\n",
    "    datetime.date(2021, 12, 31),\n",
    ")\n",
    "plt.legend()\n",
    "plt.title(\n",
    "    \"Tesla closing price and 28 day moving average in 2021\",\n",
    "    fontsize=14,\n",
    "    fontweight=\"bold\",\n",
    "    pad=10,\n",
    ")\n",
    "plt.show()"
   ]
  },
  {
   "cell_type": "markdown",
   "id": "b06bdf5b",
   "metadata": {},
   "source": [
    "**Pandas**\n",
    "\n",
    "To achieve the same in Pandas we can create a new column in the dataframe ('ma_28_day') using `groupby` and `transform`. We Python's [lambda syntax](https://realpython.com/python-lambda/) to define what function should be applied to each group. In this case we want to use calculate the average (mean) over a 28 row rolling window."
   ]
  },
  {
   "cell_type": "code",
   "execution_count": 9,
   "id": "88c1dea1",
   "metadata": {},
   "outputs": [
    {
     "data": {
      "text/html": [
       "<div>\n",
       "<style scoped>\n",
       "    .dataframe tbody tr th:only-of-type {\n",
       "        vertical-align: middle;\n",
       "    }\n",
       "\n",
       "    .dataframe tbody tr th {\n",
       "        vertical-align: top;\n",
       "    }\n",
       "\n",
       "    .dataframe thead th {\n",
       "        text-align: right;\n",
       "    }\n",
       "</style>\n",
       "<table border=\"1\" class=\"dataframe\">\n",
       "  <thead>\n",
       "    <tr style=\"text-align: right;\">\n",
       "      <th></th>\n",
       "      <th>Date</th>\n",
       "      <th>ticker</th>\n",
       "      <th>closing_price</th>\n",
       "      <th>ma_28_day</th>\n",
       "    </tr>\n",
       "  </thead>\n",
       "  <tbody>\n",
       "    <tr>\n",
       "      <th>0</th>\n",
       "      <td>2018-01-02</td>\n",
       "      <td>aapl</td>\n",
       "      <td>41.188160</td>\n",
       "      <td>41.188160</td>\n",
       "    </tr>\n",
       "    <tr>\n",
       "      <th>1</th>\n",
       "      <td>2018-01-03</td>\n",
       "      <td>aapl</td>\n",
       "      <td>41.180988</td>\n",
       "      <td>41.184574</td>\n",
       "    </tr>\n",
       "    <tr>\n",
       "      <th>2</th>\n",
       "      <td>2018-01-04</td>\n",
       "      <td>aapl</td>\n",
       "      <td>41.372276</td>\n",
       "      <td>41.247142</td>\n",
       "    </tr>\n",
       "    <tr>\n",
       "      <th>3</th>\n",
       "      <td>2018-01-05</td>\n",
       "      <td>aapl</td>\n",
       "      <td>41.843311</td>\n",
       "      <td>41.396184</td>\n",
       "    </tr>\n",
       "    <tr>\n",
       "      <th>4</th>\n",
       "      <td>2018-01-08</td>\n",
       "      <td>aapl</td>\n",
       "      <td>41.687889</td>\n",
       "      <td>41.454525</td>\n",
       "    </tr>\n",
       "    <tr>\n",
       "      <th>...</th>\n",
       "      <td>...</td>\n",
       "      <td>...</td>\n",
       "      <td>...</td>\n",
       "      <td>...</td>\n",
       "    </tr>\n",
       "    <tr>\n",
       "      <th>4023</th>\n",
       "      <td>2021-12-23</td>\n",
       "      <td>tsla</td>\n",
       "      <td>1067.000000</td>\n",
       "      <td>1041.285716</td>\n",
       "    </tr>\n",
       "    <tr>\n",
       "      <th>4024</th>\n",
       "      <td>2021-12-27</td>\n",
       "      <td>tsla</td>\n",
       "      <td>1093.939941</td>\n",
       "      <td>1044.162500</td>\n",
       "    </tr>\n",
       "    <tr>\n",
       "      <th>4025</th>\n",
       "      <td>2021-12-28</td>\n",
       "      <td>tsla</td>\n",
       "      <td>1088.469971</td>\n",
       "      <td>1045.367499</td>\n",
       "    </tr>\n",
       "    <tr>\n",
       "      <th>4026</th>\n",
       "      <td>2021-12-29</td>\n",
       "      <td>tsla</td>\n",
       "      <td>1086.189941</td>\n",
       "      <td>1045.266782</td>\n",
       "    </tr>\n",
       "    <tr>\n",
       "      <th>4027</th>\n",
       "      <td>2021-12-30</td>\n",
       "      <td>tsla</td>\n",
       "      <td>1091.045044</td>\n",
       "      <td>1045.076248</td>\n",
       "    </tr>\n",
       "  </tbody>\n",
       "</table>\n",
       "<p>4028 rows × 4 columns</p>\n",
       "</div>"
      ],
      "text/plain": [
       "           Date ticker  closing_price    ma_28_day\n",
       "0    2018-01-02   aapl      41.188160    41.188160\n",
       "1    2018-01-03   aapl      41.180988    41.184574\n",
       "2    2018-01-04   aapl      41.372276    41.247142\n",
       "3    2018-01-05   aapl      41.843311    41.396184\n",
       "4    2018-01-08   aapl      41.687889    41.454525\n",
       "...         ...    ...            ...          ...\n",
       "4023 2021-12-23   tsla    1067.000000  1041.285716\n",
       "4024 2021-12-27   tsla    1093.939941  1044.162500\n",
       "4025 2021-12-28   tsla    1088.469971  1045.367499\n",
       "4026 2021-12-29   tsla    1086.189941  1045.266782\n",
       "4027 2021-12-30   tsla    1091.045044  1045.076248\n",
       "\n",
       "[4028 rows x 4 columns]"
      ]
     },
     "execution_count": 9,
     "metadata": {},
     "output_type": "execute_result"
    },
    {
     "data": {
      "application/javascript": [
       "\n",
       "            setTimeout(function() {\n",
       "                var nbb_cell_id = 9;\n",
       "                var nbb_unformatted_code = \"# copy original dataframe (optional)\\npd_ma_result = prices.copy()\\n\\n# create new column using groupby and transform\\npd_ma_result[\\\"ma_28_day\\\"] = pd_ma_result.groupby(\\\"ticker\\\")[[\\\"closing_price\\\"]].transform(\\n    lambda group: group.rolling(28, min_periods=1).mean()\\n)\\n\\npd_ma_result\";\n",
       "                var nbb_formatted_code = \"# copy original dataframe (optional)\\npd_ma_result = prices.copy()\\n\\n# create new column using groupby and transform\\npd_ma_result[\\\"ma_28_day\\\"] = pd_ma_result.groupby(\\\"ticker\\\")[[\\\"closing_price\\\"]].transform(\\n    lambda group: group.rolling(28, min_periods=1).mean()\\n)\\n\\npd_ma_result\";\n",
       "                var nbb_cells = Jupyter.notebook.get_cells();\n",
       "                for (var i = 0; i < nbb_cells.length; ++i) {\n",
       "                    if (nbb_cells[i].input_prompt_number == nbb_cell_id) {\n",
       "                        if (nbb_cells[i].get_text() == nbb_unformatted_code) {\n",
       "                             nbb_cells[i].set_text(nbb_formatted_code);\n",
       "                        }\n",
       "                        break;\n",
       "                    }\n",
       "                }\n",
       "            }, 500);\n",
       "            "
      ],
      "text/plain": [
       "<IPython.core.display.Javascript object>"
      ]
     },
     "metadata": {},
     "output_type": "display_data"
    }
   ],
   "source": [
    "# copy original dataframe (optional)\n",
    "pd_ma_result = prices.copy()\n",
    "\n",
    "# create new column using groupby and transform\n",
    "pd_ma_result[\"ma_28_day\"] = pd_ma_result.groupby(\"ticker\")[[\"closing_price\"]].transform(\n",
    "    lambda group: group.rolling(28, min_periods=1).mean()\n",
    ")\n",
    "\n",
    "pd_ma_result"
   ]
  },
  {
   "cell_type": "code",
   "execution_count": 10,
   "id": "247a4dac",
   "metadata": {},
   "outputs": [
    {
     "data": {
      "application/javascript": [
       "\n",
       "            setTimeout(function() {\n",
       "                var nbb_cell_id = 10;\n",
       "                var nbb_unformatted_code = \"# verify that the output of sql and pandas functions were the same\\nassert all(pd_ma_result.ma_28_day == sql_ma_result.ma_28_day)\";\n",
       "                var nbb_formatted_code = \"# verify that the output of sql and pandas functions were the same\\nassert all(pd_ma_result.ma_28_day == sql_ma_result.ma_28_day)\";\n",
       "                var nbb_cells = Jupyter.notebook.get_cells();\n",
       "                for (var i = 0; i < nbb_cells.length; ++i) {\n",
       "                    if (nbb_cells[i].input_prompt_number == nbb_cell_id) {\n",
       "                        if (nbb_cells[i].get_text() == nbb_unformatted_code) {\n",
       "                             nbb_cells[i].set_text(nbb_formatted_code);\n",
       "                        }\n",
       "                        break;\n",
       "                    }\n",
       "                }\n",
       "            }, 500);\n",
       "            "
      ],
      "text/plain": [
       "<IPython.core.display.Javascript object>"
      ]
     },
     "metadata": {},
     "output_type": "display_data"
    }
   ],
   "source": [
    "# verify that the output of sql and pandas functions were the same\n",
    "assert all(pd_ma_result.ma_28_day == sql_ma_result.ma_28_day)"
   ]
  },
  {
   "cell_type": "markdown",
   "id": "2f81c00e",
   "metadata": {},
   "source": [
    "**Calculate daily returns for each company**\n",
    "\n",
    "or \n",
    "\n",
    "**Arbritary Function**"
   ]
  },
  {
   "cell_type": "markdown",
   "id": "575ebede",
   "metadata": {},
   "source": [
    "**SQL**"
   ]
  },
  {
   "cell_type": "code",
   "execution_count": null,
   "id": "f617ad33",
   "metadata": {},
   "outputs": [],
   "source": []
  },
  {
   "cell_type": "markdown",
   "id": "96751aa9",
   "metadata": {},
   "source": [
    "**Return the average daily stock prices for each company**"
   ]
  },
  {
   "cell_type": "markdown",
   "id": "44de7afa",
   "metadata": {},
   "source": [
    "**SQL**"
   ]
  },
  {
   "cell_type": "code",
   "execution_count": 11,
   "id": "b972ad85",
   "metadata": {},
   "outputs": [
    {
     "data": {
      "text/html": [
       "<div>\n",
       "<style scoped>\n",
       "    .dataframe tbody tr th:only-of-type {\n",
       "        vertical-align: middle;\n",
       "    }\n",
       "\n",
       "    .dataframe tbody tr th {\n",
       "        vertical-align: top;\n",
       "    }\n",
       "\n",
       "    .dataframe thead th {\n",
       "        text-align: right;\n",
       "    }\n",
       "</style>\n",
       "<table border=\"1\" class=\"dataframe\">\n",
       "  <thead>\n",
       "    <tr style=\"text-align: right;\">\n",
       "      <th></th>\n",
       "      <th>Date</th>\n",
       "      <th>ticker</th>\n",
       "      <th>closing_price</th>\n",
       "      <th>avg_price</th>\n",
       "    </tr>\n",
       "  </thead>\n",
       "  <tbody>\n",
       "    <tr>\n",
       "      <th>0</th>\n",
       "      <td>2018-01-02</td>\n",
       "      <td>aapl</td>\n",
       "      <td>41.188160</td>\n",
       "      <td>82.867571</td>\n",
       "    </tr>\n",
       "    <tr>\n",
       "      <th>1</th>\n",
       "      <td>2018-01-03</td>\n",
       "      <td>aapl</td>\n",
       "      <td>41.180988</td>\n",
       "      <td>82.867571</td>\n",
       "    </tr>\n",
       "    <tr>\n",
       "      <th>2</th>\n",
       "      <td>2018-01-04</td>\n",
       "      <td>aapl</td>\n",
       "      <td>41.372276</td>\n",
       "      <td>82.867571</td>\n",
       "    </tr>\n",
       "    <tr>\n",
       "      <th>3</th>\n",
       "      <td>2018-01-05</td>\n",
       "      <td>aapl</td>\n",
       "      <td>41.843311</td>\n",
       "      <td>82.867571</td>\n",
       "    </tr>\n",
       "    <tr>\n",
       "      <th>4</th>\n",
       "      <td>2018-01-08</td>\n",
       "      <td>aapl</td>\n",
       "      <td>41.687889</td>\n",
       "      <td>82.867571</td>\n",
       "    </tr>\n",
       "    <tr>\n",
       "      <th>...</th>\n",
       "      <td>...</td>\n",
       "      <td>...</td>\n",
       "      <td>...</td>\n",
       "      <td>...</td>\n",
       "    </tr>\n",
       "    <tr>\n",
       "      <th>4023</th>\n",
       "      <td>2021-12-23</td>\n",
       "      <td>tsla</td>\n",
       "      <td>1067.000000</td>\n",
       "      <td>296.530956</td>\n",
       "    </tr>\n",
       "    <tr>\n",
       "      <th>4024</th>\n",
       "      <td>2021-12-27</td>\n",
       "      <td>tsla</td>\n",
       "      <td>1093.939941</td>\n",
       "      <td>296.530956</td>\n",
       "    </tr>\n",
       "    <tr>\n",
       "      <th>4025</th>\n",
       "      <td>2021-12-28</td>\n",
       "      <td>tsla</td>\n",
       "      <td>1088.469971</td>\n",
       "      <td>296.530956</td>\n",
       "    </tr>\n",
       "    <tr>\n",
       "      <th>4026</th>\n",
       "      <td>2021-12-29</td>\n",
       "      <td>tsla</td>\n",
       "      <td>1086.189941</td>\n",
       "      <td>296.530956</td>\n",
       "    </tr>\n",
       "    <tr>\n",
       "      <th>4027</th>\n",
       "      <td>2021-12-30</td>\n",
       "      <td>tsla</td>\n",
       "      <td>1091.045044</td>\n",
       "      <td>296.530956</td>\n",
       "    </tr>\n",
       "  </tbody>\n",
       "</table>\n",
       "<p>4028 rows × 4 columns</p>\n",
       "</div>"
      ],
      "text/plain": [
       "            Date ticker  closing_price   avg_price\n",
       "0     2018-01-02   aapl      41.188160   82.867571\n",
       "1     2018-01-03   aapl      41.180988   82.867571\n",
       "2     2018-01-04   aapl      41.372276   82.867571\n",
       "3     2018-01-05   aapl      41.843311   82.867571\n",
       "4     2018-01-08   aapl      41.687889   82.867571\n",
       "...          ...    ...            ...         ...\n",
       "4023  2021-12-23   tsla    1067.000000  296.530956\n",
       "4024  2021-12-27   tsla    1093.939941  296.530956\n",
       "4025  2021-12-28   tsla    1088.469971  296.530956\n",
       "4026  2021-12-29   tsla    1086.189941  296.530956\n",
       "4027  2021-12-30   tsla    1091.045044  296.530956\n",
       "\n",
       "[4028 rows x 4 columns]"
      ]
     },
     "execution_count": 11,
     "metadata": {},
     "output_type": "execute_result"
    },
    {
     "data": {
      "application/javascript": [
       "\n",
       "            setTimeout(function() {\n",
       "                var nbb_cell_id = 11;\n",
       "                var nbb_unformatted_code = \"mean_price_sql = \\\"\\\"\\\"\\nSELECT\\n    date(Date) as Date\\n    , ticker\\n    , closing_price\\n    , AVG(closing_price) OVER(PARTITION BY ticker) as avg_price\\nFROM\\n    prices\\n\\\"\\\"\\\"\\n\\nsql_mean_result = pd.read_sql(mean_price_sql, con=conn)\\nsql_mean_result\";\n",
       "                var nbb_formatted_code = \"mean_price_sql = \\\"\\\"\\\"\\nSELECT\\n    date(Date) as Date\\n    , ticker\\n    , closing_price\\n    , AVG(closing_price) OVER(PARTITION BY ticker) as avg_price\\nFROM\\n    prices\\n\\\"\\\"\\\"\\n\\nsql_mean_result = pd.read_sql(mean_price_sql, con=conn)\\nsql_mean_result\";\n",
       "                var nbb_cells = Jupyter.notebook.get_cells();\n",
       "                for (var i = 0; i < nbb_cells.length; ++i) {\n",
       "                    if (nbb_cells[i].input_prompt_number == nbb_cell_id) {\n",
       "                        if (nbb_cells[i].get_text() == nbb_unformatted_code) {\n",
       "                             nbb_cells[i].set_text(nbb_formatted_code);\n",
       "                        }\n",
       "                        break;\n",
       "                    }\n",
       "                }\n",
       "            }, 500);\n",
       "            "
      ],
      "text/plain": [
       "<IPython.core.display.Javascript object>"
      ]
     },
     "metadata": {},
     "output_type": "display_data"
    }
   ],
   "source": [
    "mean_price_sql = \"\"\"\n",
    "SELECT\n",
    "    date(Date) as Date\n",
    "    , ticker\n",
    "    , closing_price\n",
    "    , AVG(closing_price) OVER(PARTITION BY ticker) as avg_price\n",
    "FROM\n",
    "    prices\n",
    "\"\"\"\n",
    "\n",
    "sql_mean_result = pd.read_sql(mean_price_sql, con=conn)\n",
    "sql_mean_result"
   ]
  },
  {
   "cell_type": "markdown",
   "id": "fe248eae",
   "metadata": {},
   "source": [
    "**Pandas**"
   ]
  },
  {
   "cell_type": "markdown",
   "id": "c2e309db",
   "metadata": {},
   "source": [
    "If the function you are applying is a simple aggregation function. You can just specify the string alias e.g. 'mean' in the transform function, instead of using the lambda syntax (although the lambda syntax would still work)."
   ]
  },
  {
   "cell_type": "code",
   "execution_count": 12,
   "id": "aaea94df",
   "metadata": {},
   "outputs": [
    {
     "data": {
      "text/html": [
       "<div>\n",
       "<style scoped>\n",
       "    .dataframe tbody tr th:only-of-type {\n",
       "        vertical-align: middle;\n",
       "    }\n",
       "\n",
       "    .dataframe tbody tr th {\n",
       "        vertical-align: top;\n",
       "    }\n",
       "\n",
       "    .dataframe thead th {\n",
       "        text-align: right;\n",
       "    }\n",
       "</style>\n",
       "<table border=\"1\" class=\"dataframe\">\n",
       "  <thead>\n",
       "    <tr style=\"text-align: right;\">\n",
       "      <th></th>\n",
       "      <th>Date</th>\n",
       "      <th>ticker</th>\n",
       "      <th>closing_price</th>\n",
       "      <th>avg_price</th>\n",
       "    </tr>\n",
       "  </thead>\n",
       "  <tbody>\n",
       "    <tr>\n",
       "      <th>0</th>\n",
       "      <td>2018-01-02</td>\n",
       "      <td>aapl</td>\n",
       "      <td>41.188160</td>\n",
       "      <td>82.867571</td>\n",
       "    </tr>\n",
       "    <tr>\n",
       "      <th>1</th>\n",
       "      <td>2018-01-03</td>\n",
       "      <td>aapl</td>\n",
       "      <td>41.180988</td>\n",
       "      <td>82.867571</td>\n",
       "    </tr>\n",
       "    <tr>\n",
       "      <th>2</th>\n",
       "      <td>2018-01-04</td>\n",
       "      <td>aapl</td>\n",
       "      <td>41.372276</td>\n",
       "      <td>82.867571</td>\n",
       "    </tr>\n",
       "    <tr>\n",
       "      <th>3</th>\n",
       "      <td>2018-01-05</td>\n",
       "      <td>aapl</td>\n",
       "      <td>41.843311</td>\n",
       "      <td>82.867571</td>\n",
       "    </tr>\n",
       "    <tr>\n",
       "      <th>4</th>\n",
       "      <td>2018-01-08</td>\n",
       "      <td>aapl</td>\n",
       "      <td>41.687889</td>\n",
       "      <td>82.867571</td>\n",
       "    </tr>\n",
       "    <tr>\n",
       "      <th>...</th>\n",
       "      <td>...</td>\n",
       "      <td>...</td>\n",
       "      <td>...</td>\n",
       "      <td>...</td>\n",
       "    </tr>\n",
       "    <tr>\n",
       "      <th>4023</th>\n",
       "      <td>2021-12-23</td>\n",
       "      <td>tsla</td>\n",
       "      <td>1067.000000</td>\n",
       "      <td>296.530956</td>\n",
       "    </tr>\n",
       "    <tr>\n",
       "      <th>4024</th>\n",
       "      <td>2021-12-27</td>\n",
       "      <td>tsla</td>\n",
       "      <td>1093.939941</td>\n",
       "      <td>296.530956</td>\n",
       "    </tr>\n",
       "    <tr>\n",
       "      <th>4025</th>\n",
       "      <td>2021-12-28</td>\n",
       "      <td>tsla</td>\n",
       "      <td>1088.469971</td>\n",
       "      <td>296.530956</td>\n",
       "    </tr>\n",
       "    <tr>\n",
       "      <th>4026</th>\n",
       "      <td>2021-12-29</td>\n",
       "      <td>tsla</td>\n",
       "      <td>1086.189941</td>\n",
       "      <td>296.530956</td>\n",
       "    </tr>\n",
       "    <tr>\n",
       "      <th>4027</th>\n",
       "      <td>2021-12-30</td>\n",
       "      <td>tsla</td>\n",
       "      <td>1091.045044</td>\n",
       "      <td>296.530956</td>\n",
       "    </tr>\n",
       "  </tbody>\n",
       "</table>\n",
       "<p>4028 rows × 4 columns</p>\n",
       "</div>"
      ],
      "text/plain": [
       "           Date ticker  closing_price   avg_price\n",
       "0    2018-01-02   aapl      41.188160   82.867571\n",
       "1    2018-01-03   aapl      41.180988   82.867571\n",
       "2    2018-01-04   aapl      41.372276   82.867571\n",
       "3    2018-01-05   aapl      41.843311   82.867571\n",
       "4    2018-01-08   aapl      41.687889   82.867571\n",
       "...         ...    ...            ...         ...\n",
       "4023 2021-12-23   tsla    1067.000000  296.530956\n",
       "4024 2021-12-27   tsla    1093.939941  296.530956\n",
       "4025 2021-12-28   tsla    1088.469971  296.530956\n",
       "4026 2021-12-29   tsla    1086.189941  296.530956\n",
       "4027 2021-12-30   tsla    1091.045044  296.530956\n",
       "\n",
       "[4028 rows x 4 columns]"
      ]
     },
     "execution_count": 12,
     "metadata": {},
     "output_type": "execute_result"
    },
    {
     "data": {
      "application/javascript": [
       "\n",
       "            setTimeout(function() {\n",
       "                var nbb_cell_id = 12;\n",
       "                var nbb_unformatted_code = \"# copy original dataframe (optional)\\npd_mean_result = prices.copy()\\n\\n# calculate the average stock price for each company over the period of the data\\npd_mean_result[\\\"avg_price\\\"] = pd_mean_result.groupby(\\\"ticker\\\")[\\n    \\\"closing_price\\\"\\n].transform(\\\"mean\\\")\\n\\npd_mean_result\";\n",
       "                var nbb_formatted_code = \"# copy original dataframe (optional)\\npd_mean_result = prices.copy()\\n\\n# calculate the average stock price for each company over the period of the data\\npd_mean_result[\\\"avg_price\\\"] = pd_mean_result.groupby(\\\"ticker\\\")[\\n    \\\"closing_price\\\"\\n].transform(\\\"mean\\\")\\n\\npd_mean_result\";\n",
       "                var nbb_cells = Jupyter.notebook.get_cells();\n",
       "                for (var i = 0; i < nbb_cells.length; ++i) {\n",
       "                    if (nbb_cells[i].input_prompt_number == nbb_cell_id) {\n",
       "                        if (nbb_cells[i].get_text() == nbb_unformatted_code) {\n",
       "                             nbb_cells[i].set_text(nbb_formatted_code);\n",
       "                        }\n",
       "                        break;\n",
       "                    }\n",
       "                }\n",
       "            }, 500);\n",
       "            "
      ],
      "text/plain": [
       "<IPython.core.display.Javascript object>"
      ]
     },
     "metadata": {},
     "output_type": "display_data"
    }
   ],
   "source": [
    "# copy original dataframe (optional)\n",
    "pd_mean_result = prices.copy()\n",
    "\n",
    "# calculate the average stock price for each company over the period of the data\n",
    "pd_mean_result[\"avg_price\"] = pd_mean_result.groupby(\"ticker\")[\n",
    "    \"closing_price\"\n",
    "].transform(\"mean\")\n",
    "\n",
    "pd_mean_result"
   ]
  },
  {
   "cell_type": "code",
   "execution_count": 13,
   "id": "082b8109",
   "metadata": {},
   "outputs": [
    {
     "data": {
      "application/javascript": [
       "\n",
       "            setTimeout(function() {\n",
       "                var nbb_cell_id = 13;\n",
       "                var nbb_unformatted_code = \"# verify that the output of sql and pandas functions were the same\\nassert all(pd_mean_result.avg_price == sql_mean_result.avg_price)\";\n",
       "                var nbb_formatted_code = \"# verify that the output of sql and pandas functions were the same\\nassert all(pd_mean_result.avg_price == sql_mean_result.avg_price)\";\n",
       "                var nbb_cells = Jupyter.notebook.get_cells();\n",
       "                for (var i = 0; i < nbb_cells.length; ++i) {\n",
       "                    if (nbb_cells[i].input_prompt_number == nbb_cell_id) {\n",
       "                        if (nbb_cells[i].get_text() == nbb_unformatted_code) {\n",
       "                             nbb_cells[i].set_text(nbb_formatted_code);\n",
       "                        }\n",
       "                        break;\n",
       "                    }\n",
       "                }\n",
       "            }, 500);\n",
       "            "
      ],
      "text/plain": [
       "<IPython.core.display.Javascript object>"
      ]
     },
     "metadata": {},
     "output_type": "display_data"
    }
   ],
   "source": [
    "# verify that the output of sql and pandas functions were the same\n",
    "assert all(pd_mean_result.avg_price == sql_mean_result.avg_price)"
   ]
  },
  {
   "cell_type": "code",
   "execution_count": null,
   "id": "457a1dbb",
   "metadata": {},
   "outputs": [],
   "source": []
  },
  {
   "cell_type": "markdown",
   "id": "c46ccd6d",
   "metadata": {},
   "source": [
    "### You don't always have to use .transform\n",
    "\n",
    "If the function you are applying to your data is not an aggregation function, i.e. it naturally returns a value (row) for every row in the dataframe, rather than a single row, you don't need to use transform keyword.\n",
    "\n",
    "For example, if you want to create a new column with the values within each group shifted by one (i.e. the previous day's closing price) you can omit the `transform` keyword. This is because shifting the data returns a value for each row, rather than a single aggregated value for the group."
   ]
  },
  {
   "cell_type": "code",
   "execution_count": 14,
   "id": "9d2b2659",
   "metadata": {},
   "outputs": [
    {
     "data": {
      "text/html": [
       "<div>\n",
       "<style scoped>\n",
       "    .dataframe tbody tr th:only-of-type {\n",
       "        vertical-align: middle;\n",
       "    }\n",
       "\n",
       "    .dataframe tbody tr th {\n",
       "        vertical-align: top;\n",
       "    }\n",
       "\n",
       "    .dataframe thead th {\n",
       "        text-align: right;\n",
       "    }\n",
       "</style>\n",
       "<table border=\"1\" class=\"dataframe\">\n",
       "  <thead>\n",
       "    <tr style=\"text-align: right;\">\n",
       "      <th></th>\n",
       "      <th>Date</th>\n",
       "      <th>ticker</th>\n",
       "      <th>closing_price</th>\n",
       "      <th>previous_close</th>\n",
       "    </tr>\n",
       "  </thead>\n",
       "  <tbody>\n",
       "    <tr>\n",
       "      <th>0</th>\n",
       "      <td>2018-01-02</td>\n",
       "      <td>aapl</td>\n",
       "      <td>41.188160</td>\n",
       "      <td>NaN</td>\n",
       "    </tr>\n",
       "    <tr>\n",
       "      <th>1</th>\n",
       "      <td>2018-01-03</td>\n",
       "      <td>aapl</td>\n",
       "      <td>41.180988</td>\n",
       "      <td>41.188160</td>\n",
       "    </tr>\n",
       "    <tr>\n",
       "      <th>2</th>\n",
       "      <td>2018-01-04</td>\n",
       "      <td>aapl</td>\n",
       "      <td>41.372276</td>\n",
       "      <td>41.180988</td>\n",
       "    </tr>\n",
       "    <tr>\n",
       "      <th>3</th>\n",
       "      <td>2018-01-05</td>\n",
       "      <td>aapl</td>\n",
       "      <td>41.843311</td>\n",
       "      <td>41.372276</td>\n",
       "    </tr>\n",
       "    <tr>\n",
       "      <th>4</th>\n",
       "      <td>2018-01-08</td>\n",
       "      <td>aapl</td>\n",
       "      <td>41.687889</td>\n",
       "      <td>41.843311</td>\n",
       "    </tr>\n",
       "    <tr>\n",
       "      <th>...</th>\n",
       "      <td>...</td>\n",
       "      <td>...</td>\n",
       "      <td>...</td>\n",
       "      <td>...</td>\n",
       "    </tr>\n",
       "    <tr>\n",
       "      <th>4023</th>\n",
       "      <td>2021-12-23</td>\n",
       "      <td>tsla</td>\n",
       "      <td>1067.000000</td>\n",
       "      <td>1008.869995</td>\n",
       "    </tr>\n",
       "    <tr>\n",
       "      <th>4024</th>\n",
       "      <td>2021-12-27</td>\n",
       "      <td>tsla</td>\n",
       "      <td>1093.939941</td>\n",
       "      <td>1067.000000</td>\n",
       "    </tr>\n",
       "    <tr>\n",
       "      <th>4025</th>\n",
       "      <td>2021-12-28</td>\n",
       "      <td>tsla</td>\n",
       "      <td>1088.469971</td>\n",
       "      <td>1093.939941</td>\n",
       "    </tr>\n",
       "    <tr>\n",
       "      <th>4026</th>\n",
       "      <td>2021-12-29</td>\n",
       "      <td>tsla</td>\n",
       "      <td>1086.189941</td>\n",
       "      <td>1088.469971</td>\n",
       "    </tr>\n",
       "    <tr>\n",
       "      <th>4027</th>\n",
       "      <td>2021-12-30</td>\n",
       "      <td>tsla</td>\n",
       "      <td>1091.045044</td>\n",
       "      <td>1086.189941</td>\n",
       "    </tr>\n",
       "  </tbody>\n",
       "</table>\n",
       "<p>4028 rows × 4 columns</p>\n",
       "</div>"
      ],
      "text/plain": [
       "           Date ticker  closing_price  previous_close\n",
       "0    2018-01-02   aapl      41.188160             NaN\n",
       "1    2018-01-03   aapl      41.180988       41.188160\n",
       "2    2018-01-04   aapl      41.372276       41.180988\n",
       "3    2018-01-05   aapl      41.843311       41.372276\n",
       "4    2018-01-08   aapl      41.687889       41.843311\n",
       "...         ...    ...            ...             ...\n",
       "4023 2021-12-23   tsla    1067.000000     1008.869995\n",
       "4024 2021-12-27   tsla    1093.939941     1067.000000\n",
       "4025 2021-12-28   tsla    1088.469971     1093.939941\n",
       "4026 2021-12-29   tsla    1086.189941     1088.469971\n",
       "4027 2021-12-30   tsla    1091.045044     1086.189941\n",
       "\n",
       "[4028 rows x 4 columns]"
      ]
     },
     "execution_count": 14,
     "metadata": {},
     "output_type": "execute_result"
    },
    {
     "data": {
      "application/javascript": [
       "\n",
       "            setTimeout(function() {\n",
       "                var nbb_cell_id = 14;\n",
       "                var nbb_unformatted_code = \"prices[\\\"previous_close\\\"] = prices.groupby(\\\"ticker\\\")[\\\"closing_price\\\"].shift(1)\\n\\nprices\";\n",
       "                var nbb_formatted_code = \"prices[\\\"previous_close\\\"] = prices.groupby(\\\"ticker\\\")[\\\"closing_price\\\"].shift(1)\\n\\nprices\";\n",
       "                var nbb_cells = Jupyter.notebook.get_cells();\n",
       "                for (var i = 0; i < nbb_cells.length; ++i) {\n",
       "                    if (nbb_cells[i].input_prompt_number == nbb_cell_id) {\n",
       "                        if (nbb_cells[i].get_text() == nbb_unformatted_code) {\n",
       "                             nbb_cells[i].set_text(nbb_formatted_code);\n",
       "                        }\n",
       "                        break;\n",
       "                    }\n",
       "                }\n",
       "            }, 500);\n",
       "            "
      ],
      "text/plain": [
       "<IPython.core.display.Javascript object>"
      ]
     },
     "metadata": {},
     "output_type": "display_data"
    }
   ],
   "source": [
    "prices[\"previous_close\"] = prices.groupby(\"ticker\")[\"closing_price\"].shift(1)\n",
    "\n",
    "prices"
   ]
  },
  {
   "cell_type": "code",
   "execution_count": null,
   "id": "518e1b89",
   "metadata": {},
   "outputs": [],
   "source": []
  },
  {
   "cell_type": "markdown",
   "id": "aedbfc3e",
   "metadata": {},
   "source": [
    "### A Practical Example: Missing Data"
   ]
  },
  {
   "cell_type": "code",
   "execution_count": 15,
   "id": "0cf7e90c",
   "metadata": {},
   "outputs": [
    {
     "data": {
      "application/javascript": [
       "\n",
       "            setTimeout(function() {\n",
       "                var nbb_cell_id = 15;\n",
       "                var nbb_unformatted_code = \"# Real world use case. Use transform to deal with missing data differently for different groups\\n# e.g. fill group with mean for that group\\n# e.g. interpolation by group\";\n",
       "                var nbb_formatted_code = \"# Real world use case. Use transform to deal with missing data differently for different groups\\n# e.g. fill group with mean for that group\\n# e.g. interpolation by group\";\n",
       "                var nbb_cells = Jupyter.notebook.get_cells();\n",
       "                for (var i = 0; i < nbb_cells.length; ++i) {\n",
       "                    if (nbb_cells[i].input_prompt_number == nbb_cell_id) {\n",
       "                        if (nbb_cells[i].get_text() == nbb_unformatted_code) {\n",
       "                             nbb_cells[i].set_text(nbb_formatted_code);\n",
       "                        }\n",
       "                        break;\n",
       "                    }\n",
       "                }\n",
       "            }, 500);\n",
       "            "
      ],
      "text/plain": [
       "<IPython.core.display.Javascript object>"
      ]
     },
     "metadata": {},
     "output_type": "display_data"
    }
   ],
   "source": [
    "# Real world use case. Use transform to deal with missing\n",
    "# data differently for different groups\n",
    "# e.g. fill group with mean for that group\n",
    "# e.g. interpolation by group"
   ]
  },
  {
   "cell_type": "markdown",
   "id": "abb91d77",
   "metadata": {},
   "source": [
    "## Conclusion\n",
    "\n",
    "It is an important skill as a data scientist to be able to be flexible and able to switch between SQL and Pandas when completing data analysis.\n",
    "\n",
    "Sometimes it is easier in one language than another to express the data transformation you want, but it is important to understand how common data transformations, such as window functions, can be achieved in either language."
   ]
  },
  {
   "cell_type": "code",
   "execution_count": null,
   "id": "749314bf",
   "metadata": {},
   "outputs": [],
   "source": []
  },
  {
   "cell_type": "code",
   "execution_count": null,
   "id": "750afd4f",
   "metadata": {},
   "outputs": [],
   "source": []
  }
 ],
 "metadata": {
  "kernelspec": {
   "display_name": "Python 3 (ipykernel)",
   "language": "python",
   "name": "python3"
  },
  "language_info": {
   "codemirror_mode": {
    "name": "ipython",
    "version": 3
   },
   "file_extension": ".py",
   "mimetype": "text/x-python",
   "name": "python",
   "nbconvert_exporter": "python",
   "pygments_lexer": "ipython3",
   "version": "3.10.0"
  }
 },
 "nbformat": 4,
 "nbformat_minor": 5
}
