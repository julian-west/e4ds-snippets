{
 "cells": [
  {
   "cell_type": "markdown",
   "id": "262b2769",
   "metadata": {},
   "source": [
    "# Google Search Console Analysis with Python"
   ]
  },
  {
   "cell_type": "markdown",
   "id": "c32ef674",
   "metadata": {},
   "source": [
    "![google-search-console-homepage](https://res.cloudinary.com/e4datascience/image/upload/f_auto/g_auto/q_auto/google-search-console.png \"Google Search Console Homepage\")"
   ]
  },
  {
   "cell_type": "markdown",
   "id": "bfbd125c",
   "metadata": {},
   "source": [
    "## Google Search Console\n",
    "\n",
    "Like anyone with a blog, I'm mildly interested in understanding which of my articles are ranking well on Google. \n",
    "\n",
    "Like any data scientist, when I find out data on rankings, search queries and clicks is all available in the [Google Search Console](https://search.google.com/search-console/about) my first thought is - \"Cool! How can I analyse it?\".\n",
    "\n",
    "The [Google Search Console](https://search.google.com/search-console/about) provides a user interface which presents aggregated statistics and gives you the ability to click around and apply some filters for your data.\n",
    "\n",
    "This is nice for gauging the overall performance of your website but can be quite cumbersome to use. I have found the user interface isn't great for doing targeted analysis to answer more specific questions. It normally takes a large number of clicks and even then, sometimes the data isn't granular enough for the analysis.\n",
    "\n",
    "My next thought was - \"can I scrape this data?\". If I can webscrape the data or use an API, I can pull it into Python and automate the process.\n",
    "\n",
    "I imagine you probably had a similar thought process which is why you are now reading this post.\n",
    "\n",
    "Thankfully, there is a free [API](https://developers.google.com/webmaster-tools/about) which allows programmatic access to all the raw search console data.\n",
    "\n",
    "I found the official [API documentation](https://developers.google.com/webmaster-tools/v1/quickstart/quickstart-python) quite difficult to use. So I made this guide to demonstrate how to connect to your Google Search Console data using the API and carry out an example analysis with Python."
   ]
  },
  {
   "cell_type": "markdown",
   "id": "9d3d2761",
   "metadata": {},
   "source": [
    "## Setup\n",
    "\n",
    "### Prerequisites\n",
    "\n",
    "You should already have a Google account and [linked your domain](https://search.google.com/search-console/welcome) to the Google Search Console.\n"
   ]
  },
  {
   "cell_type": "markdown",
   "id": "4f5d2452",
   "metadata": {},
   "source": [
    "### Create Google Cloud Project and Enable the API\n",
    "\n",
    "1. Create a new Google Cloud Project\n",
    "\n",
    "    To use the API you need to create a [Google Cloud Project](https://cloud.google.com/). This will be used to manage authentication and usage quotas. Creating a project and using the API is free, but does require a Google account for setup and authentication.\n",
    "\n",
    "\n",
    "2. Enable the Google Search Console API\n",
    "\n",
    "    Once the project is created, search \"Google Search Console API\" in the Google Cloud Platform search bar at the top of the page.\n",
    "    \n",
    "    Click the Google Search Console API search result and click \"Enable\"\n",
    "\n",
    "![google-search-console-enable](https://res.cloudinary.com/e4datascience/image/upload/f_auto/g_auto/q_auto/gsc-enable-api.png \"Enable the Google Search Console API in your Google Cloud project\")"
   ]
  },
  {
   "cell_type": "markdown",
   "id": "42917818",
   "metadata": {},
   "source": [
    "### Create a Service Account\n",
    "\n",
    "To authenticate our API calls, we need to create a [service account](https://cloud.google.com/iam/docs/service-accounts).\n",
    "\n",
    "A service account on Google Cloud is a special type of account that can be used for authenticating 'non-human' interactions when accessing to data. For example, an automated Python application needing access to the Google Search Console API.\n",
    "\n",
    "There are a couple options for creating a service account. We can use the Google Cloud user interface or directly from the command line using the [gcloud CLI](https://cloud.google.com/sdk/docs/install-sdk).\n"
   ]
  },
  {
   "cell_type": "markdown",
   "id": "e6c33224",
   "metadata": {},
   "source": [
    "#### Option 1: Google Cloud User Interface\n",
    "\n",
    "1. Search for \"Service Accounts\" in your newly created Google Cloud Project\n",
    "2. Click \"Create Service Account\"\n",
    "3. Provide a name for the service account so that you can easily identify its purpose (make a note of the generated email address of the service account, you will need this later)\n",
    "4. Click \"Create And Continue\"\n",
    "5. Click \"Done\" (you don't need to configure any of the other settings at this stage)\n"
   ]
  },
  {
   "cell_type": "markdown",
   "id": "bbd500e9",
   "metadata": {},
   "source": [
    "#### Option 2: gcloud (recommended)\n",
    "\n",
    "Alternatively, you can use the [gcloud CLI tool](https://cloud.google.com/sdk/docs/install-sdk) to create service accounts directly from the command line.\n",
    "\n",
    "If you are comfortable with the command line, I would highly recommend this approach as it is, quicker, more easily reproducible and allows us to benefit from [service account impersonation](https://cloud.google.com/iam/docs/impersonating-service-accounts) -- more on that later... \n",
    "\n",
    "1. Install the [gcloud CLI tool](https://cloud.google.com/sdk/docs/install-sdk) if you do not already have it\n",
    "2. Authenticate your gcloud session and log into your project\n",
    "\n",
    "   ```bash\n",
    "   # initialise a gcloud profile, follow the on screen instructions\n",
    "   gcloud init\n",
    "   ```\n",
    "   \n",
    "   ```bash\n",
    "   # authenticate your terminal session, follow on screen instructions\n",
    "   gcloud auth application-default login\n",
    "   ```\n",
    "   \n",
    "3. Enable the service account API\n",
    "\n",
    "   ```bash\n",
    "   gcloud services enable iamcredentials.googleapis.com\n",
    "   ```\n",
    "3. Create a service account\n",
    "\n",
    "   ```bash\n",
    "   gcloud iam service-accounts create YOUR_SERVICE_ACCOUNT_NAME\n",
    "   ```\n",
    "   \n",
    "   To find the full email address of the service account you just created you can run the following command\n",
    "   \n",
    "   ```bash\n",
    "   gcloud iam service-accounts list\n",
    "   ```"
   ]
  },
  {
   "cell_type": "markdown",
   "id": "08f9b4d8",
   "metadata": {},
   "source": [
    "### Add your service account to Google Search Console\n",
    "\n",
    "At the moment our service account does not have any permissions to do anything. To allow the service account access to your domain's search console data it needs to be added as a user to your search console profile.\n",
    "\n",
    "1. Log into your [Google Search Console](https://search.google.com/search-console/about)\n",
    "2. Click on \"Settings\" on the left hand side menu then click \"Users and permissions\"\n",
    "3. Click on the blue \"Add User\" button at the top right and enter your service account email address with \"Restricted\" permissions (principle of [least privilege](https://cloud.google.com/iam/docs/using-iam-securely#least_privilege)).\n",
    "\n"
   ]
  },
  {
   "cell_type": "markdown",
   "id": "91662aa8",
   "metadata": {},
   "source": [
    "### Authenticate\n",
    "\n",
    "To authenticate our Python code to make calls to the Google Search Console API, we have to complete a little bit of extra set up. Either creating a service account key file, or enabling service account impersonation."
   ]
  },
  {
   "cell_type": "markdown",
   "id": "e16e25c0",
   "metadata": {},
   "source": [
    "#### Option 1: Service account key file\n",
    "\n",
    "While less secure, the most obvious and easiest way to authenticate is to download the service account key file and save it to your computer. We will then pass the key file credentials to authenticate the API calls.\n",
    "\n",
    "1. In the service account page of the Google Cloud Platform user interface click on your newly created service account\n",
    "2. Click on the 'Keys' tab and click 'Add Key'\n",
    "3. Click create new key, select \"JSON\" and then click \"create\" \n",
    "\n",
    "This will download the service account credentials as a JSON file to your computer. Keep this file safe and move it to your working directory."
   ]
  },
  {
   "cell_type": "markdown",
   "id": "77af6d26",
   "metadata": {},
   "source": [
    "#### Option 2: Service account impersonation (recommended)\n",
    "\n",
    "Downloading the JSON key directly to your computer is convenient but could pose a security risk if compromised (e.g. accidentally committed to version control). The key also has an unlimited lifetime (by default) and will remain active until deleted. Anyone who has access to your key file will be able to access to your data. \n",
    "\n",
    "Instead of using service account key files, Google cloud provides an alternative way to authenticate your service account which involves using [service account impersonation](https://cloud.google.com/iam/docs/impersonating-service-accounts). When using service account impersonation you don't need to download any keys, instead you allow your normal user account (already authenticated in your terminal) to 'impersonate' the service account.\n",
    "\n",
    "Service account impersonation is conceptually a little more difficult to understand, but the implementation using `gcloud` is straight forward and avoids the hassle of managing keys.\n",
    "\n",
    "\n",
    "1. Enable Cloud Resource Manager API\n",
    "\n",
    "   ```bash\n",
    "   gcloud services enable cloudresourcemanager.googleapis.com\n",
    "   ```\n",
    "\n",
    "2. Allow your user account to impersonate your service account\n",
    "\n",
    "   ```bash\n",
    "    gcloud iam service-accounts add-iam-policy-binding FULL_SERVICE_ACCOUNT_EMAIL \\\n",
    "    --member user:YOUR_USER_ACCOUNT_EMAIL \\\n",
    "    --role roles/iam.serviceAccountTokenCreator\n",
    "   ```\n",
    "   \n",
    "That's it. No need to manually download and manage key files. Your normal user account (already authenticated in your terminal session) will be used to call ('impersonate') your service account."
   ]
  },
  {
   "cell_type": "markdown",
   "id": "25ead4d4",
   "metadata": {},
   "source": [
    "### Python Code\n",
    "\n",
    "> See `requirements.txt` file for required Python libraries\n",
    "\n",
    "Here is how to authenticate your Python code:"
   ]
  },
  {
   "cell_type": "code",
   "execution_count": 1,
   "id": "960fbbac",
   "metadata": {},
   "outputs": [],
   "source": [
    "# define general constants\n",
    "API_SERVICE_NAME = \"webmasters\"\n",
    "API_VERSION = \"v3\"\n",
    "SCOPE = [\"https://www.googleapis.com/auth/webmasters.readonly\"]"
   ]
  },
  {
   "cell_type": "markdown",
   "id": "131488ad",
   "metadata": {},
   "source": [
    "#### Option 1: Authenticate using the service account key file\n",
    "\n",
    "To authenticate using the service account key file that you downloaded, you can using the following code snippet."
   ]
  },
  {
   "cell_type": "code",
   "execution_count": 3,
   "id": "b2fd1e8c",
   "metadata": {},
   "outputs": [],
   "source": [
    "from google.oauth2 import service_account\n",
    "from googleapiclient.discovery import Resource, build\n",
    "\n",
    "\n",
    "def auth_using_key_file(key_filepath: str) -> Resource:\n",
    "    \"\"\"Authenticate using a service account key file saved locally\"\"\"\n",
    "\n",
    "    credentials = service_account.Credentials.from_service_account_file(\n",
    "        key_filepath, scopes=SCOPE\n",
    "    )\n",
    "    service = build(API_SERVICE_NAME, API_VERSION, credentials=credentials)\n",
    "\n",
    "    return service"
   ]
  },
  {
   "cell_type": "code",
   "execution_count": 4,
   "id": "0d5f9322",
   "metadata": {},
   "outputs": [
    {
     "data": {
      "text/plain": [
       "{'siteEntry': [{'siteUrl': 'sc-domain:engineeringfordatascience.com',\n",
       "   'permissionLevel': 'siteRestrictedUser'}]}"
      ]
     },
     "execution_count": 4,
     "metadata": {},
     "output_type": "execute_result"
    }
   ],
   "source": [
    "# filepath location of your service account key json file\n",
    "KEY_FILE = \"./service-account-key.json\"\n",
    "\n",
    "# authenticate session\n",
    "service = auth_using_key_file(key_filepath=KEY_FILE)\n",
    "\n",
    "# verify your service account has permissions to your domain\n",
    "service.sites().list().execute()"
   ]
  },
  {
   "cell_type": "markdown",
   "id": "7ca2e90e",
   "metadata": {},
   "source": [
    "#### Option 2: Authenticate using service account impersonation\n",
    "\n",
    "If you are using service account impersonation, you can use the following code snippet to authenticate.\n",
    "\n",
    "We first get the credentials of your user account which was already authenticated using gcloud. Then we pass these credentials to the service account you wish to impersonate. This creates a new set of credentials which is used to build the 'service' object."
   ]
  },
  {
   "cell_type": "code",
   "execution_count": 5,
   "id": "7b69ddb7",
   "metadata": {},
   "outputs": [],
   "source": [
    "# change this to your service account\n",
    "SERVICE_ACCOUNT_EMAIL = \"YOUR-SERVICE-ACCOUNT-FULL-EMAIL\""
   ]
  },
  {
   "cell_type": "code",
   "execution_count": 6,
   "id": "bce8e16e",
   "metadata": {},
   "outputs": [],
   "source": [
    "import google.auth\n",
    "from google.auth import impersonated_credentials\n",
    "from googleapiclient.discovery import Resource, build\n",
    "\n",
    "\n",
    "def auth_using_impersonation() -> Resource:\n",
    "    \"\"\"Authenticate using service account impersonation\"\"\"\n",
    "\n",
    "    # get user account credentials from your terminal session\n",
    "    source_credentials, _ = google.auth.default(scopes=SCOPE)\n",
    "\n",
    "    # user account credentials to impersonate service account\n",
    "    # set a lifetime on how long the credentials should last\n",
    "    target_credentials = impersonated_credentials.Credentials(\n",
    "        source_credentials=source_credentials,\n",
    "        target_principal=SERVICE_ACCOUNT_EMAIL,\n",
    "        target_scopes=SCOPE,\n",
    "        lifetime=3600,\n",
    "    )\n",
    "\n",
    "    service = build(API_SERVICE_NAME, API_VERSION, credentials=target_credentials)\n",
    "\n",
    "    return service"
   ]
  },
  {
   "cell_type": "code",
   "execution_count": 7,
   "id": "0fbd1bab",
   "metadata": {},
   "outputs": [
    {
     "data": {
      "text/plain": [
       "{'siteEntry': [{'siteUrl': 'sc-domain:engineeringfordatascience.com',\n",
       "   'permissionLevel': 'siteRestrictedUser'}]}"
      ]
     },
     "execution_count": 7,
     "metadata": {},
     "output_type": "execute_result"
    }
   ],
   "source": [
    "impersonation_service = auth_using_impersonation()\n",
    "\n",
    "# verify your service account has permissions to your domain\n",
    "impersonation_service.sites().list().execute()"
   ]
  },
  {
   "cell_type": "markdown",
   "id": "af6a20c5",
   "metadata": {},
   "source": [
    "We have now authenticated using service account impersonation. \n",
    "\n",
    "Notice how we did not have to download or manage any JSON keys. We are also able to set a lifetime on how long the credentials should be valid for. This can be much more convenient and secure than using service account keys. I highly recommend using service account impersonation for your authentication on Google Cloud."
   ]
  },
  {
   "cell_type": "markdown",
   "id": "d42b3bdb",
   "metadata": {},
   "source": [
    "## Analyse your data\n",
    "\n",
    "Great, now you have your authentication setup you can start analysing your data."
   ]
  },
  {
   "cell_type": "markdown",
   "id": "abd4858b",
   "metadata": {},
   "source": [
    "#### Collect data\n",
    "\n",
    "There is documentation on how to query the API on the [Google developers website](https://developers.google.com/webmaster-tools/about).\n",
    "\n",
    "We can use the following snippet to build a query to get data for your domain."
   ]
  },
  {
   "cell_type": "code",
   "execution_count": 8,
   "id": "e3f94945",
   "metadata": {},
   "outputs": [],
   "source": [
    "from datetime import datetime\n",
    "from typing import Dict\n",
    "\n",
    "import matplotlib.pyplot as plt\n",
    "\n",
    "import matplotlib as mpl\n",
    "import pandas as pd\n",
    "\n",
    "# Your domain name\n",
    "# note: it is important to include 'sc-domain:' before your domain name\n",
    "DOMAIN = \"sc-domain:engineeringfordatascience.com\"\n",
    "\n",
    "\n",
    "def query(client: Resource, payload: Dict[str, str]) -> Dict[str, any]:\n",
    "    response = client.searchanalytics().query(siteUrl=DOMAIN, body=payload).execute()\n",
    "    return response"
   ]
  },
  {
   "cell_type": "markdown",
   "id": "33830b11",
   "metadata": {},
   "source": [
    "To build a query, we need to pass a payload to the API.\n",
    "\n",
    "More details on what can be included in the payload can be found in the [Search Console API documentation](https://developers.google.com/webmaster-tools/v1/searchanalytics/query).\n",
    "\n",
    "The main things to include are the date range and dimensions we wish to query.\n",
    "\n",
    "Note that the maximum number of rows returned by a single request to the API is 25,000. If you are querying a large number of dimensions, have a site long history it is likely that the data you are querying will have more than 25,000 rows. If this is the case, you will need loop through the to paginated results. This is achieved by making consecutive API calls and changing the `startRow` parameter in the payload each time.\n",
    "\n",
    "You can use the following snippet to loop through the paginated response and append the rows into a single list.\n",
    "\n",
    "In this particular example I am retrieving the clicks, impressions, click through rate and average position for each page on each date."
   ]
  },
  {
   "cell_type": "code",
   "execution_count": 9,
   "id": "17bf1061",
   "metadata": {},
   "outputs": [],
   "source": [
    "DIMENSIONS = [\"page\", \"date\"]\n",
    "START_DATE = \"2021-05-31\"  # define your start date\n",
    "MAX_ROWS = 25_000"
   ]
  },
  {
   "cell_type": "code",
   "execution_count": 10,
   "id": "8aa7f095",
   "metadata": {},
   "outputs": [
    {
     "name": "stdout",
     "output_type": "stream",
     "text": [
      "Collected 13,736 rows\n"
     ]
    }
   ],
   "source": [
    "end_date = datetime.now().strftime(\"%Y-%m-%d\")\n",
    "response_rows = []\n",
    "i = 0\n",
    "while True:\n",
    "\n",
    "    # https://developers.google.com/webmaster-tools/v1/searchanalytics/query\n",
    "    payload = {\n",
    "        \"startDate\": START_DATE,\n",
    "        \"endDate\": end_date,\n",
    "        \"dimensions\": DIMENSIONS,\n",
    "        \"rowLimit\": MAX_ROWS,\n",
    "        \"startRow\": i * MAX_ROWS,\n",
    "    }\n",
    "\n",
    "    # make request to API\n",
    "    response = query(impersonation_service, payload)\n",
    "\n",
    "    # if there are rows in the response append to the main list\n",
    "    if response.get(\"rows\"):\n",
    "        response_rows.extend(response[\"rows\"])\n",
    "        i += 1\n",
    "    else:\n",
    "        break\n",
    "\n",
    "    print(f\"Collected {len(response_rows):,} rows\")"
   ]
  },
  {
   "cell_type": "markdown",
   "id": "badff19b",
   "metadata": {},
   "source": [
    "> **Note**: If you get a 'Broken pipe' error while using service account impersonation. It is potentially because the service account credentials have expired. Re-run the authentication code above to re-generate valid credentials."
   ]
  },
  {
   "cell_type": "markdown",
   "id": "6482a97c",
   "metadata": {},
   "source": [
    "We can put the results into a Pandas dataframe for further analysis."
   ]
  },
  {
   "cell_type": "code",
   "execution_count": 11,
   "id": "6d236700",
   "metadata": {},
   "outputs": [
    {
     "data": {
      "text/html": [
       "<div>\n",
       "<style scoped>\n",
       "    .dataframe tbody tr th:only-of-type {\n",
       "        vertical-align: middle;\n",
       "    }\n",
       "\n",
       "    .dataframe tbody tr th {\n",
       "        vertical-align: top;\n",
       "    }\n",
       "\n",
       "    .dataframe thead th {\n",
       "        text-align: right;\n",
       "    }\n",
       "</style>\n",
       "<table border=\"1\" class=\"dataframe\">\n",
       "  <thead>\n",
       "    <tr style=\"text-align: right;\">\n",
       "      <th></th>\n",
       "      <th>keys</th>\n",
       "      <th>clicks</th>\n",
       "      <th>impressions</th>\n",
       "      <th>ctr</th>\n",
       "      <th>position</th>\n",
       "    </tr>\n",
       "  </thead>\n",
       "  <tbody>\n",
       "    <tr>\n",
       "      <th>0</th>\n",
       "      <td>[https://engineeringfordatascience.com/posts/m...</td>\n",
       "      <td>235</td>\n",
       "      <td>1950</td>\n",
       "      <td>0.120513</td>\n",
       "      <td>13.368718</td>\n",
       "    </tr>\n",
       "    <tr>\n",
       "      <th>1</th>\n",
       "      <td>[https://engineeringfordatascience.com/posts/m...</td>\n",
       "      <td>225</td>\n",
       "      <td>2095</td>\n",
       "      <td>0.107399</td>\n",
       "      <td>15.197136</td>\n",
       "    </tr>\n",
       "    <tr>\n",
       "      <th>2</th>\n",
       "      <td>[https://engineeringfordatascience.com/posts/m...</td>\n",
       "      <td>223</td>\n",
       "      <td>1938</td>\n",
       "      <td>0.115067</td>\n",
       "      <td>12.228070</td>\n",
       "    </tr>\n",
       "    <tr>\n",
       "      <th>3</th>\n",
       "      <td>[https://engineeringfordatascience.com/posts/m...</td>\n",
       "      <td>215</td>\n",
       "      <td>2149</td>\n",
       "      <td>0.100047</td>\n",
       "      <td>12.757096</td>\n",
       "    </tr>\n",
       "    <tr>\n",
       "      <th>4</th>\n",
       "      <td>[https://engineeringfordatascience.com/posts/m...</td>\n",
       "      <td>213</td>\n",
       "      <td>2117</td>\n",
       "      <td>0.100614</td>\n",
       "      <td>17.205007</td>\n",
       "    </tr>\n",
       "  </tbody>\n",
       "</table>\n",
       "</div>"
      ],
      "text/plain": [
       "                                                keys  clicks  impressions  \\\n",
       "0  [https://engineeringfordatascience.com/posts/m...     235         1950   \n",
       "1  [https://engineeringfordatascience.com/posts/m...     225         2095   \n",
       "2  [https://engineeringfordatascience.com/posts/m...     223         1938   \n",
       "3  [https://engineeringfordatascience.com/posts/m...     215         2149   \n",
       "4  [https://engineeringfordatascience.com/posts/m...     213         2117   \n",
       "\n",
       "        ctr   position  \n",
       "0  0.120513  13.368718  \n",
       "1  0.107399  15.197136  \n",
       "2  0.115067  12.228070  \n",
       "3  0.100047  12.757096  \n",
       "4  0.100614  17.205007  "
      ]
     },
     "execution_count": 11,
     "metadata": {},
     "output_type": "execute_result"
    }
   ],
   "source": [
    "df = pd.DataFrame(response_rows)\n",
    "df.head()"
   ]
  },
  {
   "cell_type": "markdown",
   "id": "b11428d7",
   "metadata": {},
   "source": [
    "#### Data cleaning"
   ]
  },
  {
   "cell_type": "markdown",
   "id": "39dabb9d",
   "metadata": {},
   "source": [
    "Before we can analyse the data, we need to do a little bit of data cleaning to make it a bit more manageable.\n",
    "\n",
    "The dimensions we used are stored as a list in the 'keys' column. This is not particularly helpful for analysis. Extracting these dimensions into their own column would be better:"
   ]
  },
  {
   "cell_type": "code",
   "execution_count": 12,
   "id": "4c0fcb44",
   "metadata": {},
   "outputs": [
    {
     "name": "stdout",
     "output_type": "stream",
     "text": [
      "keys            object\n",
      "clicks           int64\n",
      "impressions      int64\n",
      "ctr            float64\n",
      "position       float64\n",
      "page            object\n",
      "date            object\n",
      "dtype: object\n"
     ]
    },
    {
     "data": {
      "text/html": [
       "<div>\n",
       "<style scoped>\n",
       "    .dataframe tbody tr th:only-of-type {\n",
       "        vertical-align: middle;\n",
       "    }\n",
       "\n",
       "    .dataframe tbody tr th {\n",
       "        vertical-align: top;\n",
       "    }\n",
       "\n",
       "    .dataframe thead th {\n",
       "        text-align: right;\n",
       "    }\n",
       "</style>\n",
       "<table border=\"1\" class=\"dataframe\">\n",
       "  <thead>\n",
       "    <tr style=\"text-align: right;\">\n",
       "      <th></th>\n",
       "      <th>keys</th>\n",
       "      <th>clicks</th>\n",
       "      <th>impressions</th>\n",
       "      <th>ctr</th>\n",
       "      <th>position</th>\n",
       "      <th>page</th>\n",
       "      <th>date</th>\n",
       "    </tr>\n",
       "  </thead>\n",
       "  <tbody>\n",
       "    <tr>\n",
       "      <th>0</th>\n",
       "      <td>[https://engineeringfordatascience.com/posts/m...</td>\n",
       "      <td>235</td>\n",
       "      <td>1950</td>\n",
       "      <td>0.120513</td>\n",
       "      <td>13.368718</td>\n",
       "      <td>https://engineeringfordatascience.com/posts/ma...</td>\n",
       "      <td>2022-05-11</td>\n",
       "    </tr>\n",
       "    <tr>\n",
       "      <th>1</th>\n",
       "      <td>[https://engineeringfordatascience.com/posts/m...</td>\n",
       "      <td>225</td>\n",
       "      <td>2095</td>\n",
       "      <td>0.107399</td>\n",
       "      <td>15.197136</td>\n",
       "      <td>https://engineeringfordatascience.com/posts/ma...</td>\n",
       "      <td>2022-05-23</td>\n",
       "    </tr>\n",
       "    <tr>\n",
       "      <th>2</th>\n",
       "      <td>[https://engineeringfordatascience.com/posts/m...</td>\n",
       "      <td>223</td>\n",
       "      <td>1938</td>\n",
       "      <td>0.115067</td>\n",
       "      <td>12.228070</td>\n",
       "      <td>https://engineeringfordatascience.com/posts/ma...</td>\n",
       "      <td>2022-04-20</td>\n",
       "    </tr>\n",
       "    <tr>\n",
       "      <th>3</th>\n",
       "      <td>[https://engineeringfordatascience.com/posts/m...</td>\n",
       "      <td>215</td>\n",
       "      <td>2149</td>\n",
       "      <td>0.100047</td>\n",
       "      <td>12.757096</td>\n",
       "      <td>https://engineeringfordatascience.com/posts/ma...</td>\n",
       "      <td>2022-06-07</td>\n",
       "    </tr>\n",
       "    <tr>\n",
       "      <th>4</th>\n",
       "      <td>[https://engineeringfordatascience.com/posts/m...</td>\n",
       "      <td>213</td>\n",
       "      <td>2117</td>\n",
       "      <td>0.100614</td>\n",
       "      <td>17.205007</td>\n",
       "      <td>https://engineeringfordatascience.com/posts/ma...</td>\n",
       "      <td>2022-04-26</td>\n",
       "    </tr>\n",
       "  </tbody>\n",
       "</table>\n",
       "</div>"
      ],
      "text/plain": [
       "                                                keys  clicks  impressions  \\\n",
       "0  [https://engineeringfordatascience.com/posts/m...     235         1950   \n",
       "1  [https://engineeringfordatascience.com/posts/m...     225         2095   \n",
       "2  [https://engineeringfordatascience.com/posts/m...     223         1938   \n",
       "3  [https://engineeringfordatascience.com/posts/m...     215         2149   \n",
       "4  [https://engineeringfordatascience.com/posts/m...     213         2117   \n",
       "\n",
       "        ctr   position                                               page  \\\n",
       "0  0.120513  13.368718  https://engineeringfordatascience.com/posts/ma...   \n",
       "1  0.107399  15.197136  https://engineeringfordatascience.com/posts/ma...   \n",
       "2  0.115067  12.228070  https://engineeringfordatascience.com/posts/ma...   \n",
       "3  0.100047  12.757096  https://engineeringfordatascience.com/posts/ma...   \n",
       "4  0.100614  17.205007  https://engineeringfordatascience.com/posts/ma...   \n",
       "\n",
       "         date  \n",
       "0  2022-05-11  \n",
       "1  2022-05-23  \n",
       "2  2022-04-20  \n",
       "3  2022-06-07  \n",
       "4  2022-04-26  "
      ]
     },
     "execution_count": 12,
     "metadata": {},
     "output_type": "execute_result"
    }
   ],
   "source": [
    "# create a new column for each dimension\n",
    "df[DIMENSIONS] = pd.DataFrame(df[\"keys\"].tolist(), index=df.index)\n",
    "\n",
    "print(df.dtypes)\n",
    "df.head()"
   ]
  },
  {
   "cell_type": "markdown",
   "id": "71d39a85",
   "metadata": {},
   "source": [
    "The 'page' is given as the full url. It is more convenient to use the page names rather than the full url so we can extract the page name and remove the rest of the url.\n",
    "\n",
    "Additionally, the 'date' column is loaded as a string. We can convert this to a datetime dtype to make it easier to work with."
   ]
  },
  {
   "cell_type": "code",
   "execution_count": 13,
   "id": "04ee824b",
   "metadata": {},
   "outputs": [
    {
     "data": {
      "text/html": [
       "<div>\n",
       "<style scoped>\n",
       "    .dataframe tbody tr th:only-of-type {\n",
       "        vertical-align: middle;\n",
       "    }\n",
       "\n",
       "    .dataframe tbody tr th {\n",
       "        vertical-align: top;\n",
       "    }\n",
       "\n",
       "    .dataframe thead th {\n",
       "        text-align: right;\n",
       "    }\n",
       "</style>\n",
       "<table border=\"1\" class=\"dataframe\">\n",
       "  <thead>\n",
       "    <tr style=\"text-align: right;\">\n",
       "      <th></th>\n",
       "      <th>date</th>\n",
       "      <th>name</th>\n",
       "      <th>clicks</th>\n",
       "      <th>impressions</th>\n",
       "      <th>ctr</th>\n",
       "      <th>position</th>\n",
       "    </tr>\n",
       "  </thead>\n",
       "  <tbody>\n",
       "    <tr>\n",
       "      <th>0</th>\n",
       "      <td>2022-05-11</td>\n",
       "      <td>matplotlib_subplots</td>\n",
       "      <td>235</td>\n",
       "      <td>1950</td>\n",
       "      <td>0.120513</td>\n",
       "      <td>13.368718</td>\n",
       "    </tr>\n",
       "    <tr>\n",
       "      <th>1</th>\n",
       "      <td>2022-05-23</td>\n",
       "      <td>matplotlib_subplots</td>\n",
       "      <td>225</td>\n",
       "      <td>2095</td>\n",
       "      <td>0.107399</td>\n",
       "      <td>15.197136</td>\n",
       "    </tr>\n",
       "    <tr>\n",
       "      <th>2</th>\n",
       "      <td>2022-04-20</td>\n",
       "      <td>matplotlib_subplots</td>\n",
       "      <td>223</td>\n",
       "      <td>1938</td>\n",
       "      <td>0.115067</td>\n",
       "      <td>12.228070</td>\n",
       "    </tr>\n",
       "    <tr>\n",
       "      <th>3</th>\n",
       "      <td>2022-06-07</td>\n",
       "      <td>matplotlib_subplots</td>\n",
       "      <td>215</td>\n",
       "      <td>2149</td>\n",
       "      <td>0.100047</td>\n",
       "      <td>12.757096</td>\n",
       "    </tr>\n",
       "    <tr>\n",
       "      <th>4</th>\n",
       "      <td>2022-04-26</td>\n",
       "      <td>matplotlib_subplots</td>\n",
       "      <td>213</td>\n",
       "      <td>2117</td>\n",
       "      <td>0.100614</td>\n",
       "      <td>17.205007</td>\n",
       "    </tr>\n",
       "  </tbody>\n",
       "</table>\n",
       "</div>"
      ],
      "text/plain": [
       "        date                 name  clicks  impressions       ctr   position\n",
       "0 2022-05-11  matplotlib_subplots     235         1950  0.120513  13.368718\n",
       "1 2022-05-23  matplotlib_subplots     225         2095  0.107399  15.197136\n",
       "2 2022-04-20  matplotlib_subplots     223         1938  0.115067  12.228070\n",
       "3 2022-06-07  matplotlib_subplots     215         2149  0.100047  12.757096\n",
       "4 2022-04-26  matplotlib_subplots     213         2117  0.100614  17.205007"
      ]
     },
     "execution_count": 13,
     "metadata": {},
     "output_type": "execute_result"
    }
   ],
   "source": [
    "# extract page name from full url\n",
    "df[\"name\"] = df[\"page\"].apply(lambda x: x.split(\"/\")[-2])\n",
    "\n",
    "# convert date to datetime\n",
    "df[\"date\"] = pd.to_datetime(df.date)\n",
    "\n",
    "# reorder and keep final columns\n",
    "df = df[[\"date\", \"name\", \"clicks\", \"impressions\", \"ctr\", \"position\"]]\n",
    "\n",
    "df.head()"
   ]
  },
  {
   "cell_type": "markdown",
   "id": "b2306305",
   "metadata": {},
   "source": [
    "Finally, it is important to check for data quality.\n",
    "\n",
    "We would expect to receive a single row for each date, page name, country combination. However, I found that sometimes the API returns multiple rows for a single date, page and country.\n",
    "\n",
    "Therefore, you might need to check you aren't receiving more rows that you expect. In my case, if there were multiple results for a single date, page, country combination, then I decided to only keep the row with the maximum impressions. You might decide to treat your data differently."
   ]
  },
  {
   "cell_type": "code",
   "execution_count": 14,
   "id": "702daaa0",
   "metadata": {},
   "outputs": [],
   "source": [
    "# remove rows with multiple values for a post on a day\n",
    "df = df[\n",
    "    df[\"impressions\"] == df.groupby([\"date\", \"name\"])[\"impressions\"].transform(\"max\")\n",
    "]\n",
    "\n",
    "# drop duplicate rows\n",
    "df = df.drop_duplicates(subset=[\"date\", \"name\"])"
   ]
  },
  {
   "cell_type": "markdown",
   "id": "f3be7b95",
   "metadata": {},
   "source": [
    "### Example Analysis: How long does it take for posts to start gaining traction on Google?\n",
    "\n",
    "One of the disappointing realities of posting new articles on a new website is that is can take weeks or even months to start ranking on Google.\n",
    "\n",
    "You can use the data from the Search Console API to gain more insights:\n",
    "\n",
    "How long does it take for posts to rank on Google? Are there any interesting trends? Are some articles picked up sooner than others? etc..\n",
    "\n",
    "It would be extremely difficult to carry out this analysis in the Search Console user interface without the granular data provided by the API.\n",
    "\n",
    "I'll take a look at a handful of posts to see how their rankings have changed over time."
   ]
  },
  {
   "cell_type": "code",
   "execution_count": 15,
   "id": "07db2717",
   "metadata": {},
   "outputs": [],
   "source": [
    "# selection of post names\n",
    "posts = [\n",
    "    \"matplotlib_subplots\",\n",
    "    \"kafka-developer-certificate\",\n",
    "    \"install_miniconda_from_the_command_line\",\n",
    "    \"sql_like_window_functions_in_pandas\",\n",
    "    \"configure_terminal_for_data_science_with_oh_my_zsh\",\n",
    "    \"how_to_extract_bucket_and_filename_info_from_gcs_uri\",\n",
    "]"
   ]
  },
  {
   "cell_type": "code",
   "execution_count": 16,
   "id": "713bc760",
   "metadata": {},
   "outputs": [],
   "source": [
    "# filter dataframe to only include subset of posts\n",
    "ranking_df = df[df[\"name\"].isin(posts)].copy()"
   ]
  },
  {
   "cell_type": "markdown",
   "id": "abb5a4f7",
   "metadata": {},
   "source": [
    "The posts were published at different times with some posts much older than others. Therefore, I will create a new column -- 'days since first impression' -- to 'normalise' the starting date."
   ]
  },
  {
   "cell_type": "code",
   "execution_count": 17,
   "id": "cc9ff99b",
   "metadata": {},
   "outputs": [],
   "source": [
    "ranking_df[\"days_since_first_impression\"] = (\n",
    "    ranking_df.sort_values(\"date\").groupby([\"name\"])[\"date\"].cumcount()\n",
    ")"
   ]
  },
  {
   "cell_type": "markdown",
   "id": "398fce04",
   "metadata": {},
   "source": [
    "We can pivot the dataframe to make it easier to plot"
   ]
  },
  {
   "cell_type": "code",
   "execution_count": 18,
   "id": "9f017035",
   "metadata": {},
   "outputs": [],
   "source": [
    "ranking_pivot = ranking_df.pivot_table(\n",
    "    index=\"days_since_first_impression\", columns=\"name\", values=\"impressions\"\n",
    ")\n",
    "\n",
    "# reorder columns to be in order of when they were posted\n",
    "ranking_pivot = ranking_pivot[posts]"
   ]
  },
  {
   "cell_type": "code",
   "execution_count": 19,
   "id": "0afbf234",
   "metadata": {
    "scrolled": false
   },
   "outputs": [
    {
     "data": {
      "image/png": "[encoded data removed]",
      "text/plain": [
       "<Figure size 1080x1080 with 6 Axes>"
      ]
     },
     "metadata": {
      "needs_background": "light"
     },
     "output_type": "display_data"
    }
   ],
   "source": [
    "# set matplotlib formatting (optional)\n",
    "mpl.rcParams[\"axes.spines.right\"] = False\n",
    "mpl.rcParams[\"axes.spines.top\"] = False\n",
    "mpl.rcParams[\"axes.spines.left\"] = False\n",
    "mpl.rcParams[\"axes.titlepad\"] = 10\n",
    "\n",
    "\n",
    "def reformat_title(title: str) -> str:\n",
    "    split_title = \" \".join(title.split(\"_\"))\n",
    "    split_title = \" \".join(split_title.split(\"-\"))\n",
    "    return split_title.title()\n",
    "\n",
    "\n",
    "# code snippet adapted from engineeringfordatascience.com/posts/matplotlib_subplots/\n",
    "plt.figure(figsize=(15, 15))\n",
    "plt.subplots_adjust(hspace=0.5)\n",
    "\n",
    "ncols = 2\n",
    "nrows = len(posts) // ncols + (len(posts) % ncols > 0)\n",
    "\n",
    "max_days = len(ranking_pivot)\n",
    "\n",
    "# loop through the length of tickers and keep track of index\n",
    "for n, post in enumerate(posts):\n",
    "    # add a new subplot iteratively\n",
    "    ax = plt.subplot(nrows, ncols, n + 1)\n",
    "\n",
    "    # filter df and plot ticker on the new subplot axis\n",
    "    plotting_df = ranking_pivot[post]\n",
    "    plotting_df.plot(ax=ax, color=\"#1363DF\")\n",
    "\n",
    "    # chart formatting\n",
    "    ax.set_title(reformat_title(post))\n",
    "    ax.set_xlabel(\"Days since first impression\")\n",
    "    ax.set_xlim(0, max_days)\n",
    "    ax.set_yticks([])\n",
    "\n",
    "plt.suptitle(\n",
    "    \"Daily search impressions trend for selected articles\",\n",
    "    y=0.95,\n",
    "    fontsize=20,\n",
    "    fontweight=\"bold\",\n",
    ")\n",
    "\n",
    "plt.show()"
   ]
  },
  {
   "cell_type": "markdown",
   "id": "523f8434",
   "metadata": {},
   "source": [
    "The matplotlib and Kafka articles (top row) are two of my oldest on the website. It took around 100 days for them to start ranking on Google. Comparatively, the Oh My Zsh and GCS URI information articles (bottom row), that were published much more recently, only took 25-50 days to start seeing significant impressions on Google.\n",
    "\n",
    "I have read that Google will rank articles on more mature websites more quickly, which seems to be the case here. 25 days still feels like a lifetime when publishing content online but at least things are improving.\n",
    "\n",
    "My search traffic is very weekly seasonal, with many more searches during the week which then falls off at the weekend -- makes sense as most developers will be searching for answers to questions when they are working during the week. Interestingly, the Kafka and Oh My Zsh articles show less weekly seasonaility that the other articles. Maybe developers spend more time at the weekend on tasks less related to their work such as revising for exams or fiddling with their configurations."
   ]
  },
  {
   "cell_type": "markdown",
   "id": "cabb8824",
   "metadata": {},
   "source": [
    "## Conclusion\n",
    "\n",
    "In this article we have demonstrated how to connect to your Google Search Console data and authenticate using service accounts and service account impersonation.\n",
    "\n",
    "If you are familiar with the command line, you should consider using service account impersonation instead of downloading key files to authenticate your service account API calls. Service account impersonation removes the need for downloading and sharing key files which could be a security risk, particularly if you need to give other people access to your project.\n",
    "\n",
    "The Search Console API provides very granular data across a multitude of dimensions ripe for analysis. With some basic Python skills you can answer many questions in an efficient and automated fashion, free from the limited Search Console user interface.\n",
    "\n",
    "Happy coding!"
   ]
  },
  {
   "cell_type": "markdown",
   "id": "f42828bd",
   "metadata": {},
   "source": [
    "### Resources\n",
    "\n",
    "- [Impersonated credentials with Google Auth Python Library](https://google-auth.readthedocs.io/en/master/reference/google.auth.impersonated_credentials.html)\n",
    "- [Article on service account impersonation](https://www.jhanley.com/google-cloud-improving-security-with-impersonation/)"
   ]
  }
 ],
 "metadata": {
  "kernelspec": {
   "display_name": "Python 3 (ipykernel)",
   "language": "python",
   "name": "python3"
  },
  "language_info": {
   "codemirror_mode": {
    "name": "ipython",
    "version": 3
   },
   "file_extension": ".py",
   "mimetype": "text/x-python",
   "name": "python",
   "nbconvert_exporter": "python",
   "pygments_lexer": "ipython3",
   "version": "3.10.0"
  }
 },
 "nbformat": 4,
 "nbformat_minor": 5
}
