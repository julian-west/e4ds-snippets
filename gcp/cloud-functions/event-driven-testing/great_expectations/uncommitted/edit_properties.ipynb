{
 "cells": [
  {
   "cell_type": "markdown",
   "id": "5a47bfd2",
   "metadata": {},
   "source": [
    "# Edit Your Expectation Suite\n",
    "Use this notebook to recreate and modify your expectation suite:\n",
    "\n",
    "**Expectation Suite Name**: `properties`\n"
   ]
  },
  {
   "cell_type": "code",
   "execution_count": 1,
   "id": "1e95bd0b",
   "metadata": {},
   "outputs": [
    {
     "name": "stdout",
     "output_type": "stream",
     "text": [
      "2021-11-17T21:04:57+0000 - INFO - Great Expectations logging enabled at 20 level by JupyterUX module.\n",
      "2021-11-17T21:04:57+0000 - WARNING - You appear to be using a legacy capability with the latest config version (3.0).\n",
      "    Your data context with this configuration version uses validation_operators, which are being deprecated.  Please consult the V3 API migration guide https://docs.greatexpectations.io/docs/guides/miscellaneous/migration_guide#migrating-to-the-batch-request-v3-api and update your configuration to be compatible with the version number 3.\n",
      "    (This message will appear repeatedly until your configuration is updated.)\n",
      "\n",
      "2021-11-17T21:05:02+0000 - INFO - Usage statistics is disabled; skipping initialization.\n",
      "Created ExpectationSuite \"properties\".\n"
     ]
    }
   ],
   "source": [
    "import great_expectations as ge\n",
    "import great_expectations.jupyter_ux\n",
    "from great_expectations.core.expectation_configuration import ExpectationConfiguration\n",
    "\n",
    "context = ge.data_context.DataContext()\n",
    "\n",
    "suite = context.create_expectation_suite(\n",
    "    expectation_suite_name=\"properties\", overwrite_existing=True\n",
    ")\n",
    "print(f'Created ExpectationSuite \"{suite.expectation_suite_name}\".')"
   ]
  },
  {
   "cell_type": "markdown",
   "id": "cb88237e",
   "metadata": {},
   "source": [
    "## Create & Edit Expectations\n",
    "\n",
    "\n",
    "You are adding Expectation configurations to the suite. Since you selected manual mode, there is no sample batch of data and no validation happens during this process. See our documentation for more info and examples: **[How to create a new Expectation Suite without a sample batch](https://docs.greatexpectations.io/en/latest/guides/how_to_guides/creating_and_editing_expectations/how_to_create_a_new_expectation_suite_without_a_sample_batch.html)**.\n",
    "\n",
    "Note that if you do use interactive mode you may specify a sample batch of data to use when creating your Expectation Suite. You can then use a `validator` to get immediate feedback on your Expectations against your specified sample batch.\n",
    "\n",
    "\n",
    "You can see all the available expectations in the **[expectation glossary](https://docs.greatexpectations.io/en/latest/reference/glossary_of_expectations.html?utm_source=notebook&utm_medium=create_expectations)**."
   ]
  },
  {
   "cell_type": "code",
   "execution_count": 2,
   "id": "bf8ca1b1",
   "metadata": {},
   "outputs": [
    {
     "data": {
      "application/javascript": [
       "\n",
       "            setTimeout(function() {\n",
       "                var nbb_cell_id = 2;\n",
       "                var nbb_unformatted_code = \"%load_ext nb_black\";\n",
       "                var nbb_formatted_code = \"%load_ext nb_black\";\n",
       "                var nbb_cells = Jupyter.notebook.get_cells();\n",
       "                for (var i = 0; i < nbb_cells.length; ++i) {\n",
       "                    if (nbb_cells[i].input_prompt_number == nbb_cell_id) {\n",
       "                        if (nbb_cells[i].get_text() == nbb_unformatted_code) {\n",
       "                             nbb_cells[i].set_text(nbb_formatted_code);\n",
       "                        }\n",
       "                        break;\n",
       "                    }\n",
       "                }\n",
       "            }, 500);\n",
       "            "
      ],
      "text/plain": [
       "<IPython.core.display.Javascript object>"
      ]
     },
     "metadata": {},
     "output_type": "display_data"
    }
   ],
   "source": [
    "%load_ext nb_black"
   ]
  },
  {
   "cell_type": "markdown",
   "id": "f80d75c9",
   "metadata": {},
   "source": [
    "### Table Expectation(s)"
   ]
  },
  {
   "cell_type": "markdown",
   "id": "dc935cb3",
   "metadata": {},
   "source": [
    "**Expected number of columns**"
   ]
  },
  {
   "cell_type": "code",
   "execution_count": 3,
   "id": "d86f1946",
   "metadata": {},
   "outputs": [
    {
     "data": {
      "text/plain": [
       "{\"kwargs\": {\"value\": 12}, \"expectation_type\": \"expect_table_column_count_to_equal\", \"meta\": {\"notes\": {\"format\": \"markdown\", \"content\": \"Expect the number of columns to be 12\"}}, \"ge_cloud_id\": null}"
      ]
     },
     "execution_count": 3,
     "metadata": {},
     "output_type": "execute_result"
    },
    {
     "data": {
      "application/javascript": [
       "\n",
       "            setTimeout(function() {\n",
       "                var nbb_cell_id = 3;\n",
       "                var nbb_unformatted_code = \"col_headers = [\\n    \\\"propertyId\\\",\\n    \\\"address\\\",\\n    \\\"city\\\",\\n    \\\"county\\\",\\n    \\\"postCode\\\",\\n    \\\"propertyType\\\",\\n    \\\"dateSold\\\",\\n    \\\"propertyAge\\\",\\n    \\\"totalRooms\\\",\\n    \\\"totalBedrooms\\\",\\n    \\\"propertyArea\\\",\\n    \\\"priceSold\\\",\\n]\\n\\nexpectation_configuration = ExpectationConfiguration(\\n    expectation_type=\\\"expect_table_column_count_to_equal\\\",\\n    kwargs={\\\"value\\\": len(col_headers)},\\n    meta={\\n        \\\"notes\\\": {\\n            \\\"format\\\": \\\"markdown\\\",\\n            \\\"content\\\": f\\\"Expect the number of columns to be {len(col_headers)}\\\",\\n        }\\n    },\\n)\\nsuite.add_expectation(expectation_configuration=expectation_configuration)\";\n",
       "                var nbb_formatted_code = \"col_headers = [\\n    \\\"propertyId\\\",\\n    \\\"address\\\",\\n    \\\"city\\\",\\n    \\\"county\\\",\\n    \\\"postCode\\\",\\n    \\\"propertyType\\\",\\n    \\\"dateSold\\\",\\n    \\\"propertyAge\\\",\\n    \\\"totalRooms\\\",\\n    \\\"totalBedrooms\\\",\\n    \\\"propertyArea\\\",\\n    \\\"priceSold\\\",\\n]\\n\\nexpectation_configuration = ExpectationConfiguration(\\n    expectation_type=\\\"expect_table_column_count_to_equal\\\",\\n    kwargs={\\\"value\\\": len(col_headers)},\\n    meta={\\n        \\\"notes\\\": {\\n            \\\"format\\\": \\\"markdown\\\",\\n            \\\"content\\\": f\\\"Expect the number of columns to be {len(col_headers)}\\\",\\n        }\\n    },\\n)\\nsuite.add_expectation(expectation_configuration=expectation_configuration)\";\n",
       "                var nbb_cells = Jupyter.notebook.get_cells();\n",
       "                for (var i = 0; i < nbb_cells.length; ++i) {\n",
       "                    if (nbb_cells[i].input_prompt_number == nbb_cell_id) {\n",
       "                        if (nbb_cells[i].get_text() == nbb_unformatted_code) {\n",
       "                             nbb_cells[i].set_text(nbb_formatted_code);\n",
       "                        }\n",
       "                        break;\n",
       "                    }\n",
       "                }\n",
       "            }, 500);\n",
       "            "
      ],
      "text/plain": [
       "<IPython.core.display.Javascript object>"
      ]
     },
     "metadata": {},
     "output_type": "display_data"
    }
   ],
   "source": [
    "col_headers = [\n",
    "    \"propertyId\",\n",
    "    \"address\",\n",
    "    \"city\",\n",
    "    \"county\",\n",
    "    \"postCode\",\n",
    "    \"propertyType\",\n",
    "    \"dateSold\",\n",
    "    \"propertyAge\",\n",
    "    \"totalRooms\",\n",
    "    \"totalBedrooms\",\n",
    "    \"propertyArea\",\n",
    "    \"priceSold\",\n",
    "]\n",
    "\n",
    "expectation_configuration = ExpectationConfiguration(\n",
    "    expectation_type=\"expect_table_column_count_to_equal\",\n",
    "    kwargs={\"value\": len(col_headers)},\n",
    "    meta={\n",
    "        \"notes\": {\n",
    "            \"format\": \"markdown\",\n",
    "            \"content\": f\"Expect the number of columns to be {len(col_headers)}\",\n",
    "        }\n",
    "    },\n",
    ")\n",
    "suite.add_expectation(expectation_configuration=expectation_configuration)"
   ]
  },
  {
   "cell_type": "markdown",
   "id": "68414281",
   "metadata": {},
   "source": [
    "**Expected column order**"
   ]
  },
  {
   "cell_type": "code",
   "execution_count": 4,
   "id": "775259f7",
   "metadata": {},
   "outputs": [
    {
     "data": {
      "text/plain": [
       "{\"kwargs\": {\"column_list\": [\"propertyId\", \"address\", \"city\", \"county\", \"postCode\", \"propertyType\", \"dateSold\", \"propertyAge\", \"totalRooms\", \"totalBedrooms\", \"propertyArea\", \"priceSold\"]}, \"expectation_type\": \"expect_table_columns_to_match_ordered_list\", \"meta\": {\"notes\": {\"format\": \"markdown\", \"content\": \"expect order of columns to match col_headers list\"}}, \"ge_cloud_id\": null}"
      ]
     },
     "execution_count": 4,
     "metadata": {},
     "output_type": "execute_result"
    },
    {
     "data": {
      "application/javascript": [
       "\n",
       "            setTimeout(function() {\n",
       "                var nbb_cell_id = 4;\n",
       "                var nbb_unformatted_code = \"# expect order of columns to match col_headers\\nexpectation_configuration = ExpectationConfiguration(\\n    expectation_type=\\\"expect_table_columns_to_match_ordered_list\\\",\\n    kwargs={\\n        \\\"column_list\\\": col_headers,\\n    },\\n    meta={\\n        \\\"notes\\\": {\\n            \\\"format\\\": \\\"markdown\\\",\\n            \\\"content\\\": \\\"expect order of columns to match col_headers list\\\",\\n        }\\n    },\\n)\\nsuite.add_expectation(expectation_configuration=expectation_configuration)\";\n",
       "                var nbb_formatted_code = \"# expect order of columns to match col_headers\\nexpectation_configuration = ExpectationConfiguration(\\n    expectation_type=\\\"expect_table_columns_to_match_ordered_list\\\",\\n    kwargs={\\n        \\\"column_list\\\": col_headers,\\n    },\\n    meta={\\n        \\\"notes\\\": {\\n            \\\"format\\\": \\\"markdown\\\",\\n            \\\"content\\\": \\\"expect order of columns to match col_headers list\\\",\\n        }\\n    },\\n)\\nsuite.add_expectation(expectation_configuration=expectation_configuration)\";\n",
       "                var nbb_cells = Jupyter.notebook.get_cells();\n",
       "                for (var i = 0; i < nbb_cells.length; ++i) {\n",
       "                    if (nbb_cells[i].input_prompt_number == nbb_cell_id) {\n",
       "                        if (nbb_cells[i].get_text() == nbb_unformatted_code) {\n",
       "                             nbb_cells[i].set_text(nbb_formatted_code);\n",
       "                        }\n",
       "                        break;\n",
       "                    }\n",
       "                }\n",
       "            }, 500);\n",
       "            "
      ],
      "text/plain": [
       "<IPython.core.display.Javascript object>"
      ]
     },
     "metadata": {},
     "output_type": "display_data"
    }
   ],
   "source": [
    "# expect order of columns to match col_headers\n",
    "expectation_configuration = ExpectationConfiguration(\n",
    "    expectation_type=\"expect_table_columns_to_match_ordered_list\",\n",
    "    kwargs={\n",
    "        \"column_list\": col_headers,\n",
    "    },\n",
    "    meta={\n",
    "        \"notes\": {\n",
    "            \"format\": \"markdown\",\n",
    "            \"content\": \"expect order of columns to match col_headers list\",\n",
    "        }\n",
    "    },\n",
    ")\n",
    "suite.add_expectation(expectation_configuration=expectation_configuration)"
   ]
  },
  {
   "cell_type": "markdown",
   "id": "cbecbc42",
   "metadata": {},
   "source": [
    "**Expect no null values in any column**"
   ]
  },
  {
   "cell_type": "code",
   "execution_count": 5,
   "id": "46bd6622",
   "metadata": {},
   "outputs": [
    {
     "data": {
      "application/javascript": [
       "\n",
       "            setTimeout(function() {\n",
       "                var nbb_cell_id = 5;\n",
       "                var nbb_unformatted_code = \"for col in col_headers:\\n    expectation_configuration = ExpectationConfiguration(\\n        expectation_type=\\\"expect_column_values_to_not_be_null\\\", kwargs={\\\"column\\\": col}\\n    )\\n    suite.add_expectation(expectation_configuration=expectation_configuration)\";\n",
       "                var nbb_formatted_code = \"for col in col_headers:\\n    expectation_configuration = ExpectationConfiguration(\\n        expectation_type=\\\"expect_column_values_to_not_be_null\\\", kwargs={\\\"column\\\": col}\\n    )\\n    suite.add_expectation(expectation_configuration=expectation_configuration)\";\n",
       "                var nbb_cells = Jupyter.notebook.get_cells();\n",
       "                for (var i = 0; i < nbb_cells.length; ++i) {\n",
       "                    if (nbb_cells[i].input_prompt_number == nbb_cell_id) {\n",
       "                        if (nbb_cells[i].get_text() == nbb_unformatted_code) {\n",
       "                             nbb_cells[i].set_text(nbb_formatted_code);\n",
       "                        }\n",
       "                        break;\n",
       "                    }\n",
       "                }\n",
       "            }, 500);\n",
       "            "
      ],
      "text/plain": [
       "<IPython.core.display.Javascript object>"
      ]
     },
     "metadata": {},
     "output_type": "display_data"
    }
   ],
   "source": [
    "for col in col_headers:\n",
    "    expectation_configuration = ExpectationConfiguration(\n",
    "        expectation_type=\"expect_column_values_to_not_be_null\", kwargs={\"column\": col}\n",
    "    )\n",
    "    suite.add_expectation(expectation_configuration=expectation_configuration)"
   ]
  },
  {
   "cell_type": "markdown",
   "id": "d9a3a15c",
   "metadata": {},
   "source": [
    "### Column Expectation(s)"
   ]
  },
  {
   "cell_type": "markdown",
   "id": "eedad0ea",
   "metadata": {},
   "source": [
    "No column level expectations are in this suite. Feel free to add some here.\n"
   ]
  },
  {
   "cell_type": "markdown",
   "id": "6e9f1523",
   "metadata": {},
   "source": [
    "**propertyId**\n"
   ]
  },
  {
   "cell_type": "code",
   "execution_count": 6,
   "id": "8192179d",
   "metadata": {},
   "outputs": [
    {
     "data": {
      "text/plain": [
       "{\"kwargs\": {\"column\": \"propertyId\", \"type_\": \"int64\"}, \"expectation_type\": \"expect_column_values_to_be_of_type\", \"meta\": {}, \"ge_cloud_id\": null}"
      ]
     },
     "execution_count": 6,
     "metadata": {},
     "output_type": "execute_result"
    },
    {
     "data": {
      "application/javascript": [
       "\n",
       "            setTimeout(function() {\n",
       "                var nbb_cell_id = 6;\n",
       "                var nbb_unformatted_code = \"# column should be an int\\nexpectation_configuration = ExpectationConfiguration(\\n    expectation_type=\\\"expect_column_values_to_be_of_type\\\",\\n    kwargs={\\n        \\\"column\\\": \\\"propertyId\\\",\\n        \\\"type_\\\": \\\"int64\\\",\\n    },\\n)\\nsuite.add_expectation(expectation_configuration=expectation_configuration)\";\n",
       "                var nbb_formatted_code = \"# column should be an int\\nexpectation_configuration = ExpectationConfiguration(\\n    expectation_type=\\\"expect_column_values_to_be_of_type\\\",\\n    kwargs={\\n        \\\"column\\\": \\\"propertyId\\\",\\n        \\\"type_\\\": \\\"int64\\\",\\n    },\\n)\\nsuite.add_expectation(expectation_configuration=expectation_configuration)\";\n",
       "                var nbb_cells = Jupyter.notebook.get_cells();\n",
       "                for (var i = 0; i < nbb_cells.length; ++i) {\n",
       "                    if (nbb_cells[i].input_prompt_number == nbb_cell_id) {\n",
       "                        if (nbb_cells[i].get_text() == nbb_unformatted_code) {\n",
       "                             nbb_cells[i].set_text(nbb_formatted_code);\n",
       "                        }\n",
       "                        break;\n",
       "                    }\n",
       "                }\n",
       "            }, 500);\n",
       "            "
      ],
      "text/plain": [
       "<IPython.core.display.Javascript object>"
      ]
     },
     "metadata": {},
     "output_type": "display_data"
    }
   ],
   "source": [
    "# column should be an int\n",
    "expectation_configuration = ExpectationConfiguration(\n",
    "    expectation_type=\"expect_column_values_to_be_of_type\",\n",
    "    kwargs={\n",
    "        \"column\": \"propertyId\",\n",
    "        \"type_\": \"int64\",\n",
    "    },\n",
    ")\n",
    "suite.add_expectation(expectation_configuration=expectation_configuration)"
   ]
  },
  {
   "cell_type": "code",
   "execution_count": 7,
   "id": "8fea1c92",
   "metadata": {},
   "outputs": [
    {
     "data": {
      "text/plain": [
       "{\"kwargs\": {\"column\": \"propertyId\", \"min_value\": 0}, \"expectation_type\": \"expect_column_values_to_be_between\", \"meta\": {}, \"ge_cloud_id\": null}"
      ]
     },
     "execution_count": 7,
     "metadata": {},
     "output_type": "execute_result"
    },
    {
     "data": {
      "application/javascript": [
       "\n",
       "            setTimeout(function() {\n",
       "                var nbb_cell_id = 7;\n",
       "                var nbb_unformatted_code = \"# column should be greater than 0\\nexpectation_configuration = ExpectationConfiguration(\\n    expectation_type=\\\"expect_column_values_to_be_between\\\",\\n    kwargs={\\n        \\\"column\\\": \\\"propertyId\\\",\\n        \\\"min_value\\\": 0,\\n    },\\n)\\nsuite.add_expectation(expectation_configuration=expectation_configuration)\";\n",
       "                var nbb_formatted_code = \"# column should be greater than 0\\nexpectation_configuration = ExpectationConfiguration(\\n    expectation_type=\\\"expect_column_values_to_be_between\\\",\\n    kwargs={\\n        \\\"column\\\": \\\"propertyId\\\",\\n        \\\"min_value\\\": 0,\\n    },\\n)\\nsuite.add_expectation(expectation_configuration=expectation_configuration)\";\n",
       "                var nbb_cells = Jupyter.notebook.get_cells();\n",
       "                for (var i = 0; i < nbb_cells.length; ++i) {\n",
       "                    if (nbb_cells[i].input_prompt_number == nbb_cell_id) {\n",
       "                        if (nbb_cells[i].get_text() == nbb_unformatted_code) {\n",
       "                             nbb_cells[i].set_text(nbb_formatted_code);\n",
       "                        }\n",
       "                        break;\n",
       "                    }\n",
       "                }\n",
       "            }, 500);\n",
       "            "
      ],
      "text/plain": [
       "<IPython.core.display.Javascript object>"
      ]
     },
     "metadata": {},
     "output_type": "display_data"
    }
   ],
   "source": [
    "# column should be greater than 0\n",
    "expectation_configuration = ExpectationConfiguration(\n",
    "    expectation_type=\"expect_column_values_to_be_between\",\n",
    "    kwargs={\n",
    "        \"column\": \"propertyId\",\n",
    "        \"min_value\": 0,\n",
    "    },\n",
    ")\n",
    "suite.add_expectation(expectation_configuration=expectation_configuration)"
   ]
  },
  {
   "cell_type": "markdown",
   "id": "d7171b25",
   "metadata": {},
   "source": [
    "**address**"
   ]
  },
  {
   "cell_type": "code",
   "execution_count": 8,
   "id": "31c1f9cb",
   "metadata": {},
   "outputs": [
    {
     "data": {
      "text/plain": [
       "{\"kwargs\": {\"column\": \"address\", \"type_\": \"str\"}, \"expectation_type\": \"expect_column_values_to_be_of_type\", \"meta\": {}, \"ge_cloud_id\": null}"
      ]
     },
     "execution_count": 8,
     "metadata": {},
     "output_type": "execute_result"
    },
    {
     "data": {
      "application/javascript": [
       "\n",
       "            setTimeout(function() {\n",
       "                var nbb_cell_id = 8;\n",
       "                var nbb_unformatted_code = \"# column should be an str\\nexpectation_configuration = ExpectationConfiguration(\\n    expectation_type=\\\"expect_column_values_to_be_of_type\\\",\\n    kwargs={\\n        \\\"column\\\": \\\"address\\\",\\n        \\\"type_\\\": \\\"str\\\",\\n    },\\n)\\nsuite.add_expectation(expectation_configuration=expectation_configuration)\";\n",
       "                var nbb_formatted_code = \"# column should be an str\\nexpectation_configuration = ExpectationConfiguration(\\n    expectation_type=\\\"expect_column_values_to_be_of_type\\\",\\n    kwargs={\\n        \\\"column\\\": \\\"address\\\",\\n        \\\"type_\\\": \\\"str\\\",\\n    },\\n)\\nsuite.add_expectation(expectation_configuration=expectation_configuration)\";\n",
       "                var nbb_cells = Jupyter.notebook.get_cells();\n",
       "                for (var i = 0; i < nbb_cells.length; ++i) {\n",
       "                    if (nbb_cells[i].input_prompt_number == nbb_cell_id) {\n",
       "                        if (nbb_cells[i].get_text() == nbb_unformatted_code) {\n",
       "                             nbb_cells[i].set_text(nbb_formatted_code);\n",
       "                        }\n",
       "                        break;\n",
       "                    }\n",
       "                }\n",
       "            }, 500);\n",
       "            "
      ],
      "text/plain": [
       "<IPython.core.display.Javascript object>"
      ]
     },
     "metadata": {},
     "output_type": "display_data"
    }
   ],
   "source": [
    "# column should be an str\n",
    "expectation_configuration = ExpectationConfiguration(\n",
    "    expectation_type=\"expect_column_values_to_be_of_type\",\n",
    "    kwargs={\n",
    "        \"column\": \"address\",\n",
    "        \"type_\": \"str\",\n",
    "    },\n",
    ")\n",
    "suite.add_expectation(expectation_configuration=expectation_configuration)"
   ]
  },
  {
   "cell_type": "code",
   "execution_count": 9,
   "id": "1bdae7d0",
   "metadata": {},
   "outputs": [
    {
     "data": {
      "text/plain": [
       "{\"kwargs\": {\"column\": \"address\", \"min_value\": 5, \"max_value\": 100}, \"expectation_type\": \"expect_column_value_lengths_to_be_between\", \"meta\": {}, \"ge_cloud_id\": null}"
      ]
     },
     "execution_count": 9,
     "metadata": {},
     "output_type": "execute_result"
    },
    {
     "data": {
      "application/javascript": [
       "\n",
       "            setTimeout(function() {\n",
       "                var nbb_cell_id = 9;\n",
       "                var nbb_unformatted_code = \"# column should have more than 5 characters but fewer than 100\\nexpectation_configuration = ExpectationConfiguration(\\n    expectation_type=\\\"expect_column_value_lengths_to_be_between\\\",\\n    kwargs={\\\"column\\\": \\\"address\\\", \\\"min_value\\\": 5, \\\"max_value\\\": 100},\\n)\\nsuite.add_expectation(expectation_configuration=expectation_configuration)\";\n",
       "                var nbb_formatted_code = \"# column should have more than 5 characters but fewer than 100\\nexpectation_configuration = ExpectationConfiguration(\\n    expectation_type=\\\"expect_column_value_lengths_to_be_between\\\",\\n    kwargs={\\\"column\\\": \\\"address\\\", \\\"min_value\\\": 5, \\\"max_value\\\": 100},\\n)\\nsuite.add_expectation(expectation_configuration=expectation_configuration)\";\n",
       "                var nbb_cells = Jupyter.notebook.get_cells();\n",
       "                for (var i = 0; i < nbb_cells.length; ++i) {\n",
       "                    if (nbb_cells[i].input_prompt_number == nbb_cell_id) {\n",
       "                        if (nbb_cells[i].get_text() == nbb_unformatted_code) {\n",
       "                             nbb_cells[i].set_text(nbb_formatted_code);\n",
       "                        }\n",
       "                        break;\n",
       "                    }\n",
       "                }\n",
       "            }, 500);\n",
       "            "
      ],
      "text/plain": [
       "<IPython.core.display.Javascript object>"
      ]
     },
     "metadata": {},
     "output_type": "display_data"
    }
   ],
   "source": [
    "# column should have more than 5 characters but fewer than 100\n",
    "expectation_configuration = ExpectationConfiguration(\n",
    "    expectation_type=\"expect_column_value_lengths_to_be_between\",\n",
    "    kwargs={\"column\": \"address\", \"min_value\": 5, \"max_value\": 100},\n",
    ")\n",
    "suite.add_expectation(expectation_configuration=expectation_configuration)"
   ]
  },
  {
   "cell_type": "markdown",
   "id": "15b87b91",
   "metadata": {},
   "source": [
    "**city**"
   ]
  },
  {
   "cell_type": "code",
   "execution_count": 10,
   "id": "6ae843ee",
   "metadata": {},
   "outputs": [
    {
     "data": {
      "text/plain": [
       "{\"kwargs\": {\"column\": \"city\", \"type_\": \"str\"}, \"expectation_type\": \"expect_column_values_to_be_of_type\", \"meta\": {}, \"ge_cloud_id\": null}"
      ]
     },
     "execution_count": 10,
     "metadata": {},
     "output_type": "execute_result"
    },
    {
     "data": {
      "application/javascript": [
       "\n",
       "            setTimeout(function() {\n",
       "                var nbb_cell_id = 10;\n",
       "                var nbb_unformatted_code = \"# column should be an str\\nexpectation_configuration = ExpectationConfiguration(\\n    expectation_type=\\\"expect_column_values_to_be_of_type\\\",\\n    kwargs={\\n        \\\"column\\\": \\\"city\\\",\\n        \\\"type_\\\": \\\"str\\\",\\n    },\\n)\\nsuite.add_expectation(expectation_configuration=expectation_configuration)\";\n",
       "                var nbb_formatted_code = \"# column should be an str\\nexpectation_configuration = ExpectationConfiguration(\\n    expectation_type=\\\"expect_column_values_to_be_of_type\\\",\\n    kwargs={\\n        \\\"column\\\": \\\"city\\\",\\n        \\\"type_\\\": \\\"str\\\",\\n    },\\n)\\nsuite.add_expectation(expectation_configuration=expectation_configuration)\";\n",
       "                var nbb_cells = Jupyter.notebook.get_cells();\n",
       "                for (var i = 0; i < nbb_cells.length; ++i) {\n",
       "                    if (nbb_cells[i].input_prompt_number == nbb_cell_id) {\n",
       "                        if (nbb_cells[i].get_text() == nbb_unformatted_code) {\n",
       "                             nbb_cells[i].set_text(nbb_formatted_code);\n",
       "                        }\n",
       "                        break;\n",
       "                    }\n",
       "                }\n",
       "            }, 500);\n",
       "            "
      ],
      "text/plain": [
       "<IPython.core.display.Javascript object>"
      ]
     },
     "metadata": {},
     "output_type": "display_data"
    }
   ],
   "source": [
    "# column should be an str\n",
    "expectation_configuration = ExpectationConfiguration(\n",
    "    expectation_type=\"expect_column_values_to_be_of_type\",\n",
    "    kwargs={\n",
    "        \"column\": \"city\",\n",
    "        \"type_\": \"str\",\n",
    "    },\n",
    ")\n",
    "suite.add_expectation(expectation_configuration=expectation_configuration)"
   ]
  },
  {
   "cell_type": "code",
   "execution_count": 11,
   "id": "15fa85fa",
   "metadata": {},
   "outputs": [
    {
     "data": {
      "text/plain": [
       "{\"kwargs\": {\"column\": \"city\", \"max_value\": 100}, \"expectation_type\": \"expect_column_value_lengths_to_be_between\", \"meta\": {}, \"ge_cloud_id\": null}"
      ]
     },
     "execution_count": 11,
     "metadata": {},
     "output_type": "execute_result"
    },
    {
     "data": {
      "application/javascript": [
       "\n",
       "            setTimeout(function() {\n",
       "                var nbb_cell_id = 11;\n",
       "                var nbb_unformatted_code = \"# column should have fewer than 100\\nexpectation_configuration = ExpectationConfiguration(\\n    expectation_type=\\\"expect_column_value_lengths_to_be_between\\\",\\n    kwargs={\\\"column\\\": \\\"city\\\", \\\"max_value\\\": 100},\\n)\\nsuite.add_expectation(expectation_configuration=expectation_configuration)\";\n",
       "                var nbb_formatted_code = \"# column should have fewer than 100\\nexpectation_configuration = ExpectationConfiguration(\\n    expectation_type=\\\"expect_column_value_lengths_to_be_between\\\",\\n    kwargs={\\\"column\\\": \\\"city\\\", \\\"max_value\\\": 100},\\n)\\nsuite.add_expectation(expectation_configuration=expectation_configuration)\";\n",
       "                var nbb_cells = Jupyter.notebook.get_cells();\n",
       "                for (var i = 0; i < nbb_cells.length; ++i) {\n",
       "                    if (nbb_cells[i].input_prompt_number == nbb_cell_id) {\n",
       "                        if (nbb_cells[i].get_text() == nbb_unformatted_code) {\n",
       "                             nbb_cells[i].set_text(nbb_formatted_code);\n",
       "                        }\n",
       "                        break;\n",
       "                    }\n",
       "                }\n",
       "            }, 500);\n",
       "            "
      ],
      "text/plain": [
       "<IPython.core.display.Javascript object>"
      ]
     },
     "metadata": {},
     "output_type": "display_data"
    }
   ],
   "source": [
    "# column should have fewer than 100\n",
    "expectation_configuration = ExpectationConfiguration(\n",
    "    expectation_type=\"expect_column_value_lengths_to_be_between\",\n",
    "    kwargs={\"column\": \"city\", \"max_value\": 100},\n",
    ")\n",
    "suite.add_expectation(expectation_configuration=expectation_configuration)"
   ]
  },
  {
   "cell_type": "markdown",
   "id": "b17eeeae",
   "metadata": {},
   "source": [
    "**county**"
   ]
  },
  {
   "cell_type": "code",
   "execution_count": 12,
   "id": "0af0969c",
   "metadata": {},
   "outputs": [
    {
     "data": {
      "text/plain": [
       "{\"kwargs\": {\"column\": \"county\", \"type_\": \"str\"}, \"expectation_type\": \"expect_column_values_to_be_of_type\", \"meta\": {}, \"ge_cloud_id\": null}"
      ]
     },
     "execution_count": 12,
     "metadata": {},
     "output_type": "execute_result"
    },
    {
     "data": {
      "application/javascript": [
       "\n",
       "            setTimeout(function() {\n",
       "                var nbb_cell_id = 12;\n",
       "                var nbb_unformatted_code = \"# column should be an str\\nexpectation_configuration = ExpectationConfiguration(\\n    expectation_type=\\\"expect_column_values_to_be_of_type\\\",\\n    kwargs={\\n        \\\"column\\\": \\\"county\\\",\\n        \\\"type_\\\": \\\"str\\\",\\n    },\\n)\\nsuite.add_expectation(expectation_configuration=expectation_configuration)\";\n",
       "                var nbb_formatted_code = \"# column should be an str\\nexpectation_configuration = ExpectationConfiguration(\\n    expectation_type=\\\"expect_column_values_to_be_of_type\\\",\\n    kwargs={\\n        \\\"column\\\": \\\"county\\\",\\n        \\\"type_\\\": \\\"str\\\",\\n    },\\n)\\nsuite.add_expectation(expectation_configuration=expectation_configuration)\";\n",
       "                var nbb_cells = Jupyter.notebook.get_cells();\n",
       "                for (var i = 0; i < nbb_cells.length; ++i) {\n",
       "                    if (nbb_cells[i].input_prompt_number == nbb_cell_id) {\n",
       "                        if (nbb_cells[i].get_text() == nbb_unformatted_code) {\n",
       "                             nbb_cells[i].set_text(nbb_formatted_code);\n",
       "                        }\n",
       "                        break;\n",
       "                    }\n",
       "                }\n",
       "            }, 500);\n",
       "            "
      ],
      "text/plain": [
       "<IPython.core.display.Javascript object>"
      ]
     },
     "metadata": {},
     "output_type": "display_data"
    }
   ],
   "source": [
    "# column should be an str\n",
    "expectation_configuration = ExpectationConfiguration(\n",
    "    expectation_type=\"expect_column_values_to_be_of_type\",\n",
    "    kwargs={\n",
    "        \"column\": \"county\",\n",
    "        \"type_\": \"str\",\n",
    "    },\n",
    ")\n",
    "suite.add_expectation(expectation_configuration=expectation_configuration)"
   ]
  },
  {
   "cell_type": "code",
   "execution_count": 13,
   "id": "8407a542",
   "metadata": {},
   "outputs": [
    {
     "data": {
      "text/plain": [
       "{\"kwargs\": {\"column\": \"county\", \"max_value\": 100}, \"expectation_type\": \"expect_column_value_lengths_to_be_between\", \"meta\": {}, \"ge_cloud_id\": null}"
      ]
     },
     "execution_count": 13,
     "metadata": {},
     "output_type": "execute_result"
    },
    {
     "data": {
      "application/javascript": [
       "\n",
       "            setTimeout(function() {\n",
       "                var nbb_cell_id = 13;\n",
       "                var nbb_unformatted_code = \"# column should have fewer than 100\\nexpectation_configuration = ExpectationConfiguration(\\n    expectation_type=\\\"expect_column_value_lengths_to_be_between\\\",\\n    kwargs={\\\"column\\\": \\\"county\\\", \\\"max_value\\\": 100},\\n)\\nsuite.add_expectation(expectation_configuration=expectation_configuration)\";\n",
       "                var nbb_formatted_code = \"# column should have fewer than 100\\nexpectation_configuration = ExpectationConfiguration(\\n    expectation_type=\\\"expect_column_value_lengths_to_be_between\\\",\\n    kwargs={\\\"column\\\": \\\"county\\\", \\\"max_value\\\": 100},\\n)\\nsuite.add_expectation(expectation_configuration=expectation_configuration)\";\n",
       "                var nbb_cells = Jupyter.notebook.get_cells();\n",
       "                for (var i = 0; i < nbb_cells.length; ++i) {\n",
       "                    if (nbb_cells[i].input_prompt_number == nbb_cell_id) {\n",
       "                        if (nbb_cells[i].get_text() == nbb_unformatted_code) {\n",
       "                             nbb_cells[i].set_text(nbb_formatted_code);\n",
       "                        }\n",
       "                        break;\n",
       "                    }\n",
       "                }\n",
       "            }, 500);\n",
       "            "
      ],
      "text/plain": [
       "<IPython.core.display.Javascript object>"
      ]
     },
     "metadata": {},
     "output_type": "display_data"
    }
   ],
   "source": [
    "# column should have fewer than 100\n",
    "expectation_configuration = ExpectationConfiguration(\n",
    "    expectation_type=\"expect_column_value_lengths_to_be_between\",\n",
    "    kwargs={\"column\": \"county\", \"max_value\": 100},\n",
    ")\n",
    "suite.add_expectation(expectation_configuration=expectation_configuration)"
   ]
  },
  {
   "cell_type": "markdown",
   "id": "fc870a72",
   "metadata": {},
   "source": [
    "**postcode**"
   ]
  },
  {
   "cell_type": "code",
   "execution_count": 14,
   "id": "74be2b91",
   "metadata": {},
   "outputs": [
    {
     "data": {
      "text/plain": [
       "{\"kwargs\": {\"column\": \"postCode\", \"type_\": \"str\"}, \"expectation_type\": \"expect_column_values_to_be_of_type\", \"meta\": {}, \"ge_cloud_id\": null}"
      ]
     },
     "execution_count": 14,
     "metadata": {},
     "output_type": "execute_result"
    },
    {
     "data": {
      "application/javascript": [
       "\n",
       "            setTimeout(function() {\n",
       "                var nbb_cell_id = 14;\n",
       "                var nbb_unformatted_code = \"# column should be an str\\nexpectation_configuration = ExpectationConfiguration(\\n    expectation_type=\\\"expect_column_values_to_be_of_type\\\",\\n    kwargs={\\n        \\\"column\\\": \\\"postCode\\\",\\n        \\\"type_\\\": \\\"str\\\",\\n    },\\n)\\nsuite.add_expectation(expectation_configuration=expectation_configuration)\";\n",
       "                var nbb_formatted_code = \"# column should be an str\\nexpectation_configuration = ExpectationConfiguration(\\n    expectation_type=\\\"expect_column_values_to_be_of_type\\\",\\n    kwargs={\\n        \\\"column\\\": \\\"postCode\\\",\\n        \\\"type_\\\": \\\"str\\\",\\n    },\\n)\\nsuite.add_expectation(expectation_configuration=expectation_configuration)\";\n",
       "                var nbb_cells = Jupyter.notebook.get_cells();\n",
       "                for (var i = 0; i < nbb_cells.length; ++i) {\n",
       "                    if (nbb_cells[i].input_prompt_number == nbb_cell_id) {\n",
       "                        if (nbb_cells[i].get_text() == nbb_unformatted_code) {\n",
       "                             nbb_cells[i].set_text(nbb_formatted_code);\n",
       "                        }\n",
       "                        break;\n",
       "                    }\n",
       "                }\n",
       "            }, 500);\n",
       "            "
      ],
      "text/plain": [
       "<IPython.core.display.Javascript object>"
      ]
     },
     "metadata": {},
     "output_type": "display_data"
    }
   ],
   "source": [
    "# column should be an str\n",
    "expectation_configuration = ExpectationConfiguration(\n",
    "    expectation_type=\"expect_column_values_to_be_of_type\",\n",
    "    kwargs={\n",
    "        \"column\": \"postCode\",\n",
    "        \"type_\": \"str\",\n",
    "    },\n",
    ")\n",
    "suite.add_expectation(expectation_configuration=expectation_configuration)"
   ]
  },
  {
   "cell_type": "code",
   "execution_count": 15,
   "id": "865dacb6",
   "metadata": {},
   "outputs": [
    {
     "data": {
      "text/plain": [
       "{\"kwargs\": {\"column\": \"postCode\", \"regex\": \"[A-Z]{1,2}[0-9]{1,2}[A-Z]?(\\\\s*[0-9][A-Z]{1,2})?\"}, \"expectation_type\": \"expect_column_values_to_match_regex\", \"meta\": {}, \"ge_cloud_id\": null}"
      ]
     },
     "execution_count": 15,
     "metadata": {},
     "output_type": "execute_result"
    },
    {
     "data": {
      "application/javascript": [
       "\n",
       "            setTimeout(function() {\n",
       "                var nbb_cell_id = 15;\n",
       "                var nbb_unformatted_code = \"# column should follow UK postcode regex rules\\nexpectation_configuration = ExpectationConfiguration(\\n    expectation_type=\\\"expect_column_values_to_match_regex\\\",\\n    kwargs={\\n        \\\"column\\\": \\\"postCode\\\",\\n        \\\"regex\\\": \\\"[A-Z]{1,2}[0-9]{1,2}[A-Z]?(\\\\\\\\s*[0-9][A-Z]{1,2})?\\\",\\n    },\\n)\\nsuite.add_expectation(expectation_configuration=expectation_configuration)\";\n",
       "                var nbb_formatted_code = \"# column should follow UK postcode regex rules\\nexpectation_configuration = ExpectationConfiguration(\\n    expectation_type=\\\"expect_column_values_to_match_regex\\\",\\n    kwargs={\\n        \\\"column\\\": \\\"postCode\\\",\\n        \\\"regex\\\": \\\"[A-Z]{1,2}[0-9]{1,2}[A-Z]?(\\\\\\\\s*[0-9][A-Z]{1,2})?\\\",\\n    },\\n)\\nsuite.add_expectation(expectation_configuration=expectation_configuration)\";\n",
       "                var nbb_cells = Jupyter.notebook.get_cells();\n",
       "                for (var i = 0; i < nbb_cells.length; ++i) {\n",
       "                    if (nbb_cells[i].input_prompt_number == nbb_cell_id) {\n",
       "                        if (nbb_cells[i].get_text() == nbb_unformatted_code) {\n",
       "                             nbb_cells[i].set_text(nbb_formatted_code);\n",
       "                        }\n",
       "                        break;\n",
       "                    }\n",
       "                }\n",
       "            }, 500);\n",
       "            "
      ],
      "text/plain": [
       "<IPython.core.display.Javascript object>"
      ]
     },
     "metadata": {},
     "output_type": "display_data"
    }
   ],
   "source": [
    "# column should follow UK postcode regex rules\n",
    "expectation_configuration = ExpectationConfiguration(\n",
    "    expectation_type=\"expect_column_values_to_match_regex\",\n",
    "    kwargs={\n",
    "        \"column\": \"postCode\",\n",
    "        \"regex\": \"[A-Z]{1,2}[0-9]{1,2}[A-Z]?(\\\\s*[0-9][A-Z]{1,2})?\",\n",
    "    },\n",
    ")\n",
    "suite.add_expectation(expectation_configuration=expectation_configuration)"
   ]
  },
  {
   "cell_type": "markdown",
   "id": "79750b48",
   "metadata": {},
   "source": [
    "**propertyType**"
   ]
  },
  {
   "cell_type": "code",
   "execution_count": 16,
   "id": "7abfb5ee",
   "metadata": {},
   "outputs": [
    {
     "data": {
      "text/plain": [
       "{\"kwargs\": {\"column\": \"propertyType\", \"type_\": \"str\"}, \"expectation_type\": \"expect_column_values_to_be_of_type\", \"meta\": {}, \"ge_cloud_id\": null}"
      ]
     },
     "execution_count": 16,
     "metadata": {},
     "output_type": "execute_result"
    },
    {
     "data": {
      "application/javascript": [
       "\n",
       "            setTimeout(function() {\n",
       "                var nbb_cell_id = 16;\n",
       "                var nbb_unformatted_code = \"# column should be an str\\nexpectation_configuration = ExpectationConfiguration(\\n    expectation_type=\\\"expect_column_values_to_be_of_type\\\",\\n    kwargs={\\n        \\\"column\\\": \\\"propertyType\\\",\\n        \\\"type_\\\": \\\"str\\\",\\n    },\\n)\\nsuite.add_expectation(expectation_configuration=expectation_configuration)\";\n",
       "                var nbb_formatted_code = \"# column should be an str\\nexpectation_configuration = ExpectationConfiguration(\\n    expectation_type=\\\"expect_column_values_to_be_of_type\\\",\\n    kwargs={\\n        \\\"column\\\": \\\"propertyType\\\",\\n        \\\"type_\\\": \\\"str\\\",\\n    },\\n)\\nsuite.add_expectation(expectation_configuration=expectation_configuration)\";\n",
       "                var nbb_cells = Jupyter.notebook.get_cells();\n",
       "                for (var i = 0; i < nbb_cells.length; ++i) {\n",
       "                    if (nbb_cells[i].input_prompt_number == nbb_cell_id) {\n",
       "                        if (nbb_cells[i].get_text() == nbb_unformatted_code) {\n",
       "                             nbb_cells[i].set_text(nbb_formatted_code);\n",
       "                        }\n",
       "                        break;\n",
       "                    }\n",
       "                }\n",
       "            }, 500);\n",
       "            "
      ],
      "text/plain": [
       "<IPython.core.display.Javascript object>"
      ]
     },
     "metadata": {},
     "output_type": "display_data"
    }
   ],
   "source": [
    "# column should be an str\n",
    "expectation_configuration = ExpectationConfiguration(\n",
    "    expectation_type=\"expect_column_values_to_be_of_type\",\n",
    "    kwargs={\n",
    "        \"column\": \"propertyType\",\n",
    "        \"type_\": \"str\",\n",
    "    },\n",
    ")\n",
    "suite.add_expectation(expectation_configuration=expectation_configuration)"
   ]
  },
  {
   "cell_type": "code",
   "execution_count": 17,
   "id": "54cfa60e",
   "metadata": {},
   "outputs": [
    {
     "data": {
      "text/plain": [
       "{\"kwargs\": {\"column\": \"propertyType\", \"value_set\": [\"Bungalow\", \"Flat\", \"House\", \"Maisonette\", \"Semi Detached\", \"TerracedHouse\"]}, \"expectation_type\": \"expect_column_values_to_be_in_set\", \"meta\": {}, \"ge_cloud_id\": null}"
      ]
     },
     "execution_count": 17,
     "metadata": {},
     "output_type": "execute_result"
    },
    {
     "data": {
      "application/javascript": [
       "\n",
       "            setTimeout(function() {\n",
       "                var nbb_cell_id = 17;\n",
       "                var nbb_unformatted_code = \"# column should only contain certain values\\nproperty_types = [\\n    \\\"Bungalow\\\",\\n    \\\"Flat\\\",\\n    \\\"House\\\",\\n    \\\"Maisonette\\\",\\n    \\\"Semi Detached\\\",\\n    \\\"TerracedHouse\\\",\\n]\\n\\n# column should be an str\\nexpectation_configuration = ExpectationConfiguration(\\n    expectation_type=\\\"expect_column_values_to_be_in_set\\\",\\n    kwargs={\\\"column\\\": \\\"propertyType\\\", \\\"value_set\\\": property_types},\\n)\\nsuite.add_expectation(expectation_configuration=expectation_configuration)\";\n",
       "                var nbb_formatted_code = \"# column should only contain certain values\\nproperty_types = [\\n    \\\"Bungalow\\\",\\n    \\\"Flat\\\",\\n    \\\"House\\\",\\n    \\\"Maisonette\\\",\\n    \\\"Semi Detached\\\",\\n    \\\"TerracedHouse\\\",\\n]\\n\\n# column should be an str\\nexpectation_configuration = ExpectationConfiguration(\\n    expectation_type=\\\"expect_column_values_to_be_in_set\\\",\\n    kwargs={\\\"column\\\": \\\"propertyType\\\", \\\"value_set\\\": property_types},\\n)\\nsuite.add_expectation(expectation_configuration=expectation_configuration)\";\n",
       "                var nbb_cells = Jupyter.notebook.get_cells();\n",
       "                for (var i = 0; i < nbb_cells.length; ++i) {\n",
       "                    if (nbb_cells[i].input_prompt_number == nbb_cell_id) {\n",
       "                        if (nbb_cells[i].get_text() == nbb_unformatted_code) {\n",
       "                             nbb_cells[i].set_text(nbb_formatted_code);\n",
       "                        }\n",
       "                        break;\n",
       "                    }\n",
       "                }\n",
       "            }, 500);\n",
       "            "
      ],
      "text/plain": [
       "<IPython.core.display.Javascript object>"
      ]
     },
     "metadata": {},
     "output_type": "display_data"
    }
   ],
   "source": [
    "# column should only contain certain values\n",
    "property_types = [\n",
    "    \"Bungalow\",\n",
    "    \"Flat\",\n",
    "    \"House\",\n",
    "    \"Maisonette\",\n",
    "    \"Semi Detached\",\n",
    "    \"TerracedHouse\",\n",
    "]\n",
    "\n",
    "# column should be an str\n",
    "expectation_configuration = ExpectationConfiguration(\n",
    "    expectation_type=\"expect_column_values_to_be_in_set\",\n",
    "    kwargs={\"column\": \"propertyType\", \"value_set\": property_types},\n",
    ")\n",
    "suite.add_expectation(expectation_configuration=expectation_configuration)"
   ]
  },
  {
   "cell_type": "markdown",
   "id": "89291935",
   "metadata": {},
   "source": [
    "**dateSold**"
   ]
  },
  {
   "cell_type": "code",
   "execution_count": 18,
   "id": "6b39f91d",
   "metadata": {},
   "outputs": [
    {
     "data": {
      "text/plain": [
       "{\"kwargs\": {\"column\": \"dateSold\", \"type_\": \"str\"}, \"expectation_type\": \"expect_column_values_to_be_of_type\", \"meta\": {}, \"ge_cloud_id\": null}"
      ]
     },
     "execution_count": 18,
     "metadata": {},
     "output_type": "execute_result"
    },
    {
     "data": {
      "application/javascript": [
       "\n",
       "            setTimeout(function() {\n",
       "                var nbb_cell_id = 18;\n",
       "                var nbb_unformatted_code = \"# column should be an str\\nexpectation_configuration = ExpectationConfiguration(\\n    expectation_type=\\\"expect_column_values_to_be_of_type\\\",\\n    kwargs={\\n        \\\"column\\\": \\\"dateSold\\\",\\n        \\\"type_\\\": \\\"str\\\",\\n    },\\n)\\nsuite.add_expectation(expectation_configuration=expectation_configuration)\";\n",
       "                var nbb_formatted_code = \"# column should be an str\\nexpectation_configuration = ExpectationConfiguration(\\n    expectation_type=\\\"expect_column_values_to_be_of_type\\\",\\n    kwargs={\\n        \\\"column\\\": \\\"dateSold\\\",\\n        \\\"type_\\\": \\\"str\\\",\\n    },\\n)\\nsuite.add_expectation(expectation_configuration=expectation_configuration)\";\n",
       "                var nbb_cells = Jupyter.notebook.get_cells();\n",
       "                for (var i = 0; i < nbb_cells.length; ++i) {\n",
       "                    if (nbb_cells[i].input_prompt_number == nbb_cell_id) {\n",
       "                        if (nbb_cells[i].get_text() == nbb_unformatted_code) {\n",
       "                             nbb_cells[i].set_text(nbb_formatted_code);\n",
       "                        }\n",
       "                        break;\n",
       "                    }\n",
       "                }\n",
       "            }, 500);\n",
       "            "
      ],
      "text/plain": [
       "<IPython.core.display.Javascript object>"
      ]
     },
     "metadata": {},
     "output_type": "display_data"
    }
   ],
   "source": [
    "# column should be an str\n",
    "expectation_configuration = ExpectationConfiguration(\n",
    "    expectation_type=\"expect_column_values_to_be_of_type\",\n",
    "    kwargs={\n",
    "        \"column\": \"dateSold\",\n",
    "        \"type_\": \"str\",\n",
    "    },\n",
    ")\n",
    "suite.add_expectation(expectation_configuration=expectation_configuration)"
   ]
  },
  {
   "cell_type": "code",
   "execution_count": 19,
   "id": "eac0052a",
   "metadata": {},
   "outputs": [
    {
     "data": {
      "text/plain": [
       "{\"kwargs\": {\"column\": \"dateSold\", \"regex\": \"\\\\d{4}-\\\\d{2}-\\\\d{2}\"}, \"expectation_type\": \"expect_column_values_to_match_regex\", \"meta\": {}, \"ge_cloud_id\": null}"
      ]
     },
     "execution_count": 19,
     "metadata": {},
     "output_type": "execute_result"
    },
    {
     "data": {
      "application/javascript": [
       "\n",
       "            setTimeout(function() {\n",
       "                var nbb_cell_id = 19;\n",
       "                var nbb_unformatted_code = \"# date should have yyyy-mm-dd string format\\nexpectation_configuration = ExpectationConfiguration(\\n    expectation_type=\\\"expect_column_values_to_match_regex\\\",\\n    kwargs={\\\"column\\\": \\\"dateSold\\\", \\\"regex\\\": r\\\"\\\\d{4}-\\\\d{2}-\\\\d{2}\\\"},\\n)\\nsuite.add_expectation(expectation_configuration=expectation_configuration)\";\n",
       "                var nbb_formatted_code = \"# date should have yyyy-mm-dd string format\\nexpectation_configuration = ExpectationConfiguration(\\n    expectation_type=\\\"expect_column_values_to_match_regex\\\",\\n    kwargs={\\\"column\\\": \\\"dateSold\\\", \\\"regex\\\": r\\\"\\\\d{4}-\\\\d{2}-\\\\d{2}\\\"},\\n)\\nsuite.add_expectation(expectation_configuration=expectation_configuration)\";\n",
       "                var nbb_cells = Jupyter.notebook.get_cells();\n",
       "                for (var i = 0; i < nbb_cells.length; ++i) {\n",
       "                    if (nbb_cells[i].input_prompt_number == nbb_cell_id) {\n",
       "                        if (nbb_cells[i].get_text() == nbb_unformatted_code) {\n",
       "                             nbb_cells[i].set_text(nbb_formatted_code);\n",
       "                        }\n",
       "                        break;\n",
       "                    }\n",
       "                }\n",
       "            }, 500);\n",
       "            "
      ],
      "text/plain": [
       "<IPython.core.display.Javascript object>"
      ]
     },
     "metadata": {},
     "output_type": "display_data"
    }
   ],
   "source": [
    "# date should have yyyy-mm-dd string format\n",
    "expectation_configuration = ExpectationConfiguration(\n",
    "    expectation_type=\"expect_column_values_to_match_regex\",\n",
    "    kwargs={\"column\": \"dateSold\", \"regex\": r\"\\d{4}-\\d{2}-\\d{2}\"},\n",
    ")\n",
    "suite.add_expectation(expectation_configuration=expectation_configuration)"
   ]
  },
  {
   "cell_type": "markdown",
   "id": "4fb8dc60",
   "metadata": {},
   "source": [
    "**propertyAge**"
   ]
  },
  {
   "cell_type": "code",
   "execution_count": 20,
   "id": "022edd94",
   "metadata": {},
   "outputs": [
    {
     "data": {
      "text/plain": [
       "{\"kwargs\": {\"column\": \"propertyAge\", \"type_\": \"int64\"}, \"expectation_type\": \"expect_column_values_to_be_of_type\", \"meta\": {}, \"ge_cloud_id\": null}"
      ]
     },
     "execution_count": 20,
     "metadata": {},
     "output_type": "execute_result"
    },
    {
     "data": {
      "application/javascript": [
       "\n",
       "            setTimeout(function() {\n",
       "                var nbb_cell_id = 20;\n",
       "                var nbb_unformatted_code = \"# column should be an int\\nexpectation_configuration = ExpectationConfiguration(\\n    expectation_type=\\\"expect_column_values_to_be_of_type\\\",\\n    kwargs={\\n        \\\"column\\\": \\\"propertyAge\\\",\\n        \\\"type_\\\": \\\"int64\\\",\\n    },\\n)\\nsuite.add_expectation(expectation_configuration=expectation_configuration)\";\n",
       "                var nbb_formatted_code = \"# column should be an int\\nexpectation_configuration = ExpectationConfiguration(\\n    expectation_type=\\\"expect_column_values_to_be_of_type\\\",\\n    kwargs={\\n        \\\"column\\\": \\\"propertyAge\\\",\\n        \\\"type_\\\": \\\"int64\\\",\\n    },\\n)\\nsuite.add_expectation(expectation_configuration=expectation_configuration)\";\n",
       "                var nbb_cells = Jupyter.notebook.get_cells();\n",
       "                for (var i = 0; i < nbb_cells.length; ++i) {\n",
       "                    if (nbb_cells[i].input_prompt_number == nbb_cell_id) {\n",
       "                        if (nbb_cells[i].get_text() == nbb_unformatted_code) {\n",
       "                             nbb_cells[i].set_text(nbb_formatted_code);\n",
       "                        }\n",
       "                        break;\n",
       "                    }\n",
       "                }\n",
       "            }, 500);\n",
       "            "
      ],
      "text/plain": [
       "<IPython.core.display.Javascript object>"
      ]
     },
     "metadata": {},
     "output_type": "display_data"
    }
   ],
   "source": [
    "# column should be an int\n",
    "expectation_configuration = ExpectationConfiguration(\n",
    "    expectation_type=\"expect_column_values_to_be_of_type\",\n",
    "    kwargs={\n",
    "        \"column\": \"propertyAge\",\n",
    "        \"type_\": \"int64\",\n",
    "    },\n",
    ")\n",
    "suite.add_expectation(expectation_configuration=expectation_configuration)"
   ]
  },
  {
   "cell_type": "code",
   "execution_count": 21,
   "id": "fdeee272",
   "metadata": {},
   "outputs": [
    {
     "data": {
      "text/plain": [
       "{\"kwargs\": {\"column\": \"propertyAge\", \"min_value\": 0, \"max_value\": 200}, \"expectation_type\": \"expect_column_values_to_be_between\", \"meta\": {}, \"ge_cloud_id\": null}"
      ]
     },
     "execution_count": 21,
     "metadata": {},
     "output_type": "execute_result"
    },
    {
     "data": {
      "application/javascript": [
       "\n",
       "            setTimeout(function() {\n",
       "                var nbb_cell_id = 21;\n",
       "                var nbb_unformatted_code = \"# column should be greater than 0 and less than 200\\nexpectation_configuration = ExpectationConfiguration(\\n    expectation_type=\\\"expect_column_values_to_be_between\\\",\\n    kwargs={\\\"column\\\": \\\"propertyAge\\\", \\\"min_value\\\": 0, \\\"max_value\\\": 200},\\n)\\nsuite.add_expectation(expectation_configuration=expectation_configuration)\";\n",
       "                var nbb_formatted_code = \"# column should be greater than 0 and less than 200\\nexpectation_configuration = ExpectationConfiguration(\\n    expectation_type=\\\"expect_column_values_to_be_between\\\",\\n    kwargs={\\\"column\\\": \\\"propertyAge\\\", \\\"min_value\\\": 0, \\\"max_value\\\": 200},\\n)\\nsuite.add_expectation(expectation_configuration=expectation_configuration)\";\n",
       "                var nbb_cells = Jupyter.notebook.get_cells();\n",
       "                for (var i = 0; i < nbb_cells.length; ++i) {\n",
       "                    if (nbb_cells[i].input_prompt_number == nbb_cell_id) {\n",
       "                        if (nbb_cells[i].get_text() == nbb_unformatted_code) {\n",
       "                             nbb_cells[i].set_text(nbb_formatted_code);\n",
       "                        }\n",
       "                        break;\n",
       "                    }\n",
       "                }\n",
       "            }, 500);\n",
       "            "
      ],
      "text/plain": [
       "<IPython.core.display.Javascript object>"
      ]
     },
     "metadata": {},
     "output_type": "display_data"
    }
   ],
   "source": [
    "# column should be greater than 0 and less than 200\n",
    "expectation_configuration = ExpectationConfiguration(\n",
    "    expectation_type=\"expect_column_values_to_be_between\",\n",
    "    kwargs={\"column\": \"propertyAge\", \"min_value\": 0, \"max_value\": 200},\n",
    ")\n",
    "suite.add_expectation(expectation_configuration=expectation_configuration)"
   ]
  },
  {
   "cell_type": "markdown",
   "id": "0a7a03ec",
   "metadata": {},
   "source": [
    "**totalRooms**"
   ]
  },
  {
   "cell_type": "code",
   "execution_count": 22,
   "id": "e8dbee4a",
   "metadata": {},
   "outputs": [
    {
     "data": {
      "text/plain": [
       "{\"kwargs\": {\"column\": \"totalRooms\", \"type_\": \"int64\"}, \"expectation_type\": \"expect_column_values_to_be_of_type\", \"meta\": {}, \"ge_cloud_id\": null}"
      ]
     },
     "execution_count": 22,
     "metadata": {},
     "output_type": "execute_result"
    },
    {
     "data": {
      "application/javascript": [
       "\n",
       "            setTimeout(function() {\n",
       "                var nbb_cell_id = 22;\n",
       "                var nbb_unformatted_code = \"# column should be an int\\nexpectation_configuration = ExpectationConfiguration(\\n    expectation_type=\\\"expect_column_values_to_be_of_type\\\",\\n    kwargs={\\n        \\\"column\\\": \\\"totalRooms\\\",\\n        \\\"type_\\\": \\\"int64\\\",\\n    },\\n)\\nsuite.add_expectation(expectation_configuration=expectation_configuration)\";\n",
       "                var nbb_formatted_code = \"# column should be an int\\nexpectation_configuration = ExpectationConfiguration(\\n    expectation_type=\\\"expect_column_values_to_be_of_type\\\",\\n    kwargs={\\n        \\\"column\\\": \\\"totalRooms\\\",\\n        \\\"type_\\\": \\\"int64\\\",\\n    },\\n)\\nsuite.add_expectation(expectation_configuration=expectation_configuration)\";\n",
       "                var nbb_cells = Jupyter.notebook.get_cells();\n",
       "                for (var i = 0; i < nbb_cells.length; ++i) {\n",
       "                    if (nbb_cells[i].input_prompt_number == nbb_cell_id) {\n",
       "                        if (nbb_cells[i].get_text() == nbb_unformatted_code) {\n",
       "                             nbb_cells[i].set_text(nbb_formatted_code);\n",
       "                        }\n",
       "                        break;\n",
       "                    }\n",
       "                }\n",
       "            }, 500);\n",
       "            "
      ],
      "text/plain": [
       "<IPython.core.display.Javascript object>"
      ]
     },
     "metadata": {},
     "output_type": "display_data"
    }
   ],
   "source": [
    "# column should be an int\n",
    "expectation_configuration = ExpectationConfiguration(\n",
    "    expectation_type=\"expect_column_values_to_be_of_type\",\n",
    "    kwargs={\n",
    "        \"column\": \"totalRooms\",\n",
    "        \"type_\": \"int64\",\n",
    "    },\n",
    ")\n",
    "suite.add_expectation(expectation_configuration=expectation_configuration)"
   ]
  },
  {
   "cell_type": "code",
   "execution_count": 23,
   "id": "1837d268",
   "metadata": {},
   "outputs": [
    {
     "data": {
      "text/plain": [
       "{\"kwargs\": {\"column\": \"totalRooms\", \"min_value\": 0, \"max_value\": 20}, \"expectation_type\": \"expect_column_values_to_be_between\", \"meta\": {}, \"ge_cloud_id\": null}"
      ]
     },
     "execution_count": 23,
     "metadata": {},
     "output_type": "execute_result"
    },
    {
     "data": {
      "application/javascript": [
       "\n",
       "            setTimeout(function() {\n",
       "                var nbb_cell_id = 23;\n",
       "                var nbb_unformatted_code = \"# column should be greater than 0 and less than 20\\nexpectation_configuration = ExpectationConfiguration(\\n    expectation_type=\\\"expect_column_values_to_be_between\\\",\\n    kwargs={\\\"column\\\": \\\"totalRooms\\\", \\\"min_value\\\": 0, \\\"max_value\\\": 20},\\n)\\nsuite.add_expectation(expectation_configuration=expectation_configuration)\";\n",
       "                var nbb_formatted_code = \"# column should be greater than 0 and less than 20\\nexpectation_configuration = ExpectationConfiguration(\\n    expectation_type=\\\"expect_column_values_to_be_between\\\",\\n    kwargs={\\\"column\\\": \\\"totalRooms\\\", \\\"min_value\\\": 0, \\\"max_value\\\": 20},\\n)\\nsuite.add_expectation(expectation_configuration=expectation_configuration)\";\n",
       "                var nbb_cells = Jupyter.notebook.get_cells();\n",
       "                for (var i = 0; i < nbb_cells.length; ++i) {\n",
       "                    if (nbb_cells[i].input_prompt_number == nbb_cell_id) {\n",
       "                        if (nbb_cells[i].get_text() == nbb_unformatted_code) {\n",
       "                             nbb_cells[i].set_text(nbb_formatted_code);\n",
       "                        }\n",
       "                        break;\n",
       "                    }\n",
       "                }\n",
       "            }, 500);\n",
       "            "
      ],
      "text/plain": [
       "<IPython.core.display.Javascript object>"
      ]
     },
     "metadata": {},
     "output_type": "display_data"
    }
   ],
   "source": [
    "# column should be greater than 0 and less than 20\n",
    "expectation_configuration = ExpectationConfiguration(\n",
    "    expectation_type=\"expect_column_values_to_be_between\",\n",
    "    kwargs={\"column\": \"totalRooms\", \"min_value\": 0, \"max_value\": 20},\n",
    ")\n",
    "suite.add_expectation(expectation_configuration=expectation_configuration)"
   ]
  },
  {
   "cell_type": "markdown",
   "id": "f7cf6939",
   "metadata": {},
   "source": [
    "**totalBedrooms**"
   ]
  },
  {
   "cell_type": "code",
   "execution_count": 24,
   "id": "76107182",
   "metadata": {},
   "outputs": [
    {
     "data": {
      "text/plain": [
       "{\"kwargs\": {\"column\": \"totalBedrooms\", \"type_\": \"int64\"}, \"expectation_type\": \"expect_column_values_to_be_of_type\", \"meta\": {}, \"ge_cloud_id\": null}"
      ]
     },
     "execution_count": 24,
     "metadata": {},
     "output_type": "execute_result"
    },
    {
     "data": {
      "application/javascript": [
       "\n",
       "            setTimeout(function() {\n",
       "                var nbb_cell_id = 24;\n",
       "                var nbb_unformatted_code = \"# column should be an int\\nexpectation_configuration = ExpectationConfiguration(\\n    expectation_type=\\\"expect_column_values_to_be_of_type\\\",\\n    kwargs={\\n        \\\"column\\\": \\\"totalBedrooms\\\",\\n        \\\"type_\\\": \\\"int64\\\",\\n    },\\n)\\nsuite.add_expectation(expectation_configuration=expectation_configuration)\";\n",
       "                var nbb_formatted_code = \"# column should be an int\\nexpectation_configuration = ExpectationConfiguration(\\n    expectation_type=\\\"expect_column_values_to_be_of_type\\\",\\n    kwargs={\\n        \\\"column\\\": \\\"totalBedrooms\\\",\\n        \\\"type_\\\": \\\"int64\\\",\\n    },\\n)\\nsuite.add_expectation(expectation_configuration=expectation_configuration)\";\n",
       "                var nbb_cells = Jupyter.notebook.get_cells();\n",
       "                for (var i = 0; i < nbb_cells.length; ++i) {\n",
       "                    if (nbb_cells[i].input_prompt_number == nbb_cell_id) {\n",
       "                        if (nbb_cells[i].get_text() == nbb_unformatted_code) {\n",
       "                             nbb_cells[i].set_text(nbb_formatted_code);\n",
       "                        }\n",
       "                        break;\n",
       "                    }\n",
       "                }\n",
       "            }, 500);\n",
       "            "
      ],
      "text/plain": [
       "<IPython.core.display.Javascript object>"
      ]
     },
     "metadata": {},
     "output_type": "display_data"
    }
   ],
   "source": [
    "# column should be an int\n",
    "expectation_configuration = ExpectationConfiguration(\n",
    "    expectation_type=\"expect_column_values_to_be_of_type\",\n",
    "    kwargs={\n",
    "        \"column\": \"totalBedrooms\",\n",
    "        \"type_\": \"int64\",\n",
    "    },\n",
    ")\n",
    "suite.add_expectation(expectation_configuration=expectation_configuration)"
   ]
  },
  {
   "cell_type": "code",
   "execution_count": 25,
   "id": "dd4e85d7",
   "metadata": {},
   "outputs": [
    {
     "data": {
      "text/plain": [
       "{\"kwargs\": {\"column\": \"totalBedrooms\", \"min_value\": 0, \"max_value\": 10}, \"expectation_type\": \"expect_column_values_to_be_between\", \"meta\": {}, \"ge_cloud_id\": null}"
      ]
     },
     "execution_count": 25,
     "metadata": {},
     "output_type": "execute_result"
    },
    {
     "data": {
      "application/javascript": [
       "\n",
       "            setTimeout(function() {\n",
       "                var nbb_cell_id = 25;\n",
       "                var nbb_unformatted_code = \"# column should be greater than 0 and less than 20\\nexpectation_configuration = ExpectationConfiguration(\\n    expectation_type=\\\"expect_column_values_to_be_between\\\",\\n    kwargs={\\\"column\\\": \\\"totalBedrooms\\\", \\\"min_value\\\": 0, \\\"max_value\\\": 10},\\n)\\nsuite.add_expectation(expectation_configuration=expectation_configuration)\";\n",
       "                var nbb_formatted_code = \"# column should be greater than 0 and less than 20\\nexpectation_configuration = ExpectationConfiguration(\\n    expectation_type=\\\"expect_column_values_to_be_between\\\",\\n    kwargs={\\\"column\\\": \\\"totalBedrooms\\\", \\\"min_value\\\": 0, \\\"max_value\\\": 10},\\n)\\nsuite.add_expectation(expectation_configuration=expectation_configuration)\";\n",
       "                var nbb_cells = Jupyter.notebook.get_cells();\n",
       "                for (var i = 0; i < nbb_cells.length; ++i) {\n",
       "                    if (nbb_cells[i].input_prompt_number == nbb_cell_id) {\n",
       "                        if (nbb_cells[i].get_text() == nbb_unformatted_code) {\n",
       "                             nbb_cells[i].set_text(nbb_formatted_code);\n",
       "                        }\n",
       "                        break;\n",
       "                    }\n",
       "                }\n",
       "            }, 500);\n",
       "            "
      ],
      "text/plain": [
       "<IPython.core.display.Javascript object>"
      ]
     },
     "metadata": {},
     "output_type": "display_data"
    }
   ],
   "source": [
    "# column should be greater than 0 and less than 20\n",
    "expectation_configuration = ExpectationConfiguration(\n",
    "    expectation_type=\"expect_column_values_to_be_between\",\n",
    "    kwargs={\"column\": \"totalBedrooms\", \"min_value\": 0, \"max_value\": 10},\n",
    ")\n",
    "suite.add_expectation(expectation_configuration=expectation_configuration)"
   ]
  },
  {
   "cell_type": "markdown",
   "id": "f01727c1",
   "metadata": {},
   "source": [
    "**propertyArea**"
   ]
  },
  {
   "cell_type": "code",
   "execution_count": 26,
   "id": "d00e0645",
   "metadata": {},
   "outputs": [
    {
     "data": {
      "text/plain": [
       "{\"kwargs\": {\"column\": \"propertyArea\", \"type_\": \"float\"}, \"expectation_type\": \"expect_column_values_to_be_of_type\", \"meta\": {}, \"ge_cloud_id\": null}"
      ]
     },
     "execution_count": 26,
     "metadata": {},
     "output_type": "execute_result"
    },
    {
     "data": {
      "application/javascript": [
       "\n",
       "            setTimeout(function() {\n",
       "                var nbb_cell_id = 26;\n",
       "                var nbb_unformatted_code = \"# column should be an int\\nexpectation_configuration = ExpectationConfiguration(\\n    expectation_type=\\\"expect_column_values_to_be_of_type\\\",\\n    kwargs={\\n        \\\"column\\\": \\\"propertyArea\\\",\\n        \\\"type_\\\": \\\"float\\\",\\n    },\\n)\\nsuite.add_expectation(expectation_configuration=expectation_configuration)\";\n",
       "                var nbb_formatted_code = \"# column should be an int\\nexpectation_configuration = ExpectationConfiguration(\\n    expectation_type=\\\"expect_column_values_to_be_of_type\\\",\\n    kwargs={\\n        \\\"column\\\": \\\"propertyArea\\\",\\n        \\\"type_\\\": \\\"float\\\",\\n    },\\n)\\nsuite.add_expectation(expectation_configuration=expectation_configuration)\";\n",
       "                var nbb_cells = Jupyter.notebook.get_cells();\n",
       "                for (var i = 0; i < nbb_cells.length; ++i) {\n",
       "                    if (nbb_cells[i].input_prompt_number == nbb_cell_id) {\n",
       "                        if (nbb_cells[i].get_text() == nbb_unformatted_code) {\n",
       "                             nbb_cells[i].set_text(nbb_formatted_code);\n",
       "                        }\n",
       "                        break;\n",
       "                    }\n",
       "                }\n",
       "            }, 500);\n",
       "            "
      ],
      "text/plain": [
       "<IPython.core.display.Javascript object>"
      ]
     },
     "metadata": {},
     "output_type": "display_data"
    }
   ],
   "source": [
    "# column should be an int\n",
    "expectation_configuration = ExpectationConfiguration(\n",
    "    expectation_type=\"expect_column_values_to_be_of_type\",\n",
    "    kwargs={\n",
    "        \"column\": \"propertyArea\",\n",
    "        \"type_\": \"float\",\n",
    "    },\n",
    ")\n",
    "suite.add_expectation(expectation_configuration=expectation_configuration)"
   ]
  },
  {
   "cell_type": "code",
   "execution_count": 27,
   "id": "b929a214",
   "metadata": {},
   "outputs": [
    {
     "data": {
      "text/plain": [
       "{\"kwargs\": {\"column\": \"priceSold\", \"min_value\": 0, \"max_value\": 10000}, \"expectation_type\": \"expect_column_values_to_be_between\", \"meta\": {}, \"ge_cloud_id\": null}"
      ]
     },
     "execution_count": 27,
     "metadata": {},
     "output_type": "execute_result"
    },
    {
     "data": {
      "application/javascript": [
       "\n",
       "            setTimeout(function() {\n",
       "                var nbb_cell_id = 27;\n",
       "                var nbb_unformatted_code = \"# column should be greater than 0 and less than 2_000_000\\nexpectation_configuration = ExpectationConfiguration(\\n    expectation_type=\\\"expect_column_values_to_be_between\\\",\\n    kwargs={\\\"column\\\": \\\"priceSold\\\", \\\"min_value\\\": 0, \\\"max_value\\\": 10_000},\\n)\\nsuite.add_expectation(expectation_configuration=expectation_configuration)\";\n",
       "                var nbb_formatted_code = \"# column should be greater than 0 and less than 2_000_000\\nexpectation_configuration = ExpectationConfiguration(\\n    expectation_type=\\\"expect_column_values_to_be_between\\\",\\n    kwargs={\\\"column\\\": \\\"priceSold\\\", \\\"min_value\\\": 0, \\\"max_value\\\": 10_000},\\n)\\nsuite.add_expectation(expectation_configuration=expectation_configuration)\";\n",
       "                var nbb_cells = Jupyter.notebook.get_cells();\n",
       "                for (var i = 0; i < nbb_cells.length; ++i) {\n",
       "                    if (nbb_cells[i].input_prompt_number == nbb_cell_id) {\n",
       "                        if (nbb_cells[i].get_text() == nbb_unformatted_code) {\n",
       "                             nbb_cells[i].set_text(nbb_formatted_code);\n",
       "                        }\n",
       "                        break;\n",
       "                    }\n",
       "                }\n",
       "            }, 500);\n",
       "            "
      ],
      "text/plain": [
       "<IPython.core.display.Javascript object>"
      ]
     },
     "metadata": {},
     "output_type": "display_data"
    }
   ],
   "source": [
    "# column should be greater than 0 and less than 2_000_000\n",
    "expectation_configuration = ExpectationConfiguration(\n",
    "    expectation_type=\"expect_column_values_to_be_between\",\n",
    "    kwargs={\"column\": \"priceSold\", \"min_value\": 0, \"max_value\": 10_000},\n",
    ")\n",
    "suite.add_expectation(expectation_configuration=expectation_configuration)"
   ]
  },
  {
   "cell_type": "markdown",
   "id": "50286de4",
   "metadata": {},
   "source": [
    "**priceSold**"
   ]
  },
  {
   "cell_type": "code",
   "execution_count": 28,
   "id": "30807d93",
   "metadata": {},
   "outputs": [
    {
     "data": {
      "text/plain": [
       "{\"kwargs\": {\"column\": \"priceSold\", \"type_\": \"float\"}, \"expectation_type\": \"expect_column_values_to_be_of_type\", \"meta\": {}, \"ge_cloud_id\": null}"
      ]
     },
     "execution_count": 28,
     "metadata": {},
     "output_type": "execute_result"
    },
    {
     "data": {
      "application/javascript": [
       "\n",
       "            setTimeout(function() {\n",
       "                var nbb_cell_id = 28;\n",
       "                var nbb_unformatted_code = \"# column should be an float\\nexpectation_configuration = ExpectationConfiguration(\\n    expectation_type=\\\"expect_column_values_to_be_of_type\\\",\\n    kwargs={\\n        \\\"column\\\": \\\"priceSold\\\",\\n        \\\"type_\\\": \\\"float\\\",\\n    },\\n)\\nsuite.add_expectation(expectation_configuration=expectation_configuration)\";\n",
       "                var nbb_formatted_code = \"# column should be an float\\nexpectation_configuration = ExpectationConfiguration(\\n    expectation_type=\\\"expect_column_values_to_be_of_type\\\",\\n    kwargs={\\n        \\\"column\\\": \\\"priceSold\\\",\\n        \\\"type_\\\": \\\"float\\\",\\n    },\\n)\\nsuite.add_expectation(expectation_configuration=expectation_configuration)\";\n",
       "                var nbb_cells = Jupyter.notebook.get_cells();\n",
       "                for (var i = 0; i < nbb_cells.length; ++i) {\n",
       "                    if (nbb_cells[i].input_prompt_number == nbb_cell_id) {\n",
       "                        if (nbb_cells[i].get_text() == nbb_unformatted_code) {\n",
       "                             nbb_cells[i].set_text(nbb_formatted_code);\n",
       "                        }\n",
       "                        break;\n",
       "                    }\n",
       "                }\n",
       "            }, 500);\n",
       "            "
      ],
      "text/plain": [
       "<IPython.core.display.Javascript object>"
      ]
     },
     "metadata": {},
     "output_type": "display_data"
    }
   ],
   "source": [
    "# column should be an float\n",
    "expectation_configuration = ExpectationConfiguration(\n",
    "    expectation_type=\"expect_column_values_to_be_of_type\",\n",
    "    kwargs={\n",
    "        \"column\": \"priceSold\",\n",
    "        \"type_\": \"float\",\n",
    "    },\n",
    ")\n",
    "suite.add_expectation(expectation_configuration=expectation_configuration)"
   ]
  },
  {
   "cell_type": "code",
   "execution_count": 29,
   "id": "6080879a",
   "metadata": {},
   "outputs": [
    {
     "data": {
      "text/plain": [
       "{\"kwargs\": {\"column\": \"priceSold\", \"min_value\": 0, \"max_value\": 2000000}, \"expectation_type\": \"expect_column_values_to_be_between\", \"meta\": {}, \"ge_cloud_id\": null}"
      ]
     },
     "execution_count": 29,
     "metadata": {},
     "output_type": "execute_result"
    },
    {
     "data": {
      "application/javascript": [
       "\n",
       "            setTimeout(function() {\n",
       "                var nbb_cell_id = 29;\n",
       "                var nbb_unformatted_code = \"# column should be greater than 0 and less than 2_000_000\\nexpectation_configuration = ExpectationConfiguration(\\n    expectation_type=\\\"expect_column_values_to_be_between\\\",\\n    kwargs={\\\"column\\\": \\\"priceSold\\\", \\\"min_value\\\": 0, \\\"max_value\\\": 2_000_000},\\n)\\nsuite.add_expectation(expectation_configuration=expectation_configuration)\";\n",
       "                var nbb_formatted_code = \"# column should be greater than 0 and less than 2_000_000\\nexpectation_configuration = ExpectationConfiguration(\\n    expectation_type=\\\"expect_column_values_to_be_between\\\",\\n    kwargs={\\\"column\\\": \\\"priceSold\\\", \\\"min_value\\\": 0, \\\"max_value\\\": 2_000_000},\\n)\\nsuite.add_expectation(expectation_configuration=expectation_configuration)\";\n",
       "                var nbb_cells = Jupyter.notebook.get_cells();\n",
       "                for (var i = 0; i < nbb_cells.length; ++i) {\n",
       "                    if (nbb_cells[i].input_prompt_number == nbb_cell_id) {\n",
       "                        if (nbb_cells[i].get_text() == nbb_unformatted_code) {\n",
       "                             nbb_cells[i].set_text(nbb_formatted_code);\n",
       "                        }\n",
       "                        break;\n",
       "                    }\n",
       "                }\n",
       "            }, 500);\n",
       "            "
      ],
      "text/plain": [
       "<IPython.core.display.Javascript object>"
      ]
     },
     "metadata": {},
     "output_type": "display_data"
    }
   ],
   "source": [
    "# column should be greater than 0 and less than 2_000_000\n",
    "expectation_configuration = ExpectationConfiguration(\n",
    "    expectation_type=\"expect_column_values_to_be_between\",\n",
    "    kwargs={\"column\": \"priceSold\", \"min_value\": 0, \"max_value\": 2_000_000},\n",
    ")\n",
    "suite.add_expectation(expectation_configuration=expectation_configuration)"
   ]
  },
  {
   "cell_type": "markdown",
   "id": "4291cde7",
   "metadata": {},
   "source": [
    "## Save & Review Your Expectations\n",
    "\n",
    "Let's save the expectation suite as a JSON file in the `great_expectations/expectations` directory of your project.\n",
    "\n",
    "Let's now rebuild your Data Docs, which helps you communicate about your data with both machines and humans."
   ]
  },
  {
   "cell_type": "code",
   "execution_count": 30,
   "id": "a62e3cf4",
   "metadata": {},
   "outputs": [
    {
     "data": {
      "application/javascript": [
       "\n",
       "            setTimeout(function() {\n",
       "                var nbb_cell_id = 30;\n",
       "                var nbb_unformatted_code = \"with open(\\\"../expectations/properties.json\\\", \\\"w\\\") as expectation_store:\\n    import json\\n\\n    json.dump(suite.to_json_dict(), expectation_store)\";\n",
       "                var nbb_formatted_code = \"with open(\\\"../expectations/properties.json\\\", \\\"w\\\") as expectation_store:\\n    import json\\n\\n    json.dump(suite.to_json_dict(), expectation_store)\";\n",
       "                var nbb_cells = Jupyter.notebook.get_cells();\n",
       "                for (var i = 0; i < nbb_cells.length; ++i) {\n",
       "                    if (nbb_cells[i].input_prompt_number == nbb_cell_id) {\n",
       "                        if (nbb_cells[i].get_text() == nbb_unformatted_code) {\n",
       "                             nbb_cells[i].set_text(nbb_formatted_code);\n",
       "                        }\n",
       "                        break;\n",
       "                    }\n",
       "                }\n",
       "            }, 500);\n",
       "            "
      ],
      "text/plain": [
       "<IPython.core.display.Javascript object>"
      ]
     },
     "metadata": {},
     "output_type": "display_data"
    }
   ],
   "source": [
    "with open(\"../expectations/properties.json\", \"w\") as expectation_store:\n",
    "    import json\n",
    "\n",
    "    json.dump(suite.to_json_dict(), expectation_store)"
   ]
  }
 ],
 "metadata": {
  "kernelspec": {
   "display_name": "Python 3 (ipykernel)",
   "language": "python",
   "name": "python3"
  },
  "language_info": {
   "codemirror_mode": {
    "name": "ipython",
    "version": 3
   },
   "file_extension": ".py",
   "mimetype": "text/x-python",
   "name": "python",
   "nbconvert_exporter": "python",
   "pygments_lexer": "ipython3",
   "version": "3.9.5"
  }
 },
 "nbformat": 4,
 "nbformat_minor": 5
}
