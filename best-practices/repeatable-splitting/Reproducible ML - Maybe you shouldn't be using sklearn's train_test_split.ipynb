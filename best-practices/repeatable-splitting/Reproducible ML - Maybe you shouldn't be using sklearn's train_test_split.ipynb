{
 "cells": [
  {
   "cell_type": "markdown",
   "id": "16461af8",
   "metadata": {},
   "source": [
    "# ML Design Pattern: Repeatable Splitting\n",
    "\n",
    "\n",
    "## Reproducible ML: Maybe you shouldn't be using train_test_split"
   ]
  },
  {
   "cell_type": "markdown",
   "id": "fa138163",
   "metadata": {},
   "source": [
    "Reproducibility is critical for robust data science -- after all, it is a science.\n",
    "\n",
    "But reproducibility in ML can be surprisingly difficult. \n",
    "\n",
    "**The behaviour of your model doesn't only depend on your code, but also the underlying dataset that was used to train it**\n",
    "\n",
    "Therefore, you need to keep tight control on which datapoints were used to train and test your model to ensure reproducibility.\n",
    "\n",
    "A fundamental tenet of the ML workflow is splitting your data into training and testing sets. This involves deliberately withholding some datapoints from the model training in order to evaluate the performance of your model on 'unseen' data.\n",
    "\n",
    "It is vitally important to be able to reproducibly split your data across different training runs. For a few main reasons:\n",
    "- So you can use the same test datapoints to effectively compare the performance of different model candidates\n",
    "- To control as many variables as possible to help troubleshoot performance issues\n",
    "- To ensure that you, or your colleagues, can reproduce your model exactly\n",
    "\n",
    "**How you split your data can have a big effect on the perceived model performance**\n",
    "\n",
    "If you split your data 'randomly' there is a statistical chance that more outliers end up in the test set than the training set. As your model won't see many outliers during training, it will perform poorly on the test set when predicting 'outlier' values. \n",
    "\n",
    "Now imagine you randomly split the data again and the outliers now all reside in the training set and none in the test set. It is likely that your 'model performance' will increase. This performance increase has nothing to do with the model, just the statistical properties of the training/test sets.\n",
    "\n",
    "It is important to control and understand the training and test splits when comparing different model candidates and across multiple training runs.\n",
    "\n",
    "**Sklearn train_test_split**\n",
    " \n",
    "Probably, the most common way to split your dataset is to use Sklearn's [train_test_split](https://scikit-learn.org/stable/modules/generated/sklearn.model_selection.train_test_split.html) function.\n",
    "\n",
    "Out of the box, the `train_test_split` function will randomly split your data into a training set and a test set. Each time you run the function you will get a different split for your data. Not ideal for reproducibility.\n",
    "\n",
    "\"Ah!\" you say. \"I set the random seed so it is reproducible!\". \n",
    "\n",
    "Fair point. Setting random seeds is certainly an excellent idea and goes a long way to improve reproducibility. I would highly recommend setting random seeds for any functions which have non-deterministic outputs. \n",
    "\n",
    "**However, random seeds might not be enough to ensure reproducibility** \n",
    "\n",
    "In this post I will demonstrate that the `train_test_split` function is more sensitive than you might think, and explain why using a random seed does not always guarantee reproducibility, particularly if you need to retrain your model in the future."
   ]
  },
  {
   "cell_type": "markdown",
   "id": "72889ace",
   "metadata": {},
   "source": [
    "## What is the problem with train_test_split?\n",
    "\n",
    "**Setting the random reed only guarantees reproducible splits if the underlying data does not change in any way**\n",
    "\n",
    "The `train_test_split` is not *deterministic*. \n",
    "\n",
    "The splits from `train_test_split` are sensitive to any new data added to the dataset as well as the *ordering* of the underlying data.\n",
    "\n",
    "If your dataset is shuffled or amended in any way, the data will be split completely differently. It cannot be guaranteed that the an individual datapoint will *always* be in the training set or *always* be in the test set. This means datapoints that were in the original training set might now end up in the test set and visa versa if the data was shuffled. \n",
    "\n",
    "**Therefore, for the same dataset, you can get different splits depending on how the rows in the dataset are ordered.** \n",
    "\n",
    "It is not a very robust solution. \n",
    "\n",
    "Even if one datapoint is removed, the order of two rows are switched, or a single datapoint is added you will get a *completely* different training and test split.\n",
    "\n",
    "This 'ultra sensitivity' to the data might be surprising and lead to unexpected model training results which can be hard to debug and reproduce if your dataset ordering changes.\n",
    "\n",
    "Let's demonstrate the issue with a simple demo.\n",
    "\n",
    "We will first download an example dataset from `skelearn.datasets` and create an 'index' column to uniquely identify each row."
   ]
  },
  {
   "cell_type": "code",
   "execution_count": 1,
   "id": "a13c8945",
   "metadata": {},
   "outputs": [
    {
     "data": {
      "text/html": [
       "<div>\n",
       "<style scoped>\n",
       "    .dataframe tbody tr th:only-of-type {\n",
       "        vertical-align: middle;\n",
       "    }\n",
       "\n",
       "    .dataframe tbody tr th {\n",
       "        vertical-align: top;\n",
       "    }\n",
       "\n",
       "    .dataframe thead th {\n",
       "        text-align: right;\n",
       "    }\n",
       "</style>\n",
       "<table border=\"1\" class=\"dataframe\">\n",
       "  <thead>\n",
       "    <tr style=\"text-align: right;\">\n",
       "      <th></th>\n",
       "      <th>index</th>\n",
       "      <th>mean radius</th>\n",
       "      <th>mean texture</th>\n",
       "      <th>mean perimeter</th>\n",
       "      <th>mean area</th>\n",
       "      <th>mean smoothness</th>\n",
       "      <th>mean compactness</th>\n",
       "      <th>mean concavity</th>\n",
       "      <th>mean concave points</th>\n",
       "      <th>mean symmetry</th>\n",
       "      <th>...</th>\n",
       "      <th>worst radius</th>\n",
       "      <th>worst texture</th>\n",
       "      <th>worst perimeter</th>\n",
       "      <th>worst area</th>\n",
       "      <th>worst smoothness</th>\n",
       "      <th>worst compactness</th>\n",
       "      <th>worst concavity</th>\n",
       "      <th>worst concave points</th>\n",
       "      <th>worst symmetry</th>\n",
       "      <th>worst fractal dimension</th>\n",
       "    </tr>\n",
       "  </thead>\n",
       "  <tbody>\n",
       "    <tr>\n",
       "      <th>0</th>\n",
       "      <td>0</td>\n",
       "      <td>17.99</td>\n",
       "      <td>10.38</td>\n",
       "      <td>122.80</td>\n",
       "      <td>1001.0</td>\n",
       "      <td>0.11840</td>\n",
       "      <td>0.27760</td>\n",
       "      <td>0.3001</td>\n",
       "      <td>0.14710</td>\n",
       "      <td>0.2419</td>\n",
       "      <td>...</td>\n",
       "      <td>25.38</td>\n",
       "      <td>17.33</td>\n",
       "      <td>184.60</td>\n",
       "      <td>2019.0</td>\n",
       "      <td>0.1622</td>\n",
       "      <td>0.6656</td>\n",
       "      <td>0.7119</td>\n",
       "      <td>0.2654</td>\n",
       "      <td>0.4601</td>\n",
       "      <td>0.11890</td>\n",
       "    </tr>\n",
       "    <tr>\n",
       "      <th>1</th>\n",
       "      <td>1</td>\n",
       "      <td>20.57</td>\n",
       "      <td>17.77</td>\n",
       "      <td>132.90</td>\n",
       "      <td>1326.0</td>\n",
       "      <td>0.08474</td>\n",
       "      <td>0.07864</td>\n",
       "      <td>0.0869</td>\n",
       "      <td>0.07017</td>\n",
       "      <td>0.1812</td>\n",
       "      <td>...</td>\n",
       "      <td>24.99</td>\n",
       "      <td>23.41</td>\n",
       "      <td>158.80</td>\n",
       "      <td>1956.0</td>\n",
       "      <td>0.1238</td>\n",
       "      <td>0.1866</td>\n",
       "      <td>0.2416</td>\n",
       "      <td>0.1860</td>\n",
       "      <td>0.2750</td>\n",
       "      <td>0.08902</td>\n",
       "    </tr>\n",
       "    <tr>\n",
       "      <th>2</th>\n",
       "      <td>2</td>\n",
       "      <td>19.69</td>\n",
       "      <td>21.25</td>\n",
       "      <td>130.00</td>\n",
       "      <td>1203.0</td>\n",
       "      <td>0.10960</td>\n",
       "      <td>0.15990</td>\n",
       "      <td>0.1974</td>\n",
       "      <td>0.12790</td>\n",
       "      <td>0.2069</td>\n",
       "      <td>...</td>\n",
       "      <td>23.57</td>\n",
       "      <td>25.53</td>\n",
       "      <td>152.50</td>\n",
       "      <td>1709.0</td>\n",
       "      <td>0.1444</td>\n",
       "      <td>0.4245</td>\n",
       "      <td>0.4504</td>\n",
       "      <td>0.2430</td>\n",
       "      <td>0.3613</td>\n",
       "      <td>0.08758</td>\n",
       "    </tr>\n",
       "    <tr>\n",
       "      <th>3</th>\n",
       "      <td>3</td>\n",
       "      <td>11.42</td>\n",
       "      <td>20.38</td>\n",
       "      <td>77.58</td>\n",
       "      <td>386.1</td>\n",
       "      <td>0.14250</td>\n",
       "      <td>0.28390</td>\n",
       "      <td>0.2414</td>\n",
       "      <td>0.10520</td>\n",
       "      <td>0.2597</td>\n",
       "      <td>...</td>\n",
       "      <td>14.91</td>\n",
       "      <td>26.50</td>\n",
       "      <td>98.87</td>\n",
       "      <td>567.7</td>\n",
       "      <td>0.2098</td>\n",
       "      <td>0.8663</td>\n",
       "      <td>0.6869</td>\n",
       "      <td>0.2575</td>\n",
       "      <td>0.6638</td>\n",
       "      <td>0.17300</td>\n",
       "    </tr>\n",
       "    <tr>\n",
       "      <th>4</th>\n",
       "      <td>4</td>\n",
       "      <td>20.29</td>\n",
       "      <td>14.34</td>\n",
       "      <td>135.10</td>\n",
       "      <td>1297.0</td>\n",
       "      <td>0.10030</td>\n",
       "      <td>0.13280</td>\n",
       "      <td>0.1980</td>\n",
       "      <td>0.10430</td>\n",
       "      <td>0.1809</td>\n",
       "      <td>...</td>\n",
       "      <td>22.54</td>\n",
       "      <td>16.67</td>\n",
       "      <td>152.20</td>\n",
       "      <td>1575.0</td>\n",
       "      <td>0.1374</td>\n",
       "      <td>0.2050</td>\n",
       "      <td>0.4000</td>\n",
       "      <td>0.1625</td>\n",
       "      <td>0.2364</td>\n",
       "      <td>0.07678</td>\n",
       "    </tr>\n",
       "  </tbody>\n",
       "</table>\n",
       "<p>5 rows × 31 columns</p>\n",
       "</div>"
      ],
      "text/plain": [
       "   index  mean radius  mean texture  mean perimeter  mean area  \\\n",
       "0      0        17.99         10.38          122.80     1001.0   \n",
       "1      1        20.57         17.77          132.90     1326.0   \n",
       "2      2        19.69         21.25          130.00     1203.0   \n",
       "3      3        11.42         20.38           77.58      386.1   \n",
       "4      4        20.29         14.34          135.10     1297.0   \n",
       "\n",
       "   mean smoothness  mean compactness  mean concavity  mean concave points  \\\n",
       "0          0.11840           0.27760          0.3001              0.14710   \n",
       "1          0.08474           0.07864          0.0869              0.07017   \n",
       "2          0.10960           0.15990          0.1974              0.12790   \n",
       "3          0.14250           0.28390          0.2414              0.10520   \n",
       "4          0.10030           0.13280          0.1980              0.10430   \n",
       "\n",
       "   mean symmetry  ...  worst radius  worst texture  worst perimeter  \\\n",
       "0         0.2419  ...         25.38          17.33           184.60   \n",
       "1         0.1812  ...         24.99          23.41           158.80   \n",
       "2         0.2069  ...         23.57          25.53           152.50   \n",
       "3         0.2597  ...         14.91          26.50            98.87   \n",
       "4         0.1809  ...         22.54          16.67           152.20   \n",
       "\n",
       "   worst area  worst smoothness  worst compactness  worst concavity  \\\n",
       "0      2019.0            0.1622             0.6656           0.7119   \n",
       "1      1956.0            0.1238             0.1866           0.2416   \n",
       "2      1709.0            0.1444             0.4245           0.4504   \n",
       "3       567.7            0.2098             0.8663           0.6869   \n",
       "4      1575.0            0.1374             0.2050           0.4000   \n",
       "\n",
       "   worst concave points  worst symmetry  worst fractal dimension  \n",
       "0                0.2654          0.4601                  0.11890  \n",
       "1                0.1860          0.2750                  0.08902  \n",
       "2                0.2430          0.3613                  0.08758  \n",
       "3                0.2575          0.6638                  0.17300  \n",
       "4                0.1625          0.2364                  0.07678  \n",
       "\n",
       "[5 rows x 31 columns]"
      ]
     },
     "execution_count": 1,
     "metadata": {},
     "output_type": "execute_result"
    }
   ],
   "source": [
    "from sklearn.datasets import load_breast_cancer\n",
    "\n",
    "import pandas as pd\n",
    "\n",
    "# download an example dataset\n",
    "data = load_breast_cancer()\n",
    "df = pd.DataFrame(data[\"data\"], columns=data[\"feature_names\"])\n",
    "\n",
    "# create an 'index' column to use to uniquely identify each row\n",
    "df = df.reset_index(drop=False)\n",
    "\n",
    "df.head()"
   ]
  },
  {
   "cell_type": "markdown",
   "id": "a9a2c124",
   "metadata": {},
   "source": [
    "Now let's split the data using Sklearn's `train_test_split`, setting the random state (seed)."
   ]
  },
  {
   "cell_type": "code",
   "execution_count": 2,
   "id": "1224c72f",
   "metadata": {},
   "outputs": [],
   "source": [
    "from sklearn.model_selection import train_test_split\n",
    "\n",
    "TEST_RATIO = 0.1\n",
    "SEED = 42\n",
    "\n",
    "# split into training and test using a random seed\n",
    "x_train_skl, x_test_skl = train_test_split(df, test_size=TEST_RATIO, random_state=SEED)"
   ]
  },
  {
   "cell_type": "markdown",
   "id": "adf9646c",
   "metadata": {},
   "source": [
    "Next, we shuffle the original dataframe and split the data again. We will still use the same random seed as before for consistency.\n",
    "\n",
    "Note that no new data has been added, we have just reordered the rows. "
   ]
  },
  {
   "cell_type": "code",
   "execution_count": 3,
   "id": "ec9e29d1",
   "metadata": {},
   "outputs": [],
   "source": [
    "# shuffle the orginal dataframe\n",
    "df_shuffled = df.sample(frac=1)\n",
    "\n",
    "# split the shuffled dataframe using the same random seed\n",
    "x_train_skl_shuffled, x_test_skl_shuffled = train_test_split(\n",
    "    df_shuffled, test_size=TEST_RATIO, random_state=SEED\n",
    ")"
   ]
  },
  {
   "cell_type": "markdown",
   "id": "329cab57",
   "metadata": {},
   "source": [
    "Ideally the rows contained in the `x_test_skl` and `x_test_skl_shuffled` test sets should be identical as we used the same random seed. \n",
    "\n",
    "However, when we compare the row ids contained in each test set, we notice they are different! Even though the random state (seed) was the same both times. Nothing in the data has changed, it was just shuffled."
   ]
  },
  {
   "cell_type": "code",
   "execution_count": 4,
   "id": "c0f860ab",
   "metadata": {},
   "outputs": [
    {
     "data": {
      "text/plain": [
       "False"
      ]
     },
     "execution_count": 4,
     "metadata": {},
     "output_type": "execute_result"
    }
   ],
   "source": [
    "# compare the row ids included in the original test set vs shuffled test set\n",
    "# should return True if identical rows are included in each test set\n",
    "set(x_test_skl[\"index\"]) == set(x_test_skl_shuffled[\"index\"])"
   ]
  },
  {
   "cell_type": "markdown",
   "id": "2e4f4e6e",
   "metadata": {},
   "source": [
    "This highlights just how sensitive the `train_test_split` function is, even to ordering of the data.\n",
    "\n",
    "More importantly, if there was a change in the underlying data, such as a reordering, which resulted in different splits, it would be extremely difficult to reproduce the original data splits and debug model performance.\n",
    "\n",
    "I was certainly surprised by how sensitive this function was to something as trivial as the ordering of the underlying dataset."
   ]
  },
  {
   "cell_type": "markdown",
   "id": "42c4c5c4",
   "metadata": {},
   "source": [
    "## What are the consequences of relying on a random seed when retraining the model with updated data?\n",
    "\n",
    "As mentioned previously, the results of your model can vary significantly depending on how the data was split.\n",
    "\n",
    "In the future, when you come to retrain your model with some updated data you want to be able to control as many variables as possible in order to effectively compare the accuracy and performance of each model.\n",
    "\n",
    "**You cannot guarantee reproducibility and transparency of splits with random seed**\n",
    "\n",
    "It is be risky relying on a random seed from a reproducibility point of view.\n",
    "\n",
    "The random seed only guarantees reproducibility when the dataset has not changed in any way.\n",
    "\n",
    "Can you be 100% sure the dataset has not changed between training runs? If a colleague has removed an outlier data point or if new rows have been added. Your data splits will be completely different to your original splits with no way to easily replicate the old data splits.\n",
    "\n",
    "You can use data versioning tools, such as [dvc](https://dvc.org/) to help keep track of changes, however, that doesn't prevent your data splits changing. It would be better to protect against split changes in your code.\n",
    "\n",
    "Additionally, the process of splitting by the `train_test_split` function is not very transparent. It is non-deterministic. This means the same datapoint can be split differently and it is not clear why it appears in the training set one time and in the testing set the next.\n",
    "\n",
    "The lack of transparency makes it hard to understand or predict which split the datapoint will be placed. Now or in the future.\n",
    "\n",
    "**Difficult to effectively compare models**\n",
    "\n",
    "When comparing models, we want to be able to control as many variables as possible. That should include which datapoints were used for training and testing.\n",
    "\n",
    "If your data splits are significantly different between runs you might observe considerable differences in performance. For example if you have a couple of 'outlier' datapoints  that were in your training set for the original training run, but are now in your test set, you model performance might 'decline' as it could not predict outlier values in the test set as well as before.\n",
    "\n",
    "**Difficult to debug**\n",
    "\n",
    "If you can't effectively compare models, it can make it hard to debug performance issues.\n",
    "\n",
    "Imagine you add some new data points to your dataset and retrain your model, but the performance of the model drops.\n",
    "\n",
    "If you have used `train_test_split` with the random seed set, you will have completely different data splits as the underlying data has changed. It would be difficult to understand whether the model performance decline was due to the quality of the new data, or, as highlighted in the previous point, it was just because the data was split differently. So the model performance decline was due to statistical variation in the way the data was split."
   ]
  },
  {
   "cell_type": "markdown",
   "id": "233f8bd6",
   "metadata": {},
   "source": [
    "## When might train_test_split not be appropriate?\n",
    "\n",
    "**If you need to retrain your model in the future on the original data + new data**\n",
    "\n",
    "As demonstrated, any underlying change to your existing data, be it reordering or even adding one additional datapoint will cause completely different data splits. Your original data splits will not be reproducible.\n",
    "\n",
    "If you are retraining the model with a *completely* new dataset it isn't a problem as obviously all the training and test datapoints will be different.\n",
    "\n",
    "But if you are training again with a dataset that includes your original datapoints, ideally you should be able to replicate their original data splits during the new training run. Even with the random seed set, `train_test_split` will not guarantee this. \n",
    "\n",
    "\n",
    "**If you are sampling or retrieving your source data from an evolving data source**\n",
    "\n",
    "In an ideal situation, you should have full control of your source dataset, however, sometimes this is not the case.\n",
    "\n",
    "For example, if you are using a table stored in BigQuery as the source which is used be many teams. You cannot guarantee the order of the rows returned by a query and new rows might be appended to the table in the meantime.\n",
    "\n",
    "Another example, would be if you are working with image data stored in a filesystem. If new images are added to your source folder you cannot guarantee the ordering of filepaths especially if new images are added.\n",
    "\n",
    "**If there is a possibility of data leakage**\n",
    "\n",
    "Imagine you are working with a dataset containing information about airline arrival times and you want to predict the chances of a plane arriving late. \n",
    "\n",
    "It is likely that rows of data at the same date will be correlated with each other. If we randomly split the data we risk data leakage. Therefore, we want a method to split the data such that datapoints at the same date only end up int the training set, or only end up in the test set.\n",
    "\n",
    "`train_test_split` does not allow for splitting the data based on a particular column value.\n",
    "  \n",
    "**If you have large datasets which do not fit in memory**\n",
    "\n",
    "If you need to distribute your data across many machines in order to parallelise data processing, using a non-deterministic method for splitting your training and test data can be problematic and difficult to ensure reproducibility.\n",
    "\n",
    "\n",
    "**If your experimentation or production code will be rewritten in another language**\n",
    "\n",
    "As the `train_test_split` is non-deterministic, the data splits will not be easily reproducible across languages. \n",
    "\n",
    "For example, you might want to compare the performance of your custom Python model to a model created using BigQuery's BQML which is defined using SQL. The splits from `train_test_split` Sklearn will not easily translate directly to SQL.\n",
    "\n",
    "It can also be common for teams to prototype models using Python, but then write their production systems in another language such as Java. To help the process of translating the prototype model into another language, ideally we should be able to split the data in the same way in both languages to ensure reproducibility and help debug any differences from the original model to the new model."
   ]
  },
  {
   "cell_type": "markdown",
   "id": "64ce2b57",
   "metadata": {},
   "source": [
    "## The Solution: Hashing\n",
    "\n",
    "### What is hashing?\n",
    "\n",
    "> \"A hash function is any function that can be used to map data of arbitrary size to fixed-size values\" [Wikipedia](https://en.wikipedia.org/wiki/Hash_function)\n",
    "\n",
    "There are many different hashing algorithms, but essentially they allow you to reproducibly convert an input into an arbitrary value.\n",
    "\n",
    "The output of the hashing function is deterministic -- it will always be the same for the same input.\n",
    "\n",
    "\n",
    "### How does it work for splitting data reproducibly?\n",
    "\n",
    "In the context of data splitting, we can use hashing to reliably assign splits to individual datapoints. As this is a deterministic process, we can ensure that the datapoint is always assigned to the same split which aids reproducibility.\n",
    "\n",
    "The process works as follows:\n",
    "- Use a unique identifier for the datapoint (e.g. an ID or by concatenating multiple columns) and use a hashing algorithm to convert it to an arbitrary integer. Each unique datapoint will have a unique output from the hashing function.\n",
    "- Use a [modulo operation](https://en.wikipedia.org/wiki/Modulo_operation) to arbitrarily split the data into 'buckets'\n",
    "- Select all datapoints in a subset of buckets to be the training set and the rest to be in the test set\n",
    "\n",
    "```\n",
    "# example pseudo code\n",
    "\n",
    "id = \"0001\"\n",
    "\n",
    "# convert id into a hashed integer value\n",
    "hash_value = hash(id)\n",
    "\n",
    "# assign a bucket between 0 and 9\n",
    "bucket = hash_value % 10\n",
    "\n",
    "# add id to train set if less than 9 (i.e. approx 90% of the data)\n",
    "if bucket < 9:\n",
    "   train_set.append(id)\n",
    "else:\n",
    "   test_set.append(id)\n",
    "```\n",
    "\n",
    "\n",
    "### Reasons to use hashing\n",
    "\n",
    "**Deterministic**\n",
    "\n",
    "Hashing is robust to underlying changes in the data, unlike `train_test_split`.\n",
    "\n",
    "Using this method, an individual datapoint will *always* be assigned to the same bucket. If the data is reordered or new data is added, the assigned bucket will not change. This is preferable as a datapoint's train/test split assignment is now independent of the rest of the dataset. \n",
    "\n",
    "**Improves development and reduces chances of human error**\n",
    "\n",
    "When working on models in parallel with colleagues, it is very easy to accidentally forget to use random seeds or even use different random seeds. This leaves you open the risk of human error.\n",
    "\n",
    "Using the same hashing algorithm removes the need to control reproducibility explicitly in your code with random seeds. As long as you agree with your team on which hashing algorithm to use you will always recreate the same splits. No risk of human error.  \n",
    "\n",
    "**Consistent splitting across raw and preprocessed data**\n",
    "\n",
    "During experimentation you might investigate different preprocessing steps and save intermediate and preprocessed data in a new file. You then might load this intermediate data at another stage to continue your analysis.\n",
    "\n",
    "As the preprocessed data is different to the raw data, using `train_test_split` and random seeds will give different splits for the raw and preprocessed data when loaded from a new file.\n",
    "\n",
    "Hashing will provide identical splits for raw and preprocessed data as long as the column used for calculating the hash value has not changed.\n",
    "\n",
    "**Storage and memory efficient**\n",
    "\n",
    "There are other strategies to combat reproducibility (discussed later in this article) such as explicitly saving data in a 'training' file and a 'test' file or adding a new column to your data to indicate which train/test split the datapoint belongs to.\n",
    "\n",
    "However, sometimes you are not able to save data to new files and add columns  -- for example, if you don't have permissions to copy or edit the original datasource or the data is too large.\n",
    "\n",
    "Hashing is deterministic and the datapoint split can be calculated 'on the fly' in memory when required without needing to explicitly change the underlying data or save into a new file."
   ]
  },
  {
   "cell_type": "markdown",
   "id": "1aad07d3",
   "metadata": {},
   "source": [
    "### Farmhash\n",
    "\n",
    "There are [many different hashing algorithms](https://en.wikipedia.org/wiki/List_of_hash_functions) which are used for multiple use cases such as checksums and cryptography.\n",
    "\n",
    "For the purpose of creating reproducible train/test splitting we need to use a 'fingerprint' hash function. [Fingerprint hash functions](https://devopedia.org/fingerprinting-algorithms) are lightweight, efficient and deterministic -- they will always return the same value for the same input.\n",
    "\n",
    "Cryptographic hash functions, such as MD5 and SHA1, are not suitable for this use case as they are not deterministic and they are also purposefully made to be computationally expensive.\n",
    "\n",
    "[Farmhash is developed by Google](https://github.com/google/farmhash) and [recommended for this use case](https://towardsdatascience.com/ml-design-pattern-5-repeatable-sampling-c0ccb2889f39). It has a simple [Python library](https://pypi.org/project/pyfarmhash/) implementation and is available across many other languages including [BigQuery SQL](https://towardsdatascience.com/ml-design-pattern-5-repeatable-sampling-c0ccb2889f39). \n",
    "\n",
    "> Another alternative to Farmhash is to use zlib and the crc32 chechsum algorithm. An example of the implementation is shown in this notebook from [Hands-on Machine Learning with Scikit-Learn, Keras and TensorFlow](https://github.com/ageron/handson-ml2/blob/master/02_end_to_end_machine_learning_project.ipynb)\n",
    "\n",
    "Below is a demo of farmhash and how we can use it to assign buckets to our datapoints."
   ]
  },
  {
   "cell_type": "code",
   "execution_count": 5,
   "id": "6cafbb79",
   "metadata": {},
   "outputs": [],
   "source": [
    "# install Python library\n",
    "# ! pip install pyfarmhash"
   ]
  },
  {
   "cell_type": "markdown",
   "id": "0ee73e8c",
   "metadata": {},
   "source": [
    "Let's start by converting an individual ID into a hashed integer value using farmhash's `fingerprint64` function."
   ]
  },
  {
   "cell_type": "code",
   "execution_count": 6,
   "id": "239e2402",
   "metadata": {},
   "outputs": [
    {
     "name": "stdout",
     "output_type": "stream",
     "text": [
      "6241004678967340495\n"
     ]
    }
   ],
   "source": [
    "import farmhash\n",
    "\n",
    "example_id = \"0001\"\n",
    "hashed_value = farmhash.fingerprint64(example_id)\n",
    "print(hashed_value)"
   ]
  },
  {
   "cell_type": "markdown",
   "id": "43c472c4",
   "metadata": {},
   "source": [
    "We can now assign this datapoint to a 'bucket' using an arbitrary function. \n",
    "\n",
    "A useful method for this can be to use the modulo function. The integer outputs from the hashing algorithm are randomly distributed, therefore using the modulo function with a divisor of 10, for example, will split the data into 10 random buckets (from 0 to 9)."
   ]
  },
  {
   "cell_type": "code",
   "execution_count": 7,
   "id": "f1aba99b",
   "metadata": {},
   "outputs": [
    {
     "name": "stdout",
     "output_type": "stream",
     "text": [
      "5\n"
     ]
    }
   ],
   "source": [
    "# assign a bucket using the modulo operation\n",
    "bucket = hashed_value % 10\n",
    "print(bucket)"
   ]
  },
  {
   "cell_type": "markdown",
   "id": "5e3f7596",
   "metadata": {},
   "source": [
    "Therefore, our datapoint ID of \"0001\" would be assigned to bucket 5. "
   ]
  },
  {
   "cell_type": "markdown",
   "id": "819f6cba",
   "metadata": {},
   "source": [
    "### Splitting the dataset using Farmhash\n",
    "\n",
    "Now let's apply this splitting strategy to our dataset.\n",
    "\n",
    "The `hash_train_test_split` function below can be used to split a dataframe into training and test sets using a specified hash function. In this example, the function creates a new column to store the bucket assignments. This is just for demonstration purposes, there is no need to actually store the bucket values in your data.\n",
    "\n",
    "I have broken each step of the process into an individual functions. This is so we decouple the hashing function and test set checking functions from the main function. This allows us to swap different hash functions or test set checking functions as required."
   ]
  },
  {
   "cell_type": "code",
   "execution_count": 8,
   "id": "61642fd1",
   "metadata": {},
   "outputs": [],
   "source": [
    "from typing import Any, Callable\n",
    "\n",
    "TEST_RATIO = 0.1\n",
    "BUCKETS = 10\n",
    "\n",
    "# define some custom types (optional)\n",
    "HashFunc = Callable[[Any], int]\n",
    "TestSetCheckFunc = Callable[[int], bool]\n",
    "\n",
    "\n",
    "def generate_farmhash_fingerprint(value: Any) -> int:\n",
    "    \"\"\"Convert a value into a hashed value using farmhash\"\"\"\n",
    "    return farmhash.fingerprint64(str(value))\n",
    "\n",
    "\n",
    "def convert_hash_to_bucket(hashed_value: int, total_buckets: int) -> int:\n",
    "    \"\"\"Assign a bucket using modulo operator\"\"\"\n",
    "    return hashed_value % total_buckets\n",
    "\n",
    "\n",
    "def test_set_check(bucket: int) -> bool:\n",
    "    \"\"\"Check if the bucket should be included in the test set\n",
    "\n",
    "    This is an arbirtary function, you could change this for your own\n",
    "    requirements\n",
    "\n",
    "    In this case, the datapoint is assigned to the test set if the bucket\n",
    "    number is less than the test ratio x total buckets.\n",
    "    \"\"\"\n",
    "    return bucket < TEST_RATIO * BUCKETS\n",
    "\n",
    "\n",
    "def assign_hash_bucket(value: Any, hash_func: Callable) -> int:\n",
    "    \"\"\"Assign a bucket to an input value using hashing algorithm\"\"\"\n",
    "    hashed_value = hash_func(value)\n",
    "    bucket = convert_hash_to_bucket(hashed_value, total_buckets=BUCKETS)\n",
    "    return bucket\n",
    "\n",
    "\n",
    "def hash_train_test_split(\n",
    "    df: pd.DataFrame,\n",
    "    split_col: str,\n",
    "    approx_test_ratio: float,\n",
    "    hash_func: HashFunc,\n",
    "    test_set_check_func: TestSetCheckFunc,\n",
    ") -> tuple[pd.DataFrame, pd.DataFrame]:\n",
    "    \"\"\"Split the data into a training and test set based of a specific column\n",
    "\n",
    "    This function adds an additional column to the dataframe. This is for\n",
    "    demonstration purposes and is not required. The test set check could all\n",
    "    be completed in memory by adapting the test_set_check_func\n",
    "\n",
    "    Args:\n",
    "        df (pd.DataFrame): original dataset\n",
    "        split_col: name of the column to use for hashing which uniquely\n",
    "            identifies a datapoint\n",
    "        approx_test_ratio: float between 0-1. This is an approximate ratio as\n",
    "            the hashing algo will not necessarily provide a uniform bucket\n",
    "            distribution for small datasets\n",
    "        hash_func: hash function to use to encode the data\n",
    "        test_set_check_func: function used to check if the bucket should be\n",
    "            included in the test set\n",
    "    Returns:\n",
    "        tuple: Two dataframes, the first is the training set and the second\n",
    "            is the test set\n",
    "    \"\"\"\n",
    "\n",
    "    # assign bucket\n",
    "    df[\"bucket\"] = df[split_col].apply(assign_hash_bucket, hash_func=hash_func)\n",
    "\n",
    "    # generate 'mask' of boolean values which define the train/test split\n",
    "    in_test_set = df[\"bucket\"].apply(test_set_check_func)\n",
    "    return df[~in_test_set], df[in_test_set]"
   ]
  },
  {
   "cell_type": "markdown",
   "id": "2a1c4639",
   "metadata": {},
   "source": [
    "As before, we will create a train/test split using the original breast cancer dataset, but use the hashing method with Farmhash instead of sklearn's `train_test_split` with random seeds. \n",
    "\n",
    "Then we will shuffle the data, split the data again and compare the test set ID's to ensure the splits are the same."
   ]
  },
  {
   "cell_type": "code",
   "execution_count": 9,
   "id": "e3b3e6dd",
   "metadata": {},
   "outputs": [],
   "source": [
    "# create a training and test set from original dataset using hashing method\n",
    "x_train_hash, x_test_hash = hash_train_test_split(\n",
    "    df,\n",
    "    split_col=\"index\",\n",
    "    approx_test_ratio=TEST_RATIO,\n",
    "    hash_func=generate_farmhash_fingerprint,\n",
    "    test_set_check_func=test_set_check,\n",
    ")\n",
    "\n",
    "\n",
    "# create a training and test set from shuffled dataset using hashing method\n",
    "x_train_hash_shuffled, x_test_hash_shuffled = hash_train_test_split(\n",
    "    df_shuffled,\n",
    "    split_col=\"index\",\n",
    "    approx_test_ratio=TEST_RATIO,\n",
    "    hash_func=generate_farmhash_fingerprint,\n",
    "    test_set_check_func=test_set_check,\n",
    ")"
   ]
  },
  {
   "cell_type": "code",
   "execution_count": 10,
   "id": "c9cdd52c",
   "metadata": {},
   "outputs": [
    {
     "data": {
      "text/html": [
       "<div>\n",
       "<style scoped>\n",
       "    .dataframe tbody tr th:only-of-type {\n",
       "        vertical-align: middle;\n",
       "    }\n",
       "\n",
       "    .dataframe tbody tr th {\n",
       "        vertical-align: top;\n",
       "    }\n",
       "\n",
       "    .dataframe thead th {\n",
       "        text-align: right;\n",
       "    }\n",
       "</style>\n",
       "<table border=\"1\" class=\"dataframe\">\n",
       "  <thead>\n",
       "    <tr style=\"text-align: right;\">\n",
       "      <th></th>\n",
       "      <th>index</th>\n",
       "      <th>bucket</th>\n",
       "    </tr>\n",
       "  </thead>\n",
       "  <tbody>\n",
       "    <tr>\n",
       "      <th>0</th>\n",
       "      <td>0</td>\n",
       "      <td>5</td>\n",
       "    </tr>\n",
       "    <tr>\n",
       "      <th>1</th>\n",
       "      <td>1</td>\n",
       "      <td>9</td>\n",
       "    </tr>\n",
       "    <tr>\n",
       "      <th>2</th>\n",
       "      <td>2</td>\n",
       "      <td>9</td>\n",
       "    </tr>\n",
       "    <tr>\n",
       "      <th>3</th>\n",
       "      <td>3</td>\n",
       "      <td>1</td>\n",
       "    </tr>\n",
       "    <tr>\n",
       "      <th>4</th>\n",
       "      <td>4</td>\n",
       "      <td>3</td>\n",
       "    </tr>\n",
       "  </tbody>\n",
       "</table>\n",
       "</div>"
      ],
      "text/plain": [
       "   index  bucket\n",
       "0      0       5\n",
       "1      1       9\n",
       "2      2       9\n",
       "3      3       1\n",
       "4      4       3"
      ]
     },
     "execution_count": 10,
     "metadata": {},
     "output_type": "execute_result"
    }
   ],
   "source": [
    "# show which bucket each row has been assigned for demo purposes\n",
    "x_train_hash[[\"index\", \"bucket\"]].head()"
   ]
  },
  {
   "cell_type": "code",
   "execution_count": 11,
   "id": "17bf78e6",
   "metadata": {},
   "outputs": [
    {
     "data": {
      "text/plain": [
       "True"
      ]
     },
     "execution_count": 11,
     "metadata": {},
     "output_type": "execute_result"
    }
   ],
   "source": [
    "# compare the row ids included in each test set\n",
    "set(x_test_hash[\"index\"]) == set(x_test_hash_shuffled[\"index\"])"
   ]
  },
  {
   "cell_type": "markdown",
   "id": "60c35ebc",
   "metadata": {},
   "source": [
    "Problem solved! Even though the underlying dataframe is shuffled, the same row ids appear in the test dataset regardless."
   ]
  },
  {
   "cell_type": "markdown",
   "id": "f4e1eb2c",
   "metadata": {},
   "source": [
    "## Considerations\n",
    "\n",
    "This method is a little (although not much) more complicated than the common Sklearn `train_test_split`, and there are some additional things to think about when implementing this approach.\n",
    "\n",
    "**Hashing will not split your data exactly according to your specified train/test ratio**\n",
    "\n",
    "The output integers from the hashing algorithm are consistent but still random. By statistical chance, you may have slightly more outputs assigned to a particular bucket which means you might not get *exactly* 10% of your data being assigned to the test set. It might be slightly more or less. This is why I named the argument in the function 'approx_test_ratio' as the result will only be approximately that ratio.\n",
    "\n",
    "In our example above, we specified a ratio of 0.1 and would expect from a dataset size of 56. However, we actually ended up with on 46 records in the test set (8%)."
   ]
  },
  {
   "cell_type": "code",
   "execution_count": 12,
   "id": "77b33e27",
   "metadata": {},
   "outputs": [
    {
     "data": {
      "text/plain": [
       "(56, 46, 0.08)"
      ]
     },
     "execution_count": 12,
     "metadata": {},
     "output_type": "execute_result"
    }
   ],
   "source": [
    "total_records = len(df)\n",
    "target_records = int(total_records * TEST_RATIO)\n",
    "hash_test_set_records = len(x_test_hash)\n",
    "actual_ratio = round(hash_test_set_records / total_records, 2)\n",
    "\n",
    "target_records, hash_test_set_records, actual_ratio"
   ]
  },
  {
   "cell_type": "code",
   "execution_count": 13,
   "id": "d954b77c",
   "metadata": {},
   "outputs": [
    {
     "data": {
      "image/png": "[encoded data removed]",
      "text/plain": [
       "<Figure size 1080x288 with 2 Axes>"
      ]
     },
     "metadata": {
      "needs_background": "light"
     },
     "output_type": "display_data"
    }
   ],
   "source": [
    "import matplotlib.pyplot as plt\n",
    "import numpy as np\n",
    "\n",
    "\n",
    "def plot_bucket_distributions(\n",
    "    ax, buckets: list[int], title: str, bar_color: str\n",
    ") -> None:\n",
    "    ax.bar(*np.unique(buckets, return_counts=True), color=bar_color)\n",
    "    ax.set_xticks(range(max(buckets)))\n",
    "    ax.set_xlabel(\"Assigned Bucket\")\n",
    "    ax.set_ylabel(\"Count\")\n",
    "    ax.set_title(title, pad=15)\n",
    "\n",
    "\n",
    "# create subplots\n",
    "fig, (ax1, ax2) = plt.subplots(nrows=1, ncols=2, figsize=(15, 4))\n",
    "\n",
    "# our example\n",
    "demo_example = x_train_hash[\"bucket\"].tolist() + x_test_hash[\"bucket\"].tolist()\n",
    "plot_bucket_distributions(\n",
    "    ax1,\n",
    "    demo_example,\n",
    "    title=\"Current dataset (569 datapoints)\",\n",
    "    bar_color=\"#BF8A6C\",\n",
    ")\n",
    "\n",
    "\n",
    "# large dataset example\n",
    "bigger_example = [farmhash.fingerprint64(str(i)) % 10 for i in range(1_000_000)]\n",
    "plot_bucket_distributions(\n",
    "    ax2,\n",
    "    bigger_example,\n",
    "    title=\"Large dataset (1 million datapoints)\",\n",
    "    bar_color=\"#9ABBB7\",\n",
    ")\n",
    "\n",
    "plt.suptitle(\n",
    "    \"Distribution of assigned buckets becomes more equal for larger datasets\",\n",
    "    fontsize=22,\n",
    "    y=1.1,\n",
    ")\n",
    "plt.show()"
   ]
  },
  {
   "cell_type": "markdown",
   "id": "26040d8d",
   "metadata": {},
   "source": [
    "The larger your dataset, the more uniform the bucket assignments will be and the closer to your desired ratio the splits will become (law of large numbers).\n",
    "\n",
    "Generally this should not be a problem though. Using a 90:10 train/test split is arbitrary. In reality, it doesn't matter if your split is a little over or under this target ratio.\n",
    "\n",
    "\n",
    "**How many buckets should you choose**\n",
    "\n",
    "I.e. which number should you use as the divisor for the modulus operation.\n",
    "\n",
    "This really depends on granularity of the desired test split. If you want to have a split of 90:10 you can split your data into 10 buckets using '10' as the divisor. Then choose one of the buckets to be your test set which will be approximately 10% of your datapoints. \n",
    "\n",
    "If you want 15% of your data for testing, you could use `100` as the divisor to split the data into 100 buckets. You could randomly choose 15 buckets from your data to get 15% of your data for testing. \n",
    "\n",
    "**Platform cross-compatibility quirks**\n",
    "\n",
    "Having said that hashing is consistent across platforms. That is true to an extent.\n",
    "\n",
    "While researching for this article, I tested to see if the dataset splits from my Python program were identical to a dataset stored in [BigQuery using SQL instead](https://towardsdatascience.com/ml-design-pattern-5-repeatable-sampling-c0ccb2889f39).\n",
    "\n",
    "To my surprise, I found some edge cases where the results differed.\n",
    "\n",
    "After a lot of head scratching, I came across a two quirks of BigQuery which were causing the issue:\n",
    "1. [BigQuery does not support unsigned integers](https://stackoverflow.com/questions/51892989/how-does-bigquerys-farm-fingerprint-represent-a-64-bit-unsigned-int)\n",
    "2. BigQuery, [C and C++ have different implementations for the modulus operation](https://stackoverflow.com/questions/3883004/the-modulo-operation-on-negative-numbers-in-python) compared to Python when it comes to negative numbers\n",
    "\n",
    "The `farmhash.fingerprint64` method returns an *[unsigned](https://stackoverflow.com/questions/247873/signed-versus-unsigned-integers)* integer. Whereas the BigQuery `FARM_FINGERPRINT` function returns a `INT64` datatype. Therefore, BigQuery converts the farmhash output to a *signed* integer. The value of signed integer might be different to the original unsigned integer value and it might be negative.\n",
    "\n",
    "Ok, can't we just convert our Python farmhash value to a signed integer?\n",
    "\n",
    "Well, this leads to the second problem. In order to split the data into different buckets, we used the modulus operation. [Python and C (and BigQuery) have different implementations of the modulus operator](https://stackoverflow.com/questions/1907565/c-and-python-different-behaviour-of-the-modulo-operation#:~:text=Both%20variants%20are%20correct%2C%20however,same%20result%20as%20in%20Python.) which affects the results for negative numbers.\n",
    "\n",
    "Therefore, if our signed integer is negative, the bucket it is assigned will differ depending on if we calculated it using Python's modulus operator (`%`) or BigQuery's `MOD` function. \n",
    "\n",
    "> Note: this is nothing to do with the hash function or approach. This is to do with how different languages deal with unsigned integers and the modulus of negative numbers\n",
    "\n",
    "For example:\n",
    "\n",
    "```\n",
    "# in python\n",
    "-1%10 = 9\n",
    "\n",
    "# in BigQuery\n",
    "MOD(-1,10) = -1\n",
    "```\n",
    "\n",
    "Does this mean hashing is not platform independent? \n",
    "\n",
    "Well, not really, just that you need to check how unsigned integers are treated and the how modulus of negative numbers is implemented.\n",
    "\n",
    "We can fix our Python implementation to protect against these issues by converting the unsigned output of farmhash to a signed int and using a custom 'C-like' implementation of the modulus function.\n",
    "\n",
    "```python\n",
    "import numpy as np\n",
    "\n",
    "def signed_hash_value(value:Any) -> int:\n",
    "    \"\"\"Calculate hash and convert unsigned int to a signed int\"\"\"\n",
    "    hashed_value = farmhash.fingerprint64(str(value))\n",
    "    return np.uint64(hashed_value).astype(\"int64\")\n",
    "    \n",
    "def c_mod(a:int, b:int)->int:\n",
    "    \"\"\"Modulus function implemented to behave like 'C' languages\"\"\"\n",
    "    res = a % b\n",
    "    if a < 0:\n",
    "        res -= b\n",
    "    return res\n",
    "\n",
    "# this will give the same results in Python and BigQuery (and C-languages)\n",
    "assigned_bucket = abs(c_mod(signed_hash_value,10))\n",
    "```\n",
    "\n",
    "> Note: [the order of the abs and mod functions is important](https://mentin.medium.com/be-careful-with-abs-function-8e91c78715d5)\n",
    ">\n",
    "> See this [StackOverflow thread](https://stackoverflow.com/questions/63341637/python-vs-bigquery-farmhash-sometimes-do-not-equal) for more information\n"
   ]
  },
  {
   "cell_type": "markdown",
   "id": "e9615921",
   "metadata": {},
   "source": [
    "## Alternatives to hashing\n",
    "\n",
    "For completeness, here are two other common and more explicit approaches for ensuring consistent train/test splitting. \n",
    "\n",
    "**Create an additional column in your data**\n",
    "\n",
    "You could use `train_test_split` (or another random splitting method) to initially define the splits. Then create an additional column in your dataset to explicitly record whether the datapoint should be included for training or test (or specify the fold for K-Fold validation).\n",
    "\n",
    "Here is an [example implementation by Abhishek Thakur](https://github.com/abhishekkrthakur/mlframework/blob/master/src/create_folds.py) who uses it to define the 'folds' for cross validation.\n",
    "\n",
    "This will ensure your splits are 'remembered' between training runs as they are explicitly defined. \n",
    "\n",
    "On the positive side, it is very transparent which datapoints belong to each split. However, a downside is that it increases the total size of your dataset which may not be sustainable for very large datasets. Additionally, if you do not have full control of the dataset (e.g. shared database table) you may not be able to add columns to the original schema.\n",
    "\n",
    "**Save your training and test data to different files**\n",
    "\n",
    "Another common approach is to store your training data and test data to individual files after splitting the data for the first time. For example, into files called `train.csv` and `test.csv`. If the data is too large for individual files you could also save multiple files into folders named `train` and `test` respectively.\n",
    "\n",
    "This can be a valid approach. However, sometimes it may not be feasible to make a copy of all your data and save into individual files. For example if the dataset size is very large or you don't have the permissions to make a copy from the original source.\n",
    "\n",
    "The hashing approach can compute the deterministic data splits reproducibly on the fly and in-memory, preventing the need to copy data into individual files."
   ]
  },
  {
   "cell_type": "markdown",
   "id": "7fba1533",
   "metadata": {},
   "source": [
    "## Conclusion\n",
    "\n",
    "\n",
    "ML is experimental and iterative, you need to be able to keep as many variables constant as possible. That includes which datapoints are used for training and which are used for testing.\n",
    "\n",
    "- The crux, why is this important?: For reproducibility you want to ensure the data that was used to train a model remains consistent when you go to retrain it. This helps comparison of performance and debugging.\n",
    "- Particularly if you need to retrain your model in the future (i.e. it is not just a one off)."
   ]
  },
  {
   "cell_type": "markdown",
   "id": "6b60f1b8",
   "metadata": {},
   "source": [
    "## References & Resources\n",
    "\n",
    "**Hashing**\n",
    "- [ML Design Pattern: Repeatable sampling](https://towardsdatascience.com/ml-design-pattern-5-repeatable-sampling-c0ccb2889f39) (inspiration for this post)\n",
    "- [Hash your data before you create the train-test split](https://www.bi-kring.nl/192-data-science/1340-reusing-data-for-ml-hash-your-data-before-you-create-the-train-test-split)\n",
    "\n",
    "- [Farmhash Description](https://github.com/google/farmhash/blob/master/Understanding_Hash_Functions)\n",
    "- [Hands on ML - different implementation](https://www.danli.org/2021/06/06/hands-on-machine-learning/) also [see notebook](https://github.com/ageron/handson-ml2/blob/master/02_end_to_end_machine_learning_project.ipynb)\n",
    "- [Python Farmhash implementation](https://github.com/veelion/python-farmhash)\n",
    "\n",
    "\n",
    "**Differences between Python and BigQuery**\n",
    "- [Farmhash vs BigQuery implementation, GitHub issue](https://github.com/lovell/farmhash/issues/26)\n",
    "- [StackOverflow question: difference in results between BigQuery and Python](https://stackoverflow.com/questions/63341637/python-vs-bigquery-farmhash-sometimes-do-not-equal)\n",
    "- [BigQuery returns signed integers from FARM_FINGERPRINT function](https://stackoverflow.com/questions/51892989/how-does-bigquerys-farm-fingerprint-represent-a-64-bit-unsigned-int)\n",
    "- [Be careful about operation order in BigQuery](https://mentin.medium.com/be-careful-with-abs-function-8e91c78715d5)\n",
    "- [Reproducibly sampling in BigQuery](https://towardsdatascience.com/advanced-random-sampling-in-bigquery-sql-7d4483b580bb)\n",
    "\n",
    "\n",
    "- [Google docs: Considerations for Hashing](https://developers.google.com/machine-learning/data-prep/construct/sampling-splitting/randomization)\n",
    "\n",
    "**Reproducibility**\n",
    "https://towardsdatascience.com/reproducibility-in-data-science-c2ac9e689339"
   ]
  },
  {
   "cell_type": "markdown",
   "id": "a8afae5a",
   "metadata": {},
   "source": [
    "---\n",
    "\n",
    "#### Demo of BigQuery vs Python farmhash inconsistencies"
   ]
  },
  {
   "cell_type": "code",
   "execution_count": 14,
   "id": "958b81e3",
   "metadata": {},
   "outputs": [],
   "source": [
    "# example which returns negative int with bigquery\n",
    "example = \"1footrue\""
   ]
  },
  {
   "cell_type": "code",
   "execution_count": 15,
   "id": "97c27e07",
   "metadata": {},
   "outputs": [
    {
     "name": "stdout",
     "output_type": "stream",
     "text": [
      "Python hash: 16905089972579912905\n",
      "Python Bucket: 5\n"
     ]
    }
   ],
   "source": [
    "# normal python method for assigning bucket\n",
    "python_hash = farmhash.fingerprint64(\"1footrue\")\n",
    "print(f\"Python hash: {python_hash}\")\n",
    "\n",
    "# assign to bucket\n",
    "python_bucket = python_hash % 10\n",
    "print(f\"Python Bucket: {python_bucket}\")"
   ]
  },
  {
   "cell_type": "markdown",
   "id": "4aa4cfa3",
   "metadata": {},
   "source": [
    "The result of the farmhash algo is an *unsigned* integer.\n",
    "\n",
    "BigQuery converts unsigned integers into a signed integer. If we convert the Python unsigned integer to a signed integer, it becomes negative! This affects the bucket assignment"
   ]
  },
  {
   "cell_type": "code",
   "execution_count": 16,
   "id": "d34ad1a4",
   "metadata": {},
   "outputs": [
    {
     "name": "stdout",
     "output_type": "stream",
     "text": [
      "Signed int: -1541654101129638711\n",
      "Signed int bucket: 9\n"
     ]
    }
   ],
   "source": [
    "signed_int = np.uint64(python_hash).astype(\"int64\")\n",
    "print(f\"Signed int: {signed_int}\")\n",
    "\n",
    "signed_int_bucket = signed_int % 10\n",
    "print(f\"Signed int bucket: {signed_int_bucket}\")"
   ]
  },
  {
   "cell_type": "markdown",
   "id": "7177aa62",
   "metadata": {},
   "source": [
    "We can't do anything about the fact that BigQuery returns signed integers, therefore it is easiest for us to just deal with it ourselves and convert Python's farmhash values into signed ints.\n",
    "\n",
    "However, there is a second problem. Python calculates the modulus of [negative numbers differently](http://python-history.blogspot.com/2010/08/why-pythons-integer-division-floors.html) to 'C' languages and by extension, BigQuery.\n",
    "\n",
    "If we take the modulus of -1541654101129638711 % 10 in BigQuery we actually get -1 instead of 9 (as shown above). We can fix this in our Python code by using the following implementation:"
   ]
  },
  {
   "cell_type": "code",
   "execution_count": 17,
   "id": "6e11a1a4",
   "metadata": {},
   "outputs": [],
   "source": [
    "def c_mod(a, b):\n",
    "    res = a % b\n",
    "    if a < 0:\n",
    "        res -= b\n",
    "    return res"
   ]
  },
  {
   "cell_type": "code",
   "execution_count": 18,
   "id": "a5642a37",
   "metadata": {},
   "outputs": [
    {
     "data": {
      "text/plain": [
       "-1"
      ]
     },
     "execution_count": 18,
     "metadata": {},
     "output_type": "execute_result"
    }
   ],
   "source": [
    "c_mod(signed_int, 10)"
   ]
  },
  {
   "cell_type": "markdown",
   "id": "960979bd",
   "metadata": {},
   "source": [
    "Ok, now one final thing.\n",
    "\n",
    "Obviously we don't want negative numbers for our buckets -- we only what 10 buckets, not up to 20! Therefore we need to take the `abs` of the returned bucket. For example:"
   ]
  },
  {
   "cell_type": "code",
   "execution_count": 19,
   "id": "20592d14",
   "metadata": {},
   "outputs": [
    {
     "data": {
      "text/plain": [
       "1"
      ]
     },
     "execution_count": 19,
     "metadata": {},
     "output_type": "execute_result"
    }
   ],
   "source": [
    "abs(c_mod(signed_int, 10))"
   ]
  },
  {
   "cell_type": "markdown",
   "id": "94f93c85",
   "metadata": {},
   "source": [
    "So our datapoint will now be assigned to bucket 1 which will be consistent across Python and BigQuery (and C languages -- hopefully all languages, but I haven't checked...)\n",
    "\n",
    "[Note: the order of the abs and mod functions is important](https://mentin.medium.com/be-careful-with-abs-function-8e91c78715d5)"
   ]
  },
  {
   "cell_type": "code",
   "execution_count": null,
   "id": "aea9833e",
   "metadata": {},
   "outputs": [],
   "source": []
  }
 ],
 "metadata": {
  "kernelspec": {
   "display_name": "Python 3 (ipykernel)",
   "language": "python",
   "name": "python3"
  },
  "language_info": {
   "codemirror_mode": {
    "name": "ipython",
    "version": 3
   },
   "file_extension": ".py",
   "mimetype": "text/x-python",
   "name": "python",
   "nbconvert_exporter": "python",
   "pygments_lexer": "ipython3",
   "version": "3.9.5"
  }
 },
 "nbformat": 4,
 "nbformat_minor": 5
}
