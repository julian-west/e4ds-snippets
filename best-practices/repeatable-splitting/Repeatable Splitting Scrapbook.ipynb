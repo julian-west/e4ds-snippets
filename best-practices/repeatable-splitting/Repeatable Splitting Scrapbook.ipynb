{
 "cells": [
  {
   "cell_type": "markdown",
   "id": "101695fb",
   "metadata": {},
   "source": [
    "# ML Design Pattern: Repeatable Splitting\n",
    "\n",
    "\n",
    "## Reproducible ML: Maybe you shouldn't be using train_test_split"
   ]
  },
  {
   "cell_type": "code",
   "execution_count": 1,
   "id": "61c5461b",
   "metadata": {},
   "outputs": [],
   "source": [
    "# dependencies\n",
    "# ! pip install farmhash pandas"
   ]
  },
  {
   "cell_type": "code",
   "execution_count": 2,
   "id": "dad65dda",
   "metadata": {},
   "outputs": [],
   "source": [
    "# !pip install nb_black"
   ]
  },
  {
   "cell_type": "code",
   "execution_count": 3,
   "id": "d64e85ca",
   "metadata": {},
   "outputs": [
    {
     "data": {
      "application/javascript": [
       "\n",
       "            setTimeout(function() {\n",
       "                var nbb_cell_id = 3;\n",
       "                var nbb_unformatted_code = \"%load_ext nb_black\";\n",
       "                var nbb_formatted_code = \"%load_ext nb_black\";\n",
       "                var nbb_cells = Jupyter.notebook.get_cells();\n",
       "                for (var i = 0; i < nbb_cells.length; ++i) {\n",
       "                    if (nbb_cells[i].input_prompt_number == nbb_cell_id) {\n",
       "                        if (nbb_cells[i].get_text() == nbb_unformatted_code) {\n",
       "                             nbb_cells[i].set_text(nbb_formatted_code);\n",
       "                        }\n",
       "                        break;\n",
       "                    }\n",
       "                }\n",
       "            }, 500);\n",
       "            "
      ],
      "text/plain": [
       "<IPython.core.display.Javascript object>"
      ]
     },
     "metadata": {},
     "output_type": "display_data"
    }
   ],
   "source": [
    "%load_ext nb_black"
   ]
  },
  {
   "cell_type": "code",
   "execution_count": 4,
   "id": "e68f55c3",
   "metadata": {},
   "outputs": [
    {
     "name": "stdout",
     "output_type": "stream",
     "text": [
      "Train set: 669\n",
      "Test set: 59\n"
     ]
    },
    {
     "data": {
      "application/javascript": [
       "\n",
       "            setTimeout(function() {\n",
       "                var nbb_cell_id = 4;\n",
       "                var nbb_unformatted_code = \"# import the libraries\\nimport pandas as pd\\nimport numpy as np\\nfrom sklearn.model_selection import train_test_split\\nfrom zlib import crc32\\n\\n\\n# generate the first DataFrame\\nX_1 = pd.DataFrame(data={\\\"variable\\\": np.random.normal(size=1000)})\\n\\n# apply the train-test split\\nX_1_train, X_1_test = train_test_split(X_1, test_size=0.2, random_state=42)\\n\\n# add new observations to the DataFrame\\nX_2 = pd.concat(\\n    [X_1, pd.DataFrame(data={\\\"variable\\\": np.random.normal(size=500)})]\\n).reset_index(drop=True)\\n\\n# again, apply the train-test split to the updated DataFrame\\nX_2_train, X_2_test = train_test_split(X_2, test_size=0.2, random_state=42)\\n\\n# see what is the overlap of indices\\nprint(f\\\"Train set: {len(set(X_1_train.index).intersection(set(X_2_train.index)))}\\\")\\nprint(f\\\"Test set: {len(set(X_1_test.index).intersection(set(X_2_test.index)))}\\\")\";\n",
       "                var nbb_formatted_code = \"# import the libraries\\nimport pandas as pd\\nimport numpy as np\\nfrom sklearn.model_selection import train_test_split\\nfrom zlib import crc32\\n\\n\\n# generate the first DataFrame\\nX_1 = pd.DataFrame(data={\\\"variable\\\": np.random.normal(size=1000)})\\n\\n# apply the train-test split\\nX_1_train, X_1_test = train_test_split(X_1, test_size=0.2, random_state=42)\\n\\n# add new observations to the DataFrame\\nX_2 = pd.concat(\\n    [X_1, pd.DataFrame(data={\\\"variable\\\": np.random.normal(size=500)})]\\n).reset_index(drop=True)\\n\\n# again, apply the train-test split to the updated DataFrame\\nX_2_train, X_2_test = train_test_split(X_2, test_size=0.2, random_state=42)\\n\\n# see what is the overlap of indices\\nprint(f\\\"Train set: {len(set(X_1_train.index).intersection(set(X_2_train.index)))}\\\")\\nprint(f\\\"Test set: {len(set(X_1_test.index).intersection(set(X_2_test.index)))}\\\")\";\n",
       "                var nbb_cells = Jupyter.notebook.get_cells();\n",
       "                for (var i = 0; i < nbb_cells.length; ++i) {\n",
       "                    if (nbb_cells[i].input_prompt_number == nbb_cell_id) {\n",
       "                        if (nbb_cells[i].get_text() == nbb_unformatted_code) {\n",
       "                             nbb_cells[i].set_text(nbb_formatted_code);\n",
       "                        }\n",
       "                        break;\n",
       "                    }\n",
       "                }\n",
       "            }, 500);\n",
       "            "
      ],
      "text/plain": [
       "<IPython.core.display.Javascript object>"
      ]
     },
     "metadata": {},
     "output_type": "display_data"
    }
   ],
   "source": [
    "import numpy as np\n",
    "from sklearn.model_selection import train_test_split\n",
    "\n",
    "# import the libraries\n",
    "import pandas as pd\n",
    "\n",
    "# generate the first DataFrame\n",
    "X_1 = pd.DataFrame(data={\"variable\": np.random.normal(size=1000)})\n",
    "\n",
    "# apply the train-test split\n",
    "X_1_train, X_1_test = train_test_split(X_1, test_size=0.2, random_state=42)\n",
    "\n",
    "# add new observations to the DataFrame\n",
    "X_2 = pd.concat(\n",
    "    [X_1, pd.DataFrame(data={\"variable\": np.random.normal(size=500)})]\n",
    ").reset_index(drop=True)\n",
    "\n",
    "# again, apply the train-test split to the updated DataFrame\n",
    "X_2_train, X_2_test = train_test_split(X_2, test_size=0.2, random_state=42)\n",
    "\n",
    "# see what is the overlap of indices\n",
    "print(f\"Train set: {len(set(X_1_train.index).intersection(set(X_2_train.index)))}\")\n",
    "print(f\"Test set: {len(set(X_1_test.index).intersection(set(X_2_test.index)))}\")"
   ]
  },
  {
   "cell_type": "code",
   "execution_count": 5,
   "id": "96a4493b",
   "metadata": {},
   "outputs": [
    {
     "data": {
      "application/javascript": [
       "\n",
       "            setTimeout(function() {\n",
       "                var nbb_cell_id = 5;\n",
       "                var nbb_unformatted_code = \"import farmhash\";\n",
       "                var nbb_formatted_code = \"import farmhash\";\n",
       "                var nbb_cells = Jupyter.notebook.get_cells();\n",
       "                for (var i = 0; i < nbb_cells.length; ++i) {\n",
       "                    if (nbb_cells[i].input_prompt_number == nbb_cell_id) {\n",
       "                        if (nbb_cells[i].get_text() == nbb_unformatted_code) {\n",
       "                             nbb_cells[i].set_text(nbb_formatted_code);\n",
       "                        }\n",
       "                        break;\n",
       "                    }\n",
       "                }\n",
       "            }, 500);\n",
       "            "
      ],
      "text/plain": [
       "<IPython.core.display.Javascript object>"
      ]
     },
     "metadata": {},
     "output_type": "display_data"
    }
   ],
   "source": [
    "import farmhash"
   ]
  },
  {
   "cell_type": "code",
   "execution_count": 6,
   "id": "bcc1d858",
   "metadata": {},
   "outputs": [
    {
     "data": {
      "text/html": [
       "<div>\n",
       "<style scoped>\n",
       "    .dataframe tbody tr th:only-of-type {\n",
       "        vertical-align: middle;\n",
       "    }\n",
       "\n",
       "    .dataframe tbody tr th {\n",
       "        vertical-align: top;\n",
       "    }\n",
       "\n",
       "    .dataframe thead th {\n",
       "        text-align: right;\n",
       "    }\n",
       "</style>\n",
       "<table border=\"1\" class=\"dataframe\">\n",
       "  <thead>\n",
       "    <tr style=\"text-align: right;\">\n",
       "      <th></th>\n",
       "      <th>id</th>\n",
       "      <th>airport</th>\n",
       "      <th>hash_airport</th>\n",
       "      <th>hash_id</th>\n",
       "      <th>airport_bucket_10</th>\n",
       "      <th>id_bucket_10</th>\n",
       "    </tr>\n",
       "  </thead>\n",
       "  <tbody>\n",
       "    <tr>\n",
       "      <th>0</th>\n",
       "      <td>0</td>\n",
       "      <td>LBB</td>\n",
       "      <td>6290192273091124709</td>\n",
       "      <td>15198969275252572735</td>\n",
       "      <td>9</td>\n",
       "      <td>5</td>\n",
       "    </tr>\n",
       "    <tr>\n",
       "      <th>1</th>\n",
       "      <td>1</td>\n",
       "      <td>DTW</td>\n",
       "      <td>8485400555133853543</td>\n",
       "      <td>9304157803607034849</td>\n",
       "      <td>3</td>\n",
       "      <td>9</td>\n",
       "    </tr>\n",
       "    <tr>\n",
       "      <th>2</th>\n",
       "      <td>2</td>\n",
       "      <td>ANC</td>\n",
       "      <td>3769719083775059508</td>\n",
       "      <td>6920640749119438759</td>\n",
       "      <td>8</td>\n",
       "      <td>9</td>\n",
       "    </tr>\n",
       "    <tr>\n",
       "      <th>3</th>\n",
       "      <td>3</td>\n",
       "      <td>MSO</td>\n",
       "      <td>3704558892068952737</td>\n",
       "      <td>11991475895402502921</td>\n",
       "      <td>7</td>\n",
       "      <td>1</td>\n",
       "    </tr>\n",
       "    <tr>\n",
       "      <th>4</th>\n",
       "      <td>4</td>\n",
       "      <td>MSO</td>\n",
       "      <td>3704558892068952737</td>\n",
       "      <td>14526854387307260543</td>\n",
       "      <td>7</td>\n",
       "      <td>3</td>\n",
       "    </tr>\n",
       "  </tbody>\n",
       "</table>\n",
       "</div>"
      ],
      "text/plain": [
       "   id airport         hash_airport               hash_id  airport_bucket_10  \\\n",
       "0   0     LBB  6290192273091124709  15198969275252572735                  9   \n",
       "1   1     DTW  8485400555133853543   9304157803607034849                  3   \n",
       "2   2     ANC  3769719083775059508   6920640749119438759                  8   \n",
       "3   3     MSO  3704558892068952737  11991475895402502921                  7   \n",
       "4   4     MSO  3704558892068952737  14526854387307260543                  7   \n",
       "\n",
       "   id_bucket_10  \n",
       "0             5  \n",
       "1             9  \n",
       "2             9  \n",
       "3             1  \n",
       "4             3  "
      ]
     },
     "execution_count": 6,
     "metadata": {},
     "output_type": "execute_result"
    },
    {
     "data": {
      "application/javascript": [
       "\n",
       "            setTimeout(function() {\n",
       "                var nbb_cell_id = 6;\n",
       "                var nbb_unformatted_code = \"airport = [\\\"DTW\\\", \\\"LBB\\\", \\\"SNA\\\", \\\"MSO\\\", \\\"ANC\\\", \\\"PIT\\\", \\\"PWM\\\", \\\"BNA\\\"]\\n\\nimport random\\n\\nSEED = 42\\nRECORDS = 100000\\nBUCKETS = 10\\n\\nrandom.seed(SEED)\\na = [(i, random.choice(airport)) for i in range(RECORDS)]\\n\\ndf = pd.DataFrame(a, columns=[\\\"id\\\", \\\"airport\\\"])\\n\\ndf[\\\"hash_airport\\\"] = df[\\\"airport\\\"].apply(lambda x: farmhash.hash64(x))\\ndf[\\\"hash_id\\\"] = df[\\\"id\\\"].apply(lambda x: farmhash.hash64(str(x)))\\n\\ndf[\\\"airport_bucket_10\\\"] = df[\\\"hash_airport\\\"].apply(lambda x: abs(x % BUCKETS))\\ndf[\\\"id_bucket_10\\\"] = df[\\\"hash_id\\\"].apply(lambda x: abs(x % BUCKETS))\\ndf.head()\";\n",
       "                var nbb_formatted_code = \"airport = [\\\"DTW\\\", \\\"LBB\\\", \\\"SNA\\\", \\\"MSO\\\", \\\"ANC\\\", \\\"PIT\\\", \\\"PWM\\\", \\\"BNA\\\"]\\n\\nimport random\\n\\nSEED = 42\\nRECORDS = 100000\\nBUCKETS = 10\\n\\nrandom.seed(SEED)\\na = [(i, random.choice(airport)) for i in range(RECORDS)]\\n\\ndf = pd.DataFrame(a, columns=[\\\"id\\\", \\\"airport\\\"])\\n\\ndf[\\\"hash_airport\\\"] = df[\\\"airport\\\"].apply(lambda x: farmhash.hash64(x))\\ndf[\\\"hash_id\\\"] = df[\\\"id\\\"].apply(lambda x: farmhash.hash64(str(x)))\\n\\ndf[\\\"airport_bucket_10\\\"] = df[\\\"hash_airport\\\"].apply(lambda x: abs(x % BUCKETS))\\ndf[\\\"id_bucket_10\\\"] = df[\\\"hash_id\\\"].apply(lambda x: abs(x % BUCKETS))\\ndf.head()\";\n",
       "                var nbb_cells = Jupyter.notebook.get_cells();\n",
       "                for (var i = 0; i < nbb_cells.length; ++i) {\n",
       "                    if (nbb_cells[i].input_prompt_number == nbb_cell_id) {\n",
       "                        if (nbb_cells[i].get_text() == nbb_unformatted_code) {\n",
       "                             nbb_cells[i].set_text(nbb_formatted_code);\n",
       "                        }\n",
       "                        break;\n",
       "                    }\n",
       "                }\n",
       "            }, 500);\n",
       "            "
      ],
      "text/plain": [
       "<IPython.core.display.Javascript object>"
      ]
     },
     "metadata": {},
     "output_type": "display_data"
    }
   ],
   "source": [
    "airport = [\"DTW\", \"LBB\", \"SNA\", \"MSO\", \"ANC\", \"PIT\", \"PWM\", \"BNA\"]\n",
    "\n",
    "import random\n",
    "\n",
    "SEED = 42\n",
    "RECORDS = 100000\n",
    "BUCKETS = 10\n",
    "\n",
    "random.seed(SEED)\n",
    "a = [(i, random.choice(airport)) for i in range(RECORDS)]\n",
    "\n",
    "df = pd.DataFrame(a, columns=[\"id\", \"airport\"])\n",
    "\n",
    "df[\"hash_airport\"] = df[\"airport\"].apply(lambda x: farmhash.hash64(x))\n",
    "df[\"hash_id\"] = df[\"id\"].apply(lambda x: farmhash.hash64(str(x)))\n",
    "\n",
    "df[\"airport_bucket_10\"] = df[\"hash_airport\"].apply(lambda x: abs(x % BUCKETS))\n",
    "df[\"id_bucket_10\"] = df[\"hash_id\"].apply(lambda x: abs(x % BUCKETS))\n",
    "df.head()"
   ]
  },
  {
   "cell_type": "code",
   "execution_count": 7,
   "id": "0756a459",
   "metadata": {},
   "outputs": [
    {
     "name": "stdout",
     "output_type": "stream",
     "text": [
      "Expected = 10000\n"
     ]
    },
    {
     "data": {
      "text/plain": [
       "airport_bucket_10    37871\n",
       "id_bucket_10          9979\n",
       "dtype: int64"
      ]
     },
     "execution_count": 7,
     "metadata": {},
     "output_type": "execute_result"
    },
    {
     "data": {
      "application/javascript": [
       "\n",
       "            setTimeout(function() {\n",
       "                var nbb_cell_id = 7;\n",
       "                var nbb_unformatted_code = \"print(f\\\"Expected = {int(RECORDS*0.1)}\\\")\\ndf[df[[\\\"airport_bucket_10\\\", \\\"id_bucket_10\\\"]] >= 9][\\n    [\\\"airport_bucket_10\\\", \\\"id_bucket_10\\\"]\\n].count()\";\n",
       "                var nbb_formatted_code = \"print(f\\\"Expected = {int(RECORDS*0.1)}\\\")\\ndf[df[[\\\"airport_bucket_10\\\", \\\"id_bucket_10\\\"]] >= 9][\\n    [\\\"airport_bucket_10\\\", \\\"id_bucket_10\\\"]\\n].count()\";\n",
       "                var nbb_cells = Jupyter.notebook.get_cells();\n",
       "                for (var i = 0; i < nbb_cells.length; ++i) {\n",
       "                    if (nbb_cells[i].input_prompt_number == nbb_cell_id) {\n",
       "                        if (nbb_cells[i].get_text() == nbb_unformatted_code) {\n",
       "                             nbb_cells[i].set_text(nbb_formatted_code);\n",
       "                        }\n",
       "                        break;\n",
       "                    }\n",
       "                }\n",
       "            }, 500);\n",
       "            "
      ],
      "text/plain": [
       "<IPython.core.display.Javascript object>"
      ]
     },
     "metadata": {},
     "output_type": "display_data"
    }
   ],
   "source": [
    "print(f\"Expected = {int(RECORDS*0.1)}\")\n",
    "df[df[[\"airport_bucket_10\", \"id_bucket_10\"]] >= 9][\n",
    "    [\"airport_bucket_10\", \"id_bucket_10\"]\n",
    "].count()"
   ]
  },
  {
   "cell_type": "code",
   "execution_count": 8,
   "id": "d4820945",
   "metadata": {},
   "outputs": [
    {
     "data": {
      "application/javascript": [
       "\n",
       "            setTimeout(function() {\n",
       "                var nbb_cell_id = 8;\n",
       "                var nbb_unformatted_code = \"import seaborn as sns\";\n",
       "                var nbb_formatted_code = \"import seaborn as sns\";\n",
       "                var nbb_cells = Jupyter.notebook.get_cells();\n",
       "                for (var i = 0; i < nbb_cells.length; ++i) {\n",
       "                    if (nbb_cells[i].input_prompt_number == nbb_cell_id) {\n",
       "                        if (nbb_cells[i].get_text() == nbb_unformatted_code) {\n",
       "                             nbb_cells[i].set_text(nbb_formatted_code);\n",
       "                        }\n",
       "                        break;\n",
       "                    }\n",
       "                }\n",
       "            }, 500);\n",
       "            "
      ],
      "text/plain": [
       "<IPython.core.display.Javascript object>"
      ]
     },
     "metadata": {},
     "output_type": "display_data"
    }
   ],
   "source": [
    "import seaborn as sns"
   ]
  },
  {
   "cell_type": "code",
   "execution_count": 9,
   "id": "246e5316",
   "metadata": {},
   "outputs": [
    {
     "data": {
      "text/plain": [
       "<AxesSubplot:xlabel='airport_bucket_10', ylabel='Count'>"
      ]
     },
     "execution_count": 9,
     "metadata": {},
     "output_type": "execute_result"
    },
    {
     "data": {
      "image/png": "[encoded data removed]",
      "text/plain": [
       "<Figure size 432x288 with 1 Axes>"
      ]
     },
     "metadata": {
      "needs_background": "light"
     },
     "output_type": "display_data"
    },
    {
     "data": {
      "application/javascript": [
       "\n",
       "            setTimeout(function() {\n",
       "                var nbb_cell_id = 9;\n",
       "                var nbb_unformatted_code = \"sns.histplot(\\n    data=df,\\n    x=\\\"airport_bucket_10\\\",\\n    color=\\\"skyblue\\\",\\n    label=\\\"airport\\\",\\n    bins=10,\\n    binwidth=1,\\n)\\nsns.histplot(data=df, x=\\\"id_bucket_10\\\", color=\\\"red\\\", label=\\\"id\\\", bins=10, binwidth=1)\";\n",
       "                var nbb_formatted_code = \"sns.histplot(\\n    data=df,\\n    x=\\\"airport_bucket_10\\\",\\n    color=\\\"skyblue\\\",\\n    label=\\\"airport\\\",\\n    bins=10,\\n    binwidth=1,\\n)\\nsns.histplot(data=df, x=\\\"id_bucket_10\\\", color=\\\"red\\\", label=\\\"id\\\", bins=10, binwidth=1)\";\n",
       "                var nbb_cells = Jupyter.notebook.get_cells();\n",
       "                for (var i = 0; i < nbb_cells.length; ++i) {\n",
       "                    if (nbb_cells[i].input_prompt_number == nbb_cell_id) {\n",
       "                        if (nbb_cells[i].get_text() == nbb_unformatted_code) {\n",
       "                             nbb_cells[i].set_text(nbb_formatted_code);\n",
       "                        }\n",
       "                        break;\n",
       "                    }\n",
       "                }\n",
       "            }, 500);\n",
       "            "
      ],
      "text/plain": [
       "<IPython.core.display.Javascript object>"
      ]
     },
     "metadata": {},
     "output_type": "display_data"
    }
   ],
   "source": [
    "sns.histplot(\n",
    "    data=df,\n",
    "    x=\"airport_bucket_10\",\n",
    "    color=\"skyblue\",\n",
    "    label=\"airport\",\n",
    "    bins=10,\n",
    "    binwidth=1,\n",
    ")\n",
    "sns.histplot(data=df, x=\"id_bucket_10\", color=\"red\", label=\"id\", bins=10, binwidth=1)"
   ]
  },
  {
   "cell_type": "code",
   "execution_count": 10,
   "id": "e9828fb6",
   "metadata": {},
   "outputs": [
    {
     "data": {
      "application/javascript": [
       "\n",
       "            setTimeout(function() {\n",
       "                var nbb_cell_id = 10;\n",
       "                var nbb_unformatted_code = \"def hashed_train_test_split(df, index_col, test_size=0.2):\\n    \\\"\\\"\\\"\\n    Train-test split based on the hash of the unique identifier.\\n    \\\"\\\"\\\"\\n    test_index = df[index_col].apply(lambda x: crc32(np.int64(x)))\\n    test_index = test_index < test_size * 2 ** 32\\n\\n    return df.loc[~test_index], df.loc[test_index]\";\n",
       "                var nbb_formatted_code = \"def hashed_train_test_split(df, index_col, test_size=0.2):\\n    \\\"\\\"\\\"\\n    Train-test split based on the hash of the unique identifier.\\n    \\\"\\\"\\\"\\n    test_index = df[index_col].apply(lambda x: crc32(np.int64(x)))\\n    test_index = test_index < test_size * 2 ** 32\\n\\n    return df.loc[~test_index], df.loc[test_index]\";\n",
       "                var nbb_cells = Jupyter.notebook.get_cells();\n",
       "                for (var i = 0; i < nbb_cells.length; ++i) {\n",
       "                    if (nbb_cells[i].input_prompt_number == nbb_cell_id) {\n",
       "                        if (nbb_cells[i].get_text() == nbb_unformatted_code) {\n",
       "                             nbb_cells[i].set_text(nbb_formatted_code);\n",
       "                        }\n",
       "                        break;\n",
       "                    }\n",
       "                }\n",
       "            }, 500);\n",
       "            "
      ],
      "text/plain": [
       "<IPython.core.display.Javascript object>"
      ]
     },
     "metadata": {},
     "output_type": "display_data"
    }
   ],
   "source": [
    "def hashed_train_test_split(df, index_col, test_size=0.2):\n",
    "    \"\"\"\n",
    "    Train-test split based on the hash of the unique identifier.\n",
    "    \"\"\"\n",
    "    test_index = df[index_col].apply(lambda x: crc32(np.int64(x)))\n",
    "    test_index = test_index < test_size * 2 ** 32\n",
    "\n",
    "    return df.loc[~test_index], df.loc[test_index]"
   ]
  },
  {
   "cell_type": "code",
   "execution_count": 11,
   "id": "460f46c6",
   "metadata": {},
   "outputs": [
    {
     "name": "stdout",
     "output_type": "stream",
     "text": [
      "Train set: 800\n",
      "Test set: 200\n"
     ]
    },
    {
     "data": {
      "application/javascript": [
       "\n",
       "            setTimeout(function() {\n",
       "                var nbb_cell_id = 11;\n",
       "                var nbb_unformatted_code = \"# create an index column (should be immutable and unique)\\nX_1 = X_1.reset_index(drop=False)\\nX_2 = X_2.reset_index(drop=False)\\n\\n# apply the improved train-test split\\nX_1_train_hashed, X_1_test_hashed = hashed_train_test_split(X_1, \\\"index\\\")\\nX_2_train_hashed, X_2_test_hashed = hashed_train_test_split(X_2, \\\"index\\\")\\n\\n# see what is the overlap of indices\\nprint(\\n    f\\\"Train set: {len(set(X_1_train_hashed.index).intersection(set(X_2_train_hashed.index)))}\\\"\\n)\\nprint(\\n    f\\\"Test set: {len(set(X_1_test_hashed.index).intersection(set(X_2_test_hashed.index)))}\\\"\\n)\\n\\n# Train set: 800\\n# Test set: 200\";\n",
       "                var nbb_formatted_code = \"# create an index column (should be immutable and unique)\\nX_1 = X_1.reset_index(drop=False)\\nX_2 = X_2.reset_index(drop=False)\\n\\n# apply the improved train-test split\\nX_1_train_hashed, X_1_test_hashed = hashed_train_test_split(X_1, \\\"index\\\")\\nX_2_train_hashed, X_2_test_hashed = hashed_train_test_split(X_2, \\\"index\\\")\\n\\n# see what is the overlap of indices\\nprint(\\n    f\\\"Train set: {len(set(X_1_train_hashed.index).intersection(set(X_2_train_hashed.index)))}\\\"\\n)\\nprint(\\n    f\\\"Test set: {len(set(X_1_test_hashed.index).intersection(set(X_2_test_hashed.index)))}\\\"\\n)\\n\\n# Train set: 800\\n# Test set: 200\";\n",
       "                var nbb_cells = Jupyter.notebook.get_cells();\n",
       "                for (var i = 0; i < nbb_cells.length; ++i) {\n",
       "                    if (nbb_cells[i].input_prompt_number == nbb_cell_id) {\n",
       "                        if (nbb_cells[i].get_text() == nbb_unformatted_code) {\n",
       "                             nbb_cells[i].set_text(nbb_formatted_code);\n",
       "                        }\n",
       "                        break;\n",
       "                    }\n",
       "                }\n",
       "            }, 500);\n",
       "            "
      ],
      "text/plain": [
       "<IPython.core.display.Javascript object>"
      ]
     },
     "metadata": {},
     "output_type": "display_data"
    }
   ],
   "source": [
    "# create an index column (should be immutable and unique)\n",
    "X_1 = X_1.reset_index(drop=False)\n",
    "X_2 = X_2.reset_index(drop=False)\n",
    "\n",
    "# apply the improved train-test split\n",
    "X_1_train_hashed, X_1_test_hashed = hashed_train_test_split(X_1, \"index\")\n",
    "X_2_train_hashed, X_2_test_hashed = hashed_train_test_split(X_2, \"index\")\n",
    "\n",
    "# see what is the overlap of indices\n",
    "print(\n",
    "    f\"Train set: {len(set(X_1_train_hashed.index).intersection(set(X_2_train_hashed.index)))}\"\n",
    ")\n",
    "print(\n",
    "    f\"Test set: {len(set(X_1_test_hashed.index).intersection(set(X_2_test_hashed.index)))}\"\n",
    ")\n",
    "\n",
    "# Train set: 800\n",
    "# Test set: 200"
   ]
  },
  {
   "cell_type": "code",
   "execution_count": 12,
   "id": "4f84f210",
   "metadata": {},
   "outputs": [
    {
     "data": {
      "application/javascript": [
       "\n",
       "            setTimeout(function() {\n",
       "                var nbb_cell_id = 12;\n",
       "                var nbb_unformatted_code = \"from zlib import crc32\\n\\n\\ndef test_set_check(identifier, test_ratio):\\n    return crc32(np.int64(identifier)) & 0xFFFFFFFF < test_ratio * 2 ** 32\\n\\n\\ndef split_train_test_by_id(data, test_ratio, id_column):\\n    ids = data[id_column]\\n    in_test_set = ids.apply(lambda id_: test_set_check(id_, test_ratio))\\n    return data.loc[~in_test_set], data.loc[in_test_set]\";\n",
       "                var nbb_formatted_code = \"from zlib import crc32\\n\\n\\ndef test_set_check(identifier, test_ratio):\\n    return crc32(np.int64(identifier)) & 0xFFFFFFFF < test_ratio * 2 ** 32\\n\\n\\ndef split_train_test_by_id(data, test_ratio, id_column):\\n    ids = data[id_column]\\n    in_test_set = ids.apply(lambda id_: test_set_check(id_, test_ratio))\\n    return data.loc[~in_test_set], data.loc[in_test_set]\";\n",
       "                var nbb_cells = Jupyter.notebook.get_cells();\n",
       "                for (var i = 0; i < nbb_cells.length; ++i) {\n",
       "                    if (nbb_cells[i].input_prompt_number == nbb_cell_id) {\n",
       "                        if (nbb_cells[i].get_text() == nbb_unformatted_code) {\n",
       "                             nbb_cells[i].set_text(nbb_formatted_code);\n",
       "                        }\n",
       "                        break;\n",
       "                    }\n",
       "                }\n",
       "            }, 500);\n",
       "            "
      ],
      "text/plain": [
       "<IPython.core.display.Javascript object>"
      ]
     },
     "metadata": {},
     "output_type": "display_data"
    }
   ],
   "source": [
    "from zlib import crc32\n",
    "\n",
    "\n",
    "def test_set_check(identifier, test_ratio):\n",
    "    return crc32(np.int64(identifier)) & 0xFFFFFFFF < test_ratio * 2 ** 32\n",
    "\n",
    "\n",
    "def split_train_test_by_id(data, test_ratio, id_column):\n",
    "    ids = data[id_column]\n",
    "    in_test_set = ids.apply(lambda id_: test_set_check(id_, test_ratio))\n",
    "    return data.loc[~in_test_set], data.loc[in_test_set]"
   ]
  },
  {
   "cell_type": "code",
   "execution_count": null,
   "id": "c1cafe3e",
   "metadata": {},
   "outputs": [],
   "source": []
  },
  {
   "cell_type": "markdown",
   "id": "c787500c",
   "metadata": {},
   "source": [
    "### Problem Statement\n",
    "\n",
    "\n",
    "- It is rare that rows are independent which could lead to data leakage, e.g. predicting flight delays -- need to make sure all information about a single day is in the training set (or testing set)\n",
    "- We want to ensure certain splits of the data always fall in training or test\n",
    "- Random seeds are not portable across languages or frameworks\n",
    "  - imagine you want to put a model into production and your engineer wants to recode it in Java or another language for performance reasons. You might struggle to reproduce the results\n",
    "  - we want lightweight, repeatrable splitting of the data which works regardless of language or random seeds and ensure correlated rows fall into the same split\n",
    "  - your colleague might forget to use a random seed or use their favourite (mine is 42 :) ), don't leave it to chance and add another place for divergence\n",
    "  \n",
    "- How can you design your split in order to make sure some values are only in the training or test set? Use hashing\n",
    "\n",
    "\"To have a stable train/test split even after updating the dataset, a common solution is to use each instance’s identifier to decide whether or not it should go in the test set (assuming instances have a unique and immutable identifier). For example, you could compute a hash of each instance’s identifier and put that instance in the test set if the hash is lower than or equal to 20% of the maximum hash value. This ensures that the test set will remain consistent across multiple runs, even if you refresh the dataset. The new test set will contain 20% of the new instances, but it will not contain any instance that was previously in the training set.\"\n",
    "\n",
    "\n",
    "\n",
    "### What is the problem with train_test_split?\n",
    "\n",
    "Randomly shuffles the data.\n",
    "\n",
    "\"Aha! But I always set the random seed so it is reproducible\" you might say. Fair point. This certainly improves the situation. However, not for all cases, particularly if you add new data to your dataset an retrain your model. \n",
    "\n",
    "\n",
    "### When might train_test_split not be appropriate?\n",
    "\n",
    "- If you add new data\n",
    "  - training the model on original data + new data\n",
    "  - if you are getting your source data from an evolving source and want to reproducibly sample from it\n",
    "- Of you can't guarantee the ording of datapoints (or filepaths) between training runs\n",
    "- If there is the possibility of data leakage\n",
    "  - ie. if you have correlated rows (e.g. airline lateness dataset)\n",
    "  - \"For example, if you are training a model to predict flight delays, the arrival delays of flights on the same day will be highly correlated with each other. This is called leakage, and it is an important problem to avoid when doing machine learning.\"\n",
    "- If you have large out of memory datasets\n",
    "- If your production code will be rewritten in another language -- you cannot guarantee the random seed in another language will produce the same results. This might make it hard to debug and validate the same results in the new code\n",
    "  - can also lead to difficult to catch bugs if in one part of the code you use sklearn's random seed and other places you use the inbuilt random module functionality.\n",
    "  \n",
    "Hashing is deterministic and will return the same result each time\n",
    "\n",
    "\n",
    "### What are the consequences of using random seed when retraining the model?\n",
    "- difficult to debug\n",
    "- data will be shuffled and in different splits. Makes it difficult to accurately compare training runs\n",
    "\n",
    "\n",
    "### When might hashing be unecessary?\n",
    "\n",
    "- standard timeseries data: just order your dataset and split\n",
    "- simple 'one-off' model training on 'small' datasets that easily fit in memory --> this is why it is the defacto method for most tutorials. In the real-world you need to consider whether this is always appropriate\n",
    "\n",
    "\n",
    "### Conclusion\n",
    "\n",
    "Should you go and always use hashing for train/test splits. Probably not. Using random seeds with `train_test_split()` method can be ok for one off training (although bear in mind it shuffles the data which might not work for timeseries data).\n",
    "\n",
    "However, like with many things in ML splitting the data is nuanced and can have undesired effects further down the line. Make sure you make a deliberate choice on the most appropriate method.\n",
    "\n",
    "\n",
    "I am proposing hashing as an alternative which might be more appropriate in certain situations. Should you use hashing for everything? No. But at least consider whether it is a better approach, particularly if you are retraining you model on old and new data."
   ]
  },
  {
   "cell_type": "code",
   "execution_count": 1,
   "id": "3521741f",
   "metadata": {},
   "outputs": [],
   "source": [
    "import os"
   ]
  },
  {
   "cell_type": "code",
   "execution_count": 3,
   "id": "2bc2b386",
   "metadata": {},
   "outputs": [
    {
     "name": "stdout",
     "output_type": "stream",
     "text": [
      "/Users/jnes/tensorflow_datasets/imdb_reviews/plain_text/1.0.0/features.json\n",
      "/Users/jnes/tensorflow_datasets/imdb_reviews/plain_text/1.0.0/dataset_info.json\n",
      "/Users/jnes/tensorflow_datasets/imdb_reviews/plain_text/1.0.0/imdb_reviews-train.tfrecord-00000-of-00001\n",
      "/Users/jnes/tensorflow_datasets/imdb_reviews/plain_text/1.0.0/imdb_reviews-unsupervised.tfrecord-00000-of-00001\n",
      "/Users/jnes/tensorflow_datasets/imdb_reviews/plain_text/1.0.0/label.labels.txt\n",
      "/Users/jnes/tensorflow_datasets/imdb_reviews/plain_text/1.0.0/imdb_reviews-test.tfrecord-00000-of-00001\n"
     ]
    }
   ],
   "source": [
    "import glob\n",
    "\n",
    "for file in glob.glob(\n",
    "    \"/Users/jnes/tensorflow_datasets/imdb_reviews/plain_text/1.0.0/*\"\n",
    "):\n",
    "    print(file)"
   ]
  },
  {
   "cell_type": "code",
   "execution_count": 4,
   "id": "b5775ea5",
   "metadata": {},
   "outputs": [
    {
     "name": "stdout",
     "output_type": "stream",
     "text": [
      "features.json\n",
      "dataset_info.json\n",
      "imdb_reviews-train.tfrecord-00000-of-00001\n",
      "imdb_reviews-unsupervised.tfrecord-00000-of-00001\n",
      "label.labels.txt\n",
      "imdb_reviews-test.tfrecord-00000-of-00001\n"
     ]
    }
   ],
   "source": [
    "import os\n",
    "\n",
    "for file in os.listdir(\n",
    "    \"/Users/jnes/tensorflow_datasets/imdb_reviews/plain_text/1.0.0/\"\n",
    "):\n",
    "    print(file)"
   ]
  },
  {
   "cell_type": "code",
   "execution_count": null,
   "id": "b2647ade",
   "metadata": {},
   "outputs": [],
   "source": []
  },
  {
   "cell_type": "markdown",
   "id": "268e3586",
   "metadata": {},
   "source": [
    "### Solution\n",
    "\n",
    "- use hashing\n",
    "- deterministic instead of probabilistic"
   ]
  },
  {
   "cell_type": "markdown",
   "id": "aeb39fdf",
   "metadata": {},
   "source": [
    "### Why farmhash?\n",
    "\n",
    "- Performance considerations\n",
    "- [Understanding hashing functions](https://github.com/google/farmhash/blob/master/Understanding_Hash_Functions)\n",
    "- [note around order of ABS and MOD](https://mentin.medium.com/be-careful-with-abs-function-8e91c78715d5)\n",
    "- Implemented consistently in C++ (and hence: Java or Python) and in BigQuery SQL.\n",
    "\n",
    "You could use another library such as `hashlib` using the md5 algorithm as suggested [in the Hands on with sklearn book](https://github.com/ageron/handson-ml2/blob/master/02_end_to_end_machine_learning_project.ipynb). However, I find this implementation unnecessarily verbose.\n",
    "\n",
    "\n",
    "#### Order of operations\n",
    "\n",
    "Note that we do the modulo first, and then the absolute value: \n",
    "```sql\n",
    "CREATE TEMPORARY FUNCTION hashed ( \n",
    "    airport STRING , numbuckets INT64 \n",
    ") AS ( \n",
    "    ABS ( MOD ( FARM_FINGERPRINT ( airport ), numbuckets )) \n",
    "); \n",
    "```\n",
    "\n",
    "The order of ABS , MOD , and FARM_FINGERPRINT in the preceding snippet is important because the range of INT64 is not symmetric. Specifically, its range is between –9,223,372,036,854,775,808 and 9,223,372,036,854,775,807 (both inclusive). So, if we were to do: \n",
    "\n",
    "```sql\n",
    "ABS ( FARM_FINGERPRINT ( airport )) \n",
    "```\n",
    "\n",
    "we would run into a rare and likely unreproducible overflow error if the FARM_FINGERPRINT operation happened to return –9,223,372,036,854,775,808 since its absolute value can not be represented using an INT64! \n",
    "\n",
    "---\n",
    "#### Cryptographic hash\n",
    "\n",
    "What makes the Hashed Feature lossy is the modulo part of the implementation. What if we were to avoid the modulo altogether? After all, the farm fingerprint has a fixed length (an INT64 is 64 bits), and so it can be represented using 64 feature values, each of which is 0 or 1. This is called binary encoding . However, binary encoding does not solve the problem of out-of-vocabulary inputs or cold start (only the problem of high cardinality). In fact, the bitwise coding is a red herring. If we don’t do a modulo, we can get a unique representation by simply encoding the three characters that form the IATA code (thus using a feature of length 3*26=78). The problem with this representation is immediately obvious: airports whose names start with the letter O have nothing in common when it comes to their flight delay characteristics the encoding has created a spurious correlation between airports that start with the same letter. The same insight holds in binary space as well. Because of this, we do not recommend binary encoding of farm fingerprint values. \n",
    "\n",
    "Binary encoding of an MD5 hash will not suffer from this spurious correlation problem because the output of an MD5 hash is uniformly distributed, and so the resulting bits will be uniformly distributed. However, unlike the Farm Fingerprint algorithm, the MD5 hash is not deterministic and not unique it is a one-way hash and will have many unexpected collisions. \n",
    "\n",
    "In the Hashed Feature design pattern, we have to use a fingerprint hashing algorithm and not a cryptographic hashing algorithm. This is because the goal of a fingerprint function is to produce a deterministic and unique value. If you think about it, this is a key requirement of preprocessing functions in machine learning, since we need to apply the same function during model serving and get the same hashed value. A fingerprint function does not produce a uniformly distributed output. Cryptographic algorithms such as MD5 or SHA1 do produce uniformly distributed output, but they are not deterministic and are purposefully made to be computationally expensive. Therefore, a cryptographic hash is not usable in a feature engineering context where the hashed value computed for a given input during prediction has to be the same as the hash computed during training, and where the hash function should not slow down the machine learning model. \n",
    "\n",
    "\"The reason that MD5 is not deterministic is that a “salt” is typically added to the string to be hashed. The salt is a random string added to each password to ensure that even if two users happen to use the same password, the hashed value in the database will be different. This is needed to thwart attacks based on “rainbow tables,” which are attacks that rely on dictionaries of commonly chosen passwords and that compare the hash of the known password against hashes in the database. As computational power has increased, it is possible to carry out a brute-force attack on every possible salt as well, and so modern cryptographic implementations do their hashing in a loop to increase the computational expense. Even if we were to turn off the salt and reduce the number of iterations to one, the MD5 hash is only one way. It won’t be unique.\"\n",
    "\n",
    "\n",
    "Lakshmanan, Valliappa,Robinson, Sara,Munn, Michael. Machine Learning Design Patterns (p. 37). O'Reilly Media. Kindle Edition. \n",
    "\n",
    "---\n",
    "\n",
    "\n",
    "### Which column should you hash?\n",
    "\n",
    "Use a unique identifier. Concatenate columns if this is not possible.\n",
    "\n",
    "Should not be a field which is used for the model.\n",
    "\n",
    "If splitting on date, we can still use features extracted from it (e.g. day of week, month etc.), but not the date itself (which makes sense anyway as it would not make sense to use a historical date as a feature for dates in the future).\n",
    "\n",
    "\"We can automate checking whether the label distributions are similar across the three datasets by using the Kolomogorov–Smirnov test: just plot the cumulative distribution functions of the label in the three datasets and find the maximum distance between each pair. The smaller the maximum distance, the better the split.\"\n",
    "\n",
    "### Considerations\n",
    "- what are the gotchas?\n",
    "- with small datasets you won't have exactly the % split you desire. -- I could do a chart showing how when splitting on ID it eventually trends to the correct split if data is large enough"
   ]
  },
  {
   "cell_type": "markdown",
   "id": "6f3fb85f",
   "metadata": {},
   "source": [
    "### Demo\n",
    "\n",
    "- use fake properties data (to demonstrate hashing of strings)"
   ]
  },
  {
   "cell_type": "markdown",
   "id": "4b06d4ed",
   "metadata": {},
   "source": [
    "### Other use cases for hashing\n",
    "\n",
    "- feature engineering categorical values\n",
    "- using reproducible subsets of large data for training "
   ]
  },
  {
   "cell_type": "code",
   "execution_count": 24,
   "id": "3bc8e3d1",
   "metadata": {},
   "outputs": [
    {
     "ename": "TypeError",
     "evalue": "argument 1 must be str, not int",
     "output_type": "error",
     "traceback": [
      "\u001b[0;31m---------------------------------------------------------------------------\u001b[0m",
      "\u001b[0;31mTypeError\u001b[0m                                 Traceback (most recent call last)",
      "Input \u001b[0;32mIn [24]\u001b[0m, in \u001b[0;36m<cell line: 6>\u001b[0;34m()\u001b[0m\n\u001b[1;32m      2\u001b[0m TEST_LENGTH\u001b[38;5;241m=\u001b[39m\u001b[38;5;241m1e4\u001b[39m\n\u001b[1;32m      4\u001b[0m \u001b[38;5;28;01mimport\u001b[39;00m \u001b[38;5;21;01mhashlib\u001b[39;00m\n\u001b[0;32m----> 6\u001b[0m \u001b[43mfarmhash\u001b[49m\u001b[38;5;241;43m.\u001b[39;49m\u001b[43mhash64\u001b[49m\u001b[43m(\u001b[49m\u001b[38;5;241;43m123\u001b[39;49m\u001b[43m)\u001b[49m\n",
      "\u001b[0;31mTypeError\u001b[0m: argument 1 must be str, not int"
     ]
    }
   ],
   "source": [
    "import farmhash\n",
    "\n",
    "TEST_LENGTH = 1e4\n",
    "\n",
    "import hashlib\n",
    "\n",
    "farmhash.hash64(123)"
   ]
  },
  {
   "cell_type": "code",
   "execution_count": 18,
   "id": "cd84498a",
   "metadata": {},
   "outputs": [
    {
     "name": "stdout",
     "output_type": "stream",
     "text": [
      "CPU times: user 3 µs, sys: 1e+03 ns, total: 4 µs\n",
      "Wall time: 5.72 µs\n"
     ]
    },
    {
     "ename": "KeyboardInterrupt",
     "evalue": "",
     "output_type": "error",
     "traceback": [
      "\u001b[0;31m---------------------------------------------------------------------------\u001b[0m",
      "\u001b[0;31mKeyboardInterrupt\u001b[0m                         Traceback (most recent call last)",
      "Input \u001b[0;32mIn [18]\u001b[0m, in \u001b[0;36m<cell line: 2>\u001b[0;34m()\u001b[0m\n\u001b[1;32m      1\u001b[0m get_ipython()\u001b[38;5;241m.\u001b[39mrun_line_magic(\u001b[38;5;124m'\u001b[39m\u001b[38;5;124mtime\u001b[39m\u001b[38;5;124m'\u001b[39m, \u001b[38;5;124m'\u001b[39m\u001b[38;5;124m'\u001b[39m)\n\u001b[1;32m      2\u001b[0m \u001b[38;5;28;01mfor\u001b[39;00m _ \u001b[38;5;129;01min\u001b[39;00m \u001b[38;5;28mrange\u001b[39m(\u001b[38;5;28mint\u001b[39m(TEST_LENGTH)):\n\u001b[0;32m----> 3\u001b[0m     \u001b[43mfarmhash\u001b[49m\u001b[38;5;241;43m.\u001b[39;49m\u001b[43mhash64\u001b[49m\u001b[43m(\u001b[49m\u001b[38;5;124;43m'\u001b[39;49m\u001b[38;5;124;43mabc\u001b[39;49m\u001b[38;5;124;43m'\u001b[39;49m\u001b[43m)\u001b[49m\n",
      "\u001b[0;31mKeyboardInterrupt\u001b[0m: "
     ]
    }
   ],
   "source": [
    "%time\n",
    "for _ in range(int(TEST_LENGTH)):\n",
    "    farmhash.hash64(\"abc\")"
   ]
  },
  {
   "cell_type": "code",
   "execution_count": 22,
   "id": "b13ece38",
   "metadata": {},
   "outputs": [
    {
     "name": "stdout",
     "output_type": "stream",
     "text": [
      "CPU times: user 3 µs, sys: 0 ns, total: 3 µs\n",
      "Wall time: 5.96 µs\n"
     ]
    },
    {
     "ename": "TypeError",
     "evalue": "Unicode-objects must be encoded before hashing",
     "output_type": "error",
     "traceback": [
      "\u001b[0;31m---------------------------------------------------------------------------\u001b[0m",
      "\u001b[0;31mTypeError\u001b[0m                                 Traceback (most recent call last)",
      "Input \u001b[0;32mIn [22]\u001b[0m, in \u001b[0;36m<cell line: 2>\u001b[0;34m()\u001b[0m\n\u001b[1;32m      1\u001b[0m get_ipython()\u001b[38;5;241m.\u001b[39mrun_line_magic(\u001b[38;5;124m'\u001b[39m\u001b[38;5;124mtime\u001b[39m\u001b[38;5;124m'\u001b[39m, \u001b[38;5;124m'\u001b[39m\u001b[38;5;124m'\u001b[39m)\n\u001b[1;32m      2\u001b[0m \u001b[38;5;28;01mfor\u001b[39;00m _ \u001b[38;5;129;01min\u001b[39;00m \u001b[38;5;28mrange\u001b[39m(\u001b[38;5;28mint\u001b[39m(TEST_LENGTH)):\n\u001b[0;32m----> 3\u001b[0m     \u001b[43mhashlib\u001b[49m\u001b[38;5;241;43m.\u001b[39;49m\u001b[43mmd5\u001b[49m\u001b[43m(\u001b[49m\u001b[38;5;124;43m'\u001b[39;49m\u001b[38;5;124;43mabc\u001b[39;49m\u001b[38;5;124;43m'\u001b[39;49m\u001b[43m)\u001b[49m\n",
      "\u001b[0;31mTypeError\u001b[0m: Unicode-objects must be encoded before hashing"
     ]
    }
   ],
   "source": [
    "%time\n",
    "for _ in range(int(TEST_LENGTH)):\n",
    "    hashlib.md5(\"abc\")"
   ]
  },
  {
   "cell_type": "code",
   "execution_count": null,
   "id": "6f276f10",
   "metadata": {},
   "outputs": [],
   "source": []
  }
 ],
 "metadata": {
  "kernelspec": {
   "display_name": "Python 3 (ipykernel)",
   "language": "python",
   "name": "python3"
  },
  "language_info": {
   "codemirror_mode": {
    "name": "ipython",
    "version": 3
   },
   "file_extension": ".py",
   "mimetype": "text/x-python",
   "name": "python",
   "nbconvert_exporter": "python",
   "pygments_lexer": "ipython3",
   "version": "3.9.5"
  }
 },
 "nbformat": 4,
 "nbformat_minor": 5
}
