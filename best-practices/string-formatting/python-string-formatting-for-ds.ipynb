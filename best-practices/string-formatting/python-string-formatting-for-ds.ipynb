{
 "cells": [
  {
   "cell_type": "markdown",
   "id": "23fc4d48",
   "metadata": {},
   "source": [
    "# Which Python string formatting method should you be using in your data science project?\n",
    "\n",
    "**3rd July 2021**\n",
    "\n",
    "[Engineering for Data Science post](https://engineeringfordatascience.com/posts/python_string_formatting_for_data_science/)\n",
    "\n",
    "## Python String Formatting\n",
    "\n",
    "String formatting (also known as string interpolation) is the process of inserting a custom string or variable into a predefined 'template' string.\n",
    "\n",
    "In Python, there are four methods for formatting strings (also known as string interpolation):\n",
    "- % operator\n",
    "- format\n",
    "- f-strings\n",
    "- Templates\n",
    "\n",
    "This is a little confusing, even by Python's own manifesto, the Zen of Python:\n",
    "\n",
    "> [Zen of Python](https://www.python.org/dev/peps/pep-0020/) - \"There should be one-- and preferably only one --obvious way to do it.\"\n",
    "\n",
    "So why are there four native methods for formatting strings in Python?\n",
    "\n",
    "Each has their own trade-offs and benefits of simplicity, flexibility, and/or extensibility. But what are the differences, which one should you use for which purpose and why?\n",
    "\n",
    "In the context of data science there are two common use cases for formatting strings:\n",
    "1. Print statements\n",
    "2. SQL queries\n",
    "\n",
    "In this post, we will go through each use case and describe which string formatting method might be most appropriate."
   ]
  },
  {
   "cell_type": "markdown",
   "id": "de75e575",
   "metadata": {},
   "source": [
    "## 1. Print Statements\n",
    "\n",
    "String interpolation in data science is particularly useful for logging (e.g. during model training); creating dynamic chart titles and printing statistics.\n",
    "\n",
    "In Python, the three most common methods for this purpose are `% operator`, `format`  or `f-strings`. Additionally, there is the `Template` method, however, this is seldom used.\n",
    "\n",
    "Let's briefly discuss each of these methods.\n",
    "\n",
    "### % operator - 'Old method' \n",
    "\n",
    "We will start with the `%` operator method to get it out of the way.\n",
    "\n",
    "String placeholders are denoted by a `%` symbol, followed by a character or characters which specify the desired formatting.\n",
    "\n",
    "**Example:**"
   ]
  },
  {
   "cell_type": "code",
   "execution_count": 1,
   "id": "c2565fda",
   "metadata": {},
   "outputs": [
    {
     "name": "stdout",
     "output_type": "stream",
     "text": [
      "My data has 10 rows and 4 columns\n"
     ]
    }
   ],
   "source": [
    "rows = 10\n",
    "columns = 4\n",
    "\n",
    "# print string representation\n",
    "print(\"My data has %s rows and %s columns\" % (rows, columns))"
   ]
  },
  {
   "cell_type": "markdown",
   "id": "40163a64",
   "metadata": {},
   "source": [
    "It is also possible to use named placeholders and supply a dictionary which can make the statement more readable."
   ]
  },
  {
   "cell_type": "code",
   "execution_count": 2,
   "id": "d9c26c85",
   "metadata": {},
   "outputs": [
    {
     "name": "stdout",
     "output_type": "stream",
     "text": [
      "My data has 10 rows and 4 columns\n"
     ]
    }
   ],
   "source": [
    "data = {\"rows\": rows, \"columns\": columns}\n",
    "\n",
    "# print with named placehodlers\n",
    "print(\"My data has %(rows)s rows and %(columns)s columns\" % data)"
   ]
  },
  {
   "cell_type": "markdown",
   "id": "7f053998",
   "metadata": {},
   "source": [
    "The `%` operator method is generally seen as a legacy method for string interpolation and should not be used in favour of the `format` or `f-string` methods described next.\n",
    "\n",
    "Common grievances with this method include:\n",
    "- The `%` notation can be hard to read\n",
    "- `%` notation can be confused with the modulus operator. \n",
    "- The syntax can also lead to common errors such as [failing to display tuples and dictionaries correctly](https://docs.python.org/3/library/stdtypes.html?highlight=sprintf#printf-style-string-formatting).\n",
    "\n",
    "Unless you are using a Python version less than 2.7, you should avoid using this method.\n",
    "\n",
    "So, let's quickly move on..."
   ]
  },
  {
   "cell_type": "markdown",
   "id": "68e9d1b8",
   "metadata": {},
   "source": [
    "### str.format() - 'Newer method'"
   ]
  },
  {
   "cell_type": "markdown",
   "id": "e887d2c6",
   "metadata": {},
   "source": [
    "Since Python 3 (and now backported to Python 2.7), you can format strings by calling the `.format()` method on the string object.\n",
    "\n",
    "The functionality is very similar to the previous `%` operator formatting, however, the string placeholders are denoted by `{}` which can be more readable.\n",
    "\n",
    "A full list of formatting functionality is available at [pyformat.info](https://pyformat.info/) which provides a great 'cheat sheet' for all the various ways to format a string (e.g. rounding, date time formatting etc.) - I would highly recommend checking it out.\n",
    "\n",
    "**Example:**"
   ]
  },
  {
   "cell_type": "code",
   "execution_count": 3,
   "id": "e10a0778",
   "metadata": {},
   "outputs": [
    {
     "name": "stdout",
     "output_type": "stream",
     "text": [
      "My data has 10 rows and 4 columns\n"
     ]
    }
   ],
   "source": [
    "# print string representation\n",
    "print(\"My data has {} rows and {} columns\".format(rows, columns))"
   ]
  },
  {
   "cell_type": "code",
   "execution_count": 4,
   "id": "1439db60",
   "metadata": {},
   "outputs": [
    {
     "name": "stdout",
     "output_type": "stream",
     "text": [
      "My data has 10 rows and 4 columns\n"
     ]
    }
   ],
   "source": [
    "# print with named placehodlers\n",
    "print(\"My data has {rows} rows and {columns} columns\".format(**data))"
   ]
  },
  {
   "cell_type": "markdown",
   "id": "8754e831",
   "metadata": {},
   "source": [
    "`str.format()` is an improvement on `%`, however, the syntax can be a bit verbose, particularly if you have a lot of variables to substitute."
   ]
  },
  {
   "cell_type": "markdown",
   "id": "713edb85",
   "metadata": {},
   "source": [
    "### f-strings - 'Newest method'"
   ]
  },
  {
   "cell_type": "markdown",
   "id": "5c738d72",
   "metadata": {},
   "source": [
    "Finally, since Python 3.6, there is a third method called string literals or 'f-strings' which lets you use embedded Python expressions inside string constants.\n",
    "\n",
    "This can be really useful as it removes some of the verbose syntax overhead of the previous methods which reduces the amount of code you need to write.\n",
    "\n",
    "With this method you only need to precede the string with the letter `f` or `F`.\n",
    "\n",
    "**Example**"
   ]
  },
  {
   "cell_type": "code",
   "execution_count": 5,
   "id": "0ca2c711",
   "metadata": {},
   "outputs": [
    {
     "name": "stdout",
     "output_type": "stream",
     "text": [
      "My data has 10 rows and 4 columns\n"
     ]
    }
   ],
   "source": [
    "print(f\"My data has {rows} rows and {columns} columns\")"
   ]
  },
  {
   "cell_type": "markdown",
   "id": "53fe0fb1",
   "metadata": {},
   "source": [
    "### Template\n",
    "\n",
    "The Python programming language comes with a [standard library](https://docs.python.org/3/tutorial/stdlib2.html#templating) called string which has a useful method called `Template`. \n",
    "\n",
    "Perhaps, the least common string formatting method, the Template syntax denotes placeholder using `$` followed by the variable name to replace:"
   ]
  },
  {
   "cell_type": "code",
   "execution_count": 6,
   "id": "96ccf204",
   "metadata": {},
   "outputs": [
    {
     "data": {
      "text/plain": [
       "'There are 10 rows and 4 in the data'"
      ]
     },
     "execution_count": 6,
     "metadata": {},
     "output_type": "execute_result"
    }
   ],
   "source": [
    "from string import Template\n",
    "\n",
    "temp = Template(\"There are $rows rows and $columns in the data\")\n",
    "temp.substitute(rows=rows, columns=columns)"
   ]
  },
  {
   "cell_type": "markdown",
   "id": "530c797e",
   "metadata": {},
   "source": [
    "Using the Template method is normally overkill and unnecessary for simple print statements, however, it can be particularly useful for [protecting your application from malicious actors](https://realpython.com/python-string-formatting/#4-template-strings-standard-library) if you require user input."
   ]
  },
  {
   "cell_type": "markdown",
   "id": "d162020d",
   "metadata": {},
   "source": [
    "### Which method should you use?\n",
    "\n",
    "That was a *very* brief intro to the three main methods of string formatting in Python. I recommend checking out [RealPython](https://realpython.com/python-string-formatting/) and [pyformat](https://pyformat.info) for more detailed information on each method and the various different ways to customise the formatting.\n",
    "\n",
    "Generally, we can exclude the `%` and `Template` methods unless using legacy code bases (e.g. Python <2.7) or dealing with user inputs with the potential for malicious activity.\n",
    "\n",
    "So that leaves us with `str.format()` or `f-strings`.\n",
    "\n",
    "**For print statements use f-strings for most use cases.**\n",
    "\n",
    "The syntax is very easy to remember and is less verbose than the `str.format()` method which makes it easier to read. You can also include expressions within the string which can be useful for making on the fly calculations. For example:\n"
   ]
  },
  {
   "cell_type": "code",
   "execution_count": 7,
   "id": "330da49a",
   "metadata": {},
   "outputs": [
    {
     "name": "stdout",
     "output_type": "stream",
     "text": [
      "The average value of the input list is 8.31\n"
     ]
    }
   ],
   "source": [
    "input_list = [1.3, 4.98, 32, 5.32, 3.98, 6.1, 2.4, 10.4]\n",
    "\n",
    "print(f\"The average value of the input list is {sum(input_list)/len(input_list):.2f}\")"
   ]
  },
  {
   "cell_type": "markdown",
   "id": "9a02c6c0",
   "metadata": {},
   "source": [
    "However, there are a couple cases where `str.format()` can be more practical. The main example being when you are using a dictionary as the input source for your substitution variables.\n",
    "\n",
    "For example, if you want to pass a dictionary containing the configuration or metadata for a particular model into a string which logs the training to the console.\n",
    "\n",
    "Using an f-string, you have to specify the name of the dictionary each time you want to access a key. This involves a lot of repeated typing. It also reduces the flexibility of your statement if you want to pass a dictionary with a different name into the statement. You can also get in a mess with single and double quotes when referencing the dictionary key inside the wider print statement."
   ]
  },
  {
   "cell_type": "code",
   "execution_count": 8,
   "id": "b63287f7",
   "metadata": {},
   "outputs": [
    {
     "name": "stdout",
     "output_type": "stream",
     "text": [
      "Training xgboost model on data in the 'data/' directory)...\n"
     ]
    }
   ],
   "source": [
    "metadata = {\"model\": \"xgboost\", \"model_dir\": \"models/\", \"data_dir\": \"data/\"}\n",
    "\n",
    "# interpolation using f-strings\n",
    "print(\n",
    "    f\"Training {metadata['model']} model on data in the \"\n",
    "    f\"'{metadata['data_dir']}' directory)...\"\n",
    ")"
   ]
  },
  {
   "cell_type": "markdown",
   "id": "9195e318",
   "metadata": {},
   "source": [
    "A better and more flexible approach in this scenario would be to use the `str.format()` method and unpack the input dictionary containing the metadata."
   ]
  },
  {
   "cell_type": "code",
   "execution_count": 9,
   "id": "e647ca06",
   "metadata": {},
   "outputs": [
    {
     "name": "stdout",
     "output_type": "stream",
     "text": [
      "Training xgboost model on data in the 'data/' directory...\n"
     ]
    }
   ],
   "source": [
    "print(\n",
    "    \"Training {model} model on data in the '{data_dir}' directory...\".format(**metadata)\n",
    ")"
   ]
  },
  {
   "cell_type": "markdown",
   "id": "2963bbd3",
   "metadata": {},
   "source": [
    "## 2. SQL Queries"
   ]
  },
  {
   "cell_type": "markdown",
   "id": "b9a4486a",
   "metadata": {},
   "source": [
    "The second major use case is string interpolation for SQL queries. This is probably the least trivial use case as there can be added complexity, especially if you want to generate long queries dynamically.\n",
    "\n",
    "There are two general cases where you will be working with SQL queries in Python:\n",
    "1. 'In-line' in a Notebook or Python script\n",
    "2. Importing from a .sql file\n",
    "\n",
    "Both scenarios can be treated in a similar way, because when you import from a `.sql` file you are essentially just reading a string.\n",
    "\n",
    "It is common deal with dynamic sql querys by developing a 'base' sql query with placeholders and substituting the placeholders with the required values for your particular analysis. \n",
    "\n",
    "For example if we wanted to get the daily value of orders for a particular city we might have a base query defined as follows:"
   ]
  },
  {
   "cell_type": "code",
   "execution_count": 10,
   "id": "a9591803",
   "metadata": {},
   "outputs": [],
   "source": [
    "base_sql_query = \"\"\"\n",
    "SELECT\n",
    "    date,\n",
    "    SUM(order_value)\n",
    "FROM orders\n",
    "WHERE city = '{city}'\n",
    "GROUP BY date\n",
    "\"\"\""
   ]
  },
  {
   "cell_type": "markdown",
   "id": "4c0dd25a",
   "metadata": {},
   "source": [
    "We could then apply string formatting using the `str.format()` method and build the query for a particular city dynamically.\n",
    "\n",
    "The function below takes the base sql query and inserts the specified city into the query."
   ]
  },
  {
   "cell_type": "code",
   "execution_count": 11,
   "id": "0e39a101",
   "metadata": {},
   "outputs": [
    {
     "name": "stdout",
     "output_type": "stream",
     "text": [
      "\n",
      "SELECT\n",
      "    date,\n",
      "    SUM(order_value)\n",
      "FROM orders\n",
      "WHERE city = 'London'\n",
      "GROUP BY date\n",
      "\n"
     ]
    }
   ],
   "source": [
    "def build_orders_by_city_query(city: str, base_sql_query: str = base_sql_query) -> str:\n",
    "    return base_sql_query.format(city=city)\n",
    "\n",
    "\n",
    "print(build_orders_by_city_query(city=\"London\"))"
   ]
  },
  {
   "cell_type": "markdown",
   "id": "3201ccf8",
   "metadata": {},
   "source": [
    "We could make this function even more generalisable to build any query from a input dictionary containing the variables we want to substitute in that query.  We can unpack the variables dictionary to populate the string placeholders using the `str.format()` method."
   ]
  },
  {
   "cell_type": "code",
   "execution_count": 12,
   "id": "7675b3c5",
   "metadata": {},
   "outputs": [
    {
     "name": "stdout",
     "output_type": "stream",
     "text": [
      "\n",
      "SELECT\n",
      "    date,\n",
      "    SUM(order_value)\n",
      "FROM orders\n",
      "WHERE city = 'London' AND date > '2020-01-01'\n",
      "GROUP BY date\n",
      "\n"
     ]
    }
   ],
   "source": [
    "def build_query(variables: dict, base_sql_query: str = base_sql_query) -> str:\n",
    "    return base_sql_query.format(**variables)\n",
    "\n",
    "\n",
    "base_sql_query = \"\"\"\n",
    "SELECT\n",
    "    date,\n",
    "    SUM(order_value)\n",
    "FROM orders\n",
    "WHERE city = '{city}' AND date > '{start_date}'\n",
    "GROUP BY date\n",
    "\"\"\"\n",
    "\n",
    "variables = {\"city\": \"London\", \"start_date\": \"2020-01-01\"}\n",
    "print(build_query(variables, base_sql_query))"
   ]
  },
  {
   "cell_type": "markdown",
   "id": "cd3c66c1",
   "metadata": {},
   "source": [
    "Here we have been able to extent the initial base query by adding an additional filter (start_date) to the input dictionary."
   ]
  },
  {
   "cell_type": "markdown",
   "id": "ca3ee878",
   "metadata": {},
   "source": [
    "Note that we could have used the `f-string` method, however, this is a use case where we are likely to be dealing with dictionary inputs so the `str.format()` is preferable as it easily allows us to easily unpack many variables from a dictionary input.\n",
    "\n",
    "This works fine for small queries where the structure of the query is 'static' - i.e. you always want to filter by the same columns or always want to apply the same arithmetic operations.\n",
    "\n",
    "However, what happens if we want to make a longer and more complex query? For example, if, depnding on the situation we want to filter by multiple fields or by no fields at all. Or if we want to dynamically unpivot certain rows depending on their value. \n",
    "\n",
    "With the current approach we have to specify a fairly rigid base query ahead of time which is inflexible to any change in the query logic.\n",
    "\n",
    "Luckily, there is a fifth approach to string interpolation for SQL queries - Jinja templates.\n",
    "\n",
    "### Jinja\n",
    "\n",
    "[Jinja](https://jinja.palletsprojects.com/en/3.0.x/intro/#introduction) is a fast, expressive and extensible templating engine which allows us to incorporate simple logic into our string expressions. \n",
    "\n",
    "Jinja's main use case is for rendering HTML templates for web applications, however, it comes in handy for building SQL queries as well.\n",
    "\n",
    "I won't go into the syntax details too much in this post, rather, just demonstrate how it is a very powerful templating engine which allows you to program simple loops and if statements into your strings.\n",
    "\n",
    "Going back to the previous example we can create the following Jinja template which will generalise to our needs."
   ]
  },
  {
   "cell_type": "code",
   "execution_count": 13,
   "id": "804d171b",
   "metadata": {},
   "outputs": [],
   "source": [
    "jinja_base_sql_query = \"\"\"\n",
    "SELECT\n",
    "    date,\n",
    "    SUM(order_value)\n",
    "FROM orders\n",
    "WHERE\n",
    "    {%- for city in filter_cities %}\n",
    "    city = '{{city}}'\n",
    "    {% if not loop.last -%}\n",
    "    AND\n",
    "    {%- endif -%}\n",
    "    {%- endfor %}\n",
    "GROUP BY date\n",
    "\"\"\""
   ]
  },
  {
   "cell_type": "markdown",
   "id": "d807218f",
   "metadata": {},
   "source": [
    "This Jinja templated query includes a 'for loop' in the `WHERE` clause which will dynamically create a filter for each city provided in a list called `filter_cities`. "
   ]
  },
  {
   "cell_type": "code",
   "execution_count": 14,
   "id": "66106e99",
   "metadata": {},
   "outputs": [
    {
     "name": "stdout",
     "output_type": "stream",
     "text": [
      "\n",
      "SELECT\n",
      "    date,\n",
      "    SUM(order_value)\n",
      "FROM orders\n",
      "WHERE\n",
      "    city = 'London'\n",
      "    AND\n",
      "    city = 'Cardiff'\n",
      "    AND\n",
      "    city = 'Edinburgh'\n",
      "    \n",
      "GROUP BY date\n"
     ]
    }
   ],
   "source": [
    "from jinja2 import Template\n",
    "\n",
    "filter_cities = [\"London\", \"Cardiff\", \"Edinburgh\"]\n",
    "\n",
    "print(Template(jinja_base_sql_query).render(filter_cities=filter_cities))"
   ]
  },
  {
   "cell_type": "markdown",
   "id": "ae32dcc5",
   "metadata": {},
   "source": [
    "We have improved from the previous examples as we now have the ability to filter by an arbitrary list of cities - imagine if we had to write this query manually with a long list of cities!\n",
    "\n",
    "We can take this further by applying logic to the columns we want to select as well as the cities we want to filter by."
   ]
  },
  {
   "cell_type": "code",
   "execution_count": 15,
   "id": "1d919456",
   "metadata": {},
   "outputs": [],
   "source": [
    "jinja_base_sql_query2 = \"\"\"\n",
    "SELECT\n",
    "    date\n",
    "    {%- for product in target_products %}\n",
    "    , SUM(CASE WHEN product_name = '{{product}}' THEN order_value END) AS sum_{{product}}_value\n",
    "    {%- endfor %}\n",
    "FROM orders\n",
    "{% if cities_filter -%}\n",
    "WHERE\n",
    "    {%- for city in cities_filter %}\n",
    "    city = '{{city}}'\n",
    "    {% if not loop.last -%}\n",
    "    AND\n",
    "    {%- endif -%}\n",
    "    {%- endfor %}\n",
    "{% endif -%}\n",
    "GROUP BY date\n",
    "\"\"\"  # noqa: E501"
   ]
  },
  {
   "cell_type": "code",
   "execution_count": 16,
   "id": "2f70a742",
   "metadata": {},
   "outputs": [
    {
     "name": "stdout",
     "output_type": "stream",
     "text": [
      "\n",
      "SELECT\n",
      "    date\n",
      "    , SUM(CASE WHEN product_name = 'book' THEN order_value END) AS sum_book_value\n",
      "    , SUM(CASE WHEN product_name = 'pen' THEN order_value END) AS sum_pen_value\n",
      "    , SUM(CASE WHEN product_name = 'paper' THEN order_value END) AS sum_paper_value\n",
      "FROM orders\n",
      "WHERE\n",
      "    city = 'London'\n",
      "    AND\n",
      "    city = 'Cardiff'\n",
      "    AND\n",
      "    city = 'Edinburgh'\n",
      "    \n",
      "GROUP BY date\n"
     ]
    }
   ],
   "source": [
    "query_data = {\n",
    "    \"target_products\": [\"book\", \"pen\", \"paper\"],\n",
    "    \"cities_filter\": [\"London\", \"Cardiff\", \"Edinburgh\"],\n",
    "}\n",
    "\n",
    "print(Template(jinja_base_sql_query2).render(query_data))"
   ]
  },
  {
   "cell_type": "markdown",
   "id": "b46b4ff1",
   "metadata": {},
   "source": [
    "Here we have pivoted the product_name column to get the daily value of three products we are most interested in and also applied some city filters. If we want to change the number of cities to filter or remove them completely, we don't need to make any changes to the base query, only to the input dictionary (query_data)."
   ]
  },
  {
   "cell_type": "code",
   "execution_count": 17,
   "id": "3d189d72",
   "metadata": {},
   "outputs": [
    {
     "name": "stdout",
     "output_type": "stream",
     "text": [
      "\n",
      "SELECT\n",
      "    date\n",
      "    , SUM(CASE WHEN product_name = 'book' THEN order_value END) AS sum_book_value\n",
      "    , SUM(CASE WHEN product_name = 'pen' THEN order_value END) AS sum_pen_value\n",
      "    , SUM(CASE WHEN product_name = 'paper' THEN order_value END) AS sum_paper_value\n",
      "FROM orders\n",
      "GROUP BY date\n"
     ]
    }
   ],
   "source": [
    "# removed cities_filter\n",
    "query_data = {\"target_products\": [\"book\", \"pen\", \"paper\"]}\n",
    "\n",
    "print(Template(jinja_base_sql_query2).render(query_data))"
   ]
  },
  {
   "cell_type": "markdown",
   "id": "1bce6f24",
   "metadata": {},
   "source": [
    "As you can see, by removing the `cities_filter` key from the `query_data` input dictionary we have completely removed the `WHERE` clause.\n",
    "\n",
    "These examples are slightly contrived but I hope they demonstrate the power of Jinja templating for your SQL queries to make them more expressive and generalisable."
   ]
  },
  {
   "cell_type": "markdown",
   "id": "88bfff0a",
   "metadata": {},
   "source": [
    "The great thing about Jinja templates is that they are portable. You could save the Jinja templates as a `.sql` file and they can be reused across multiple projects. An alternative would be to create your own custom Python function to build up the complex query string dynamically, however, you would have to transport that function around with the SQL file. With Jinja, you just need to import `jinja2` and away you go.\n",
    "\n",
    "This approach is used by SQL pipeline tools such as [dbt](https://www.getdbt.com/)."
   ]
  },
  {
   "cell_type": "markdown",
   "id": "f57976a1",
   "metadata": {},
   "source": [
    "## Key Takeaways\n",
    "\n",
    "There are many different ways to format strings in Python. In data science you are most likely going to be requiring string interpolation for creating descriptive print statements or building dynamic SQL queries. Which string formatting method you use will depend on your use case, however, my rule of thumb is:\n",
    "\n",
    "- Use f-strings as the first choice for print statements\n",
    "- Resort to `str.format()` if dealing with dictionaries as inputs (useful for building simple SQL queries)\n",
    "- Use Jinja templating for reproducible and generalisable SQL queries\n",
    "\n",
    "\n",
    "Summarised by this flowchart.\n",
    "\n",
    "Happy coding!"
   ]
  },
  {
   "cell_type": "markdown",
   "id": "a372806a",
   "metadata": {},
   "source": [
    "## Resources"
   ]
  },
  {
   "cell_type": "code",
   "execution_count": null,
   "id": "db6b2c04",
   "metadata": {},
   "outputs": [],
   "source": []
  }
 ],
 "metadata": {
  "kernelspec": {
   "display_name": "Python 3",
   "language": "python",
   "name": "python3"
  },
  "language_info": {
   "codemirror_mode": {
    "name": "ipython",
    "version": 3
   },
   "file_extension": ".py",
   "mimetype": "text/x-python",
   "name": "python",
   "nbconvert_exporter": "python",
   "pygments_lexer": "ipython3",
   "version": "3.8.8"
  }
 },
 "nbformat": 4,
 "nbformat_minor": 5
}
