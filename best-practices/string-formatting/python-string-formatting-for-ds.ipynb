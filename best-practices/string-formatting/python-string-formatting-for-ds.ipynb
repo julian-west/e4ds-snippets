{
 "cells": [
  {
   "cell_type": "markdown",
   "id": "23fc4d48",
   "metadata": {},
   "source": [
    "# Which Python string formatting method should you be using in your data science project?\n",
    "\n",
    "**3rd July 2021**\n",
    "\n",
    "[Engineering for Data Science post](https://engineeringfordatascience.com/posts/python_string_formatting_for_data_science/)\n",
    "\n",
    "## Python String Formatting\n",
    "\n",
    "String formatting (also known as string interpolation) is the process of inserting a custom string or variable into a predefined 'template' string.\n",
    "\n",
    "In Python, there are four methods for formatting strings (also known as string interpolation):\n",
    "- % operator\n",
    "- format\n",
    "- f-strings\n",
    "- Templates\n",
    "\n",
    "This is a little confusing, even by Python's own manifesto, the Zen of Python:\n",
    "\n",
    "> [Zen of Python](https://www.python.org/dev/peps/pep-0020/) - \"There should be one-- and preferably only one --obvious way to do it.\"\n",
    "\n",
    "So why are there four native methods for formatting strings in Python?\n",
    "\n",
    "Each has their own trade-offs and benefits of simplicity, flexibility, and/or extensibility. But what are the differences, which one should you use for which purpose and why?\n",
    "\n",
    "In the context of data science there are three common use cases for formatting strings:\n",
    "1. Print statements\n",
    "2. User inputs\n",
    "3. SQL queries\n",
    "\n",
    "In this post, we will go through each use case and describe which string formatting method might be most appropriate."
   ]
  },
  {
   "cell_type": "markdown",
   "id": "de75e575",
   "metadata": {},
   "source": [
    "## 1. Print Statements\n",
    "\n",
    "String interpolation in data science is particularly useful for logging (e.g. during model training); creating dynamic chart titles and printing statistics.\n",
    "\n",
    "In Python, the three most common methods for this purpose are `% operator`, `format`  or `f-strings`.\n",
    "\n",
    "Let's briefly discuss each of these methods.\n",
    "\n",
    "### % operator - 'Old method' \n",
    "\n",
    "We will start with the `%` operator method to get it out of the way.\n",
    "\n",
    "String placeholders are denoted by a `%` symbol, followed by a character or characters which specify the desired formatting.\n",
    "\n",
    "**Example:**"
   ]
  },
  {
   "cell_type": "code",
   "execution_count": 1,
   "id": "c2565fda",
   "metadata": {},
   "outputs": [
    {
     "name": "stdout",
     "output_type": "stream",
     "text": [
      "My data has 10 rows and 4 columns\n"
     ]
    }
   ],
   "source": [
    "rows = 10\n",
    "columns = 4\n",
    "\n",
    "# print string representation\n",
    "print(\"My data has %s rows and %s columns\" % (rows, columns))"
   ]
  },
  {
   "cell_type": "markdown",
   "id": "40163a64",
   "metadata": {},
   "source": [
    "It is also possible to use named placeholders and supply a dictionary which can make the statement more readable."
   ]
  },
  {
   "cell_type": "code",
   "execution_count": 2,
   "id": "d9c26c85",
   "metadata": {},
   "outputs": [
    {
     "name": "stdout",
     "output_type": "stream",
     "text": [
      "My data has 10 rows and 4 columns\n"
     ]
    }
   ],
   "source": [
    "data = {\"rows\": rows, \"columns\": columns}\n",
    "\n",
    "# print with named placehodlers\n",
    "print(\"My data has %(rows)s rows and %(columns)s columns\" % data)"
   ]
  },
  {
   "cell_type": "markdown",
   "id": "7f053998",
   "metadata": {},
   "source": [
    "The `%` operator method is generally seen as a legacy method for string interpolation and should not be used in favour of the `format` or `f-string` methods described next.\n",
    "\n",
    "Common grievances with this method include:\n",
    "- The `%` notation can be hard to read\n",
    "- `%` notation can be confused with the modulus operator. \n",
    "- The syntax can also lead to common errors such as [failing to display tuples and dictionaries correctly](https://docs.python.org/3/library/stdtypes.html?highlight=sprintf#printf-style-string-formatting).\n",
    "\n",
    "Unless you are using a Python version less than 2.7, you should avoid using this method.\n",
    "\n",
    "So, let's quickly move on..."
   ]
  },
  {
   "cell_type": "markdown",
   "id": "68e9d1b8",
   "metadata": {},
   "source": [
    "### str.format() - 'Newer method'"
   ]
  },
  {
   "cell_type": "markdown",
   "id": "e887d2c6",
   "metadata": {},
   "source": [
    "Since Python 3 (and now backported to Python 2.7), you can format strings by calling the `.format()` method on the string object.\n",
    "\n",
    "The functionality is very similar to the previous `%` operator formatting, however, the string placeholders are denoted by `{}` which can be more readable.\n",
    "\n",
    "A full list of formatting functionality is available at [pyformat.info](https://pyformat.info/) which provides a great 'cheat sheet' for all the various ways to format a string (e.g. rounding, date time formatting etc.) - I would highly recommend checking it out.\n",
    "\n",
    "**Example:**"
   ]
  },
  {
   "cell_type": "code",
   "execution_count": 3,
   "id": "e10a0778",
   "metadata": {},
   "outputs": [
    {
     "name": "stdout",
     "output_type": "stream",
     "text": [
      "My data has 10 rows and 4 columns\n"
     ]
    }
   ],
   "source": [
    "# print string representation\n",
    "print(\"My data has {} rows and {} columns\".format(rows, columns))"
   ]
  },
  {
   "cell_type": "code",
   "execution_count": 4,
   "id": "1439db60",
   "metadata": {},
   "outputs": [
    {
     "name": "stdout",
     "output_type": "stream",
     "text": [
      "My data has 10 rows and 4 columns\n"
     ]
    }
   ],
   "source": [
    "# print with named placehodlers\n",
    "print(\"My data has {rows} rows and {columns} columns\".format(**data))"
   ]
  },
  {
   "cell_type": "markdown",
   "id": "8754e831",
   "metadata": {},
   "source": [
    "`str.format()` is an improvement on `%`, however, the syntax can be a bit verbose, particularly if you have a lot of variables to substitute."
   ]
  },
  {
   "cell_type": "markdown",
   "id": "713edb85",
   "metadata": {},
   "source": [
    "### f-strings - 'Newest method'"
   ]
  },
  {
   "cell_type": "markdown",
   "id": "5c738d72",
   "metadata": {},
   "source": [
    "Finally, since Python 3.6, there is a third method called string literals or 'f-strings' which lets you use embedded Python expressions inside string constants.\n",
    "\n",
    "This can be really useful as it removes some of the verbose syntax overhead of the previous methods which reduces the amount of code you need to write.\n",
    "\n",
    "With this method you only need to precede the string with the letter `f` or `F`.\n",
    "\n",
    "**Example**"
   ]
  },
  {
   "cell_type": "code",
   "execution_count": 5,
   "id": "0ca2c711",
   "metadata": {},
   "outputs": [
    {
     "name": "stdout",
     "output_type": "stream",
     "text": [
      "My data has 10 rows and 4 columns\n"
     ]
    }
   ],
   "source": [
    "print(f\"My data has {rows} rows and {columns} columns\")"
   ]
  },
  {
   "cell_type": "markdown",
   "id": "d162020d",
   "metadata": {},
   "source": [
    "### Which method should you use?\n",
    "\n",
    "That was a *very* brief intro to the three main methods of string formatting in Python. I recommend checking out [RealPython](https://realpython.com/python-string-formatting/) and [pyformat](https://pyformat.info) for more detailed information on each method and the various different ways to customise the formatting.\n",
    "\n",
    "**For print statements I personally prefer to use f-strings for most use cases.**\n",
    "\n",
    "The syntax is very easy to remember and is less verbose than the `str.format()` method which makes it easier to read. You can also include expressions within the string which can be useful for making on the fly calculations. For example:\n"
   ]
  },
  {
   "cell_type": "code",
   "execution_count": 6,
   "id": "330da49a",
   "metadata": {},
   "outputs": [
    {
     "name": "stdout",
     "output_type": "stream",
     "text": [
      "The average value of the input list is 8.31\n"
     ]
    }
   ],
   "source": [
    "input_list = [1.3, 4.98, 32, 5.32, 3.98, 6.1, 2.4, 10.4]\n",
    "print(f\"The average value of the input list is {sum(input_list)/len(input_list):.2f}\")"
   ]
  },
  {
   "cell_type": "markdown",
   "id": "9a02c6c0",
   "metadata": {},
   "source": [
    "However, there are a couple cases where `str.format()` can be more practical. The main example being when you are using a dictionary as the input source for your substitution variables.\n",
    "\n",
    "For example, if you want to pass a dictionary containing the configuration or metadata for a particular model into a string which logs the training to the console.\n",
    "\n",
    "Using an f-string, you have to specify the name of the dictionary each time you want to access a key. This involves a lot of repeated typing. It also reduces the flexibility of your statement if you want to pass a dictionary with a different name into the statement. You can also get in a mess with single and double quotes when referencing the dictionary key inside the wider print statement."
   ]
  },
  {
   "cell_type": "code",
   "execution_count": 7,
   "id": "b63287f7",
   "metadata": {},
   "outputs": [
    {
     "name": "stdout",
     "output_type": "stream",
     "text": [
      "Training xgboost model on data in the 'data/' directory)...\n"
     ]
    }
   ],
   "source": [
    "metadata = {\"model\": \"xgboost\", \"model_dir\": \"models/\", \"data_dir\": \"data/\"}\n",
    "\n",
    "# interpolation using f-strings\n",
    "print(\n",
    "    f\"Training {metadata['model']} model on data in the \"\n",
    "    f\"'{metadata['data_dir']}' directory)...\"\n",
    ")"
   ]
  },
  {
   "cell_type": "markdown",
   "id": "9195e318",
   "metadata": {},
   "source": [
    "A better and more flexible approach in this scenario would be to use the `str.format()` method and unpack the input dictionary containing the metadata."
   ]
  },
  {
   "cell_type": "code",
   "execution_count": 8,
   "id": "e647ca06",
   "metadata": {},
   "outputs": [
    {
     "name": "stdout",
     "output_type": "stream",
     "text": [
      "Training xgboost model on data in the 'data/' directory...\n"
     ]
    }
   ],
   "source": [
    "print(\n",
    "    \"Training {model} model on data in the '{data_dir}' directory...\".format(**metadata)\n",
    ")"
   ]
  },
  {
   "cell_type": "markdown",
   "id": "67c34fb1",
   "metadata": {},
   "source": [
    "## 2. User Inputs"
   ]
  },
  {
   "cell_type": "markdown",
   "id": "9de4cc5b",
   "metadata": {},
   "source": [
    "Formatting user inputs is perhaps the least common for data science purposes and is more common in web development. However, handling user inputs could be relevant for simple interactive programs or used as input for interactive dashboards and charts.\n",
    "\n",
    "For this use case I will introduce the fourth method for interpolating strings - Template\n",
    "\n",
    "### Template\n",
    "\n",
    "The Python programming language comes with a [standard library](https://docs.python.org/3/tutorial/stdlib2.html#templating) called string which has a useful method called `Template`. \n",
    "\n",
    "The format uses placeholder names formed by $ with valid Python identifiers (alphanumeric characters and underscores):"
   ]
  },
  {
   "cell_type": "code",
   "execution_count": 9,
   "id": "5a2fd2b9",
   "metadata": {},
   "outputs": [
    {
     "data": {
      "text/plain": [
       "'There are 10 rows and 4 in the data'"
      ]
     },
     "execution_count": 9,
     "metadata": {},
     "output_type": "execute_result"
    }
   ],
   "source": [
    "from string import Template\n",
    "\n",
    "temp = Template(\"There are $rows rows and $columns in the data\")\n",
    "temp.substitute(rows=rows, columns=columns)"
   ]
  },
  {
   "cell_type": "markdown",
   "id": "d009de03",
   "metadata": {},
   "source": [
    "This is overkill and unnecessary for simple print statements, however, it can be particularly useful for protecting your application from malicious actors if you require user input.\n",
    "\n",
    "Consider the scenario where you are formatting some user input using the `str.format()` method"
   ]
  },
  {
   "cell_type": "code",
   "execution_count": 34,
   "id": "8bbef338",
   "metadata": {},
   "outputs": [
    {
     "data": {
      "text/plain": [
       "'Hello {user_input.__init__._globals__[DB_PASSWORD]}!'"
      ]
     },
     "execution_count": 34,
     "metadata": {},
     "output_type": "execute_result"
    }
   ],
   "source": [
    "# set earlier in the application to connect to a db\n",
    "DB_PASSWORD = \"super-secret-password\"\n",
    "\n",
    "\n",
    "class NameHandler:\n",
    "    def __init__(self, name):\n",
    "        self.name = name\n",
    "\n",
    "    def commit_to_db():\n",
    "        pass\n",
    "\n",
    "\n",
    "# they were supposed to just input their name e.g. 'Bob'\n",
    "user_input = \"{user_input.__init__._globals__[DB_PASSWORD]}\"\n",
    "\n",
    "t = \"Hello {user_input}!\"\n",
    "\n",
    "t.format(user_input=user_input)"
   ]
  },
  {
   "cell_type": "code",
   "execution_count": null,
   "id": "84b4bd4a",
   "metadata": {},
   "outputs": [],
   "source": []
  },
  {
   "cell_type": "code",
   "execution_count": null,
   "id": "a7251088",
   "metadata": {},
   "outputs": [],
   "source": []
  },
  {
   "cell_type": "code",
   "execution_count": 16,
   "id": "e9fe7a1b",
   "metadata": {},
   "outputs": [
    {
     "data": {
      "text/plain": [
       "'/bin/zsh'"
      ]
     },
     "execution_count": 16,
     "metadata": {},
     "output_type": "execute_result"
    }
   ],
   "source": [
    "import os\n",
    "\n",
    "os.environ[\"SHELL\"]"
   ]
  },
  {
   "cell_type": "code",
   "execution_count": 28,
   "id": "0abf306e",
   "metadata": {},
   "outputs": [
    {
     "ename": "KeyError",
     "evalue": "'globals()'",
     "output_type": "error",
     "traceback": [
      "\u001b[0;31m---------------------------------------------------------------------------\u001b[0m",
      "\u001b[0;31mKeyError\u001b[0m                                  Traceback (most recent call last)",
      "\u001b[0;32m<ipython-input-28-edf10369193d>\u001b[0m in \u001b[0;36m<module>\u001b[0;34m\u001b[0m\n\u001b[1;32m      3\u001b[0m \u001b[0muser_input\u001b[0m \u001b[0;34m=\u001b[0m \u001b[0;34m\"${globals().[DB_PASSWORD]}\"\u001b[0m\u001b[0;34m\u001b[0m\u001b[0;34m\u001b[0m\u001b[0m\n\u001b[1;32m      4\u001b[0m \u001b[0;34m\u001b[0m\u001b[0m\n\u001b[0;32m----> 5\u001b[0;31m \u001b[0muser_input\u001b[0m\u001b[0;34m.\u001b[0m\u001b[0mformat\u001b[0m\u001b[0;34m(\u001b[0m\u001b[0;34m)\u001b[0m\u001b[0;34m\u001b[0m\u001b[0;34m\u001b[0m\u001b[0m\n\u001b[0m",
      "\u001b[0;31mKeyError\u001b[0m: 'globals()'"
     ]
    }
   ],
   "source": [
    "DB_PASSWORD = os.environ[\"SHELL\"]\n",
    "\n",
    "user_input = \"{globals().[DB_PASSWORD]}\"\n",
    "\n",
    "user_input.format()"
   ]
  },
  {
   "cell_type": "code",
   "execution_count": 30,
   "id": "85e4a5a2",
   "metadata": {},
   "outputs": [
    {
     "data": {
      "text/plain": [
       "['__add__',\n",
       " '__class__',\n",
       " '__contains__',\n",
       " '__delattr__',\n",
       " '__dir__',\n",
       " '__doc__',\n",
       " '__eq__',\n",
       " '__format__',\n",
       " '__ge__',\n",
       " '__getattribute__',\n",
       " '__getitem__',\n",
       " '__getnewargs__',\n",
       " '__gt__',\n",
       " '__hash__',\n",
       " '__init__',\n",
       " '__init_subclass__',\n",
       " '__iter__',\n",
       " '__le__',\n",
       " '__len__',\n",
       " '__lt__',\n",
       " '__mod__',\n",
       " '__mul__',\n",
       " '__ne__',\n",
       " '__new__',\n",
       " '__reduce__',\n",
       " '__reduce_ex__',\n",
       " '__repr__',\n",
       " '__rmod__',\n",
       " '__rmul__',\n",
       " '__setattr__',\n",
       " '__sizeof__',\n",
       " '__str__',\n",
       " '__subclasshook__',\n",
       " 'capitalize',\n",
       " 'casefold',\n",
       " 'center',\n",
       " 'count',\n",
       " 'encode',\n",
       " 'endswith',\n",
       " 'expandtabs',\n",
       " 'find',\n",
       " 'format',\n",
       " 'format_map',\n",
       " 'index',\n",
       " 'isalnum',\n",
       " 'isalpha',\n",
       " 'isascii',\n",
       " 'isdecimal',\n",
       " 'isdigit',\n",
       " 'isidentifier',\n",
       " 'islower',\n",
       " 'isnumeric',\n",
       " 'isprintable',\n",
       " 'isspace',\n",
       " 'istitle',\n",
       " 'isupper',\n",
       " 'join',\n",
       " 'ljust',\n",
       " 'lower',\n",
       " 'lstrip',\n",
       " 'maketrans',\n",
       " 'partition',\n",
       " 'replace',\n",
       " 'rfind',\n",
       " 'rindex',\n",
       " 'rjust',\n",
       " 'rpartition',\n",
       " 'rsplit',\n",
       " 'rstrip',\n",
       " 'split',\n",
       " 'splitlines',\n",
       " 'startswith',\n",
       " 'strip',\n",
       " 'swapcase',\n",
       " 'title',\n",
       " 'translate',\n",
       " 'upper',\n",
       " 'zfill']"
      ]
     },
     "execution_count": 30,
     "metadata": {},
     "output_type": "execute_result"
    }
   ],
   "source": [
    "s = \"sdf\"\n",
    "\n",
    "dir(s)"
   ]
  },
  {
   "cell_type": "markdown",
   "id": "5928f193",
   "metadata": {},
   "source": [
    "In many cases where you trust the users of your application (e.g. for your own use or colleagues) using f-strings or `str.format()` will suffice. However, it is important to think of security implications of malicious user input if your application is available to the wider public."
   ]
  },
  {
   "cell_type": "markdown",
   "id": "2963bbd3",
   "metadata": {},
   "source": [
    "## 3. SQL Queries\n",
    "\n"
   ]
  },
  {
   "cell_type": "markdown",
   "id": "b9a4486a",
   "metadata": {},
   "source": [
    "The final use case we will discuss is string interpolation for SQL queries. This is probably the least trivial use case as there can be added complexity, especially if you want to generate long queries dynamically.\n",
    "\n",
    "There are two general cases where you will be working with SQL queries in Python:\n",
    "1. 'In-line' in a Notebook\n",
    "2. Importing from a .sql file\n",
    "\n",
    "Both scenarios can be treated in a similar way, because when you import from a `.sql` file you are essentially just reading a string.\n",
    "\n",
    "It is common deal with dynamic sql querys by developing a 'base' sql query with placeholders. Then substituting the placeholders with the required values for your particular analysis. This is an example of string interpolation. \n",
    "\n",
    "For example if we wanted to get the daily value of orders for a particular city we might have a base query defined as follows:"
   ]
  },
  {
   "cell_type": "code",
   "execution_count": null,
   "id": "a9591803",
   "metadata": {},
   "outputs": [],
   "source": [
    "base_sql_query = \"\"\"\n",
    "SELECT\n",
    "    date,\n",
    "    SUM(order_value)\n",
    "FROM orders\n",
    "WHERE city = '{city}'\n",
    "GROUP BY date\n",
    "\"\"\""
   ]
  },
  {
   "cell_type": "markdown",
   "id": "4c0dd25a",
   "metadata": {},
   "source": [
    "We could then apply string formatting using the `str.format()` method and build the query for a particular city dynamically.\n",
    "\n",
    "The function below takes the base sql query and inserts the specified city into the query."
   ]
  },
  {
   "cell_type": "code",
   "execution_count": null,
   "id": "0e39a101",
   "metadata": {},
   "outputs": [],
   "source": [
    "def build_orders_by_city_query(city: str, base_sql_query: str = base_sql_query) -> str:\n",
    "    return base_sql_query.format(city=city)\n",
    "\n",
    "\n",
    "print(build_orders_by_city_query(city=\"London\"))"
   ]
  },
  {
   "cell_type": "markdown",
   "id": "3201ccf8",
   "metadata": {},
   "source": [
    "We could make this function even more generalisable to build any query from a input dictionary.  We can unpack the variables dictionary to populate the string placeholders using the `str.format()` method."
   ]
  },
  {
   "cell_type": "code",
   "execution_count": null,
   "id": "7675b3c5",
   "metadata": {},
   "outputs": [],
   "source": [
    "def build_query(variables: dict, base_sql_query: str = base_sql_query) -> str:\n",
    "    return base_sql_query.format(**variables)\n",
    "\n",
    "\n",
    "base_sql_query = \"\"\"\n",
    "SELECT\n",
    "    date,\n",
    "    SUM(order_value)\n",
    "FROM orders\n",
    "WHERE city = '{city}' AND date > '{start_date}'\n",
    "GROUP BY date\n",
    "\"\"\"\n",
    "\n",
    "variables = {\"city\": \"London\", \"start_date\": \"2020-01-01\"}\n",
    "print(build_query(variables, base_sql_query))"
   ]
  },
  {
   "cell_type": "markdown",
   "id": "cd3c66c1",
   "metadata": {},
   "source": [
    "Here we have extended the initial base query by adding an additional filter (start_date) to the input dictionary."
   ]
  },
  {
   "cell_type": "markdown",
   "id": "ca3ee878",
   "metadata": {},
   "source": [
    "Note here that the `str.format()` method might be preferable to the f-string method as it easily allows us to easily unpack many variables from a dictionary input.\n",
    "\n",
    "This works fine for small queries where the structure of the query is static. i.e. you always want to filter by the same columns or always want to apply the same arithmetic operations.\n",
    "\n",
    "However, what happens if we want to make a longer and more complex query? For example, if, depnding on the situation we want to filter by multiple fields or by no fields at all. Or if we want to dynamically unpivot certain rows depending on their value. \n",
    "\n",
    "With the current approach we have to specify a fairly rigid base query ahead of time which is inflexible to any change in the query logic.\n",
    "\n",
    "Luckily, there is a fifth approach to string interpolation - Jinja templates.\n",
    "\n",
    "### Jinja\n",
    "\n",
    "[Jinja](https://jinja.palletsprojects.com/en/3.0.x/intro/#introduction) is a fast, expressive and extensible templating engine which allows us to incorporate simple logic into our string expressions. \n",
    "\n",
    "Jinja's main use case is for rendering HTML templates for web applications, however, it comes in handy for building SQL queries as well.\n",
    "\n",
    "I won't go into the syntax details too much in this post, rather, just demonstrate how it is a very powerful templating engine which allows you to program simple loops and if statements into your strings.\n",
    "\n",
    "Going back to the previous example we can create the following Jinja template which will generalise to our needs."
   ]
  },
  {
   "cell_type": "code",
   "execution_count": null,
   "id": "804d171b",
   "metadata": {},
   "outputs": [],
   "source": [
    "jinja_base_sql_query = \"\"\"\n",
    "SELECT\n",
    "    date,\n",
    "    SUM(order_value)\n",
    "FROM orders\n",
    "WHERE\n",
    "    {%- for city in filter_cities %}\n",
    "    city = '{{city}}'\n",
    "    {% if not loop.last -%}\n",
    "    AND\n",
    "    {%- endif -%}\n",
    "    {%- endfor %}\n",
    "GROUP BY date\n",
    "\"\"\""
   ]
  },
  {
   "cell_type": "code",
   "execution_count": null,
   "id": "66106e99",
   "metadata": {},
   "outputs": [],
   "source": [
    "from jinja2 import Template\n",
    "\n",
    "filter_cities = [\"London\", \"Cardiff\", \"Edinburgh\"]\n",
    "\n",
    "print(Template(jinja_base_sql_query).render(filter_cities=filter_cities))"
   ]
  },
  {
   "cell_type": "markdown",
   "id": "ae32dcc5",
   "metadata": {},
   "source": [
    "We have improved from the previous examples as we now have the ability to filter by an arbitrary list of cities - imagine if we had to write this query manually with a long list of cities.\n",
    "\n",
    "We can take this further by applying logic to the columns we want to select as well as the cities we want to filter by."
   ]
  },
  {
   "cell_type": "code",
   "execution_count": null,
   "id": "1d919456",
   "metadata": {},
   "outputs": [],
   "source": [
    "jinja_base_sql_query2 = \"\"\"\n",
    "SELECT\n",
    "    date\n",
    "    {%- for product in target_products %}\n",
    "    , SUM(CASE WHEN product_name = '{{product}}' THEN order_value END) AS sum_{{product}}_value\n",
    "    {%- endfor %}\n",
    "FROM orders\n",
    "{% if cities_filter -%}\n",
    "WHERE\n",
    "    {%- for city in cities_filter %}\n",
    "    city = '{{city}}'\n",
    "    {% if not loop.last -%}\n",
    "    AND\n",
    "    {%- endif -%}\n",
    "    {%- endfor %}\n",
    "{% endif -%}\n",
    "GROUP BY date\n",
    "\"\"\"  # noqa: E501"
   ]
  },
  {
   "cell_type": "code",
   "execution_count": null,
   "id": "2f70a742",
   "metadata": {},
   "outputs": [],
   "source": [
    "query_data = {\n",
    "    \"target_products\": [\"book\", \"pen\", \"paper\"],\n",
    "    \"cities_filter\": [\"London\", \"Cardiff\", \"Edinburgh\"],\n",
    "}\n",
    "\n",
    "print(Template(jinja_base_sql_query2).render(query_data))"
   ]
  },
  {
   "cell_type": "markdown",
   "id": "b46b4ff1",
   "metadata": {},
   "source": [
    "Here we have pivoted the product_name column to get the daily value of three products we are most interested in and also applied some city filters.\n",
    "\n",
    "If we don't want to filter by any cities, in this example, we can just ignore the `cities_filter` field from our input dictionary."
   ]
  },
  {
   "cell_type": "code",
   "execution_count": null,
   "id": "3d189d72",
   "metadata": {},
   "outputs": [],
   "source": [
    "# removed cities_filter\n",
    "query_data = {\"target_products\": [\"book\", \"pen\", \"paper\"]}\n",
    "\n",
    "print(Template(jinja_base_sql_query2).render(query_data))"
   ]
  },
  {
   "cell_type": "markdown",
   "id": "1bce6f24",
   "metadata": {},
   "source": [
    "These examples are slightly contreived but I hope they demonstrate the power of Jinja templating for your SQL queries to make them more expressive and generalisable."
   ]
  },
  {
   "cell_type": "markdown",
   "id": "88bfff0a",
   "metadata": {},
   "source": [
    "The great thing about Jinja templates are that they are portable. You could save the Jinja templates as a `.sql` file and they can be reused across multiple projects. An alternative would be to create your own custom Python function to build up the complex query string dynamically, however, you would have to transport that function around with the SQL file. With Jinja, you just need to import `jinja2` and away you go."
   ]
  },
  {
   "cell_type": "code",
   "execution_count": null,
   "id": "875a0319",
   "metadata": {},
   "outputs": [],
   "source": []
  }
 ],
 "metadata": {
  "kernelspec": {
   "display_name": "Python 3",
   "language": "python",
   "name": "python3"
  },
  "language_info": {
   "codemirror_mode": {
    "name": "ipython",
    "version": 3
   },
   "file_extension": ".py",
   "mimetype": "text/x-python",
   "name": "python",
   "nbconvert_exporter": "python",
   "pygments_lexer": "ipython3",
   "version": "3.8.8"
  }
 },
 "nbformat": 4,
 "nbformat_minor": 5
}
