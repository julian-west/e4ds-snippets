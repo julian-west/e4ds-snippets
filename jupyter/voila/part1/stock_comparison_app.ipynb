{
 "cells": [
  {
   "cell_type": "code",
   "execution_count": 1,
   "id": "318fea2a",
   "metadata": {},
   "outputs": [],
   "source": [
    "import datetime\n",
    "import warnings\n",
    "\n",
    "import ipywidgets as widgets\n",
    "import matplotlib.pyplot as plt\n",
    "\n",
    "%load_ext autoreload\n",
    "%autoreload 2\n",
    "\n",
    "from content import Correlations, Drawdown, RebasedStockGraph, StockStatistics\n",
    "from controller import Controller\n",
    "from data import FfnDataLoader\n",
    "from gui import Gui\n",
    "from user_input import UserInputWidget\n",
    "\n",
    "warnings.filterwarnings(\"ignore\")\n",
    "plt.style.use(\"./e4ds.mplstyle\")\n",
    "\n",
    "%matplotlib inline\n",
    "\n",
    "stock_lookup = {\n",
    "    \"SNP500\": \"spy\",\n",
    "    \"Apple\": \"aapl\",\n",
    "    \"Amazon\": \"AMZN\",\n",
    "    \"Microsoft\": \"msft\",\n",
    "    \"Facebook\": \"fb\",\n",
    "    \"Tesla\": \"tsla\",\n",
    "    \"Google\": \"googl\",\n",
    "}\n",
    "\n",
    "\n",
    "### User input area ###\n",
    "companies = UserInputWidget(\n",
    "    \"companies\",\n",
    "    widgets.SelectMultiple(\n",
    "        options=stock_lookup.keys(),\n",
    "        description=\"Stock\",\n",
    "        value=list(stock_lookup.keys())[:2],  # select first two\n",
    "        disabled=False,\n",
    "        layout=widgets.Layout(height=\"150px\"),\n",
    "    ),\n",
    ")\n",
    "\n",
    "start_date = UserInputWidget(\n",
    "    \"start_date\",\n",
    "    widgets.DatePicker(\n",
    "        description=\"Start Date\",\n",
    "        value=datetime.datetime.today() - datetime.timedelta(days=3 * 365),\n",
    "    ),\n",
    ")\n",
    "\n",
    "end_date = UserInputWidget(\n",
    "    \"end_date\",\n",
    "    widgets.DatePicker(description=\"End Date\", value=datetime.datetime.today()),\n",
    ")\n",
    "\n",
    "get_stock_data_button = widgets.Button(\n",
    "    description=\"Get data for selected stocks\",\n",
    "    disabled=False,\n",
    "    button_style=\"info\",\n",
    "    tooltip=\"Click me\",\n",
    "    layout=widgets.Layout(width=\"auto\", height=\"30px\", margin=\"30px\"),\n",
    ")\n",
    "\n",
    "\n",
    "## main chart\n",
    "rebased_stock_graph = RebasedStockGraph(\"Rebased\", \"Rebased share price performance\")\n",
    "\n",
    "\n",
    "## tabs\n",
    "stock_statistics = StockStatistics(\"Stock Statistics\", \"Statistics for each stock\")\n",
    "correlations = Correlations(\"Correlations\", \"Correlations between selected stocks\")\n",
    "drawdown = Drawdown(\"Drawdown\", \"Drawdown periods - how was the ride?\")"
   ]
  },
  {
   "cell_type": "markdown",
   "id": "03036475",
   "metadata": {},
   "source": [
    "# Stock Price Comparison Tool\n",
    "\n",
    "This tool can be used to compare the historical performance of a selected group of stocks. The application will retrieve the latest stock price data for the selected stocks and calculate various performance metrics:\n",
    "- The performance of each stock rebased to the start date\n",
    "- General performance statistics over the time period (e.g. total return daily Sharpe,  \n",
    "\n",
    "> Note: Data is collected and statistics are calculate using the [ffn](https://pmorissette.github.io/ffn/) Python library\n",
    "\n",
    "### Getting Started\n",
    "\n",
    "- Select the (multiple) companies you want to compare\n",
    "- Select a starting and end date\n",
    "- Click on the 'Get data for selected stocks' button to get the stock price data and calculate statistics\n",
    "- Repeat the process to refresh the charts with different stocks\n",
    "\n",
    "\n",
    "<mark style=\"background-color: #FFFACD\">Tip 💡: Use ctrl+click to select multiple companies</mark>"
   ]
  },
  {
   "cell_type": "code",
   "execution_count": 2,
   "id": "0c94e87e",
   "metadata": {
    "scrolled": false
   },
   "outputs": [
    {
     "data": {
      "application/vnd.jupyter.widget-view+json": {
       "model_id": "6bc461660ed74e52b447de410577ce63",
       "version_major": 2,
       "version_minor": 0
      },
      "text/plain": [
       "HBox(children=(VBox(children=(SelectMultiple(description='Stock', index=(0, 1), layout=Layout(height='150px'),…"
      ]
     },
     "metadata": {},
     "output_type": "display_data"
    },
    {
     "data": {
      "application/vnd.jupyter.widget-view+json": {
       "model_id": "bb01a055c2774b11b52d3a2efe304661",
       "version_major": 2,
       "version_minor": 0
      },
      "text/plain": [
       "VBox(children=(Output(),), layout=Layout(padding='10px'))"
      ]
     },
     "metadata": {},
     "output_type": "display_data"
    },
    {
     "data": {
      "application/vnd.jupyter.widget-view+json": {
       "model_id": "b8419ca5035e4526bb785a3c50f1c31e",
       "version_major": 2,
       "version_minor": 0
      },
      "text/plain": [
       "Tab(children=(VBox(children=(HTML(value='<p><strong>Statistics for each stock</strong></p>'), Output())), VBox…"
      ]
     },
     "metadata": {},
     "output_type": "display_data"
    }
   ],
   "source": [
    "### initialise GUI (graphical user interface)\n",
    "gui = Gui(\n",
    "    user_inputs=[companies, start_date, end_date],\n",
    "    action_button=get_stock_data_button,\n",
    "    main=rebased_stock_graph,\n",
    "    tabs=[stock_statistics, correlations, drawdown],\n",
    ")\n",
    "\n",
    "\n",
    "### run application\n",
    "c = Controller(gui, data_loader=FfnDataLoader(), stock_lookup=stock_lookup)"
   ]
  },
  {
   "cell_type": "markdown",
   "id": "8ab76e14",
   "metadata": {},
   "source": [
    "Created by [EngineeringforDataScience](https://engineeringfordatascience.com/) ⚒️ | [Source Code](https://github.com/julian-west/e4ds-snippets/tree/voila/jupyter/voila)"
   ]
  }
 ],
 "metadata": {
  "kernelspec": {
   "display_name": "Python 3 (ipykernel)",
   "language": "python",
   "name": "python3"
  },
  "language_info": {
   "codemirror_mode": {
    "name": "ipython",
    "version": 3
   },
   "file_extension": ".py",
   "mimetype": "text/x-python",
   "name": "python",
   "nbconvert_exporter": "python",
   "pygments_lexer": "ipython3",
   "version": "3.9.7"
  }
 },
 "nbformat": 4,
 "nbformat_minor": 5
}
