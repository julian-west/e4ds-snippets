{
 "cells": [
  {
   "cell_type": "markdown",
   "id": "03036475",
   "metadata": {},
   "source": [
    "# Stock Price Comparison Tool\n",
    "\n",
    "### Select multiple companies to compare their stock performance</h4>\"\n",
    " \n",
    "<mark>Use ctrl+click to select multiple companies</mark>\n",
    "\n",
    "<!-- TODO:\n",
    "- Add linked histogram to select part of the graph and display the returns profile\n",
    "- Link all widgets to allow updating of start and end dates and add new tickers\n",
    "- Tidy up css\n",
    "- Add tab with optimial portfolio calculation\n",
    "- Create user input section\n",
    "-->"
   ]
  },
  {
   "cell_type": "code",
   "execution_count": 1,
   "id": "90a4a723",
   "metadata": {},
   "outputs": [],
   "source": [
    "import datetime\n",
    "import time\n",
    "import warnings\n",
    "from typing import Tuple\n",
    "\n",
    "import calmap\n",
    "import ffn\n",
    "import ipywidgets as widgets\n",
    "import pandas as pd\n",
    "\n",
    "%load_ext autoreload\n",
    "%autoreload 2\n",
    "\n",
    "from content import Correlations, Drawdown, RebasedStockGraph, StockStatistics\n",
    "from gui import Gui\n",
    "from user_input import UserInputWidget\n",
    "\n",
    "warnings.filterwarnings(\"ignore\")"
   ]
  },
  {
   "cell_type": "code",
   "execution_count": 2,
   "id": "96b84b68",
   "metadata": {},
   "outputs": [
    {
     "data": {
      "application/javascript": [
       "\n",
       "            setTimeout(function() {\n",
       "                var nbb_cell_id = 2;\n",
       "                var nbb_unformatted_code = \"%matplotlib inline\\n%load_ext nb_black\";\n",
       "                var nbb_formatted_code = \"%matplotlib inline\\n%load_ext nb_black\";\n",
       "                var nbb_cells = Jupyter.notebook.get_cells();\n",
       "                for (var i = 0; i < nbb_cells.length; ++i) {\n",
       "                    if (nbb_cells[i].input_prompt_number == nbb_cell_id) {\n",
       "                        if (nbb_cells[i].get_text() == nbb_unformatted_code) {\n",
       "                             nbb_cells[i].set_text(nbb_formatted_code);\n",
       "                        }\n",
       "                        break;\n",
       "                    }\n",
       "                }\n",
       "            }, 500);\n",
       "            "
      ],
      "text/plain": [
       "<IPython.core.display.Javascript object>"
      ]
     },
     "metadata": {},
     "output_type": "display_data"
    }
   ],
   "source": [
    "%matplotlib inline\n",
    "%load_ext nb_black"
   ]
  },
  {
   "cell_type": "code",
   "execution_count": 3,
   "id": "3e98f42b",
   "metadata": {},
   "outputs": [
    {
     "data": {
      "application/javascript": [
       "\n",
       "            setTimeout(function() {\n",
       "                var nbb_cell_id = 3;\n",
       "                var nbb_unformatted_code = \"stock_list = {\\n    \\\"SNP500\\\": \\\"spy\\\",\\n    \\\"Apple\\\": \\\"aapl\\\",\\n    \\\"Microsoft\\\": \\\"msft\\\",\\n    \\\"Facebook\\\": \\\"fb\\\",\\n    \\\"Tesla\\\": \\\"tsla\\\",\\n    \\\"Google\\\": \\\"googl\\\",\\n}\";\n",
       "                var nbb_formatted_code = \"stock_list = {\\n    \\\"SNP500\\\": \\\"spy\\\",\\n    \\\"Apple\\\": \\\"aapl\\\",\\n    \\\"Microsoft\\\": \\\"msft\\\",\\n    \\\"Facebook\\\": \\\"fb\\\",\\n    \\\"Tesla\\\": \\\"tsla\\\",\\n    \\\"Google\\\": \\\"googl\\\",\\n}\";\n",
       "                var nbb_cells = Jupyter.notebook.get_cells();\n",
       "                for (var i = 0; i < nbb_cells.length; ++i) {\n",
       "                    if (nbb_cells[i].input_prompt_number == nbb_cell_id) {\n",
       "                        if (nbb_cells[i].get_text() == nbb_unformatted_code) {\n",
       "                             nbb_cells[i].set_text(nbb_formatted_code);\n",
       "                        }\n",
       "                        break;\n",
       "                    }\n",
       "                }\n",
       "            }, 500);\n",
       "            "
      ],
      "text/plain": [
       "<IPython.core.display.Javascript object>"
      ]
     },
     "metadata": {},
     "output_type": "display_data"
    }
   ],
   "source": [
    "stock_list = {\n",
    "    \"SNP500\": \"spy\",\n",
    "    \"Apple\": \"aapl\",\n",
    "    \"Microsoft\": \"msft\",\n",
    "    \"Facebook\": \"fb\",\n",
    "    \"Tesla\": \"tsla\",\n",
    "    \"Google\": \"googl\",\n",
    "}"
   ]
  },
  {
   "cell_type": "code",
   "execution_count": 4,
   "id": "bef50b51",
   "metadata": {},
   "outputs": [
    {
     "data": {
      "application/javascript": [
       "\n",
       "            setTimeout(function() {\n",
       "                var nbb_cell_id = 4;\n",
       "                var nbb_unformatted_code = \"def get_data(\\n    companies: Tuple[str],\\n    start_date: str,\\n    end_date: str,\\n    stock_list: dict[str, str] = stock_list,\\n) -> pd.DataFrame:\\n    \\\"\\\"\\\"Get data from Yahoo Finance endpoint using ffn\\\"\\\"\\\"\\n    time.sleep(1)  # avoid spamming\\n    tickers = [stock_list[company] for company in companies]\\n    return ffn.get(tickers, start=start_date, end=end_date)\\n\\n\\ndef convert_ticker_to_company(\\n    ticker: str, stock_list: dict[str, str] = stock_list\\n) -> str:\\n    inverted_stock_list = {v: k for k, v in stock_list.items()}\\n    return inverted_stock_list[ticker]\\n\\n\\ndef calc_yoy_growth(prices: pd.DataFrame, rolling_window: int = 28) -> pd.DataFrame:\\n    rebased_prices = prices.rebase()\\n    yoy_growth = rebased_prices.resample(\\\"D\\\").sum().replace(0, method=\\\"ffill\\\")\\n    yoy_growth = (\\n        yoy_growth.groupby([yoy_growth.index.day, yoy_growth.index.month])\\n        .pct_change()\\n        .dropna(axis=0)\\n    )\\n    return yoy_growth.rolling(window=rolling_window).mean().dropna()\\n\\n\\ndef plot_calmap(yoy_growth: pd.Series, ticker):\\n    return calmap.calendarplot(\\n        yoy_growth[ticker],\\n        monthticks=1,\\n        daylabels=\\\"MTWTF\\\",\\n        dayticks=[0, 2, 4],\\n        cmap=\\\"RdYlGn\\\",\\n        linewidth=0.2,\\n        yearascending=False,\\n        yearlabel_kws=dict(color=\\\"#696969\\\"),\\n        fig_kws=dict(figsize=(12, 8)),\\n    )\";\n",
       "                var nbb_formatted_code = \"def get_data(\\n    companies: Tuple[str],\\n    start_date: str,\\n    end_date: str,\\n    stock_list: dict[str, str] = stock_list,\\n) -> pd.DataFrame:\\n    \\\"\\\"\\\"Get data from Yahoo Finance endpoint using ffn\\\"\\\"\\\"\\n    time.sleep(1)  # avoid spamming\\n    tickers = [stock_list[company] for company in companies]\\n    return ffn.get(tickers, start=start_date, end=end_date)\\n\\n\\ndef convert_ticker_to_company(\\n    ticker: str, stock_list: dict[str, str] = stock_list\\n) -> str:\\n    inverted_stock_list = {v: k for k, v in stock_list.items()}\\n    return inverted_stock_list[ticker]\\n\\n\\ndef calc_yoy_growth(prices: pd.DataFrame, rolling_window: int = 28) -> pd.DataFrame:\\n    rebased_prices = prices.rebase()\\n    yoy_growth = rebased_prices.resample(\\\"D\\\").sum().replace(0, method=\\\"ffill\\\")\\n    yoy_growth = (\\n        yoy_growth.groupby([yoy_growth.index.day, yoy_growth.index.month])\\n        .pct_change()\\n        .dropna(axis=0)\\n    )\\n    return yoy_growth.rolling(window=rolling_window).mean().dropna()\\n\\n\\ndef plot_calmap(yoy_growth: pd.Series, ticker):\\n    return calmap.calendarplot(\\n        yoy_growth[ticker],\\n        monthticks=1,\\n        daylabels=\\\"MTWTF\\\",\\n        dayticks=[0, 2, 4],\\n        cmap=\\\"RdYlGn\\\",\\n        linewidth=0.2,\\n        yearascending=False,\\n        yearlabel_kws=dict(color=\\\"#696969\\\"),\\n        fig_kws=dict(figsize=(12, 8)),\\n    )\";\n",
       "                var nbb_cells = Jupyter.notebook.get_cells();\n",
       "                for (var i = 0; i < nbb_cells.length; ++i) {\n",
       "                    if (nbb_cells[i].input_prompt_number == nbb_cell_id) {\n",
       "                        if (nbb_cells[i].get_text() == nbb_unformatted_code) {\n",
       "                             nbb_cells[i].set_text(nbb_formatted_code);\n",
       "                        }\n",
       "                        break;\n",
       "                    }\n",
       "                }\n",
       "            }, 500);\n",
       "            "
      ],
      "text/plain": [
       "<IPython.core.display.Javascript object>"
      ]
     },
     "metadata": {},
     "output_type": "display_data"
    }
   ],
   "source": [
    "def get_data(\n",
    "    companies: Tuple[str],\n",
    "    start_date: str,\n",
    "    end_date: str,\n",
    "    stock_list: dict[str, str] = stock_list,\n",
    ") -> pd.DataFrame:\n",
    "    \"\"\"Get data from Yahoo Finance endpoint using ffn\"\"\"\n",
    "    time.sleep(1)  # avoid spamming\n",
    "    tickers = [stock_list[company] for company in companies]\n",
    "    return ffn.get(tickers, start=start_date, end=end_date)\n",
    "\n",
    "\n",
    "def convert_ticker_to_company(\n",
    "    ticker: str, stock_list: dict[str, str] = stock_list\n",
    ") -> str:\n",
    "    inverted_stock_list = {v: k for k, v in stock_list.items()}\n",
    "    return inverted_stock_list[ticker]\n",
    "\n",
    "\n",
    "def calc_yoy_growth(prices: pd.DataFrame, rolling_window: int = 28) -> pd.DataFrame:\n",
    "    rebased_prices = prices.rebase()\n",
    "    yoy_growth = rebased_prices.resample(\"D\").sum().replace(0, method=\"ffill\")\n",
    "    yoy_growth = (\n",
    "        yoy_growth.groupby([yoy_growth.index.day, yoy_growth.index.month])\n",
    "        .pct_change()\n",
    "        .dropna(axis=0)\n",
    "    )\n",
    "    return yoy_growth.rolling(window=rolling_window).mean().dropna()\n",
    "\n",
    "\n",
    "def plot_calmap(yoy_growth: pd.Series, ticker):\n",
    "    return calmap.calendarplot(\n",
    "        yoy_growth[ticker],\n",
    "        monthticks=1,\n",
    "        daylabels=\"MTWTF\",\n",
    "        dayticks=[0, 2, 4],\n",
    "        cmap=\"RdYlGn\",\n",
    "        linewidth=0.2,\n",
    "        yearascending=False,\n",
    "        yearlabel_kws=dict(color=\"#696969\"),\n",
    "        fig_kws=dict(figsize=(12, 8)),\n",
    "    )"
   ]
  },
  {
   "cell_type": "code",
   "execution_count": 5,
   "id": "318fea2a",
   "metadata": {},
   "outputs": [
    {
     "data": {
      "application/javascript": [
       "\n",
       "            setTimeout(function() {\n",
       "                var nbb_cell_id = 5;\n",
       "                var nbb_unformatted_code = \"## Input Area\\ntickers = UserInputWidget(\\n    \\\"tickers\\\",\\n    widgets.SelectMultiple(\\n        options=stock_list.keys(),\\n        description=\\\"Stock\\\",\\n        value=list(stock_list.keys())[:2],  # select first two\\n        disabled=False,\\n        layout=widgets.Layout(height=\\\"150px\\\"),\\n    ),\\n)\\n\\nstart_date = UserInputWidget(\\n    \\\"start_date\\\",\\n    widgets.DatePicker(\\n        description=\\\"Start Date\\\",\\n        value=datetime.datetime.today() - datetime.timedelta(days=3 * 365),\\n    ),\\n)\\n\\nend_date = UserInputWidget(\\n    \\\"end_date\\\",\\n    widgets.DatePicker(description=\\\"End Date\\\", value=datetime.datetime.today()),\\n)\\n\\nget_stock_data_button = widgets.Button(\\n    description=\\\"Get data for selected stocks\\\",\\n    disabled=False,\\n    button_style=\\\"info\\\",\\n    tooltip=\\\"Click me\\\",\\n    layout=widgets.Layout(width=\\\"auto\\\", height=\\\"30px\\\", margin=\\\"30px\\\"),\\n)\";\n",
       "                var nbb_formatted_code = \"## Input Area\\ntickers = UserInputWidget(\\n    \\\"tickers\\\",\\n    widgets.SelectMultiple(\\n        options=stock_list.keys(),\\n        description=\\\"Stock\\\",\\n        value=list(stock_list.keys())[:2],  # select first two\\n        disabled=False,\\n        layout=widgets.Layout(height=\\\"150px\\\"),\\n    ),\\n)\\n\\nstart_date = UserInputWidget(\\n    \\\"start_date\\\",\\n    widgets.DatePicker(\\n        description=\\\"Start Date\\\",\\n        value=datetime.datetime.today() - datetime.timedelta(days=3 * 365),\\n    ),\\n)\\n\\nend_date = UserInputWidget(\\n    \\\"end_date\\\",\\n    widgets.DatePicker(description=\\\"End Date\\\", value=datetime.datetime.today()),\\n)\\n\\nget_stock_data_button = widgets.Button(\\n    description=\\\"Get data for selected stocks\\\",\\n    disabled=False,\\n    button_style=\\\"info\\\",\\n    tooltip=\\\"Click me\\\",\\n    layout=widgets.Layout(width=\\\"auto\\\", height=\\\"30px\\\", margin=\\\"30px\\\"),\\n)\";\n",
       "                var nbb_cells = Jupyter.notebook.get_cells();\n",
       "                for (var i = 0; i < nbb_cells.length; ++i) {\n",
       "                    if (nbb_cells[i].input_prompt_number == nbb_cell_id) {\n",
       "                        if (nbb_cells[i].get_text() == nbb_unformatted_code) {\n",
       "                             nbb_cells[i].set_text(nbb_formatted_code);\n",
       "                        }\n",
       "                        break;\n",
       "                    }\n",
       "                }\n",
       "            }, 500);\n",
       "            "
      ],
      "text/plain": [
       "<IPython.core.display.Javascript object>"
      ]
     },
     "metadata": {},
     "output_type": "display_data"
    }
   ],
   "source": [
    "## Input Area\n",
    "tickers = UserInputWidget(\n",
    "    \"tickers\",\n",
    "    widgets.SelectMultiple(\n",
    "        options=stock_list.keys(),\n",
    "        description=\"Stock\",\n",
    "        value=list(stock_list.keys())[:2],  # select first two\n",
    "        disabled=False,\n",
    "        layout=widgets.Layout(height=\"150px\"),\n",
    "    ),\n",
    ")\n",
    "\n",
    "start_date = UserInputWidget(\n",
    "    \"start_date\",\n",
    "    widgets.DatePicker(\n",
    "        description=\"Start Date\",\n",
    "        value=datetime.datetime.today() - datetime.timedelta(days=3 * 365),\n",
    "    ),\n",
    ")\n",
    "\n",
    "end_date = UserInputWidget(\n",
    "    \"end_date\",\n",
    "    widgets.DatePicker(description=\"End Date\", value=datetime.datetime.today()),\n",
    ")\n",
    "\n",
    "get_stock_data_button = widgets.Button(\n",
    "    description=\"Get data for selected stocks\",\n",
    "    disabled=False,\n",
    "    button_style=\"info\",\n",
    "    tooltip=\"Click me\",\n",
    "    layout=widgets.Layout(width=\"auto\", height=\"30px\", margin=\"30px\"),\n",
    ")"
   ]
  },
  {
   "cell_type": "code",
   "execution_count": 6,
   "id": "bdb3483f",
   "metadata": {},
   "outputs": [
    {
     "data": {
      "application/javascript": [
       "\n",
       "            setTimeout(function() {\n",
       "                var nbb_cell_id = 6;\n",
       "                var nbb_unformatted_code = \"## Graph\\nprices = get_data(tickers.widget.value, start_date.widget.value, end_date.widget.value)\";\n",
       "                var nbb_formatted_code = \"## Graph\\nprices = get_data(tickers.widget.value, start_date.widget.value, end_date.widget.value)\";\n",
       "                var nbb_cells = Jupyter.notebook.get_cells();\n",
       "                for (var i = 0; i < nbb_cells.length; ++i) {\n",
       "                    if (nbb_cells[i].input_prompt_number == nbb_cell_id) {\n",
       "                        if (nbb_cells[i].get_text() == nbb_unformatted_code) {\n",
       "                             nbb_cells[i].set_text(nbb_formatted_code);\n",
       "                        }\n",
       "                        break;\n",
       "                    }\n",
       "                }\n",
       "            }, 500);\n",
       "            "
      ],
      "text/plain": [
       "<IPython.core.display.Javascript object>"
      ]
     },
     "metadata": {},
     "output_type": "display_data"
    }
   ],
   "source": [
    "## Graph\n",
    "prices = get_data(tickers.widget.value, start_date.widget.value, end_date.widget.value)"
   ]
  },
  {
   "cell_type": "code",
   "execution_count": 7,
   "id": "52ee77b5",
   "metadata": {},
   "outputs": [
    {
     "data": {
      "application/javascript": [
       "\n",
       "            setTimeout(function() {\n",
       "                var nbb_cell_id = 7;\n",
       "                var nbb_unformatted_code = \"rebased_stock_graph = RebasedStockGraph(\\n    \\\"Rebased\\\", \\\"Rebased share price performance\\\", prices\\n)\\n\\nstock_statistics = StockStatistics(\\n    \\\"Stock Statistics\\\", \\\"Statistics for each stock\\\", prices\\n)\\n\\ncorrelations = Correlations(\\n    \\\"Correlations\\\", \\\"Correlations between selected stocks\\\", prices\\n)\\n\\ndrawdown = Drawdown(\\\"Drawdown\\\", \\\"Drawdown periods\\\", prices)\";\n",
       "                var nbb_formatted_code = \"rebased_stock_graph = RebasedStockGraph(\\n    \\\"Rebased\\\", \\\"Rebased share price performance\\\", prices\\n)\\n\\nstock_statistics = StockStatistics(\\n    \\\"Stock Statistics\\\", \\\"Statistics for each stock\\\", prices\\n)\\n\\ncorrelations = Correlations(\\n    \\\"Correlations\\\", \\\"Correlations between selected stocks\\\", prices\\n)\\n\\ndrawdown = Drawdown(\\\"Drawdown\\\", \\\"Drawdown periods\\\", prices)\";\n",
       "                var nbb_cells = Jupyter.notebook.get_cells();\n",
       "                for (var i = 0; i < nbb_cells.length; ++i) {\n",
       "                    if (nbb_cells[i].input_prompt_number == nbb_cell_id) {\n",
       "                        if (nbb_cells[i].get_text() == nbb_unformatted_code) {\n",
       "                             nbb_cells[i].set_text(nbb_formatted_code);\n",
       "                        }\n",
       "                        break;\n",
       "                    }\n",
       "                }\n",
       "            }, 500);\n",
       "            "
      ],
      "text/plain": [
       "<IPython.core.display.Javascript object>"
      ]
     },
     "metadata": {},
     "output_type": "display_data"
    }
   ],
   "source": [
    "rebased_stock_graph = RebasedStockGraph(\n",
    "    \"Rebased\", \"Rebased share price performance\", prices\n",
    ")\n",
    "\n",
    "stock_statistics = StockStatistics(\n",
    "    \"Stock Statistics\", \"Statistics for each stock\", prices\n",
    ")\n",
    "\n",
    "correlations = Correlations(\n",
    "    \"Correlations\", \"Correlations between selected stocks\", prices\n",
    ")\n",
    "\n",
    "drawdown = Drawdown(\"Drawdown\", \"Drawdown periods\", prices)"
   ]
  },
  {
   "cell_type": "code",
   "execution_count": 8,
   "id": "11b8b5f5",
   "metadata": {},
   "outputs": [
    {
     "data": {
      "application/javascript": [
       "\n",
       "            setTimeout(function() {\n",
       "                var nbb_cell_id = 8;\n",
       "                var nbb_unformatted_code = \"g = Gui(\\n    user_inputs=[tickers, start_date, end_date],\\n    action_button=get_stock_data_button,\\n    main=rebased_stock_graph,\\n    tabs=[stock_statistics, correlations, drawdown],\\n)\";\n",
       "                var nbb_formatted_code = \"g = Gui(\\n    user_inputs=[tickers, start_date, end_date],\\n    action_button=get_stock_data_button,\\n    main=rebased_stock_graph,\\n    tabs=[stock_statistics, correlations, drawdown],\\n)\";\n",
       "                var nbb_cells = Jupyter.notebook.get_cells();\n",
       "                for (var i = 0; i < nbb_cells.length; ++i) {\n",
       "                    if (nbb_cells[i].input_prompt_number == nbb_cell_id) {\n",
       "                        if (nbb_cells[i].get_text() == nbb_unformatted_code) {\n",
       "                             nbb_cells[i].set_text(nbb_formatted_code);\n",
       "                        }\n",
       "                        break;\n",
       "                    }\n",
       "                }\n",
       "            }, 500);\n",
       "            "
      ],
      "text/plain": [
       "<IPython.core.display.Javascript object>"
      ]
     },
     "metadata": {},
     "output_type": "display_data"
    }
   ],
   "source": [
    "g = Gui(\n",
    "    user_inputs=[tickers, start_date, end_date],\n",
    "    action_button=get_stock_data_button,\n",
    "    main=rebased_stock_graph,\n",
    "    tabs=[stock_statistics, correlations, drawdown],\n",
    ")"
   ]
  },
  {
   "cell_type": "code",
   "execution_count": 9,
   "id": "5967292b",
   "metadata": {
    "scrolled": false
   },
   "outputs": [
    {
     "data": {
      "application/vnd.jupyter.widget-view+json": {
       "model_id": "41344356763e44ed8777ce84ce9099a1",
       "version_major": 2,
       "version_minor": 0
      },
      "text/plain": [
       "HBox(children=(VBox(children=(SelectMultiple(description='Stock', index=(0, 1), layout=Layout(height='150px'),…"
      ]
     },
     "metadata": {},
     "output_type": "display_data"
    },
    {
     "data": {
      "application/vnd.jupyter.widget-view+json": {
       "model_id": "59589c6b97454aff9b890ffabe2eb058",
       "version_major": 2,
       "version_minor": 0
      },
      "text/plain": [
       "VBox(children=(Output(),))"
      ]
     },
     "metadata": {},
     "output_type": "display_data"
    },
    {
     "data": {
      "application/vnd.jupyter.widget-view+json": {
       "model_id": "e9d14679715c432fb2f056b87b6da191",
       "version_major": 2,
       "version_minor": 0
      },
      "text/plain": [
       "Tab(children=(VBox(children=(HTML(value='<p><strong>Statistics for each stock</strong></p>'), Output())), VBox…"
      ]
     },
     "metadata": {},
     "output_type": "display_data"
    },
    {
     "data": {
      "application/javascript": [
       "\n",
       "            setTimeout(function() {\n",
       "                var nbb_cell_id = 9;\n",
       "                var nbb_unformatted_code = \"g.build()\";\n",
       "                var nbb_formatted_code = \"g.build()\";\n",
       "                var nbb_cells = Jupyter.notebook.get_cells();\n",
       "                for (var i = 0; i < nbb_cells.length; ++i) {\n",
       "                    if (nbb_cells[i].input_prompt_number == nbb_cell_id) {\n",
       "                        if (nbb_cells[i].get_text() == nbb_unformatted_code) {\n",
       "                             nbb_cells[i].set_text(nbb_formatted_code);\n",
       "                        }\n",
       "                        break;\n",
       "                    }\n",
       "                }\n",
       "            }, 500);\n",
       "            "
      ],
      "text/plain": [
       "<IPython.core.display.Javascript object>"
      ]
     },
     "metadata": {},
     "output_type": "display_data"
    }
   ],
   "source": [
    "g.build()"
   ]
  },
  {
   "cell_type": "markdown",
   "id": "8ab76e14",
   "metadata": {},
   "source": [
    "Created by [EngineeringforDataScience](https://engineeringfordatascience.com/) ⚒️ | [Source Code](https://github.com/julian-west/e4ds-snippets/tree/voila/jupyter/voila)"
   ]
  },
  {
   "cell_type": "code",
   "execution_count": 10,
   "id": "be1468b2",
   "metadata": {},
   "outputs": [
    {
     "data": {
      "application/javascript": [
       "\n",
       "            setTimeout(function() {\n",
       "                var nbb_cell_id = 10;\n",
       "                var nbb_unformatted_code = \"# Portfolio optimisation\";\n",
       "                var nbb_formatted_code = \"# Portfolio optimisation\";\n",
       "                var nbb_cells = Jupyter.notebook.get_cells();\n",
       "                for (var i = 0; i < nbb_cells.length; ++i) {\n",
       "                    if (nbb_cells[i].input_prompt_number == nbb_cell_id) {\n",
       "                        if (nbb_cells[i].get_text() == nbb_unformatted_code) {\n",
       "                             nbb_cells[i].set_text(nbb_formatted_code);\n",
       "                        }\n",
       "                        break;\n",
       "                    }\n",
       "                }\n",
       "            }, 500);\n",
       "            "
      ],
      "text/plain": [
       "<IPython.core.display.Javascript object>"
      ]
     },
     "metadata": {},
     "output_type": "display_data"
    }
   ],
   "source": [
    "# Portfolio optimisation"
   ]
  }
 ],
 "metadata": {
  "kernelspec": {
   "display_name": "Python 3 (ipykernel)",
   "language": "python",
   "name": "python3"
  },
  "language_info": {
   "codemirror_mode": {
    "name": "ipython",
    "version": 3
   },
   "file_extension": ".py",
   "mimetype": "text/x-python",
   "name": "python",
   "nbconvert_exporter": "python",
   "pygments_lexer": "ipython3",
   "version": "3.9.7"
  }
 },
 "nbformat": 4,
 "nbformat_minor": 5
}
