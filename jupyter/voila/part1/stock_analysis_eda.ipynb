{
 "cells": [
  {
   "cell_type": "code",
   "execution_count": 1,
   "id": "90a4a723",
   "metadata": {},
   "outputs": [],
   "source": [
    "import datetime\n",
    "import warnings\n",
    "\n",
    "import ipywidgets as widgets\n",
    "\n",
    "%load_ext autoreload\n",
    "%autoreload 2\n",
    "\n",
    "from content import Correlations, Drawdown, RebasedStockGraph, StockStatistics\n",
    "from controller import Controller\n",
    "from data import FfnDataLoader\n",
    "from gui import Gui\n",
    "from user_input import UserInputWidget\n",
    "\n",
    "warnings.filterwarnings(\"ignore\")"
   ]
  },
  {
   "cell_type": "code",
   "execution_count": 2,
   "id": "96b84b68",
   "metadata": {},
   "outputs": [
    {
     "data": {
      "application/javascript": [
       "\n",
       "            setTimeout(function() {\n",
       "                var nbb_cell_id = 2;\n",
       "                var nbb_unformatted_code = \"%matplotlib inline\\n%load_ext nb_black\";\n",
       "                var nbb_formatted_code = \"%matplotlib inline\\n%load_ext nb_black\";\n",
       "                var nbb_cells = Jupyter.notebook.get_cells();\n",
       "                for (var i = 0; i < nbb_cells.length; ++i) {\n",
       "                    if (nbb_cells[i].input_prompt_number == nbb_cell_id) {\n",
       "                        if (nbb_cells[i].get_text() == nbb_unformatted_code) {\n",
       "                             nbb_cells[i].set_text(nbb_formatted_code);\n",
       "                        }\n",
       "                        break;\n",
       "                    }\n",
       "                }\n",
       "            }, 500);\n",
       "            "
      ],
      "text/plain": [
       "<IPython.core.display.Javascript object>"
      ]
     },
     "metadata": {},
     "output_type": "display_data"
    }
   ],
   "source": [
    "%matplotlib inline\n",
    "%load_ext nb_black"
   ]
  },
  {
   "cell_type": "code",
   "execution_count": 3,
   "id": "3e98f42b",
   "metadata": {},
   "outputs": [
    {
     "data": {
      "application/javascript": [
       "\n",
       "            setTimeout(function() {\n",
       "                var nbb_cell_id = 3;\n",
       "                var nbb_unformatted_code = \"stock_lookup = {\\n    \\\"SNP500\\\": \\\"spy\\\",\\n    \\\"Apple\\\": \\\"aapl\\\",\\n    \\\"Microsoft\\\": \\\"msft\\\",\\n    \\\"Facebook\\\": \\\"fb\\\",\\n    \\\"Tesla\\\": \\\"tsla\\\",\\n    \\\"Google\\\": \\\"googl\\\",\\n}\";\n",
       "                var nbb_formatted_code = \"stock_lookup = {\\n    \\\"SNP500\\\": \\\"spy\\\",\\n    \\\"Apple\\\": \\\"aapl\\\",\\n    \\\"Microsoft\\\": \\\"msft\\\",\\n    \\\"Facebook\\\": \\\"fb\\\",\\n    \\\"Tesla\\\": \\\"tsla\\\",\\n    \\\"Google\\\": \\\"googl\\\",\\n}\";\n",
       "                var nbb_cells = Jupyter.notebook.get_cells();\n",
       "                for (var i = 0; i < nbb_cells.length; ++i) {\n",
       "                    if (nbb_cells[i].input_prompt_number == nbb_cell_id) {\n",
       "                        if (nbb_cells[i].get_text() == nbb_unformatted_code) {\n",
       "                             nbb_cells[i].set_text(nbb_formatted_code);\n",
       "                        }\n",
       "                        break;\n",
       "                    }\n",
       "                }\n",
       "            }, 500);\n",
       "            "
      ],
      "text/plain": [
       "<IPython.core.display.Javascript object>"
      ]
     },
     "metadata": {},
     "output_type": "display_data"
    }
   ],
   "source": [
    "stock_lookup = {\n",
    "    \"SNP500\": \"spy\",\n",
    "    \"Apple\": \"aapl\",\n",
    "    \"Microsoft\": \"msft\",\n",
    "    \"Facebook\": \"fb\",\n",
    "    \"Tesla\": \"tsla\",\n",
    "    \"Google\": \"googl\",\n",
    "}"
   ]
  },
  {
   "cell_type": "code",
   "execution_count": 4,
   "id": "318fea2a",
   "metadata": {},
   "outputs": [
    {
     "data": {
      "application/javascript": [
       "\n",
       "            setTimeout(function() {\n",
       "                var nbb_cell_id = 4;\n",
       "                var nbb_unformatted_code = \"### User input area ###\\ncompanies = UserInputWidget(\\n    \\\"companies\\\",\\n    widgets.SelectMultiple(\\n        options=stock_lookup.keys(),\\n        description=\\\"Stock\\\",\\n        value=list(stock_lookup.keys())[:2],  # select first two\\n        disabled=False,\\n        layout=widgets.Layout(height=\\\"150px\\\"),\\n    ),\\n)\\n\\nstart_date = UserInputWidget(\\n    \\\"start_date\\\",\\n    widgets.DatePicker(\\n        description=\\\"Start Date\\\",\\n        value=datetime.datetime.today() - datetime.timedelta(days=3 * 365),\\n    ),\\n)\\n\\nend_date = UserInputWidget(\\n    \\\"end_date\\\",\\n    widgets.DatePicker(description=\\\"End Date\\\", value=datetime.datetime.today()),\\n)\\n\\nget_stock_data_button = widgets.Button(\\n    description=\\\"Get data for selected stocks\\\",\\n    disabled=False,\\n    button_style=\\\"info\\\",\\n    tooltip=\\\"Click me\\\",\\n    layout=widgets.Layout(width=\\\"auto\\\", height=\\\"30px\\\", margin=\\\"30px\\\"),\\n)\";\n",
       "                var nbb_formatted_code = \"### User input area ###\\ncompanies = UserInputWidget(\\n    \\\"companies\\\",\\n    widgets.SelectMultiple(\\n        options=stock_lookup.keys(),\\n        description=\\\"Stock\\\",\\n        value=list(stock_lookup.keys())[:2],  # select first two\\n        disabled=False,\\n        layout=widgets.Layout(height=\\\"150px\\\"),\\n    ),\\n)\\n\\nstart_date = UserInputWidget(\\n    \\\"start_date\\\",\\n    widgets.DatePicker(\\n        description=\\\"Start Date\\\",\\n        value=datetime.datetime.today() - datetime.timedelta(days=3 * 365),\\n    ),\\n)\\n\\nend_date = UserInputWidget(\\n    \\\"end_date\\\",\\n    widgets.DatePicker(description=\\\"End Date\\\", value=datetime.datetime.today()),\\n)\\n\\nget_stock_data_button = widgets.Button(\\n    description=\\\"Get data for selected stocks\\\",\\n    disabled=False,\\n    button_style=\\\"info\\\",\\n    tooltip=\\\"Click me\\\",\\n    layout=widgets.Layout(width=\\\"auto\\\", height=\\\"30px\\\", margin=\\\"30px\\\"),\\n)\";\n",
       "                var nbb_cells = Jupyter.notebook.get_cells();\n",
       "                for (var i = 0; i < nbb_cells.length; ++i) {\n",
       "                    if (nbb_cells[i].input_prompt_number == nbb_cell_id) {\n",
       "                        if (nbb_cells[i].get_text() == nbb_unformatted_code) {\n",
       "                             nbb_cells[i].set_text(nbb_formatted_code);\n",
       "                        }\n",
       "                        break;\n",
       "                    }\n",
       "                }\n",
       "            }, 500);\n",
       "            "
      ],
      "text/plain": [
       "<IPython.core.display.Javascript object>"
      ]
     },
     "metadata": {},
     "output_type": "display_data"
    }
   ],
   "source": [
    "### User input area ###\n",
    "companies = UserInputWidget(\n",
    "    \"companies\",\n",
    "    widgets.SelectMultiple(\n",
    "        options=stock_lookup.keys(),\n",
    "        description=\"Stock\",\n",
    "        value=list(stock_lookup.keys())[:2],  # select first two\n",
    "        disabled=False,\n",
    "        layout=widgets.Layout(height=\"150px\"),\n",
    "    ),\n",
    ")\n",
    "\n",
    "start_date = UserInputWidget(\n",
    "    \"start_date\",\n",
    "    widgets.DatePicker(\n",
    "        description=\"Start Date\",\n",
    "        value=datetime.datetime.today() - datetime.timedelta(days=3 * 365),\n",
    "    ),\n",
    ")\n",
    "\n",
    "end_date = UserInputWidget(\n",
    "    \"end_date\",\n",
    "    widgets.DatePicker(description=\"End Date\", value=datetime.datetime.today()),\n",
    ")\n",
    "\n",
    "get_stock_data_button = widgets.Button(\n",
    "    description=\"Get data for selected stocks\",\n",
    "    disabled=False,\n",
    "    button_style=\"info\",\n",
    "    tooltip=\"Click me\",\n",
    "    layout=widgets.Layout(width=\"auto\", height=\"30px\", margin=\"30px\"),\n",
    ")"
   ]
  },
  {
   "cell_type": "code",
   "execution_count": 5,
   "id": "52ee77b5",
   "metadata": {},
   "outputs": [
    {
     "data": {
      "application/javascript": [
       "\n",
       "            setTimeout(function() {\n",
       "                var nbb_cell_id = 5;\n",
       "                var nbb_unformatted_code = \"## main chart\\nrebased_stock_graph = RebasedStockGraph(\\\"Rebased\\\", \\\"Rebased share price performance\\\")\\n\\n\\n## tabs\\nstock_statistics = StockStatistics(\\\"Stock Statistics\\\", \\\"Statistics for each stock\\\")\\ncorrelations = Correlations(\\\"Correlations\\\", \\\"Correlations between selected stocks\\\")\\ndrawdown = Drawdown(\\\"Drawdown\\\", \\\"Drawdown periods\\\")\";\n",
       "                var nbb_formatted_code = \"## main chart\\nrebased_stock_graph = RebasedStockGraph(\\\"Rebased\\\", \\\"Rebased share price performance\\\")\\n\\n\\n## tabs\\nstock_statistics = StockStatistics(\\\"Stock Statistics\\\", \\\"Statistics for each stock\\\")\\ncorrelations = Correlations(\\\"Correlations\\\", \\\"Correlations between selected stocks\\\")\\ndrawdown = Drawdown(\\\"Drawdown\\\", \\\"Drawdown periods\\\")\";\n",
       "                var nbb_cells = Jupyter.notebook.get_cells();\n",
       "                for (var i = 0; i < nbb_cells.length; ++i) {\n",
       "                    if (nbb_cells[i].input_prompt_number == nbb_cell_id) {\n",
       "                        if (nbb_cells[i].get_text() == nbb_unformatted_code) {\n",
       "                             nbb_cells[i].set_text(nbb_formatted_code);\n",
       "                        }\n",
       "                        break;\n",
       "                    }\n",
       "                }\n",
       "            }, 500);\n",
       "            "
      ],
      "text/plain": [
       "<IPython.core.display.Javascript object>"
      ]
     },
     "metadata": {},
     "output_type": "display_data"
    }
   ],
   "source": [
    "## main chart\n",
    "rebased_stock_graph = RebasedStockGraph(\"Rebased\", \"Rebased share price performance\")\n",
    "\n",
    "\n",
    "## tabs\n",
    "stock_statistics = StockStatistics(\"Stock Statistics\", \"Statistics for each stock\")\n",
    "correlations = Correlations(\"Correlations\", \"Correlations between selected stocks\")\n",
    "drawdown = Drawdown(\"Drawdown\", \"Drawdown periods\")"
   ]
  },
  {
   "cell_type": "code",
   "execution_count": 6,
   "id": "11b8b5f5",
   "metadata": {},
   "outputs": [
    {
     "data": {
      "application/javascript": [
       "\n",
       "            setTimeout(function() {\n",
       "                var nbb_cell_id = 6;\n",
       "                var nbb_unformatted_code = \"### initialise GUI (graphical user interface)\\ngui = Gui(\\n    user_inputs=[companies, start_date, end_date],\\n    action_button=get_stock_data_button,\\n    main=rebased_stock_graph,\\n    tabs=[stock_statistics, correlations, drawdown],\\n)\";\n",
       "                var nbb_formatted_code = \"### initialise GUI (graphical user interface)\\ngui = Gui(\\n    user_inputs=[companies, start_date, end_date],\\n    action_button=get_stock_data_button,\\n    main=rebased_stock_graph,\\n    tabs=[stock_statistics, correlations, drawdown],\\n)\";\n",
       "                var nbb_cells = Jupyter.notebook.get_cells();\n",
       "                for (var i = 0; i < nbb_cells.length; ++i) {\n",
       "                    if (nbb_cells[i].input_prompt_number == nbb_cell_id) {\n",
       "                        if (nbb_cells[i].get_text() == nbb_unformatted_code) {\n",
       "                             nbb_cells[i].set_text(nbb_formatted_code);\n",
       "                        }\n",
       "                        break;\n",
       "                    }\n",
       "                }\n",
       "            }, 500);\n",
       "            "
      ],
      "text/plain": [
       "<IPython.core.display.Javascript object>"
      ]
     },
     "metadata": {},
     "output_type": "display_data"
    }
   ],
   "source": [
    "### initialise GUI (graphical user interface)\n",
    "gui = Gui(\n",
    "    user_inputs=[companies, start_date, end_date],\n",
    "    action_button=get_stock_data_button,\n",
    "    main=rebased_stock_graph,\n",
    "    tabs=[stock_statistics, correlations, drawdown],\n",
    ")"
   ]
  },
  {
   "cell_type": "markdown",
   "id": "03036475",
   "metadata": {},
   "source": [
    "# Stock Price Comparison Tool\n",
    "\n",
    "### Select multiple companies to compare their stock performance\n",
    " \n",
    "<mark>Use ctrl+click to select multiple companies</mark>\n",
    "\n",
    "<!-- TODO:\n",
    "- Add linked histogram to select part of the graph and display the returns profile\n",
    "- Tidy up css\n",
    "- Add tab with optimial portfolio calculation\n",
    "- Improve chart layouts\n",
    "-->"
   ]
  },
  {
   "cell_type": "code",
   "execution_count": 7,
   "id": "0c94e87e",
   "metadata": {
    "scrolled": false
   },
   "outputs": [
    {
     "data": {
      "application/vnd.jupyter.widget-view+json": {
       "model_id": "19e73f52e70f4ace9e3a49f4b85d8e74",
       "version_major": 2,
       "version_minor": 0
      },
      "text/plain": [
       "HBox(children=(VBox(children=(SelectMultiple(description='Stock', index=(0, 1), layout=Layout(height='150px'),…"
      ]
     },
     "metadata": {},
     "output_type": "display_data"
    },
    {
     "data": {
      "application/vnd.jupyter.widget-view+json": {
       "model_id": "44e63ad6d7b24a5b8425a134c7c12ebb",
       "version_major": 2,
       "version_minor": 0
      },
      "text/plain": [
       "VBox(children=(Output(),))"
      ]
     },
     "metadata": {},
     "output_type": "display_data"
    },
    {
     "data": {
      "application/vnd.jupyter.widget-view+json": {
       "model_id": "df56a6c9dda94d599c18662390550051",
       "version_major": 2,
       "version_minor": 0
      },
      "text/plain": [
       "Tab(children=(VBox(children=(HTML(value='<p><strong>Statistics for each stock</strong></p>'), Output())), VBox…"
      ]
     },
     "metadata": {},
     "output_type": "display_data"
    },
    {
     "data": {
      "text/plain": [
       "<controller.Controller at 0x7fedc346d760>"
      ]
     },
     "execution_count": 7,
     "metadata": {},
     "output_type": "execute_result"
    },
    {
     "data": {
      "application/javascript": [
       "\n",
       "            setTimeout(function() {\n",
       "                var nbb_cell_id = 7;\n",
       "                var nbb_unformatted_code = \"### run application\\nController(gui, data_loader=FfnDataLoader(), stock_lookup=stock_lookup)\";\n",
       "                var nbb_formatted_code = \"### run application\\nController(gui, data_loader=FfnDataLoader(), stock_lookup=stock_lookup)\";\n",
       "                var nbb_cells = Jupyter.notebook.get_cells();\n",
       "                for (var i = 0; i < nbb_cells.length; ++i) {\n",
       "                    if (nbb_cells[i].input_prompt_number == nbb_cell_id) {\n",
       "                        if (nbb_cells[i].get_text() == nbb_unformatted_code) {\n",
       "                             nbb_cells[i].set_text(nbb_formatted_code);\n",
       "                        }\n",
       "                        break;\n",
       "                    }\n",
       "                }\n",
       "            }, 500);\n",
       "            "
      ],
      "text/plain": [
       "<IPython.core.display.Javascript object>"
      ]
     },
     "metadata": {},
     "output_type": "display_data"
    }
   ],
   "source": [
    "### run application\n",
    "Controller(gui, data_loader=FfnDataLoader(), stock_lookup=stock_lookup)"
   ]
  },
  {
   "cell_type": "markdown",
   "id": "8ab76e14",
   "metadata": {},
   "source": [
    "Created by [EngineeringforDataScience](https://engineeringfordatascience.com/) ⚒️ | [Source Code](https://github.com/julian-west/e4ds-snippets/tree/voila/jupyter/voila)"
   ]
  },
  {
   "cell_type": "code",
   "execution_count": 8,
   "id": "be1468b2",
   "metadata": {},
   "outputs": [
    {
     "data": {
      "application/javascript": [
       "\n",
       "            setTimeout(function() {\n",
       "                var nbb_cell_id = 8;\n",
       "                var nbb_unformatted_code = \"# Portfolio optimisation\";\n",
       "                var nbb_formatted_code = \"# Portfolio optimisation\";\n",
       "                var nbb_cells = Jupyter.notebook.get_cells();\n",
       "                for (var i = 0; i < nbb_cells.length; ++i) {\n",
       "                    if (nbb_cells[i].input_prompt_number == nbb_cell_id) {\n",
       "                        if (nbb_cells[i].get_text() == nbb_unformatted_code) {\n",
       "                             nbb_cells[i].set_text(nbb_formatted_code);\n",
       "                        }\n",
       "                        break;\n",
       "                    }\n",
       "                }\n",
       "            }, 500);\n",
       "            "
      ],
      "text/plain": [
       "<IPython.core.display.Javascript object>"
      ]
     },
     "metadata": {},
     "output_type": "display_data"
    }
   ],
   "source": [
    "# Portfolio optimisation"
   ]
  }
 ],
 "metadata": {
  "kernelspec": {
   "display_name": "Python 3 (ipykernel)",
   "language": "python",
   "name": "python3"
  },
  "language_info": {
   "codemirror_mode": {
    "name": "ipython",
    "version": 3
   },
   "file_extension": ".py",
   "mimetype": "text/x-python",
   "name": "python",
   "nbconvert_exporter": "python",
   "pygments_lexer": "ipython3",
   "version": "3.9.7"
  }
 },
 "nbformat": 4,
 "nbformat_minor": 5
}
