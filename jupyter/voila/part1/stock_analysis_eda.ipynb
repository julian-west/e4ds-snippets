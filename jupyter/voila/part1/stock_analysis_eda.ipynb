{
 "cells": [
  {
   "cell_type": "markdown",
   "id": "ee462c16",
   "metadata": {},
   "source": [
    "<!-- TODO:\n",
    "- Add linked histogram to select part of the graph and display the returns profile\n",
    "- Link all widgets to allow updating of start and end dates and add new tickers\n",
    "- Refactor into object orientated\n",
    "- Add correlations heatmap\n",
    "- Tidy up css\n",
    "-->"
   ]
  },
  {
   "cell_type": "code",
   "execution_count": 1,
   "id": "90a4a723",
   "metadata": {},
   "outputs": [],
   "source": [
    "import datetime\n",
    "import time\n",
    "import warnings\n",
    "from typing import Tuple\n",
    "\n",
    "import calmap\n",
    "import ffn\n",
    "import ipywidgets as widgets\n",
    "import matplotlib.pyplot as plt\n",
    "import pandas as pd\n",
    "from IPython.display import HTML, display\n",
    "\n",
    "warnings.filterwarnings(\"ignore\")"
   ]
  },
  {
   "cell_type": "code",
   "execution_count": 2,
   "id": "96b84b68",
   "metadata": {},
   "outputs": [
    {
     "data": {
      "application/javascript": [
       "\n",
       "            setTimeout(function() {\n",
       "                var nbb_cell_id = 2;\n",
       "                var nbb_unformatted_code = \"%matplotlib inline\\n%load_ext nb_black\";\n",
       "                var nbb_formatted_code = \"%matplotlib inline\\n%load_ext nb_black\";\n",
       "                var nbb_cells = Jupyter.notebook.get_cells();\n",
       "                for (var i = 0; i < nbb_cells.length; ++i) {\n",
       "                    if (nbb_cells[i].input_prompt_number == nbb_cell_id) {\n",
       "                        if (nbb_cells[i].get_text() == nbb_unformatted_code) {\n",
       "                             nbb_cells[i].set_text(nbb_formatted_code);\n",
       "                        }\n",
       "                        break;\n",
       "                    }\n",
       "                }\n",
       "            }, 500);\n",
       "            "
      ],
      "text/plain": [
       "<IPython.core.display.Javascript object>"
      ]
     },
     "metadata": {},
     "output_type": "display_data"
    }
   ],
   "source": [
    "%matplotlib inline\n",
    "%load_ext nb_black"
   ]
  },
  {
   "cell_type": "code",
   "execution_count": 3,
   "id": "3e98f42b",
   "metadata": {},
   "outputs": [
    {
     "data": {
      "application/javascript": [
       "\n",
       "            setTimeout(function() {\n",
       "                var nbb_cell_id = 3;\n",
       "                var nbb_unformatted_code = \"stock_list = {\\n    \\\"SNP500\\\": \\\"spy\\\",\\n    \\\"Apple\\\": \\\"aapl\\\",\\n    \\\"Microsoft\\\": \\\"msft\\\",\\n    \\\"Facebook\\\": \\\"fb\\\",\\n    \\\"Tesla\\\": \\\"tsla\\\",\\n    \\\"Google\\\": \\\"googl\\\",\\n}\";\n",
       "                var nbb_formatted_code = \"stock_list = {\\n    \\\"SNP500\\\": \\\"spy\\\",\\n    \\\"Apple\\\": \\\"aapl\\\",\\n    \\\"Microsoft\\\": \\\"msft\\\",\\n    \\\"Facebook\\\": \\\"fb\\\",\\n    \\\"Tesla\\\": \\\"tsla\\\",\\n    \\\"Google\\\": \\\"googl\\\",\\n}\";\n",
       "                var nbb_cells = Jupyter.notebook.get_cells();\n",
       "                for (var i = 0; i < nbb_cells.length; ++i) {\n",
       "                    if (nbb_cells[i].input_prompt_number == nbb_cell_id) {\n",
       "                        if (nbb_cells[i].get_text() == nbb_unformatted_code) {\n",
       "                             nbb_cells[i].set_text(nbb_formatted_code);\n",
       "                        }\n",
       "                        break;\n",
       "                    }\n",
       "                }\n",
       "            }, 500);\n",
       "            "
      ],
      "text/plain": [
       "<IPython.core.display.Javascript object>"
      ]
     },
     "metadata": {},
     "output_type": "display_data"
    }
   ],
   "source": [
    "stock_list = {\n",
    "    \"SNP500\": \"spy\",\n",
    "    \"Apple\": \"aapl\",\n",
    "    \"Microsoft\": \"msft\",\n",
    "    \"Facebook\": \"fb\",\n",
    "    \"Tesla\": \"tsla\",\n",
    "    \"Google\": \"googl\",\n",
    "}"
   ]
  },
  {
   "cell_type": "code",
   "execution_count": 4,
   "id": "bef50b51",
   "metadata": {},
   "outputs": [
    {
     "data": {
      "application/javascript": [
       "\n",
       "            setTimeout(function() {\n",
       "                var nbb_cell_id = 4;\n",
       "                var nbb_unformatted_code = \"def get_data(\\n    companies: Tuple[str],\\n    start_date: str,\\n    end_date: str,\\n    stock_list: dict[str, str] = stock_list,\\n) -> pd.DataFrame:\\n    \\\"\\\"\\\"Get data from Yahoo Finance endpoint using ffn\\\"\\\"\\\"\\n    time.sleep(1)  # avoid spamming\\n    tickers = [stock_list[company] for company in companies]\\n    return ffn.get(tickers, start=start_date, end=end_date)\\n\\n\\ndef convert_ticker_to_company(\\n    ticker: str, stock_list: dict[str, str] = stock_list\\n) -> str:\\n    inverted_stock_list = {v: k for k, v in stock_list.items()}\\n    return inverted_stock_list[ticker]\";\n",
       "                var nbb_formatted_code = \"def get_data(\\n    companies: Tuple[str],\\n    start_date: str,\\n    end_date: str,\\n    stock_list: dict[str, str] = stock_list,\\n) -> pd.DataFrame:\\n    \\\"\\\"\\\"Get data from Yahoo Finance endpoint using ffn\\\"\\\"\\\"\\n    time.sleep(1)  # avoid spamming\\n    tickers = [stock_list[company] for company in companies]\\n    return ffn.get(tickers, start=start_date, end=end_date)\\n\\n\\ndef convert_ticker_to_company(\\n    ticker: str, stock_list: dict[str, str] = stock_list\\n) -> str:\\n    inverted_stock_list = {v: k for k, v in stock_list.items()}\\n    return inverted_stock_list[ticker]\";\n",
       "                var nbb_cells = Jupyter.notebook.get_cells();\n",
       "                for (var i = 0; i < nbb_cells.length; ++i) {\n",
       "                    if (nbb_cells[i].input_prompt_number == nbb_cell_id) {\n",
       "                        if (nbb_cells[i].get_text() == nbb_unformatted_code) {\n",
       "                             nbb_cells[i].set_text(nbb_formatted_code);\n",
       "                        }\n",
       "                        break;\n",
       "                    }\n",
       "                }\n",
       "            }, 500);\n",
       "            "
      ],
      "text/plain": [
       "<IPython.core.display.Javascript object>"
      ]
     },
     "metadata": {},
     "output_type": "display_data"
    }
   ],
   "source": [
    "def get_data(\n",
    "    companies: Tuple[str],\n",
    "    start_date: str,\n",
    "    end_date: str,\n",
    "    stock_list: dict[str, str] = stock_list,\n",
    ") -> pd.DataFrame:\n",
    "    \"\"\"Get data from Yahoo Finance endpoint using ffn\"\"\"\n",
    "    time.sleep(1)  # avoid spamming\n",
    "    tickers = [stock_list[company] for company in companies]\n",
    "    return ffn.get(tickers, start=start_date, end=end_date)\n",
    "\n",
    "\n",
    "def convert_ticker_to_company(\n",
    "    ticker: str, stock_list: dict[str, str] = stock_list\n",
    ") -> str:\n",
    "    inverted_stock_list = {v: k for k, v in stock_list.items()}\n",
    "    return inverted_stock_list[ticker]"
   ]
  },
  {
   "cell_type": "code",
   "execution_count": 5,
   "id": "63648de3",
   "metadata": {},
   "outputs": [
    {
     "data": {
      "application/javascript": [
       "\n",
       "            setTimeout(function() {\n",
       "                var nbb_cell_id = 5;\n",
       "                var nbb_unformatted_code = \"def calc_yoy_growth(prices: pd.DataFrame, rolling_window: int = 28) -> pd.DataFrame:\\n    rebased_prices = prices.rebase()\\n    yoy_growth = rebased_prices.resample(\\\"D\\\").sum().replace(0, method=\\\"ffill\\\")\\n    yoy_growth = (\\n        yoy_growth.groupby([yoy_growth.index.day, yoy_growth.index.month])\\n        .pct_change()\\n        .dropna(axis=0)\\n    )\\n    return yoy_growth.rolling(window=rolling_window).mean().dropna()\\n\\n\\ndef plot_calmap(yoy_growth: pd.Series, ticker):\\n    return calmap.calendarplot(\\n        yoy_growth[ticker],\\n        monthticks=1,\\n        daylabels=\\\"MTWTF\\\",\\n        dayticks=[0, 2, 4],\\n        cmap=\\\"RdYlGn\\\",\\n        linewidth=0.2,\\n        yearascending=False,\\n        yearlabel_kws=dict(color=\\\"#696969\\\"),\\n        fig_kws=dict(figsize=(12, 8)),\\n    )\";\n",
       "                var nbb_formatted_code = \"def calc_yoy_growth(prices: pd.DataFrame, rolling_window: int = 28) -> pd.DataFrame:\\n    rebased_prices = prices.rebase()\\n    yoy_growth = rebased_prices.resample(\\\"D\\\").sum().replace(0, method=\\\"ffill\\\")\\n    yoy_growth = (\\n        yoy_growth.groupby([yoy_growth.index.day, yoy_growth.index.month])\\n        .pct_change()\\n        .dropna(axis=0)\\n    )\\n    return yoy_growth.rolling(window=rolling_window).mean().dropna()\\n\\n\\ndef plot_calmap(yoy_growth: pd.Series, ticker):\\n    return calmap.calendarplot(\\n        yoy_growth[ticker],\\n        monthticks=1,\\n        daylabels=\\\"MTWTF\\\",\\n        dayticks=[0, 2, 4],\\n        cmap=\\\"RdYlGn\\\",\\n        linewidth=0.2,\\n        yearascending=False,\\n        yearlabel_kws=dict(color=\\\"#696969\\\"),\\n        fig_kws=dict(figsize=(12, 8)),\\n    )\";\n",
       "                var nbb_cells = Jupyter.notebook.get_cells();\n",
       "                for (var i = 0; i < nbb_cells.length; ++i) {\n",
       "                    if (nbb_cells[i].input_prompt_number == nbb_cell_id) {\n",
       "                        if (nbb_cells[i].get_text() == nbb_unformatted_code) {\n",
       "                             nbb_cells[i].set_text(nbb_formatted_code);\n",
       "                        }\n",
       "                        break;\n",
       "                    }\n",
       "                }\n",
       "            }, 500);\n",
       "            "
      ],
      "text/plain": [
       "<IPython.core.display.Javascript object>"
      ]
     },
     "metadata": {},
     "output_type": "display_data"
    }
   ],
   "source": [
    "def calc_yoy_growth(prices: pd.DataFrame, rolling_window: int = 28) -> pd.DataFrame:\n",
    "    rebased_prices = prices.rebase()\n",
    "    yoy_growth = rebased_prices.resample(\"D\").sum().replace(0, method=\"ffill\")\n",
    "    yoy_growth = (\n",
    "        yoy_growth.groupby([yoy_growth.index.day, yoy_growth.index.month])\n",
    "        .pct_change()\n",
    "        .dropna(axis=0)\n",
    "    )\n",
    "    return yoy_growth.rolling(window=rolling_window).mean().dropna()\n",
    "\n",
    "\n",
    "def plot_calmap(yoy_growth: pd.Series, ticker):\n",
    "    return calmap.calendarplot(\n",
    "        yoy_growth[ticker],\n",
    "        monthticks=1,\n",
    "        daylabels=\"MTWTF\",\n",
    "        dayticks=[0, 2, 4],\n",
    "        cmap=\"RdYlGn\",\n",
    "        linewidth=0.2,\n",
    "        yearascending=False,\n",
    "        yearlabel_kws=dict(color=\"#696969\"),\n",
    "        fig_kws=dict(figsize=(12, 8)),\n",
    "    )"
   ]
  },
  {
   "cell_type": "code",
   "execution_count": 6,
   "id": "aed36026",
   "metadata": {},
   "outputs": [
    {
     "data": {
      "application/vnd.jupyter.widget-view+json": {
       "model_id": "b248e98ac9844d75ab6940bcda2bd1f6",
       "version_major": 2,
       "version_minor": 0
      },
      "text/plain": [
       "VBox(children=(HTML(value='<h2>Stock Performance Comparison</h2><h4>Select multiple companies to compare their…"
      ]
     },
     "metadata": {},
     "output_type": "display_data"
    },
    {
     "data": {
      "application/javascript": [
       "\n",
       "            setTimeout(function() {\n",
       "                var nbb_cell_id = 6;\n",
       "                var nbb_unformatted_code = \"## Input Area\\ntickers = widgets.SelectMultiple(\\n    options=stock_list.keys(),\\n    description=\\\"Stock\\\",\\n    value=list(stock_list.keys())[:2],  # select first two\\n    disabled=False,\\n    layout=widgets.Layout(height=\\\"150px\\\"),\\n)\\n\\nstart_date = widgets.DatePicker(\\n    description=\\\"Start Date\\\",\\n    value=datetime.datetime.today() - datetime.timedelta(days=3 * 365),\\n)\\n\\nend_date = widgets.DatePicker(description=\\\"End Date\\\", value=datetime.datetime.today())\\n\\nget_stock_data_button = widgets.Button(\\n    description=\\\"Get data for selected stocks\\\",\\n    disabled=False,\\n    button_style=\\\"info\\\",\\n    tooltip=\\\"Click me\\\",\\n    layout=widgets.Layout(width=\\\"auto\\\", height=\\\"30px\\\", margin=\\\"30px\\\"),\\n)\\n\\n\\ninput_area_description = widgets.HTML(\\n    value=(\\n        \\\"<h2>Stock Performance Comparison</h2>\\\"\\n        \\\"<h4>Select multiple companies to compare their stock performance</h4>\\\"\\n        \\\"<mark>Use ctrl+click to select multiple companies</mark>\\\"\\n    ),\\n)\\n\\n\\ninput_area_box = widgets.VBox(\\n    [\\n        input_area_description,\\n        widgets.HBox(\\n            [widgets.VBox([tickers, start_date, end_date]), get_stock_data_button]\\n        ),\\n    ]\\n)\\n\\n\\ndisplay(input_area_box)\";\n",
       "                var nbb_formatted_code = \"## Input Area\\ntickers = widgets.SelectMultiple(\\n    options=stock_list.keys(),\\n    description=\\\"Stock\\\",\\n    value=list(stock_list.keys())[:2],  # select first two\\n    disabled=False,\\n    layout=widgets.Layout(height=\\\"150px\\\"),\\n)\\n\\nstart_date = widgets.DatePicker(\\n    description=\\\"Start Date\\\",\\n    value=datetime.datetime.today() - datetime.timedelta(days=3 * 365),\\n)\\n\\nend_date = widgets.DatePicker(description=\\\"End Date\\\", value=datetime.datetime.today())\\n\\nget_stock_data_button = widgets.Button(\\n    description=\\\"Get data for selected stocks\\\",\\n    disabled=False,\\n    button_style=\\\"info\\\",\\n    tooltip=\\\"Click me\\\",\\n    layout=widgets.Layout(width=\\\"auto\\\", height=\\\"30px\\\", margin=\\\"30px\\\"),\\n)\\n\\n\\ninput_area_description = widgets.HTML(\\n    value=(\\n        \\\"<h2>Stock Performance Comparison</h2>\\\"\\n        \\\"<h4>Select multiple companies to compare their stock performance</h4>\\\"\\n        \\\"<mark>Use ctrl+click to select multiple companies</mark>\\\"\\n    ),\\n)\\n\\n\\ninput_area_box = widgets.VBox(\\n    [\\n        input_area_description,\\n        widgets.HBox(\\n            [widgets.VBox([tickers, start_date, end_date]), get_stock_data_button]\\n        ),\\n    ]\\n)\\n\\n\\ndisplay(input_area_box)\";\n",
       "                var nbb_cells = Jupyter.notebook.get_cells();\n",
       "                for (var i = 0; i < nbb_cells.length; ++i) {\n",
       "                    if (nbb_cells[i].input_prompt_number == nbb_cell_id) {\n",
       "                        if (nbb_cells[i].get_text() == nbb_unformatted_code) {\n",
       "                             nbb_cells[i].set_text(nbb_formatted_code);\n",
       "                        }\n",
       "                        break;\n",
       "                    }\n",
       "                }\n",
       "            }, 500);\n",
       "            "
      ],
      "text/plain": [
       "<IPython.core.display.Javascript object>"
      ]
     },
     "metadata": {},
     "output_type": "display_data"
    }
   ],
   "source": [
    "## Input Area\n",
    "tickers = widgets.SelectMultiple(\n",
    "    options=stock_list.keys(),\n",
    "    description=\"Stock\",\n",
    "    value=list(stock_list.keys())[:2],  # select first two\n",
    "    disabled=False,\n",
    "    layout=widgets.Layout(height=\"150px\"),\n",
    ")\n",
    "\n",
    "start_date = widgets.DatePicker(\n",
    "    description=\"Start Date\",\n",
    "    value=datetime.datetime.today() - datetime.timedelta(days=3 * 365),\n",
    ")\n",
    "\n",
    "end_date = widgets.DatePicker(description=\"End Date\", value=datetime.datetime.today())\n",
    "\n",
    "get_stock_data_button = widgets.Button(\n",
    "    description=\"Get data for selected stocks\",\n",
    "    disabled=False,\n",
    "    button_style=\"info\",\n",
    "    tooltip=\"Click me\",\n",
    "    layout=widgets.Layout(width=\"auto\", height=\"30px\", margin=\"30px\"),\n",
    ")\n",
    "\n",
    "\n",
    "input_area_description = widgets.HTML(\n",
    "    value=(\n",
    "        \"<h2>Stock Performance Comparison</h2>\"\n",
    "        \"<h4>Select multiple companies to compare their stock performance</h4>\"\n",
    "        \"<mark>Use ctrl+click to select multiple companies</mark>\"\n",
    "    ),\n",
    ")\n",
    "\n",
    "\n",
    "input_area_box = widgets.VBox(\n",
    "    [\n",
    "        input_area_description,\n",
    "        widgets.HBox(\n",
    "            [widgets.VBox([tickers, start_date, end_date]), get_stock_data_button]\n",
    "        ),\n",
    "    ]\n",
    ")\n",
    "\n",
    "\n",
    "display(input_area_box)"
   ]
  },
  {
   "cell_type": "code",
   "execution_count": 7,
   "id": "bdb3483f",
   "metadata": {},
   "outputs": [
    {
     "data": {
      "application/javascript": [
       "\n",
       "            setTimeout(function() {\n",
       "                var nbb_cell_id = 7;\n",
       "                var nbb_unformatted_code = \"## Graph\\nprices = get_data(tickers.value, start_date.value, end_date.value)\";\n",
       "                var nbb_formatted_code = \"## Graph\\nprices = get_data(tickers.value, start_date.value, end_date.value)\";\n",
       "                var nbb_cells = Jupyter.notebook.get_cells();\n",
       "                for (var i = 0; i < nbb_cells.length; ++i) {\n",
       "                    if (nbb_cells[i].input_prompt_number == nbb_cell_id) {\n",
       "                        if (nbb_cells[i].get_text() == nbb_unformatted_code) {\n",
       "                             nbb_cells[i].set_text(nbb_formatted_code);\n",
       "                        }\n",
       "                        break;\n",
       "                    }\n",
       "                }\n",
       "            }, 500);\n",
       "            "
      ],
      "text/plain": [
       "<IPython.core.display.Javascript object>"
      ]
     },
     "metadata": {},
     "output_type": "display_data"
    }
   ],
   "source": [
    "## Graph\n",
    "prices = get_data(tickers.value, start_date.value, end_date.value)"
   ]
  },
  {
   "cell_type": "code",
   "execution_count": 8,
   "id": "aea67f47",
   "metadata": {},
   "outputs": [
    {
     "data": {
      "image/png": "[encoded data removed]",
      "text/plain": [
       "<Figure size 864x360 with 1 Axes>"
      ]
     },
     "metadata": {
      "needs_background": "light"
     },
     "output_type": "display_data"
    },
    {
     "data": {
      "application/javascript": [
       "\n",
       "            setTimeout(function() {\n",
       "                var nbb_cell_id = 8;\n",
       "                var nbb_unformatted_code = \"prices.rebase().plot(figsize=(12, 5))\\nplt.title(f\\\"{tickers.value} share price (rebased)\\\")\\nplt.show()\";\n",
       "                var nbb_formatted_code = \"prices.rebase().plot(figsize=(12, 5))\\nplt.title(f\\\"{tickers.value} share price (rebased)\\\")\\nplt.show()\";\n",
       "                var nbb_cells = Jupyter.notebook.get_cells();\n",
       "                for (var i = 0; i < nbb_cells.length; ++i) {\n",
       "                    if (nbb_cells[i].input_prompt_number == nbb_cell_id) {\n",
       "                        if (nbb_cells[i].get_text() == nbb_unformatted_code) {\n",
       "                             nbb_cells[i].set_text(nbb_formatted_code);\n",
       "                        }\n",
       "                        break;\n",
       "                    }\n",
       "                }\n",
       "            }, 500);\n",
       "            "
      ],
      "text/plain": [
       "<IPython.core.display.Javascript object>"
      ]
     },
     "metadata": {},
     "output_type": "display_data"
    }
   ],
   "source": [
    "prices.rebase().plot(figsize=(12, 5))\n",
    "plt.title(f\"{tickers.value} share price (rebased)\")\n",
    "plt.show()"
   ]
  },
  {
   "cell_type": "code",
   "execution_count": 9,
   "id": "2194a0fa",
   "metadata": {
    "scrolled": false
   },
   "outputs": [
    {
     "data": {
      "application/javascript": [
       "\n",
       "            setTimeout(function() {\n",
       "                var nbb_cell_id = 9;\n",
       "                var nbb_unformatted_code = \"## Tabs\\n\\n### stock statistics\\nstats_tab_output = widgets.Output()\\nwith stats_tab_output:\\n    prices.calc_stats().display()\\n\\n\\n### correlations tab\\ncorrelation_tab_output = widgets.Output()\\nwith correlation_tab_output:\\n    returns = prices.to_log_returns().dropna()\\n    ax = returns.hist(figsize=(12, 5))\\n    plt.show()\\n\\n### yoy growth tab\\nmonthly_returns_tab_output = widgets.Output()\\nyoy_growth_df = calc_yoy_growth(prices)\\n\\nwith monthly_returns_tab_output:\\n    for ticker in yoy_growth_df.columns:\\n        display(HTML(f\\\"<hr><h3>{convert_ticker_to_company(ticker)}</h3>\\\"))\\n        calmap_plot = plot_calmap(yoy_growth_df, ticker)\\n        plt.show()\\n\\n### drawdown\\ndrawdown_tab_output = widgets.Output()\\nwith drawdown_tab_output:\\n    ax = prices.to_drawdown_series().plot()\\n    plt.title(\\\"Drawdown Plot\\\")\\n    plt.show()\\n\\n\\nstock_summary_tab = widgets.VBox([stats_tab_output])\\ncorrelation_tab = widgets.VBox([correlation_tab_output])\\nmonthly_returns_tab = widgets.VBox([monthly_returns_tab_output])\\ndrawdown_tab = widgets.VBox([drawdown_tab_output])\\n\\noutput_box = widgets.Tab(\\n    children=[stock_summary_tab, correlation_tab, monthly_returns_tab, drawdown_tab],\\n    layout=widgets.Layout(height=\\\"398px\\\"),\\n)\";\n",
       "                var nbb_formatted_code = \"## Tabs\\n\\n### stock statistics\\nstats_tab_output = widgets.Output()\\nwith stats_tab_output:\\n    prices.calc_stats().display()\\n\\n\\n### correlations tab\\ncorrelation_tab_output = widgets.Output()\\nwith correlation_tab_output:\\n    returns = prices.to_log_returns().dropna()\\n    ax = returns.hist(figsize=(12, 5))\\n    plt.show()\\n\\n### yoy growth tab\\nmonthly_returns_tab_output = widgets.Output()\\nyoy_growth_df = calc_yoy_growth(prices)\\n\\nwith monthly_returns_tab_output:\\n    for ticker in yoy_growth_df.columns:\\n        display(HTML(f\\\"<hr><h3>{convert_ticker_to_company(ticker)}</h3>\\\"))\\n        calmap_plot = plot_calmap(yoy_growth_df, ticker)\\n        plt.show()\\n\\n### drawdown\\ndrawdown_tab_output = widgets.Output()\\nwith drawdown_tab_output:\\n    ax = prices.to_drawdown_series().plot()\\n    plt.title(\\\"Drawdown Plot\\\")\\n    plt.show()\\n\\n\\nstock_summary_tab = widgets.VBox([stats_tab_output])\\ncorrelation_tab = widgets.VBox([correlation_tab_output])\\nmonthly_returns_tab = widgets.VBox([monthly_returns_tab_output])\\ndrawdown_tab = widgets.VBox([drawdown_tab_output])\\n\\noutput_box = widgets.Tab(\\n    children=[stock_summary_tab, correlation_tab, monthly_returns_tab, drawdown_tab],\\n    layout=widgets.Layout(height=\\\"398px\\\"),\\n)\";\n",
       "                var nbb_cells = Jupyter.notebook.get_cells();\n",
       "                for (var i = 0; i < nbb_cells.length; ++i) {\n",
       "                    if (nbb_cells[i].input_prompt_number == nbb_cell_id) {\n",
       "                        if (nbb_cells[i].get_text() == nbb_unformatted_code) {\n",
       "                             nbb_cells[i].set_text(nbb_formatted_code);\n",
       "                        }\n",
       "                        break;\n",
       "                    }\n",
       "                }\n",
       "            }, 500);\n",
       "            "
      ],
      "text/plain": [
       "<IPython.core.display.Javascript object>"
      ]
     },
     "metadata": {},
     "output_type": "display_data"
    }
   ],
   "source": [
    "## Tabs\n",
    "\n",
    "### stock statistics\n",
    "stats_tab_output = widgets.Output()\n",
    "with stats_tab_output:\n",
    "    prices.calc_stats().display()\n",
    "\n",
    "\n",
    "### correlations tab\n",
    "correlation_tab_output = widgets.Output()\n",
    "with correlation_tab_output:\n",
    "    returns = prices.to_log_returns().dropna()\n",
    "    ax = returns.hist(figsize=(12, 5))\n",
    "    plt.show()\n",
    "\n",
    "### yoy growth tab\n",
    "monthly_returns_tab_output = widgets.Output()\n",
    "yoy_growth_df = calc_yoy_growth(prices)\n",
    "\n",
    "with monthly_returns_tab_output:\n",
    "    for ticker in yoy_growth_df.columns:\n",
    "        display(HTML(f\"<hr><h3>{convert_ticker_to_company(ticker)}</h3>\"))\n",
    "        calmap_plot = plot_calmap(yoy_growth_df, ticker)\n",
    "        plt.show()\n",
    "\n",
    "### drawdown\n",
    "drawdown_tab_output = widgets.Output()\n",
    "with drawdown_tab_output:\n",
    "    ax = prices.to_drawdown_series().plot()\n",
    "    plt.title(\"Drawdown Plot\")\n",
    "    plt.show()\n",
    "\n",
    "\n",
    "stock_summary_tab = widgets.VBox([stats_tab_output])\n",
    "correlation_tab = widgets.VBox([correlation_tab_output])\n",
    "monthly_returns_tab = widgets.VBox([monthly_returns_tab_output])\n",
    "drawdown_tab = widgets.VBox([drawdown_tab_output])\n",
    "\n",
    "output_box = widgets.Tab(\n",
    "    children=[stock_summary_tab, correlation_tab, monthly_returns_tab, drawdown_tab],\n",
    "    layout=widgets.Layout(height=\"398px\"),\n",
    ")"
   ]
  },
  {
   "cell_type": "code",
   "execution_count": 11,
   "id": "c65ef8a9",
   "metadata": {},
   "outputs": [
    {
     "data": {
      "application/vnd.jupyter.widget-view+json": {
       "model_id": "b3e9931850e64ef7886234d84241d94b",
       "version_major": 2,
       "version_minor": 0
      },
      "text/plain": [
       "Tab(children=(VBox(children=(Output(outputs=({'output_type': 'stream', 'text': 'Stat                 spy      …"
      ]
     },
     "metadata": {},
     "output_type": "display_data"
    },
    {
     "data": {
      "application/javascript": [
       "\n",
       "            setTimeout(function() {\n",
       "                var nbb_cell_id = 11;\n",
       "                var nbb_unformatted_code = \"tab_names = [\\\"Stock Statistics\\\", \\\"Correlations\\\", \\\"Year over year Growth\\\", \\\"Drawdown\\\"]\\n\\nfor i, title in enumerate(tab_names):\\n    output_box.set_title(i, title)\\n\\ndisplay(output_box)\";\n",
       "                var nbb_formatted_code = \"tab_names = [\\\"Stock Statistics\\\", \\\"Correlations\\\", \\\"Year over year Growth\\\", \\\"Drawdown\\\"]\\n\\nfor i, title in enumerate(tab_names):\\n    output_box.set_title(i, title)\\n\\ndisplay(output_box)\";\n",
       "                var nbb_cells = Jupyter.notebook.get_cells();\n",
       "                for (var i = 0; i < nbb_cells.length; ++i) {\n",
       "                    if (nbb_cells[i].input_prompt_number == nbb_cell_id) {\n",
       "                        if (nbb_cells[i].get_text() == nbb_unformatted_code) {\n",
       "                             nbb_cells[i].set_text(nbb_formatted_code);\n",
       "                        }\n",
       "                        break;\n",
       "                    }\n",
       "                }\n",
       "            }, 500);\n",
       "            "
      ],
      "text/plain": [
       "<IPython.core.display.Javascript object>"
      ]
     },
     "metadata": {},
     "output_type": "display_data"
    }
   ],
   "source": [
    "tab_names = [\"Stock Statistics\", \"Correlations\", \"Year over year Growth\", \"Drawdown\"]\n",
    "\n",
    "for i, title in enumerate(tab_names):\n",
    "    output_box.set_title(i, title)\n",
    "\n",
    "display(output_box)"
   ]
  },
  {
   "cell_type": "markdown",
   "id": "8ab76e14",
   "metadata": {},
   "source": [
    "Created by [EngineeringforDataScience](https://engineeringfordatascience.com/) ⚒️ | [Source Code](https://github.com/julian-west/e4ds-snippets/tree/voila/jupyter/voila)"
   ]
  },
  {
   "cell_type": "code",
   "execution_count": null,
   "id": "375818c0",
   "metadata": {},
   "outputs": [],
   "source": []
  }
 ],
 "metadata": {
  "kernelspec": {
   "display_name": "Python 3 (ipykernel)",
   "language": "python",
   "name": "python3"
  },
  "language_info": {
   "codemirror_mode": {
    "name": "ipython",
    "version": 3
   },
   "file_extension": ".py",
   "mimetype": "text/x-python",
   "name": "python",
   "nbconvert_exporter": "python",
   "pygments_lexer": "ipython3",
   "version": "3.9.7"
  }
 },
 "nbformat": 4,
 "nbformat_minor": 5
}
